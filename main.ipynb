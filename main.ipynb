{
 "cells": [
  {
   "cell_type": "code",
   "execution_count": 5,
   "id": "1d67717e-9a15-4509-9b59-8a9610e19bb5",
   "metadata": {},
   "outputs": [
    {
     "ename": "AttributeError",
     "evalue": "module 'run' has no attribute 'var'",
     "output_type": "error",
     "traceback": [
      "\u001b[0;31m---------------------------------------------------------------------------\u001b[0m",
      "\u001b[0;31mAttributeError\u001b[0m                            Traceback (most recent call last)",
      "Input \u001b[0;32mIn [5]\u001b[0m, in \u001b[0;36m<cell line: 51>\u001b[0;34m()\u001b[0m\n\u001b[1;32m     49\u001b[0m             f\u001b[38;5;241m.\u001b[39mwrite(eiscat_data)\n\u001b[1;32m     51\u001b[0m \u001b[38;5;28;01mif\u001b[39;00m \u001b[38;5;18m__name__\u001b[39m \u001b[38;5;241m==\u001b[39m \u001b[38;5;124m'\u001b[39m\u001b[38;5;124m__main__\u001b[39m\u001b[38;5;124m'\u001b[39m:\n\u001b[0;32m---> 52\u001b[0m     \u001b[43mMain\u001b[49m\u001b[43m(\u001b[49m\u001b[43mconfiguration_files\u001b[49m\u001b[43m)\u001b[49m\n",
      "Input \u001b[0;32mIn [5]\u001b[0m, in \u001b[0;36mMain.__init__\u001b[0;34m(self, configuration_files)\u001b[0m\n\u001b[1;32m     25\u001b[0m \u001b[38;5;28mself\u001b[39m\u001b[38;5;241m.\u001b[39m_copy_config()\n\u001b[1;32m     26\u001b[0m \u001b[38;5;28mself\u001b[39m\u001b[38;5;241m.\u001b[39m_instance_of_run \u001b[38;5;241m=\u001b[39m run\u001b[38;5;241m.\u001b[39mrun(\u001b[38;5;28mself\u001b[39m\u001b[38;5;241m.\u001b[39m_log_directory) \u001b[38;5;66;03m#starts the program\u001b[39;00m\n\u001b[0;32m---> 27\u001b[0m \u001b[38;5;28mprint\u001b[39m(\u001b[43mrun\u001b[49m\u001b[38;5;241;43m.\u001b[39;49m\u001b[43mvar\u001b[49m)\n",
      "\u001b[0;31mAttributeError\u001b[0m: module 'run' has no attribute 'var'"
     ]
    }
   ],
   "source": [
    "import os\n",
    "from shutil import copy\n",
    "from datetime import datetime\n",
    "import import_ipynb\n",
    "\n",
    "import run\n",
    "\n",
    "'''\n",
    "This is the main file. It is used to start the simulation.\n",
    "Configuration files from IRI and MSIS models are specified here.\n",
    "Eiscat data files are specified here.\n",
    "'''\n",
    "\n",
    "msis_config = '/Users/ost051/Documents/PhD/Electron Precipitation/example/Meta-data/msis.txt'\n",
    "iri_config  = '/Users/ost051/Documents/PhD/Electron Precipitation/example/Meta-data/iri.txt'\n",
    "chemistry_config = '/Users/ost051/Documents/PhD/Electron Precipitation/example/Meta-data/Reaction rates.txt'\n",
    "eiscat_data = '/Users/ost051/Documents/PhD/Electron Precipitation/example/Data'\n",
    "\n",
    "configuration_files = [msis_config, iri_config]\n",
    "\n",
    "class Main:\n",
    "    def __init__(self, configuration_files):\n",
    "        self._directory = os.path.abspath('')\n",
    "        self._create_directory()\n",
    "        self._copy_config()\n",
    "        self._instance_of_run = run.run(self._log_directory) #starts the program\n",
    "        \n",
    "    def _create_directory(self):\n",
    "        \"\"\"\n",
    "        Creates a directory to store the configuration and results of this run.\n",
    "        The directory is labeled with the time of starting the program.\n",
    "        Folders created are Simulation (Config is created at the time of copying the config files)\n",
    "        \"\"\"\n",
    "        self._today = datetime.now()\n",
    "        self._log_directory = self._directory + '/log/' + self._today.strftime('%Y.%m.%d_%H_%M_%S')\n",
    "        os.mkdir(self._log_directory)\n",
    "        os.mkdir(self._log_directory + '/Simulation')\n",
    "        \n",
    "    def _copy_config(self):\n",
    "        \"\"\"\n",
    "        Copies all configuration files into the log folder\n",
    "        \"\"\"\n",
    "        os.mkdir(self._log_directory + '/Config')\n",
    "        copy(msis_config, self._log_directory + '/Config')\n",
    "        copy(iri_config, self._log_directory + '/Config')\n",
    "        copy(chemistry_config, self._log_directory + '/Config')\n",
    "        with open(self._log_directory + '/Config/path_to_eiscat_data.txt', 'w') as f:\n",
    "            f.write(eiscat_data)\n",
    "\n",
    "if __name__ == '__main__':\n",
    "    Main(configuration_files)\n",
    "    "
   ]
  },
  {
   "cell_type": "code",
   "execution_count": null,
   "id": "044598e0-57cd-4e54-9830-2a1a9c51da92",
   "metadata": {},
   "outputs": [
    {
     "ename": "AttributeError",
     "evalue": "module 'run' has no attribute 'z_msis'",
     "output_type": "error",
     "traceback": [
      "\u001b[0;31m---------------------------------------------------------------------------\u001b[0m",
      "\u001b[0;31mAttributeError\u001b[0m                            Traceback (most recent call last)",
      "Input \u001b[0;32mIn [2]\u001b[0m, in \u001b[0;36m<cell line: 1>\u001b[0;34m()\u001b[0m\n\u001b[0;32m----> 1\u001b[0m \u001b[43mrun\u001b[49m\u001b[38;5;241;43m.\u001b[39;49m\u001b[43mz_msis\u001b[49m\n",
      "\u001b[0;31mAttributeError\u001b[0m: module 'run' has no attribute 'z_msis'"
     ]
    }
   ],
   "source": [
    "run.z_msis"
   ]
  },
  {
   "cell_type": "code",
   "execution_count": null,
   "id": "b9d40dcd-06c9-4e17-80ca-d716b79d010a",
   "metadata": {},
   "outputs": [],
   "source": []
  },
  {
   "cell_type": "code",
   "execution_count": null,
   "id": "2d0d14dc-d042-406e-9875-86842e2bd162",
   "metadata": {},
   "outputs": [],
   "source": []
  }
 ],
 "metadata": {
  "kernelspec": {
   "display_name": "Python 3 (ipykernel)",
   "language": "python",
   "name": "python3"
  },
  "language_info": {
   "codemirror_mode": {
    "name": "ipython",
    "version": 3
   },
   "file_extension": ".py",
   "mimetype": "text/x-python",
   "name": "python",
   "nbconvert_exporter": "python",
   "pygments_lexer": "ipython3",
   "version": "3.10.2"
  }
 },
 "nbformat": 4,
 "nbformat_minor": 5
}
