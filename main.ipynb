{
 "cells": [
  {
   "cell_type": "code",
   "execution_count": 1,
   "id": "1d67717e-9a15-4509-9b59-8a9610e19bb5",
   "metadata": {},
   "outputs": [
    {
     "name": "stdout",
     "output_type": "stream",
     "text": [
      "importing Jupyter notebook from organizing.ipynb\n",
      "importing Jupyter notebook from loadMSIS.ipynb\n",
      "importing Jupyter notebook from loadIRI.ipynb\n",
      "importing Jupyter notebook from EnergyDissipation.ipynb\n",
      "importing Jupyter notebook from loadEISCAT.ipynb\n"
     ]
    }
   ],
   "source": [
    "import numpy as np\n",
    "import import_ipynb\n",
    "\n",
    "import organizing\n",
    "import loadMSIS\n",
    "import loadIRI\n",
    "import EnergyDissipation \n",
    "import loadEISCAT\n",
    "\n",
    "'''\n",
    "This is the main file. It is used to start the simulation.\n",
    "Configuration files from IRI and MSIS models are specified here.\n",
    "Eiscat data files are specified here.\n",
    "'''\n",
    "\n",
    "msis_config = '/Users/ost051/Documents/PhD/Electron Precipitation/example/Meta-data/msis.txt'\n",
    "iri_config  = '/Users/ost051/Documents/PhD/Electron Precipitation/example/Meta-data/iri.txt'\n",
    "chemistry_config = '/Users/ost051/Documents/PhD/Electron Precipitation/example/Meta-data/Reaction rates.txt'\n",
    "path_eiscat_data = '/Users/ost051/Documents/PhD/Electron Precipitation/example/Data/'\n",
    "\n",
    "setup_ = organizing.setup(msis_config, iri_config, chemistry_config, path_eiscat_data)\n",
    "log_directory = setup_._log_directory\n",
    "\n",
    "[z_msis\n",
    " , n_o1_msis\n",
    " , n_n2_msis\n",
    " , n_o2_msis\n",
    " , mass_density\n",
    " , temp_n_msis\n",
    " , scale_height_msis] = loadMSIS.loadMSIS(log_directory + '/Config/msis.txt')\n",
    "\n",
    "[z_iri     \n",
    " , ne_iri    \n",
    " , t_neutral \n",
    " , t_ion     \n",
    " , t_e       \n",
    " , rel_o_p   \n",
    " , rel_n_p   \n",
    " , rel_h_p   \n",
    " , rel_he_p  \n",
    " , rel_o2_p  \n",
    " , rel_no_p] = loadIRI.loadIRI(log_directory + '/Config/iri.txt')"
   ]
  },
  {
   "cell_type": "code",
   "execution_count": 2,
   "id": "2d0d14dc-d042-406e-9875-86842e2bd162",
   "metadata": {},
   "outputs": [
    {
     "data": {
      "text/plain": [
       "'/Users/ost051/Documents/PhD/Electron Precipitation/log/testing/2022.09.15_18_38_57'"
      ]
     },
     "execution_count": 2,
     "metadata": {},
     "output_type": "execute_result"
    }
   ],
   "source": [
    "log_directory"
   ]
  },
  {
   "cell_type": "code",
   "execution_count": 3,
   "id": "1b484b93-4920-4879-9f68-0d9f9bc8a07f",
   "metadata": {},
   "outputs": [],
   "source": [
    "[z_radar_time\n",
    " , parameters\n",
    " , time\n",
    " , az\n",
    " , el\n",
    " , r_errors ] = loadEISCAT.loadEISCATdata(path_eiscat_data, ['r_h', 'r_param', 'r_time', 'r_az', 'r_el', 'r_error'])\n",
    "\n",
    "z_radar = z_radar_time[0] #for static measurements, the information in r_h stays the same for all measurement points.\n",
    "ne_meas = parameters[:, :, 0]\n",
    "dne_meas = r_errors[:, :, 0]\n",
    "vel = parameters[:, :, 4]\n",
    "vel_err = r_errors[:, :, 4]\n",
    "\n",
    "#conversion to SI units:\n",
    "z_radar = z_radar*1e3\n",
    "r_time = time[:,0,3]*3600 + time[:,0,4]*60 + time[:,0,5]\n",
    "\n",
    "del parameters, r_errors, z_radar_time, az, el, time"
   ]
  },
  {
   "cell_type": "code",
   "execution_count": 4,
   "id": "8e5de8c1-4ee7-4db4-97e4-79a29c74b276",
   "metadata": {},
   "outputs": [
    {
     "name": "stdout",
     "output_type": "stream",
     "text": [
      "0.0\n",
      "0.1\n",
      "0.2\n",
      "0.4\n",
      "0.8\n"
     ]
    }
   ],
   "source": [
    "#differential flux: energy binning: \n",
    "e_bin_lims = np.logspace(2, 2+3, 501)\n",
    "\n",
    "#defining parameters for electron production model\n",
    "inc_B = 0\n",
    "z_min = 70000\n",
    "z_max = 200000\n",
    "res_model = 100\n",
    "z_sd_min = 0\n",
    "z_sd_max = 800e3\n",
    "res_sd = 10\n",
    "\n",
    "e_prod, z_model = EnergyDissipation.e_production(z_min\n",
    "                                                 , z_max\n",
    "                                                 , res_model\n",
    "                                                 , z_sd_min\n",
    "                                                 , z_sd_max\n",
    "                                                 , res_sd\n",
    "                                                 , e_bin_lims\n",
    "                                                 , z_msis\n",
    "                                                 , mass_density\n",
    "                                                 , inc_B)"
   ]
  },
  {
   "cell_type": "code",
   "execution_count": 5,
   "id": "12350ccb-343e-4be6-a07e-af866006f8eb",
   "metadata": {},
   "outputs": [
    {
     "name": "stdout",
     "output_type": "stream",
     "text": [
      "importing Jupyter notebook from ionChem.ipynb\n"
     ]
    },
    {
     "name": "stderr",
     "output_type": "stream",
     "text": [
      "<string>:174: RuntimeWarning: divide by zero encountered in log\n",
      "<string>:180: RuntimeWarning: divide by zero encountered in log\n"
     ]
    }
   ],
   "source": [
    "#setup of ion chemistry\n",
    "import ionChem\n",
    "\n",
    "model = ionChem.ionChem(chemistry_config)\n",
    "\n",
    "model.assign_densities(z_model\n",
    "                     , z_msis\n",
    "                     , n_o1_msis\n",
    "                     , n_n2_msis\n",
    "                     , n_o2_msis\n",
    "                     , z_iri\n",
    "                     , ne_iri        \n",
    "                     , rel_o_p   \n",
    "                     , rel_n_p   \n",
    "                     , rel_h_p   \n",
    "                     , rel_he_p  \n",
    "                     , rel_o2_p  \n",
    "                     , rel_no_p)"
   ]
  },
  {
   "cell_type": "code",
   "execution_count": 6,
   "id": "e7973f66-a49c-4b14-96da-fdf61c94d46f",
   "metadata": {},
   "outputs": [
    {
     "data": {
      "text/plain": [
       "<matplotlib.legend.Legend at 0x1304a6ce0>"
      ]
     },
     "execution_count": 6,
     "metadata": {},
     "output_type": "execute_result"
    },
    {
     "data": {
      "image/png": "[encoded data removed]",
      "text/plain": [
       "<Figure size 432x288 with 1 Axes>"
      ]
     },
     "metadata": {
      "needs_background": "light"
     },
     "output_type": "display_data"
    }
   ],
   "source": [
    "import matplotlib.pyplot as plt\n",
    "plt.figure()\n",
    "for c in model.all_species:\n",
    "    plt.plot(c.density, z_model/1e3, label = c.name)\n",
    "plt.xscale('log')\n",
    "plt.xlabel('Density [m-3]')\n",
    "plt.ylabel('Altitude [km]')\n",
    "plt.title('Density profiles')\n",
    "plt.legend()"
   ]
  },
  {
   "cell_type": "code",
   "execution_count": null,
   "id": "ae853f92-710e-4980-bf05-fd3ec84fe272",
   "metadata": {},
   "outputs": [],
   "source": []
  },
  {
   "cell_type": "code",
   "execution_count": null,
   "id": "e6e14a4d-9cc7-44b3-b4f4-b9ef645c2c78",
   "metadata": {},
   "outputs": [],
   "source": []
  }
 ],
 "metadata": {
  "kernelspec": {
   "display_name": "Python 3 (ipykernel)",
   "language": "python",
   "name": "python3"
  },
  "language_info": {
   "codemirror_mode": {
    "name": "ipython",
    "version": 3
   },
   "file_extension": ".py",
   "mimetype": "text/x-python",
   "name": "python",
   "nbconvert_exporter": "python",
   "pygments_lexer": "ipython3",
   "version": "3.10.2"
  }
 },
 "nbformat": 4,
 "nbformat_minor": 5
}
