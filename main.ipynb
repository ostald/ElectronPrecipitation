{
 "cells": [
  {
   "cell_type": "code",
   "execution_count": 5,
   "id": "1d67717e-9a15-4509-9b59-8a9610e19bb5",
   "metadata": {},
   "outputs": [],
   "source": [
    "import os\n",
    "\n",
    "'''\n",
    "This is the main file. It is used to start the simulation.\n",
    "Configuration files from IRI and MSIS models are specified here.\n",
    "Eiscat data files are specified here.\n",
    "'''\n",
    "\n",
    "msis_config = '/Users/ost051/Documents/PhD/Electron Precipitation/example/Meta-data/msis.txt'\n",
    "iri_config  = '/Users/ost051/Documents/PhD/Electron Precipitation/example/Meta-data/iri.txt'\n",
    "eiscat_data = '/Users/ost051/Documents/PhD/Electron Precipitation/example/Data'\n",
    "\n",
    "configuration_files = [msis_config, iri_config]\n",
    "\n",
    "\n",
    "class Main:\n",
    "    def __init__(self, configuration_files):\n",
    "        configuration_files\n",
    "        \n",
    "if __name__ == '__main__':\n",
    "    Main(configuration_files)"
   ]
  },
  {
   "cell_type": "code",
   "execution_count": null,
   "id": "044598e0-57cd-4e54-9830-2a1a9c51da92",
   "metadata": {},
   "outputs": [],
   "source": []
  }
 ],
 "metadata": {
  "kernelspec": {
   "display_name": "Python 3 (ipykernel)",
   "language": "python",
   "name": "python3"
  },
  "language_info": {
   "codemirror_mode": {
    "name": "ipython",
    "version": 3
   },
   "file_extension": ".py",
   "mimetype": "text/x-python",
   "name": "python",
   "nbconvert_exporter": "python",
   "pygments_lexer": "ipython3",
   "version": "3.10.2"
  }
 },
 "nbformat": 4,
 "nbformat_minor": 5
}
