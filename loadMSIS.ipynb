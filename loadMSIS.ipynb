{
 "cells": [
  {
   "cell_type": "code",
   "execution_count": 1,
   "id": "1ce9b4d2-f4f1-4521-b358-0896cc986a4a",
   "metadata": {},
   "outputs": [],
   "source": [
    "import numpy as np\n",
    "\n",
    "_printing = 0\n",
    "\n",
    "_kb = 1.380649e-23 #in SI units \n",
    "_re = 6371000      #in m\n",
    "_g = 9.81          #in m/s^2\n",
    "\n",
    "def loadMSIS(file):\n",
    "    #reading msis data\n",
    "    #get length, define data array size\n",
    "    f = open(file, 'r')\n",
    "    n_lines = len(f.readlines())\n",
    "    data = np.zeros([n_lines - 15, 7])\n",
    "    f.close()\n",
    "    \n",
    "    #get data into data array\n",
    "    f = open(file, 'r')\n",
    "    for i, line in enumerate(f.readlines()[15:]):\n",
    "        data[i] = line.split()\n",
    "    f.close()\n",
    "        \n",
    "    #print first few lines\n",
    "    if _printing:\n",
    "        f = open(file, 'r')\n",
    "        for i in range(22):\n",
    "            print(f.readline().replace('\\n', ''))\n",
    "            continue\n",
    "        f.close()\n",
    "    \n",
    "    #more intuitive names and SI unit conversion\n",
    "    global z_msis      \n",
    "    global n_o1_msis   \n",
    "    global n_n2_msis   \n",
    "    global n_o2_msis   \n",
    "    global mass_density\n",
    "    global temp_n_msis \n",
    "    z_msis       = data[:, 0]*1e3      #[height in m]\n",
    "    n_o1_msis    = data[:, 1]*1e6      #[number density in m^-3]\n",
    "    n_n2_msis    = data[:, 2]*1e6      #[number density in m^-3]\n",
    "    n_o2_msis    = data[:, 3]*1e6      #[number density in m^-3]\n",
    "    mass_density = data[:, 4]*1e3      #[mass density (density in kg/m^3]\n",
    "    temp_n_msis  = data[:, 5]          #[neutral temperature in K]\n",
    "    \n",
    "    number_density = np.sum(np.array([n_o1_msis, n_n2_msis, n_o2_msis]), 0)\n",
    "    mean_molecular_mass = mass_density/number_density\n",
    "    \n",
    "    avarage_molecular_mass = mass_density/number_density\n",
    "    \n",
    "    #calculate scale height:\n",
    "    global scale_height_msis\n",
    "    scale_height_msis = _kb * temp_n_msis * (_re**2 + z_msis**2) / (avarage_molecular_mass * _g * _re**2)\n",
    "    \n",
    "    return [z_msis, n_o1_msis, n_n2_msis, n_o2_msis, mass_density, temp_n_msis, scale_height_msis]"
   ]
  },
  {
   "cell_type": "code",
   "execution_count": 2,
   "id": "56a246b4-9e64-416f-b2f6-00abc3c64b02",
   "metadata": {},
   "outputs": [
    {
     "name": "stdout",
     "output_type": "stream",
     "text": [
      "ModelWeb Browser Results\n",
      "msis model listing\n",
      "Input parameters\n",
      "year= 2005, month= 12, day= 12, hour=19.,\n",
      "latitude= 69.59, longitude= 20., height= 100.\n",
      "Prof. parameters: start= 80. stop= 700. step= 5.\n",
      "\n",
      " F10.7(daily) used:  90.2\n",
      " F10.7(3-month avg) used:  84.3\n",
      " ap(daily,0-3,3-6,6-9,9-12,12-33,33-59 h prior) used:\n",
      "    12.1    15.0  15.0   7.0   5.0  20.6  11.3\n",
      "\n",
      "\n",
      "                NUMBER DENSITIES          MASS DENSITY  TEMPERATURE\n",
      "    H/KM     O/cm-3    N2/cm-3    O2/cm-3   m/g*cm-3     TN/K TEXO/K\n",
      "    80.0   2.673E+09  1.818E+14  4.847E+13  1.117E-08   216.6  1037\n",
      "    85.0   3.296E+10  8.566E+13  2.269E+13  5.255E-09   210.7  1037\n",
      "    90.0   1.476E+11  3.966E+13  1.038E+13  2.430E-09   204.1  1037\n",
      "    95.0   2.908E+11  1.790E+13  4.572E+12  1.096E-09   197.8  1037\n",
      "   100.0   3.239E+11  7.724E+12  1.887E+12  4.732E-10   197.8  1037\n",
      "   105.0   2.575E+11  3.221E+12  7.307E+11  1.974E-10   210.6  1037\n",
      "   110.0   1.744E+11  1.359E+12  2.783E+11  8.329E-11   239.5  1037\n"
     ]
    },
    {
     "data": {
      "image/png": "[encoded data removed]",
      "text/plain": [
       "<Figure size 432x288 with 1 Axes>"
      ]
     },
     "metadata": {
      "needs_background": "light"
     },
     "output_type": "display_data"
    }
   ],
   "source": [
    "#visualization\n",
    "if _printing:\n",
    "    MSISFile = '/Users/ost051/Documents/PhD/Electron Precipitation/example/Meta-data/msis.txt'\n",
    "    loadMSIS(MSISFile)\n",
    "    \n",
    "    import matplotlib.pyplot as plt\n",
    "    plt.figure()\n",
    "    plt.plot(n_o1_msis, z_msis/1e3, label = 'O')\n",
    "    plt.plot(n_o2_msis, z_msis/1e3, label = 'O2')\n",
    "    plt.plot(n_n2_msis, z_msis/1e3, label = 'N2')\n",
    "    plt.ylabel('Height [km]')\n",
    "    plt.xlabel('Density [m-3]')\n",
    "    plt.xscale('log')\n",
    "    plt.legend()"
   ]
  },
  {
   "cell_type": "code",
   "execution_count": null,
   "id": "cfd22883-fade-4003-8705-869633147dde",
   "metadata": {},
   "outputs": [],
   "source": []
  }
 ],
 "metadata": {
  "kernelspec": {
   "display_name": "Python 3 (ipykernel)",
   "language": "python",
   "name": "python3"
  },
  "language_info": {
   "codemirror_mode": {
    "name": "ipython",
    "version": 3
   },
   "file_extension": ".py",
   "mimetype": "text/x-python",
   "name": "python",
   "nbconvert_exporter": "python",
   "pygments_lexer": "ipython3",
   "version": "3.10.2"
  }
 },
 "nbformat": 4,
 "nbformat_minor": 5
}
