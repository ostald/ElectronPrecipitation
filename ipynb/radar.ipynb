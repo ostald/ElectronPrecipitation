{
 "cells": [
  {
   "cell_type": "code",
   "execution_count": 1,
   "id": "16871a86-f49a-4e67-abff-2999455e8bb2",
   "metadata": {},
   "outputs": [],
   "source": [
    "#functions related to the radar"
   ]
  },
  {
   "cell_type": "code",
   "execution_count": null,
   "id": "9a6b77aa-a15a-49f2-94d3-60ae7ebe6125",
   "metadata": {},
   "outputs": [],
   "source": []
  },
  {
   "cell_type": "code",
   "execution_count": 9,
   "id": "12b8fc9f-ec49-4245-8069-8ae31989d747",
   "metadata": {},
   "outputs": [],
   "source": [
    "def pulse_smearer(pulse_height, resolution, electron_profile):\n",
    "    \"\"\"\n",
    "    Simulates smearing of observables (such as the electron profile) due to finite pulse length\n",
    "    use a gliding average on the production profiles q (= fm[:, i])\n",
    "    \"\"\"\n",
    "    pulse_height = 2000 #pulse height in m\n",
    "    ps_range = pulse_height / res_model\n",
    "    pulse_smearer = np.ones(np.int_(ps_range))\n",
    "    pulse_smearer = pulse_smearer / np.sum(pulse_smearer) #ensures that the pulse smearer always has norm 1\n",
    "    \n",
    "    e_prod_ps = np.array([np.convolve(height_prof, pulse_smearer, 'same') for height_prof in electron_profile.T]).T\n",
    "    return e_prod_ps"
   ]
  },
  {
   "cell_type": "code",
   "execution_count": null,
   "id": "4d58f655-1219-4e5f-93d1-8956cb249f73",
   "metadata": {},
   "outputs": [],
   "source": [
    "def ne_height_int(z_model, ne_tp1, z0, z1):\n",
    "    \"\"\"\n",
    "    Calculates the mean electron density as the radar would measure it,\n",
    "    from a high resolved height profile (z_fm, ne_tp1) \n",
    "    to one measurement between [z0, z1]\n",
    "    \n",
    "    Parameters:\n",
    "    z_fm: list of heights along which the  electron density is known\n",
    "        ndarray\n",
    "    ne_tp1: list of electron density along the heights given by z_fm\n",
    "        ndarray\n",
    "    z0: lower integration boundary\n",
    "        scalar\n",
    "    z1: upper integration boundary\n",
    "        scalar\n",
    "        \n",
    "    Returns:\n",
    "    ne_int: The height integrated electron density, normalized by the difference z0-z1\n",
    "    \"\"\"\n",
    "    #if (ne_tp1<0).any(): raise RuntimeError('Negative Electron Density')\n",
    "    res = 1 # resolution in meters\n",
    "    z = np.arange(z0, z1, res)\n",
    "    ne_ip = interp1d(z_model, ne_tp1)(z)\n",
    "    ne_int = (np.sum(ne_ip) * res + ne_ip[-1] * (z1 - (z[-1]+res))) / (z1 -z0)\n",
    "    #if (ne_int<0).any(): raise RuntimeError('Negative Electron Density')\n",
    "    return ne_int\n",
    "\n",
    "ne_int = np.zeros(len(z_radar))\n",
    "for i in range(len(z_radar)):\n",
    "    ne_int[i] = ne_height_int(z_model, ne_iri_model, zr_lim[i], zr_lim[i+1])\n",
    "    \n",
    "if printing:\n",
    "    plt.figure()\n",
    "    plt.plot(ne_iri_fm, z_fm/1e3, label = 'high res')\n",
    "    plt.plot(ne_int, z_r/1e3, 'x', label = 'radar res')\n",
    "    plt.legend()"
   ]
  }
 ],
 "metadata": {
  "kernelspec": {
   "display_name": "Python 3 (ipykernel)",
   "language": "python",
   "name": "python3"
  },
  "language_info": {
   "codemirror_mode": {
    "name": "ipython",
    "version": 3
   },
   "file_extension": ".py",
   "mimetype": "text/x-python",
   "name": "python",
   "nbconvert_exporter": "python",
   "pygments_lexer": "ipython3",
   "version": "3.10.2"
  }
 },
 "nbformat": 4,
 "nbformat_minor": 5
}
