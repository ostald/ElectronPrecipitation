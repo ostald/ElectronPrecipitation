{
 "cells": [
  {
   "cell_type": "code",
   "execution_count": 1,
   "id": "f12ec17a-beba-44b8-b1ff-c8c54a95f546",
   "metadata": {},
   "outputs": [
    {
     "name": "stdout",
     "output_type": "stream",
     "text": [
      "importing Jupyter notebook from organizing.ipynb\n",
      "importing Jupyter notebook from loadMSIS.ipynb\n",
      "importing Jupyter notebook from loadIRI.ipynb\n",
      "importing Jupyter notebook from EnergyDissipation.ipynb\n",
      "importing Jupyter notebook from loadEISCAT.ipynb\n"
     ]
    }
   ],
   "source": [
    "import numpy as np\n",
    "import import_ipynb\n",
    "\n",
    "import organizing\n",
    "import loadMSIS\n",
    "import loadIRI\n",
    "import EnergyDissipation \n",
    "import loadEISCAT\n",
    "\n",
    "'''\n",
    "This is the main file. It is used to start the simulation.\n",
    "Configuration files from IRI and MSIS models are specified here.\n",
    "Eiscat data files are specified here.\n",
    "'''\n",
    "\n",
    "msis_config = '/Users/ost051/Documents/PhD/Electron Precipitation/example/Meta-data/msis.txt'\n",
    "iri_config  = '/Users/ost051/Documents/PhD/Electron Precipitation/example/Meta-data/iri.txt'\n",
    "chemistry_config = '/Users/ost051/Documents/PhD/Electron Precipitation/example/Meta-data/Reaction rates.txt'\n",
    "path_eiscat_data = '/Users/ost051/Documents/PhD/Electron Precipitation/example/Data/'\n",
    "\n",
    "setup_ = organizing.setup(msis_config, iri_config, chemistry_config, path_eiscat_data)\n",
    "log_directory = setup_._log_directory\n",
    "\n",
    "[z_msis\n",
    " , n_o1_msis\n",
    " , n_n2_msis\n",
    " , n_o2_msis\n",
    " , mass_density\n",
    " , temp_n_msis\n",
    " , scale_height_msis] = loadMSIS.loadMSIS(log_directory + '/Config/msis.txt')\n",
    "\n",
    "[z_iri     \n",
    " , ne_iri    \n",
    " , t_neutral \n",
    " , t_ion     \n",
    " , t_e       \n",
    " , rel_o_p   \n",
    " , rel_n_p   \n",
    " , rel_h_p   \n",
    " , rel_he_p  \n",
    " , rel_o2_p  \n",
    " , rel_no_p] = loadIRI.loadIRI(log_directory + '/Config/iri.txt')"
   ]
  },
  {
   "cell_type": "code",
   "execution_count": 2,
   "id": "28828ee8-e549-4b66-9e93-ce9135de8731",
   "metadata": {},
   "outputs": [
    {
     "data": {
      "text/plain": [
       "'/Users/ost051/Documents/PhD/Electron Precipitation/log/testing/2022.09.18_23_33_11'"
      ]
     },
     "execution_count": 2,
     "metadata": {},
     "output_type": "execute_result"
    }
   ],
   "source": [
    "log_directory"
   ]
  },
  {
   "cell_type": "code",
   "execution_count": 3,
   "id": "74e97f09-c490-4bbd-8f16-0c4e7006480e",
   "metadata": {},
   "outputs": [],
   "source": [
    "[z_radar_time\n",
    " , parameters\n",
    " , time\n",
    " , az\n",
    " , el\n",
    " , r_errors ] = loadEISCAT.loadEISCATdata(path_eiscat_data, ['r_h', 'r_param', 'r_time', 'r_az', 'r_el', 'r_error'])\n",
    "\n",
    "z_radar = z_radar_time[0] #for static measurements, the information in r_h stays the same for all measurement points.\n",
    "ne_meas = parameters[:, :, 0]\n",
    "dne_meas = r_errors[:, :, 0]\n",
    "vel = parameters[:, :, 4]\n",
    "vel_err = r_errors[:, :, 4]\n",
    "\n",
    "#conversion to SI units:\n",
    "z_radar = z_radar*1e3\n",
    "r_time = time[:,0,3]*3600 + time[:,0,4]*60 + time[:,0,5]\n",
    "\n",
    "del parameters, r_errors, z_radar_time, az, el, time"
   ]
  },
  {
   "cell_type": "code",
   "execution_count": 4,
   "id": "8373be9f-0a5c-4806-b193-cee1915480f4",
   "metadata": {},
   "outputs": [
    {
     "name": "stdout",
     "output_type": "stream",
     "text": [
      "0.0\n",
      "0.1\n",
      "0.2\n",
      "0.4\n",
      "0.8\n"
     ]
    }
   ],
   "source": [
    "#differential flux: energy binning: \n",
    "e_bin_lims = np.logspace(2, 2+3, 501)\n",
    "\n",
    "#defining parameters for electron production model\n",
    "inc_B = 0\n",
    "z_min = 70000\n",
    "z_max = 200000\n",
    "res_model = 100\n",
    "z_sd_min = 0\n",
    "z_sd_max = 800e3\n",
    "res_sd = 10\n",
    "\n",
    "e_prod, z_model = EnergyDissipation.e_production(z_min\n",
    "                                                 , z_max\n",
    "                                                 , res_model\n",
    "                                                 , z_sd_min\n",
    "                                                 , z_sd_max\n",
    "                                                 , res_sd\n",
    "                                                 , e_bin_lims\n",
    "                                                 , z_msis\n",
    "                                                 , mass_density\n",
    "                                                 , inc_B)"
   ]
  },
  {
   "cell_type": "code",
   "execution_count": 6,
   "id": "527aabfa-e4af-460a-826e-826c1ba327b7",
   "metadata": {},
   "outputs": [],
   "source": [
    "#setup of ion chemistry\n",
    "import ionChem\n",
    "\n",
    "model = ionChem.ionChem('/Users/ost051/Documents/PhD/Electron Precipitation/example/Meta-data/Reaction rates test.txt'\n",
    ", np.arange(10))\n",
    "\n",
    "#model.assign_densities(z_model\n",
    "#                     , z_msis\n",
    "#                     , n_o1_msis\n",
    "#                     , n_n2_msis\n",
    "#                     , n_o2_msis\n",
    "#                     , z_iri\n",
    "#                     , ne_iri        \n",
    "#                     , rel_o_p   \n",
    "#                     , rel_n_p   \n",
    "#                     , rel_h_p   \n",
    "#                     , rel_he_p  \n",
    "#                     , rel_o2_p  \n",
    "#                     , rel_no_p)\n",
    "\n",
    "\n",
    "z_model = np.arange(0, 10)\n",
    "model.all_species[0].density  = np.ones(10)*1.1\n",
    "model.all_species[1].density  = np.zeros(10)\n",
    "model.all_species[2].density  = np.ones(10)*0.9\n",
    "model.all_species[3].density  = np.ones(10)*2\n",
    "\n",
    "\n"
   ]
  },
  {
   "cell_type": "code",
   "execution_count": 7,
   "id": "6b9bbc8a-958d-4e23-a190-2dbdc10450b3",
   "metadata": {},
   "outputs": [],
   "source": [
    "import matplotlib.pyplot as plt\n",
    "%matplotlib widget\n",
    "\n",
    "def plot_snapshot(model):\n",
    "    plt.figure()\n",
    "    for c in model.all_species:\n",
    "        plt.plot(c.density, z_model/1e3, label = c.name)\n",
    "    #plt.xscale('log')\n",
    "    plt.xlabel('Density [m-3]')\n",
    "    plt.ylabel('Altitude [km]')\n",
    "    plt.title('Density profiles')\n",
    "    plt.legend()\n",
    "    plt.xlim(-0.5,2.5)"
   ]
  },
  {
   "cell_type": "code",
   "execution_count": 8,
   "id": "8b11f64b-80e0-41bb-93c0-2a134aca3a8e",
   "metadata": {},
   "outputs": [],
   "source": [
    "dt = 0.1\n",
    "t = 0\n",
    "setup_.datadump(model)"
   ]
  },
  {
   "cell_type": "code",
   "execution_count": 9,
   "id": "cc156376-53d0-49d8-bc4b-1133dfab6319",
   "metadata": {
    "tags": []
   },
   "outputs": [],
   "source": [
    "for i in range(100):\n",
    "    model.update_timestep(dt)\n",
    "    t = t + dt\n",
    "    #plot_snapshot(model)\n",
    "    setup_.datadump(model)"
   ]
  },
  {
   "cell_type": "code",
   "execution_count": null,
   "id": "ffb0d05a-d50f-4fc5-9796-9336aca5c5a0",
   "metadata": {},
   "outputs": [
    {
     "data": {
      "text/plain": [
       "array([2., 2., 2., 2., 2., 2., 2., 2., 2., 2.])"
      ]
     },
     "execution_count": 10,
     "metadata": {},
     "output_type": "execute_result"
    }
   ],
   "source": [
    "import pickle\n",
    "\n",
    "def loadall(filename):\n",
    "    with open(filename, \"rb\") as f:\n",
    "        while True:\n",
    "            try:\n",
    "                yield pickle.load(f)\n",
    "            except EOFError:\n",
    "                break\n",
    "                \n",
    "data = list(loadall(log_directory + '/Simulation/log.p'))\n",
    "\n",
    "data[1].all_species[3].density\n"
   ]
  },
  {
   "cell_type": "code",
   "execution_count": 11,
   "id": "4d57e3e5-b530-46d3-ba63-da3820d36d5f",
   "metadata": {},
   "outputs": [],
   "source": [
    "time = np.array([i.time for i in data])\n",
    "densities = np.array([[j.density for j in i.all_species] for i in data])"
   ]
  },
  {
   "cell_type": "code",
   "execution_count": 12,
   "id": "5c1cf7e4-2031-4b6a-8249-0c79386023f0",
   "metadata": {},
   "outputs": [
    {
     "data": {
      "text/plain": [
       "[<matplotlib.lines.Line2D at 0x11e9be470>]"
      ]
     },
     "execution_count": 12,
     "metadata": {},
     "output_type": "execute_result"
    },
    {
     "data": {
      "application/vnd.jupyter.widget-view+json": {
       "model_id": "582f9609c0014b49bffbae0130deb8bf",
       "version_major": 2,
       "version_minor": 0
      },
      "image/png": "[encoded data removed]",
      "text/html": [
       "\n",
       "            <div style=\"display: inline-block;\">\n",
       "                <div class=\"jupyter-widgets widget-label\" style=\"text-align: center;\">\n",
       "                    Figure\n",
       "                </div>\n",
       "                <img src='data:image/png;base64,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' width=640.0/>\n",
       "            </div>\n",
       "        "
      ],
      "text/plain": [
       "Canvas(toolbar=Toolbar(toolitems=[('Home', 'Reset original view', 'home', 'home'), ('Back', 'Back to previous …"
      ]
     },
     "metadata": {},
     "output_type": "display_data"
    }
   ],
   "source": [
    "plt.figure()\n",
    "plt.plot(time, densities[:, 0, 0], 'x')\n",
    "plt.plot(time, densities[:, 1, 0], 'x')\n",
    "plt.plot(time, densities[:, 2, 0], 'x')\n",
    "plt.plot(time, densities[:, 3, 0], 'x')"
   ]
  },
  {
   "cell_type": "code",
   "execution_count": 16,
   "id": "2517ce03-5e69-4202-9d89-080fec001cba",
   "metadata": {},
   "outputs": [
    {
     "data": {
      "text/plain": [
       "int"
      ]
     },
     "execution_count": 16,
     "metadata": {},
     "output_type": "execute_result"
    }
   ],
   "source": [
    "type(model.all_species[0].charge)"
   ]
  },
  {
   "cell_type": "code",
   "execution_count": 14,
   "id": "7b171ac6-47b9-4066-a360-8d1e38b4a5bb",
   "metadata": {},
   "outputs": [
    {
     "data": {
      "text/plain": [
       "True"
      ]
     },
     "execution_count": 14,
     "metadata": {},
     "output_type": "execute_result"
    }
   ],
   "source": [
    "any(np.array([1, 2, 3])>2.9)"
   ]
  },
  {
   "cell_type": "code",
   "execution_count": 20,
   "id": "328ec569-11cf-4423-84d2-7a4b051d2a0e",
   "metadata": {},
   "outputs": [
    {
     "data": {
      "text/plain": [
       "[3]"
      ]
     },
     "execution_count": 20,
     "metadata": {},
     "output_type": "execute_result"
    }
   ],
   "source": [
    "[i for i in [1, 2, 3] if i>2]"
   ]
  },
  {
   "cell_type": "code",
   "execution_count": null,
   "id": "ec90c38c-1922-4dd9-b809-4355cc7662ec",
   "metadata": {},
   "outputs": [],
   "source": []
  }
 ],
 "metadata": {
  "kernelspec": {
   "display_name": "Python 3 (ipykernel)",
   "language": "python",
   "name": "python3"
  },
  "language_info": {
   "codemirror_mode": {
    "name": "ipython",
    "version": 3
   },
   "file_extension": ".py",
   "mimetype": "text/x-python",
   "name": "python",
   "nbconvert_exporter": "python",
   "pygments_lexer": "ipython3",
   "version": "3.10.2"
  }
 },
 "nbformat": 4,
 "nbformat_minor": 5
}
