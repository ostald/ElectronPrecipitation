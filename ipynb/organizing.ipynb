{
 "cells": [
  {
   "cell_type": "code",
   "execution_count": 1,
   "id": "5e267454-23b9-400f-ba06-141a724c313e",
   "metadata": {},
   "outputs": [],
   "source": [
    "import os\n",
    "from datetime import datetime\n",
    "from shutil import copy\n",
    "import pickle\n",
    "\n",
    "\n",
    "class print_config():\n",
    "    \"\"\"\n",
    "    Controls print settings. This module is imported in all others (that can print),\n",
    "    and share one instance of this class, defined in the main module.\n",
    "    \"\"\"\n",
    "    def __init__(self, printing = 0):\n",
    "        self.printing = printing\n",
    "        self.print = self.printing\n",
    "        \n",
    "    def enable(self):\n",
    "        self.printing = 1\n",
    "        self.print = self.printing\n",
    "    \n",
    "    def disable(self):\n",
    "        self.printing = 0\n",
    "        self.print = self.printing\n",
    "        \n",
    "\n",
    "pcfg = print_config()\n",
    "\n",
    "\n",
    "class setup:\n",
    "    def __init__(self, msis_config, iri_config, chemistry_config, path_eiscat_data):\n",
    "        self._directory = os.path.abspath('')\n",
    "        self._create_directory()\n",
    "        self._copy_config(msis_config, iri_config, chemistry_config, path_eiscat_data)\n",
    "     \n",
    "    def _create_directory(self):\n",
    "        \"\"\"\n",
    "        Creates a directory to store the configuration and results of this run.\n",
    "        The directory is labeled with the time of starting the program.\n",
    "        Folders created are Simulation (Config is created at the time of copying the config files)\n",
    "        \"\"\"\n",
    "        self._today = datetime.now()\n",
    "        self._log_directory = self._directory + '/log/testing/' + self._today.strftime('%Y.%m.%d_%H_%M_%S')\n",
    "        os.mkdir(self._log_directory)\n",
    "        os.mkdir(self._log_directory + '/Simulation')\n",
    "        \n",
    "    def _copy_config(self, msis_config, iri_config, chemistry_config, path_eiscat_data):\n",
    "        \"\"\"\n",
    "        Copies all configuration files into the log folder\n",
    "        \"\"\"\n",
    "        os.mkdir(self._log_directory + '/Config')\n",
    "        copy(msis_config, self._log_directory + '/Config')\n",
    "        copy(iri_config, self._log_directory + '/Config')\n",
    "        copy(chemistry_config, self._log_directory + '/Config')\n",
    "        with open(self._log_directory + '/Config/path_to_eiscat_data.txt', 'w') as f:\n",
    "            f.write(path_eiscat_data)\n",
    "            \n",
    "    def datadump(self, data):\n",
    "        '''\n",
    "        Dumps log data into the log file\n",
    "        '''\n",
    "        with open(self._log_directory + '/Simulation/log.p', 'ab') as f:\n",
    "            pickle.dump(data, f)\n"
   ]
  },
  {
   "cell_type": "code",
   "execution_count": 2,
   "id": "a83a7433-7864-4b9a-b19c-95042a7b0acc",
   "metadata": {},
   "outputs": [
    {
     "data": {
      "text/plain": [
       "\" testing\\nmsis_config = '/Users/ost051/Documents/PhD/Electron Precipitation/example/Meta-data/msis.txt'\\niri_config  = '/Users/ost051/Documents/PhD/Electron Precipitation/example/Meta-data/iri.txt'\\nchemistry_config = '/Users/ost051/Documents/PhD/Electron Precipitation/example/Meta-data/Reaction rates.txt'\\npath_eiscat_data = '/Users/ost051/Documents/PhD/Electron Precipitation/example/Data/'\\n\\nsetup_ = setup(msis_config, iri_config, chemistry_config, path_eiscat_data)\\n\\nsetup_.datadump(0, 1)\\n\""
      ]
     },
     "execution_count": 2,
     "metadata": {},
     "output_type": "execute_result"
    }
   ],
   "source": [
    "\"\"\" testing\n",
    "msis_config = '/Users/ost051/Documents/PhD/Electron Precipitation/example/Meta-data/msis.txt'\n",
    "iri_config  = '/Users/ost051/Documents/PhD/Electron Precipitation/example/Meta-data/iri.txt'\n",
    "chemistry_config = '/Users/ost051/Documents/PhD/Electron Precipitation/example/Meta-data/Reaction rates.txt'\n",
    "path_eiscat_data = '/Users/ost051/Documents/PhD/Electron Precipitation/example/Data/'\n",
    "\n",
    "setup_ = setup(msis_config, iri_config, chemistry_config, path_eiscat_data)\n",
    "\n",
    "setup_.datadump(0, 1)\n",
    "\"\"\""
   ]
  },
  {
   "cell_type": "code",
   "execution_count": null,
   "id": "ff002636-55af-490f-8c8e-261bf8961d6f",
   "metadata": {},
   "outputs": [],
   "source": []
  }
 ],
 "metadata": {
  "kernelspec": {
   "display_name": "Python 3 (ipykernel)",
   "language": "python",
   "name": "python3"
  },
  "language_info": {
   "codemirror_mode": {
    "name": "ipython",
    "version": 3
   },
   "file_extension": ".py",
   "mimetype": "text/x-python",
   "name": "python",
   "nbconvert_exporter": "python",
   "pygments_lexer": "ipython3",
   "version": "3.10.2"
  }
 },
 "nbformat": 4,
 "nbformat_minor": 5
}
