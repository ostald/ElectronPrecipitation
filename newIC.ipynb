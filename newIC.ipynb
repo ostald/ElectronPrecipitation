{
 "cells": [
  {
   "cell_type": "code",
   "execution_count": 1,
   "id": "12b8864c-7ac5-4108-8b38-95ff89f9abcc",
   "metadata": {},
   "outputs": [],
   "source": [
    "using PyCall\n",
    "using Debugger\n",
    "using Profile\n",
    "using Plots\n",
    "using DifferentialEquations\n",
    "using PCHIPInterpolation\n",
    "\n",
    "#plotlyjs()\n",
    "\n",
    "pushfirst!(pyimport(\"sys\").\"path\", \"\")\n",
    "\n",
    "\n",
    "@pyinclude(\"ic4elspec.py\")\n",
    "\n",
    "#to do:\n",
    "#check out ODEProblemLibrary.prob_ode_rober for chemical rections\n",
    "#multidimesional arrays!!\n",
    "#slimmer prod: simple linear interpolation?"
   ]
  },
  {
   "cell_type": "code",
   "execution_count": 2,
   "id": "02e9e6e3-690c-4f5a-8f89-3df1f1b556cc",
   "metadata": {
    "tags": []
   },
   "outputs": [
    {
     "name": "stdout",
     "output_type": "stream",
     "text": [
      "ckpnt 1\n"
     ]
    }
   ],
   "source": [
    "py\"\"\"\n",
    "direc = \"/Users/ost051/Documents/PhD/ElectronPrecipitation/log/testing/2023.05.03_14_07_04_mixf=0/\"\n",
    "file = \"ElSpec-iqt_IC_\"\n",
    "iteration = 0\n",
    "\n",
    "chemistry_config = \"Data/other/Reaction rates full set.txt\"\n",
    "\n",
    "mixf = 0\n",
    "\"\"\"\n",
    "const a = py\"ic(direc, chemistry_config, file, iteration, mixf = 0)\";\n",
    "\n",
    "\n",
    "# when importing Temperatures directly from Matlab:\n",
    "# [ne_, Ti, Te, _] = con[\"par\"].swapaxes(0, 1) => Ti, Te\n",
    "# [Tn, Ti_, Te_, nN2, nO2, nO, nAr, nNOp, nO2p, nOp] = n_model.swapaxes(0, 1) => Tn\n",
    "# Tr = (Ti + Tn) / 2\n",
    "#define nh, nT, nt"
   ]
  },
  {
   "cell_type": "code",
   "execution_count": 3,
   "id": "ab050992-2a9f-47f9-9508-9c06106a0e8f",
   "metadata": {},
   "outputs": [
    {
     "data": {
      "text/plain": [
       "0.0:0.001:1.0"
      ]
     },
     "execution_count": 3,
     "metadata": {},
     "output_type": "execute_result"
    }
   ],
   "source": [
    "const ts, te, n0, nprod, e_prod, temp, temp_notInterp, nh, ordering = a;\n",
    "\n",
    "const ts_ = 0\n",
    "const te_ = 1\n",
    "\n",
    "const t_save = range(ts_, te_, 1001)"
   ]
  },
  {
   "cell_type": "code",
   "execution_count": 4,
   "id": "17e2b879-10b9-453f-85a0-2e47fb8d5079",
   "metadata": {},
   "outputs": [
    {
     "data": {
      "text/plain": [
       "temp_julia4 (generic function with 1 method)"
      ]
     },
     "execution_count": 4,
     "metadata": {},
     "output_type": "execute_result"
    }
   ],
   "source": [
    "temp_int = Array{Any}(undef, size(temp_notInterp)[1:2])\n",
    "for i in 1:size(temp_notInterp)[1]\n",
    "    for j in 1:size(temp_notInterp)[2]\n",
    "        temp_int[i, j] = Interpolator(ts, temp_notInterp[i, j, :])\n",
    "    end\n",
    "end\n",
    "\n",
    "const temp_int_c = temp_int\n",
    "\n",
    "function temp_julia(t)\n",
    "    return [temp_int_c[i, j](t) for i in 1:size(temp_notInterp)[1], j in 1:size(temp_notInterp)[2]]\n",
    "end\n",
    "\n",
    "\n",
    "\n",
    "const temp_int2 = (Interpolator(ts, temp_notInterp[i, j, :]) for i in 1:size(temp_notInterp)[1], j in 1:size(temp_notInterp)[2])\n",
    "function temp_julia3(t)\n",
    "    return (i(t) for i in temp_int2)\n",
    "end\n",
    "\n",
    "\n",
    "function temp_julia4(t, temp_int2)\n",
    "    next = Iterators.take(temp_int2, 3)\n",
    "    while next !== nothing\n",
    "        (item, state) = next\n",
    "        [i(t) for i in item]\n",
    "        next = iterate(Iterators.take(temp_int2, 3), state)\n",
    "    end\n",
    "end\n"
   ]
  },
  {
   "cell_type": "code",
   "execution_count": 5,
   "id": "0d53b20c-d3c7-484c-b18c-abc6578d2ffd",
   "metadata": {},
   "outputs": [
    {
     "name": "stdout",
     "output_type": "stream",
     "text": [
      "  0.026473 seconds (40.30 k allocations: 2.650 MiB, 99.22% compilation time)\n",
      "  0.000037 seconds (190 allocations: 4.625 KiB)\n"
     ]
    }
   ],
   "source": [
    "@time temp_julia(0);\n",
    "@time temp_julia(0);"
   ]
  },
  {
   "cell_type": "code",
   "execution_count": 181,
   "id": "79595ee4-57ad-4941-9323-5c2508e00048",
   "metadata": {},
   "outputs": [
    {
     "name": "stdout",
     "output_type": "stream",
     "text": [
      "  0.001953 seconds (2.05 k allocations: 7.034 MiB)\n",
      "  0.001745 seconds (2.05 k allocations: 7.036 MiB)\n"
     ]
    },
    {
     "data": {
      "text/plain": [
       "3×62 Matrix{Float64}:\n",
       " 187.334  186.291  185.71   185.666  …  646.215  652.512  658.666  664.679\n",
       " 231.987  226.013  217.551  201.504     894.192  862.69   825.218  783.135\n",
       " 259.466  252.819  243.183  224.752     735.903  749.782  763.811  778.004"
      ]
     },
     "execution_count": 181,
     "metadata": {},
     "output_type": "execute_result"
    }
   ],
   "source": [
    "@time collect(temp_julia3(0));\n",
    "@time begin\n",
    "    b = Matrix{Float64}(undef, (3, 62))\n",
    "    b.= temp_julia3(0)\n",
    "end\n",
    "b\n"
   ]
  },
  {
   "cell_type": "code",
   "execution_count": 23,
   "id": "84b607dd-39ea-498c-8d0d-722ae7bb2fa8",
   "metadata": {},
   "outputs": [
    {
     "data": {
      "text/plain": [
       "19-element Vector{Vector{Any}}:\n",
       " [1, \"e-\"]\n",
       " [2, \"O\"]\n",
       " [3, \"O2\"]\n",
       " [4, \"O2+\"]\n",
       " [5, \"N+\"]\n",
       " [6, \"N2\"]\n",
       " [7, \"N2+\"]\n",
       " [8, \"NO\"]\n",
       " [9, \"NO+\"]\n",
       " [10, \"H\"]\n",
       " [11, \"H+\"]\n",
       " [12, \"O(1D)\"]\n",
       " [13, \"O(1S)\"]\n",
       " [14, \"N(2D)\"]\n",
       " [15, \"N(4S)\"]\n",
       " [16, \"O2+(a4P)\"]\n",
       " [17, \"O+(2D)\"]\n",
       " [18, \"O+(4S)\"]\n",
       " [19, \"O+(2P)\"]"
      ]
     },
     "execution_count": 23,
     "metadata": {},
     "output_type": "execute_result"
    }
   ],
   "source": [
    "include(\"juliaIC.jl\");\n",
    "const path_reactions_file = \"/Users/ost051/Documents/PhD/ElectronPrecipitation/Data/other/Reaction rates full set ext.txt\"\n",
    "const dndt, particles, reactions, ode_raw = juliaIC.initIC(path_reactions_file, ordering)\n",
    "particles"
   ]
  },
  {
   "cell_type": "code",
   "execution_count": 24,
   "id": "9b75798e-88e6-4e31-b8bc-5db37ccbe678",
   "metadata": {
    "tags": []
   },
   "outputs": [],
   "source": [
    "function stepf(prod, t, ts, te)\n",
    "    if t.<ts[1] return 0\n",
    "    elseif t.>te[end] return 0\n",
    "    else\n",
    "        i_max_ts = length(ts[ts .<= t])\n",
    "        return prod[i_max_ts]\n",
    "    end\n",
    "end\n",
    "\n",
    "const t_step = range(ts[1], te[end], step=1e-2)\n",
    "\n",
    "const e_prod_step = [stepf(e_prod[i, :], t, ts, te) for i in 1:size(e_prod)[1], t in t_step]\n",
    "\n",
    "const itp = [Interpolator(t_step, e_prod_step[i, :]) for i in 1:size(e_prod_step)[1]];"
   ]
  },
  {
   "cell_type": "code",
   "execution_count": 25,
   "id": "f44da3b9-b163-4ea0-9e2c-c6a870694e3d",
   "metadata": {},
   "outputs": [
    {
     "name": "stdout",
     "output_type": "stream",
     "text": [
      "(62,)\n"
     ]
    },
    {
     "data": {
      "text/plain": [
       "zerof (generic function with 1 method)"
      ]
     },
     "execution_count": 25,
     "metadata": {},
     "output_type": "execute_result"
    }
   ],
   "source": [
    "function e_prod_f(t, itp)\n",
    "    return (i.(t) for i in itp)\n",
    "end\n",
    "\n",
    "println(size(e_prod_f(0, itp)))\n",
    "\n",
    "function zerof(t)\n",
    "    return zeros(62)\n",
    "end"
   ]
  },
  {
   "cell_type": "code",
   "execution_count": 26,
   "id": "eafaa22f-3389-4db8-98f2-1dff444b6b3f",
   "metadata": {},
   "outputs": [
    {
     "name": "stdout",
     "output_type": "stream",
     "text": [
      "(62,)\n"
     ]
    },
    {
     "data": {
      "text/plain": [
       "19-element Vector{Any}:\n",
       " #23 (generic function with 1 method)\n",
       " zerof (generic function with 1 method)\n",
       " zerof (generic function with 1 method)\n",
       " #25 (generic function with 1 method)\n",
       " zerof (generic function with 1 method)\n",
       " zerof (generic function with 1 method)\n",
       " #26 (generic function with 1 method)\n",
       " zerof (generic function with 1 method)\n",
       " zerof (generic function with 1 method)\n",
       " zerof (generic function with 1 method)\n",
       " zerof (generic function with 1 method)\n",
       " zerof (generic function with 1 method)\n",
       " zerof (generic function with 1 method)\n",
       " zerof (generic function with 1 method)\n",
       " zerof (generic function with 1 method)\n",
       " zerof (generic function with 1 method)\n",
       " zerof (generic function with 1 method)\n",
       " #24 (generic function with 1 method)\n",
       " zerof (generic function with 1 method)"
      ]
     },
     "execution_count": 26,
     "metadata": {},
     "output_type": "execute_result"
    }
   ],
   "source": [
    "nprod_julia = Array{Any}(undef, length(particles))\n",
    "nprod_julia.= zerof\n",
    "\n",
    "\n",
    "i_O  = findall(p -> p[2] == \"O\", particles)[1]\n",
    "i_O2 = findall(p -> p[2] == \"O2\", particles)[1]\n",
    "i_N2 = findall(p -> p[2] == \"N2\", particles)[1]\n",
    "for i in 1:length(particles)\n",
    "    if particles[i][2] == \"e-\"\n",
    "        nprod_julia[i] = (t) -> e_prod_f(t, itp)\n",
    "    end\n",
    "    if particles[i][2] == \"O+(4S)\"\n",
    "        nprod_julia[i] = (t) -> e_prod_f(t, itp) .* n0[i_O , :]*0.56 ./(n0[i_O, :]*0.56 .+ n0[i_N2, :]*0.92 .+ n0[i_O2, :])\n",
    "        println(size(nprod_julia[i](0)))\n",
    "    end\n",
    "    if particles[i][2] == \"O2+\"\n",
    "        nprod_julia[i] = (t) -> e_prod_f(t, itp) .* n0[i_N2, :]*0.92 ./(n0[i_O, :]*0.56 .+ n0[i_N2, :]*0.92 .+ n0[i_O2, :])\n",
    "    end\n",
    "    if particles[i][2] == \"N2+\"\n",
    "        nprod_julia[i] = (t) -> e_prod_f(t, itp) .* n0[i_O2, :]      ./(n0[i_O, :]*0.56 .+ n0[i_N2, :]*0.92 .+ n0[i_O2, :])\n",
    "    end\n",
    "end\n",
    "\n",
    "const nprod_julia_c = nprod_julia\n"
   ]
  },
  {
   "cell_type": "code",
   "execution_count": 27,
   "id": "52ed29ab-b78f-4c1c-bf9f-26aed9c8d42c",
   "metadata": {},
   "outputs": [
    {
     "data": {
      "image/png": "[encoded data removed]",
      "image/svg+xml": [
       "<?xml version=\"1.0\" encoding=\"utf-8\"?>\n",
       "<svg xmlns=\"http://www.w3.org/2000/svg\" xmlns:xlink=\"http://www.w3.org/1999/xlink\" width=\"600\" height=\"400\" viewBox=\"0 0 2400 1600\">\n",
       "<defs>\n",
       "  <clipPath id=\"clip940\">\n",
       "    <rect x=\"0\" y=\"0\" width=\"2400\" height=\"1600\"/>\n",
       "  </clipPath>\n",
       "</defs>\n",
       "<path clip-path=\"url(#clip940)\" d=\"M0 1600 L2400 1600 L2400 0 L0 0  Z\" fill=\"#ffffff\" fill-rule=\"evenodd\" fill-opacity=\"1\"/>\n",
       "<defs>\n",
       "  <clipPath id=\"clip941\">\n",
       "    <rect x=\"480\" y=\"0\" width=\"1681\" height=\"1600\"/>\n",
       "  </clipPath>\n",
       "</defs>\n",
       "<path clip-path=\"url(#clip940)\" d=\"M326.46 1486.45 L2352.76 1486.45 L2352.76 47.2441 L326.46 47.2441  Z\" fill=\"#ffffff\" fill-rule=\"evenodd\" fill-opacity=\"1\"/>\n",
       "<defs>\n",
       "  <clipPath id=\"clip942\">\n",
       "    <rect x=\"326\" y=\"47\" width=\"2027\" height=\"1440\"/>\n",
       "  </clipPath>\n",
       "</defs>\n",
       "<polyline clip-path=\"url(#clip942)\" style=\"stroke:#000000; stroke-linecap:round; stroke-linejoin:round; stroke-width:2; stroke-opacity:0.1; fill:none\" points=\"687.104,1486.45 687.104,47.2441 \"/>\n",
       "<polyline clip-path=\"url(#clip942)\" style=\"stroke:#000000; stroke-linecap:round; stroke-linejoin:round; stroke-width:2; stroke-opacity:0.1; fill:none\" points=\"1100.69,1486.45 1100.69,47.2441 \"/>\n",
       "<polyline clip-path=\"url(#clip942)\" style=\"stroke:#000000; stroke-linecap:round; stroke-linejoin:round; stroke-width:2; stroke-opacity:0.1; fill:none\" points=\"1514.28,1486.45 1514.28,47.2441 \"/>\n",
       "<polyline clip-path=\"url(#clip942)\" style=\"stroke:#000000; stroke-linecap:round; stroke-linejoin:round; stroke-width:2; stroke-opacity:0.1; fill:none\" points=\"1927.87,1486.45 1927.87,47.2441 \"/>\n",
       "<polyline clip-path=\"url(#clip942)\" style=\"stroke:#000000; stroke-linecap:round; stroke-linejoin:round; stroke-width:2; stroke-opacity:0.1; fill:none\" points=\"2341.45,1486.45 2341.45,47.2441 \"/>\n",
       "<polyline clip-path=\"url(#clip940)\" style=\"stroke:#000000; stroke-linecap:round; stroke-linejoin:round; stroke-width:4; stroke-opacity:1; fill:none\" points=\"326.46,1486.45 2352.76,1486.45 \"/>\n",
       "<polyline clip-path=\"url(#clip940)\" style=\"stroke:#000000; stroke-linecap:round; stroke-linejoin:round; stroke-width:4; stroke-opacity:1; fill:none\" points=\"687.104,1486.45 687.104,1467.55 \"/>\n",
       "<polyline clip-path=\"url(#clip940)\" style=\"stroke:#000000; stroke-linecap:round; stroke-linejoin:round; stroke-width:4; stroke-opacity:1; fill:none\" points=\"1100.69,1486.45 1100.69,1467.55 \"/>\n",
       "<polyline clip-path=\"url(#clip940)\" style=\"stroke:#000000; stroke-linecap:round; stroke-linejoin:round; stroke-width:4; stroke-opacity:1; fill:none\" points=\"1514.28,1486.45 1514.28,1467.55 \"/>\n",
       "<polyline clip-path=\"url(#clip940)\" style=\"stroke:#000000; stroke-linecap:round; stroke-linejoin:round; stroke-width:4; stroke-opacity:1; fill:none\" points=\"1927.87,1486.45 1927.87,1467.55 \"/>\n",
       "<polyline clip-path=\"url(#clip940)\" style=\"stroke:#000000; stroke-linecap:round; stroke-linejoin:round; stroke-width:4; stroke-opacity:1; fill:none\" points=\"2341.45,1486.45 2341.45,1467.55 \"/>\n",
       "<path clip-path=\"url(#clip940)\" d=\"M666.375 1544.91 L682.695 1544.91 L682.695 1548.85 L660.75 1548.85 L660.75 1544.91 Q663.412 1542.16 667.996 1537.53 Q672.602 1532.88 673.783 1531.53 Q676.028 1529.01 676.908 1527.27 Q677.81 1525.51 677.81 1523.82 Q677.81 1521.07 675.866 1519.33 Q673.945 1517.6 670.843 1517.6 Q668.644 1517.6 666.19 1518.36 Q663.76 1519.13 660.982 1520.68 L660.982 1515.95 Q663.806 1514.82 666.26 1514.24 Q668.713 1513.66 670.75 1513.66 Q676.121 1513.66 679.315 1516.35 Q682.51 1519.03 682.51 1523.52 Q682.51 1525.65 681.699 1527.57 Q680.912 1529.47 678.806 1532.07 Q678.227 1532.74 675.125 1535.95 Q672.023 1539.15 666.375 1544.91 Z\" fill=\"#000000\" fill-rule=\"nonzero\" fill-opacity=\"1\" /><path clip-path=\"url(#clip940)\" d=\"M692.556 1514.29 L710.912 1514.29 L710.912 1518.22 L696.838 1518.22 L696.838 1526.7 Q697.857 1526.35 698.875 1526.19 Q699.894 1526 700.912 1526 Q706.699 1526 710.079 1529.17 Q713.458 1532.34 713.458 1537.76 Q713.458 1543.34 709.986 1546.44 Q706.514 1549.52 700.195 1549.52 Q698.019 1549.52 695.75 1549.15 Q693.505 1548.78 691.097 1548.04 L691.097 1543.34 Q693.181 1544.47 695.403 1545.03 Q697.625 1545.58 700.102 1545.58 Q704.107 1545.58 706.445 1543.48 Q708.783 1541.37 708.783 1537.76 Q708.783 1534.15 706.445 1532.04 Q704.107 1529.94 700.102 1529.94 Q698.227 1529.94 696.352 1530.35 Q694.5 1530.77 692.556 1531.65 L692.556 1514.29 Z\" fill=\"#000000\" fill-rule=\"nonzero\" fill-opacity=\"1\" /><path clip-path=\"url(#clip940)\" d=\"M1089.53 1530.21 Q1092.89 1530.93 1094.77 1533.2 Q1096.66 1535.47 1096.66 1538.8 Q1096.66 1543.92 1093.15 1546.72 Q1089.63 1549.52 1083.15 1549.52 Q1080.97 1549.52 1078.65 1549.08 Q1076.36 1548.66 1073.91 1547.81 L1073.91 1543.29 Q1075.85 1544.43 1078.17 1545.01 Q1080.48 1545.58 1083.01 1545.58 Q1087.4 1545.58 1089.7 1543.85 Q1092.01 1542.11 1092.01 1538.8 Q1092.01 1535.75 1089.86 1534.03 Q1087.73 1532.3 1083.91 1532.3 L1079.88 1532.3 L1079.88 1528.45 L1084.09 1528.45 Q1087.54 1528.45 1089.37 1527.09 Q1091.2 1525.7 1091.2 1523.11 Q1091.2 1520.45 1089.3 1519.03 Q1087.43 1517.6 1083.91 1517.6 Q1081.99 1517.6 1079.79 1518.01 Q1077.59 1518.43 1074.95 1519.31 L1074.95 1515.14 Q1077.61 1514.4 1079.93 1514.03 Q1082.27 1513.66 1084.33 1513.66 Q1089.65 1513.66 1092.75 1516.09 Q1095.85 1518.5 1095.85 1522.62 Q1095.85 1525.49 1094.21 1527.48 Q1092.57 1529.45 1089.53 1530.21 Z\" fill=\"#000000\" fill-rule=\"nonzero\" fill-opacity=\"1\" /><path clip-path=\"url(#clip940)\" d=\"M1115.53 1517.37 Q1111.92 1517.37 1110.09 1520.93 Q1108.28 1524.47 1108.28 1531.6 Q1108.28 1538.71 1110.09 1542.27 Q1111.92 1545.82 1115.53 1545.82 Q1119.16 1545.82 1120.97 1542.27 Q1122.8 1538.71 1122.8 1531.6 Q1122.8 1524.47 1120.97 1520.93 Q1119.16 1517.37 1115.53 1517.37 M1115.53 1513.66 Q1121.34 1513.66 1124.4 1518.27 Q1127.47 1522.85 1127.47 1531.6 Q1127.47 1540.33 1124.4 1544.94 Q1121.34 1549.52 1115.53 1549.52 Q1109.72 1549.52 1106.64 1544.94 Q1103.59 1540.33 1103.59 1531.6 Q1103.59 1522.85 1106.64 1518.27 Q1109.72 1513.66 1115.53 1513.66 Z\" fill=\"#000000\" fill-rule=\"nonzero\" fill-opacity=\"1\" /><path clip-path=\"url(#clip940)\" d=\"M1503.62 1530.21 Q1506.98 1530.93 1508.85 1533.2 Q1510.75 1535.47 1510.75 1538.8 Q1510.75 1543.92 1507.23 1546.72 Q1503.71 1549.52 1497.23 1549.52 Q1495.05 1549.52 1492.74 1549.08 Q1490.45 1548.66 1487.99 1547.81 L1487.99 1543.29 Q1489.94 1544.43 1492.25 1545.01 Q1494.57 1545.58 1497.09 1545.58 Q1501.49 1545.58 1503.78 1543.85 Q1506.1 1542.11 1506.1 1538.8 Q1506.1 1535.75 1503.94 1534.03 Q1501.81 1532.3 1497.99 1532.3 L1493.97 1532.3 L1493.97 1528.45 L1498.18 1528.45 Q1501.63 1528.45 1503.46 1527.09 Q1505.29 1525.7 1505.29 1523.11 Q1505.29 1520.45 1503.39 1519.03 Q1501.51 1517.6 1497.99 1517.6 Q1496.07 1517.6 1493.87 1518.01 Q1491.67 1518.43 1489.04 1519.31 L1489.04 1515.14 Q1491.7 1514.4 1494.01 1514.03 Q1496.35 1513.66 1498.41 1513.66 Q1503.73 1513.66 1506.84 1516.09 Q1509.94 1518.5 1509.94 1522.62 Q1509.94 1525.49 1508.3 1527.48 Q1506.65 1529.45 1503.62 1530.21 Z\" fill=\"#000000\" fill-rule=\"nonzero\" fill-opacity=\"1\" /><path clip-path=\"url(#clip940)\" d=\"M1519.66 1514.29 L1538.02 1514.29 L1538.02 1518.22 L1523.94 1518.22 L1523.94 1526.7 Q1524.96 1526.35 1525.98 1526.19 Q1527 1526 1528.02 1526 Q1533.8 1526 1537.18 1529.17 Q1540.56 1532.34 1540.56 1537.76 Q1540.56 1543.34 1537.09 1546.44 Q1533.62 1549.52 1527.3 1549.52 Q1525.12 1549.52 1522.86 1549.15 Q1520.61 1548.78 1518.2 1548.04 L1518.2 1543.34 Q1520.29 1544.47 1522.51 1545.03 Q1524.73 1545.58 1527.21 1545.58 Q1531.21 1545.58 1533.55 1543.48 Q1535.89 1541.37 1535.89 1537.76 Q1535.89 1534.15 1533.55 1532.04 Q1531.21 1529.94 1527.21 1529.94 Q1525.33 1529.94 1523.46 1530.35 Q1521.61 1530.77 1519.66 1531.65 L1519.66 1514.29 Z\" fill=\"#000000\" fill-rule=\"nonzero\" fill-opacity=\"1\" /><path clip-path=\"url(#clip940)\" d=\"M1916.04 1518.36 L1904.23 1536.81 L1916.04 1536.81 L1916.04 1518.36 M1914.81 1514.29 L1920.69 1514.29 L1920.69 1536.81 L1925.62 1536.81 L1925.62 1540.7 L1920.69 1540.7 L1920.69 1548.85 L1916.04 1548.85 L1916.04 1540.7 L1900.44 1540.7 L1900.44 1536.19 L1914.81 1514.29 Z\" fill=\"#000000\" fill-rule=\"nonzero\" fill-opacity=\"1\" /><path clip-path=\"url(#clip940)\" d=\"M1943.35 1517.37 Q1939.74 1517.37 1937.91 1520.93 Q1936.11 1524.47 1936.11 1531.6 Q1936.11 1538.71 1937.91 1542.27 Q1939.74 1545.82 1943.35 1545.82 Q1946.99 1545.82 1948.79 1542.27 Q1950.62 1538.71 1950.62 1531.6 Q1950.62 1524.47 1948.79 1520.93 Q1946.99 1517.37 1943.35 1517.37 M1943.35 1513.66 Q1949.16 1513.66 1952.22 1518.27 Q1955.3 1522.85 1955.3 1531.6 Q1955.3 1540.33 1952.22 1544.94 Q1949.16 1549.52 1943.35 1549.52 Q1937.54 1549.52 1934.46 1544.94 Q1931.41 1540.33 1931.41 1531.6 Q1931.41 1522.85 1934.46 1518.27 Q1937.54 1513.66 1943.35 1513.66 Z\" fill=\"#000000\" fill-rule=\"nonzero\" fill-opacity=\"1\" /><path clip-path=\"url(#clip940)\" d=\"M2330.12 1518.36 L2318.32 1536.81 L2330.12 1536.81 L2330.12 1518.36 M2328.9 1514.29 L2334.77 1514.29 L2334.77 1536.81 L2339.71 1536.81 L2339.71 1540.7 L2334.77 1540.7 L2334.77 1548.85 L2330.12 1548.85 L2330.12 1540.7 L2314.52 1540.7 L2314.52 1536.19 L2328.9 1514.29 Z\" fill=\"#000000\" fill-rule=\"nonzero\" fill-opacity=\"1\" /><path clip-path=\"url(#clip940)\" d=\"M2347.48 1514.29 L2365.84 1514.29 L2365.84 1518.22 L2351.77 1518.22 L2351.77 1526.7 Q2352.78 1526.35 2353.8 1526.19 Q2354.82 1526 2355.84 1526 Q2361.63 1526 2365.01 1529.17 Q2368.39 1532.34 2368.39 1537.76 Q2368.39 1543.34 2364.91 1546.44 Q2361.44 1549.52 2355.12 1549.52 Q2352.95 1549.52 2350.68 1549.15 Q2348.43 1548.78 2346.02 1548.04 L2346.02 1543.34 Q2348.11 1544.47 2350.33 1545.03 Q2352.55 1545.58 2355.03 1545.58 Q2359.03 1545.58 2361.37 1543.48 Q2363.71 1541.37 2363.71 1537.76 Q2363.71 1534.15 2361.37 1532.04 Q2359.03 1529.94 2355.03 1529.94 Q2353.15 1529.94 2351.28 1530.35 Q2349.43 1530.77 2347.48 1531.65 L2347.48 1514.29 Z\" fill=\"#000000\" fill-rule=\"nonzero\" fill-opacity=\"1\" /><polyline clip-path=\"url(#clip942)\" style=\"stroke:#000000; stroke-linecap:round; stroke-linejoin:round; stroke-width:2; stroke-opacity:0.1; fill:none\" points=\"326.46,1445.72 2352.76,1445.72 \"/>\n",
       "<polyline clip-path=\"url(#clip942)\" style=\"stroke:#000000; stroke-linecap:round; stroke-linejoin:round; stroke-width:2; stroke-opacity:0.1; fill:none\" points=\"326.46,1137.15 2352.76,1137.15 \"/>\n",
       "<polyline clip-path=\"url(#clip942)\" style=\"stroke:#000000; stroke-linecap:round; stroke-linejoin:round; stroke-width:2; stroke-opacity:0.1; fill:none\" points=\"326.46,828.593 2352.76,828.593 \"/>\n",
       "<polyline clip-path=\"url(#clip942)\" style=\"stroke:#000000; stroke-linecap:round; stroke-linejoin:round; stroke-width:2; stroke-opacity:0.1; fill:none\" points=\"326.46,520.032 2352.76,520.032 \"/>\n",
       "<polyline clip-path=\"url(#clip942)\" style=\"stroke:#000000; stroke-linecap:round; stroke-linejoin:round; stroke-width:2; stroke-opacity:0.1; fill:none\" points=\"326.46,211.471 2352.76,211.471 \"/>\n",
       "<polyline clip-path=\"url(#clip940)\" style=\"stroke:#000000; stroke-linecap:round; stroke-linejoin:round; stroke-width:4; stroke-opacity:1; fill:none\" points=\"326.46,1486.45 326.46,47.2441 \"/>\n",
       "<polyline clip-path=\"url(#clip940)\" style=\"stroke:#000000; stroke-linecap:round; stroke-linejoin:round; stroke-width:4; stroke-opacity:1; fill:none\" points=\"326.46,1445.72 345.358,1445.72 \"/>\n",
       "<polyline clip-path=\"url(#clip940)\" style=\"stroke:#000000; stroke-linecap:round; stroke-linejoin:round; stroke-width:4; stroke-opacity:1; fill:none\" points=\"326.46,1137.15 345.358,1137.15 \"/>\n",
       "<polyline clip-path=\"url(#clip940)\" style=\"stroke:#000000; stroke-linecap:round; stroke-linejoin:round; stroke-width:4; stroke-opacity:1; fill:none\" points=\"326.46,828.593 345.358,828.593 \"/>\n",
       "<polyline clip-path=\"url(#clip940)\" style=\"stroke:#000000; stroke-linecap:round; stroke-linejoin:round; stroke-width:4; stroke-opacity:1; fill:none\" points=\"326.46,520.032 345.358,520.032 \"/>\n",
       "<polyline clip-path=\"url(#clip940)\" style=\"stroke:#000000; stroke-linecap:round; stroke-linejoin:round; stroke-width:4; stroke-opacity:1; fill:none\" points=\"326.46,211.471 345.358,211.471 \"/>\n",
       "<path clip-path=\"url(#clip940)\" d=\"M278.516 1431.51 Q274.904 1431.51 273.076 1435.08 Q271.27 1438.62 271.27 1445.75 Q271.27 1452.86 273.076 1456.42 Q274.904 1459.96 278.516 1459.96 Q282.15 1459.96 283.955 1456.42 Q285.784 1452.86 285.784 1445.75 Q285.784 1438.62 283.955 1435.08 Q282.15 1431.51 278.516 1431.51 M278.516 1427.81 Q284.326 1427.81 287.381 1432.42 Q290.46 1437 290.46 1445.75 Q290.46 1454.48 287.381 1459.08 Q284.326 1463.67 278.516 1463.67 Q272.705 1463.67 269.627 1459.08 Q266.571 1454.48 266.571 1445.75 Q266.571 1437 269.627 1432.42 Q272.705 1427.81 278.516 1427.81 Z\" fill=\"#000000\" fill-rule=\"nonzero\" fill-opacity=\"1\" /><path clip-path=\"url(#clip940)\" d=\"M77.7324 1156.95 L94.0518 1156.95 L94.0518 1160.88 L72.1075 1160.88 L72.1075 1156.95 Q74.7695 1154.19 79.3528 1149.56 Q83.9593 1144.91 85.1398 1143.57 Q87.3852 1141.04 88.2648 1139.31 Q89.1676 1137.55 89.1676 1135.86 Q89.1676 1133.1 87.2231 1131.37 Q85.3018 1129.63 82.2 1129.63 Q80.0009 1129.63 77.5472 1130.4 Q75.1167 1131.16 72.3389 1132.71 L72.3389 1127.99 Q75.163 1126.85 77.6167 1126.28 Q80.0704 1125.7 82.1074 1125.7 Q87.4778 1125.7 90.6722 1128.38 Q93.8666 1131.07 93.8666 1135.56 Q93.8666 1137.69 93.0564 1139.61 Q92.2694 1141.51 90.1629 1144.1 Q89.5842 1144.77 86.4824 1147.99 Q83.3806 1151.18 77.7324 1156.95 Z\" fill=\"#000000\" fill-rule=\"nonzero\" fill-opacity=\"1\" /><path clip-path=\"url(#clip940)\" d=\"M103.867 1155 L108.751 1155 L108.751 1160.88 L103.867 1160.88 L103.867 1155 Z\" fill=\"#000000\" fill-rule=\"nonzero\" fill-opacity=\"1\" /><path clip-path=\"url(#clip940)\" d=\"M118.982 1126.32 L137.339 1126.32 L137.339 1130.26 L123.265 1130.26 L123.265 1138.73 Q124.283 1138.38 125.302 1138.22 Q126.32 1138.03 127.339 1138.03 Q133.126 1138.03 136.505 1141.21 Q139.885 1144.38 139.885 1149.79 Q139.885 1155.37 136.413 1158.47 Q132.94 1161.55 126.621 1161.55 Q124.445 1161.55 122.177 1161.18 Q119.931 1160.81 117.524 1160.07 L117.524 1155.37 Q119.607 1156.51 121.829 1157.06 Q124.052 1157.62 126.528 1157.62 Q130.533 1157.62 132.871 1155.51 Q135.209 1153.41 135.209 1149.79 Q135.209 1146.18 132.871 1144.08 Q130.533 1141.97 126.528 1141.97 Q124.653 1141.97 122.778 1142.39 Q120.927 1142.8 118.982 1143.68 L118.982 1126.32 Z\" fill=\"#000000\" fill-rule=\"nonzero\" fill-opacity=\"1\" /><path clip-path=\"url(#clip940)\" d=\"M159.098 1129.4 Q155.487 1129.4 153.658 1132.97 Q151.852 1136.51 151.852 1143.64 Q151.852 1150.74 153.658 1154.31 Q155.487 1157.85 159.098 1157.85 Q162.732 1157.85 164.538 1154.31 Q166.366 1150.74 166.366 1143.64 Q166.366 1136.51 164.538 1132.97 Q162.732 1129.4 159.098 1129.4 M159.098 1125.7 Q164.908 1125.7 167.963 1130.3 Q171.042 1134.89 171.042 1143.64 Q171.042 1152.36 167.963 1156.97 Q164.908 1161.55 159.098 1161.55 Q153.288 1161.55 150.209 1156.97 Q147.153 1152.36 147.153 1143.64 Q147.153 1134.89 150.209 1130.3 Q153.288 1125.7 159.098 1125.7 Z\" fill=\"#000000\" fill-rule=\"nonzero\" fill-opacity=\"1\" /><path clip-path=\"url(#clip940)\" d=\"M207.431 1135.42 L196.852 1146.04 L207.431 1156.62 L204.676 1159.42 L194.051 1148.8 L183.426 1159.42 L180.695 1156.62 L191.25 1146.04 L180.695 1135.42 L183.426 1132.62 L194.051 1143.24 L204.676 1132.62 L207.431 1135.42 Z\" fill=\"#000000\" fill-rule=\"nonzero\" fill-opacity=\"1\" /><path clip-path=\"url(#clip940)\" d=\"M219.792 1156.95 L227.431 1156.95 L227.431 1130.58 L219.121 1132.25 L219.121 1127.99 L227.384 1126.32 L232.06 1126.32 L232.06 1156.95 L239.699 1156.95 L239.699 1160.88 L219.792 1160.88 L219.792 1156.95 Z\" fill=\"#000000\" fill-rule=\"nonzero\" fill-opacity=\"1\" /><path clip-path=\"url(#clip940)\" d=\"M259.143 1129.4 Q255.532 1129.4 253.704 1132.97 Q251.898 1136.51 251.898 1143.64 Q251.898 1150.74 253.704 1154.31 Q255.532 1157.85 259.143 1157.85 Q262.778 1157.85 264.583 1154.31 Q266.412 1150.74 266.412 1143.64 Q266.412 1136.51 264.583 1132.97 Q262.778 1129.4 259.143 1129.4 M259.143 1125.7 Q264.954 1125.7 268.009 1130.3 Q271.088 1134.89 271.088 1143.64 Q271.088 1152.36 268.009 1156.97 Q264.954 1161.55 259.143 1161.55 Q253.333 1161.55 250.255 1156.97 Q247.199 1152.36 247.199 1143.64 Q247.199 1134.89 250.255 1130.3 Q253.333 1125.7 259.143 1125.7 Z\" fill=\"#000000\" fill-rule=\"nonzero\" fill-opacity=\"1\" /><path clip-path=\"url(#clip940)\" d=\"M272.893 1132.89 L272.893 1129.43 Q274.323 1130.11 275.79 1130.46 Q277.257 1130.82 278.667 1130.82 Q282.429 1130.82 284.404 1128.3 Q286.397 1125.76 286.68 1120.61 Q285.589 1122.22 283.915 1123.09 Q282.241 1123.95 280.21 1123.95 Q275.997 1123.95 273.533 1121.42 Q271.088 1118.86 271.088 1114.44 Q271.088 1110.11 273.646 1107.5 Q276.204 1104.88 280.454 1104.88 Q285.325 1104.88 287.883 1108.63 Q290.46 1112.35 290.46 1119.46 Q290.46 1126.1 287.3 1130.07 Q284.159 1134.02 278.837 1134.02 Q277.407 1134.02 275.94 1133.73 Q274.473 1133.45 272.893 1132.89 M280.454 1120.98 Q283.012 1120.98 284.498 1119.23 Q286.002 1117.49 286.002 1114.44 Q286.002 1111.41 284.498 1109.66 Q283.012 1107.89 280.454 1107.89 Q277.896 1107.89 276.392 1109.66 Q274.906 1111.41 274.906 1114.44 Q274.906 1117.49 276.392 1119.23 Q277.896 1120.98 280.454 1120.98 Z\" fill=\"#000000\" fill-rule=\"nonzero\" fill-opacity=\"1\" /><path clip-path=\"url(#clip940)\" d=\"M73.751 817.761 L92.1074 817.761 L92.1074 821.696 L78.0334 821.696 L78.0334 830.168 Q79.0519 829.821 80.0704 829.659 Q81.0889 829.474 82.1074 829.474 Q87.8944 829.474 91.274 832.645 Q94.6536 835.816 94.6536 841.233 Q94.6536 846.812 91.1814 849.913 Q87.7092 852.992 81.3898 852.992 Q79.2139 852.992 76.9454 852.622 Q74.7 852.251 72.2926 851.511 L72.2926 846.812 Q74.376 847.946 76.5982 848.501 Q78.8204 849.057 81.2972 849.057 Q85.3018 849.057 87.6398 846.951 Q89.9777 844.844 89.9777 841.233 Q89.9777 837.622 87.6398 835.515 Q85.3018 833.409 81.2972 833.409 Q79.4222 833.409 77.5472 833.826 Q75.6954 834.242 73.751 835.122 L73.751 817.761 Z\" fill=\"#000000\" fill-rule=\"nonzero\" fill-opacity=\"1\" /><path clip-path=\"url(#clip940)\" d=\"M103.867 846.441 L108.751 846.441 L108.751 852.321 L103.867 852.321 L103.867 846.441 Z\" fill=\"#000000\" fill-rule=\"nonzero\" fill-opacity=\"1\" /><path clip-path=\"url(#clip940)\" d=\"M128.936 820.84 Q125.325 820.84 123.496 824.404 Q121.691 827.946 121.691 835.076 Q121.691 842.182 123.496 845.747 Q125.325 849.288 128.936 849.288 Q132.57 849.288 134.376 845.747 Q136.204 842.182 136.204 835.076 Q136.204 827.946 134.376 824.404 Q132.57 820.84 128.936 820.84 M128.936 817.136 Q134.746 817.136 137.802 821.742 Q140.88 826.326 140.88 835.076 Q140.88 843.802 137.802 848.409 Q134.746 852.992 128.936 852.992 Q123.126 852.992 120.047 848.409 Q116.991 843.802 116.991 835.076 Q116.991 826.326 120.047 821.742 Q123.126 817.136 128.936 817.136 Z\" fill=\"#000000\" fill-rule=\"nonzero\" fill-opacity=\"1\" /><path clip-path=\"url(#clip940)\" d=\"M159.098 820.84 Q155.487 820.84 153.658 824.404 Q151.852 827.946 151.852 835.076 Q151.852 842.182 153.658 845.747 Q155.487 849.288 159.098 849.288 Q162.732 849.288 164.538 845.747 Q166.366 842.182 166.366 835.076 Q166.366 827.946 164.538 824.404 Q162.732 820.84 159.098 820.84 M159.098 817.136 Q164.908 817.136 167.963 821.742 Q171.042 826.326 171.042 835.076 Q171.042 843.802 167.963 848.409 Q164.908 852.992 159.098 852.992 Q153.288 852.992 150.209 848.409 Q147.153 843.802 147.153 835.076 Q147.153 826.326 150.209 821.742 Q153.288 817.136 159.098 817.136 Z\" fill=\"#000000\" fill-rule=\"nonzero\" fill-opacity=\"1\" /><path clip-path=\"url(#clip940)\" d=\"M207.431 826.858 L196.852 837.483 L207.431 848.062 L204.676 850.863 L194.051 840.238 L183.426 850.863 L180.695 848.062 L191.25 837.483 L180.695 826.858 L183.426 824.057 L194.051 834.682 L204.676 824.057 L207.431 826.858 Z\" fill=\"#000000\" fill-rule=\"nonzero\" fill-opacity=\"1\" /><path clip-path=\"url(#clip940)\" d=\"M219.792 848.386 L227.431 848.386 L227.431 822.02 L219.121 823.687 L219.121 819.428 L227.384 817.761 L232.06 817.761 L232.06 848.386 L239.699 848.386 L239.699 852.321 L219.792 852.321 L219.792 848.386 Z\" fill=\"#000000\" fill-rule=\"nonzero\" fill-opacity=\"1\" /><path clip-path=\"url(#clip940)\" d=\"M259.143 820.84 Q255.532 820.84 253.704 824.404 Q251.898 827.946 251.898 835.076 Q251.898 842.182 253.704 845.747 Q255.532 849.288 259.143 849.288 Q262.778 849.288 264.583 845.747 Q266.412 842.182 266.412 835.076 Q266.412 827.946 264.583 824.404 Q262.778 820.84 259.143 820.84 M259.143 817.136 Q264.954 817.136 268.009 821.742 Q271.088 826.326 271.088 835.076 Q271.088 843.802 268.009 848.409 Q264.954 852.992 259.143 852.992 Q253.333 852.992 250.255 848.409 Q247.199 843.802 247.199 835.076 Q247.199 826.326 250.255 821.742 Q253.333 817.136 259.143 817.136 Z\" fill=\"#000000\" fill-rule=\"nonzero\" fill-opacity=\"1\" /><path clip-path=\"url(#clip940)\" d=\"M272.893 824.327 L272.893 820.867 Q274.323 821.544 275.79 821.901 Q277.257 822.259 278.667 822.259 Q282.429 822.259 284.404 819.738 Q286.397 817.199 286.68 812.046 Q285.589 813.663 283.915 814.529 Q282.241 815.394 280.21 815.394 Q275.997 815.394 273.533 812.855 Q271.088 810.297 271.088 805.877 Q271.088 801.551 273.646 798.937 Q276.204 796.323 280.454 796.323 Q285.325 796.323 287.883 800.065 Q290.46 803.789 290.46 810.899 Q290.46 817.538 287.3 821.506 Q284.159 825.456 278.837 825.456 Q277.407 825.456 275.94 825.174 Q274.473 824.892 272.893 824.327 M280.454 812.422 Q283.012 812.422 284.498 810.673 Q286.002 808.924 286.002 805.877 Q286.002 802.849 284.498 801.1 Q283.012 799.332 280.454 799.332 Q277.896 799.332 276.392 801.1 Q274.906 802.849 274.906 805.877 Q274.906 808.924 276.392 810.673 Q277.896 812.422 280.454 812.422 Z\" fill=\"#000000\" fill-rule=\"nonzero\" fill-opacity=\"1\" /><path clip-path=\"url(#clip940)\" d=\"M72.5241 509.2 L94.7462 509.2 L94.7462 511.19 L82.2 543.76 L77.3158 543.76 L89.1213 513.135 L72.5241 513.135 L72.5241 509.2 Z\" fill=\"#000000\" fill-rule=\"nonzero\" fill-opacity=\"1\" /><path clip-path=\"url(#clip940)\" d=\"M103.867 537.88 L108.751 537.88 L108.751 543.76 L103.867 543.76 L103.867 537.88 Z\" fill=\"#000000\" fill-rule=\"nonzero\" fill-opacity=\"1\" /><path clip-path=\"url(#clip940)\" d=\"M118.982 509.2 L137.339 509.2 L137.339 513.135 L123.265 513.135 L123.265 521.607 Q124.283 521.26 125.302 521.098 Q126.32 520.913 127.339 520.913 Q133.126 520.913 136.505 524.084 Q139.885 527.255 139.885 532.672 Q139.885 538.25 136.413 541.352 Q132.94 544.431 126.621 544.431 Q124.445 544.431 122.177 544.061 Q119.931 543.69 117.524 542.949 L117.524 538.25 Q119.607 539.385 121.829 539.94 Q124.052 540.496 126.528 540.496 Q130.533 540.496 132.871 538.389 Q135.209 536.283 135.209 532.672 Q135.209 529.061 132.871 526.954 Q130.533 524.848 126.528 524.848 Q124.653 524.848 122.778 525.264 Q120.927 525.681 118.982 526.561 L118.982 509.2 Z\" fill=\"#000000\" fill-rule=\"nonzero\" fill-opacity=\"1\" /><path clip-path=\"url(#clip940)\" d=\"M159.098 512.278 Q155.487 512.278 153.658 515.843 Q151.852 519.385 151.852 526.514 Q151.852 533.621 153.658 537.186 Q155.487 540.727 159.098 540.727 Q162.732 540.727 164.538 537.186 Q166.366 533.621 166.366 526.514 Q166.366 519.385 164.538 515.843 Q162.732 512.278 159.098 512.278 M159.098 508.575 Q164.908 508.575 167.963 513.181 Q171.042 517.764 171.042 526.514 Q171.042 535.241 167.963 539.848 Q164.908 544.431 159.098 544.431 Q153.288 544.431 150.209 539.848 Q147.153 535.241 147.153 526.514 Q147.153 517.764 150.209 513.181 Q153.288 508.575 159.098 508.575 Z\" fill=\"#000000\" fill-rule=\"nonzero\" fill-opacity=\"1\" /><path clip-path=\"url(#clip940)\" d=\"M207.431 518.297 L196.852 528.922 L207.431 539.5 L204.676 542.301 L194.051 531.676 L183.426 542.301 L180.695 539.5 L191.25 528.922 L180.695 518.297 L183.426 515.496 L194.051 526.121 L204.676 515.496 L207.431 518.297 Z\" fill=\"#000000\" fill-rule=\"nonzero\" fill-opacity=\"1\" /><path clip-path=\"url(#clip940)\" d=\"M219.792 539.824 L227.431 539.824 L227.431 513.459 L219.121 515.126 L219.121 510.866 L227.384 509.2 L232.06 509.2 L232.06 539.824 L239.699 539.824 L239.699 543.76 L219.792 543.76 L219.792 539.824 Z\" fill=\"#000000\" fill-rule=\"nonzero\" fill-opacity=\"1\" /><path clip-path=\"url(#clip940)\" d=\"M259.143 512.278 Q255.532 512.278 253.704 515.843 Q251.898 519.385 251.898 526.514 Q251.898 533.621 253.704 537.186 Q255.532 540.727 259.143 540.727 Q262.778 540.727 264.583 537.186 Q266.412 533.621 266.412 526.514 Q266.412 519.385 264.583 515.843 Q262.778 512.278 259.143 512.278 M259.143 508.575 Q264.954 508.575 268.009 513.181 Q271.088 517.764 271.088 526.514 Q271.088 535.241 268.009 539.848 Q264.954 544.431 259.143 544.431 Q253.333 544.431 250.255 539.848 Q247.199 535.241 247.199 526.514 Q247.199 517.764 250.255 513.181 Q253.333 508.575 259.143 508.575 Z\" fill=\"#000000\" fill-rule=\"nonzero\" fill-opacity=\"1\" /><path clip-path=\"url(#clip940)\" d=\"M272.893 515.766 L272.893 512.306 Q274.323 512.983 275.79 513.34 Q277.257 513.697 278.667 513.697 Q282.429 513.697 284.404 511.177 Q286.397 508.638 286.68 503.485 Q285.589 505.102 283.915 505.967 Q282.241 506.833 280.21 506.833 Q275.997 506.833 273.533 504.293 Q271.088 501.736 271.088 497.316 Q271.088 492.99 273.646 490.376 Q276.204 487.761 280.454 487.761 Q285.325 487.761 287.883 491.504 Q290.46 495.228 290.46 502.337 Q290.46 508.977 287.3 512.945 Q284.159 516.895 278.837 516.895 Q277.407 516.895 275.94 516.613 Q274.473 516.33 272.893 515.766 M280.454 503.861 Q283.012 503.861 284.498 502.112 Q286.002 500.363 286.002 497.316 Q286.002 494.288 284.498 492.539 Q283.012 490.771 280.454 490.771 Q277.896 490.771 276.392 492.539 Q274.906 494.288 274.906 497.316 Q274.906 500.363 276.392 502.112 Q277.896 503.861 280.454 503.861 Z\" fill=\"#000000\" fill-rule=\"nonzero\" fill-opacity=\"1\" /><path clip-path=\"url(#clip940)\" d=\"M51.6634 231.263 L59.3023 231.263 L59.3023 204.898 L50.9921 206.564 L50.9921 202.305 L59.256 200.638 L63.9319 200.638 L63.9319 231.263 L71.5707 231.263 L71.5707 235.198 L51.6634 235.198 L51.6634 231.263 Z\" fill=\"#000000\" fill-rule=\"nonzero\" fill-opacity=\"1\" /><path clip-path=\"url(#clip940)\" d=\"M81.0151 229.319 L85.8993 229.319 L85.8993 235.198 L81.0151 235.198 L81.0151 229.319 Z\" fill=\"#000000\" fill-rule=\"nonzero\" fill-opacity=\"1\" /><path clip-path=\"url(#clip940)\" d=\"M106.084 203.717 Q102.473 203.717 100.645 207.282 Q98.8391 210.824 98.8391 217.953 Q98.8391 225.06 100.645 228.624 Q102.473 232.166 106.084 232.166 Q109.719 232.166 111.524 228.624 Q113.353 225.06 113.353 217.953 Q113.353 210.824 111.524 207.282 Q109.719 203.717 106.084 203.717 M106.084 200.013 Q111.895 200.013 114.95 204.62 Q118.029 209.203 118.029 217.953 Q118.029 226.68 114.95 231.286 Q111.895 235.87 106.084 235.87 Q100.274 235.87 97.1956 231.286 Q94.14 226.68 94.14 217.953 Q94.14 209.203 97.1956 204.62 Q100.274 200.013 106.084 200.013 Z\" fill=\"#000000\" fill-rule=\"nonzero\" fill-opacity=\"1\" /><path clip-path=\"url(#clip940)\" d=\"M136.246 203.717 Q132.635 203.717 130.807 207.282 Q129.001 210.824 129.001 217.953 Q129.001 225.06 130.807 228.624 Q132.635 232.166 136.246 232.166 Q139.881 232.166 141.686 228.624 Q143.515 225.06 143.515 217.953 Q143.515 210.824 141.686 207.282 Q139.881 203.717 136.246 203.717 M136.246 200.013 Q142.056 200.013 145.112 204.62 Q148.191 209.203 148.191 217.953 Q148.191 226.68 145.112 231.286 Q142.056 235.87 136.246 235.87 Q130.436 235.87 127.357 231.286 Q124.302 226.68 124.302 217.953 Q124.302 209.203 127.357 204.62 Q130.436 200.013 136.246 200.013 Z\" fill=\"#000000\" fill-rule=\"nonzero\" fill-opacity=\"1\" /><path clip-path=\"url(#clip940)\" d=\"M184.579 209.736 L174.001 220.361 L184.579 230.939 L181.825 233.74 L171.2 223.115 L160.575 233.74 L157.843 230.939 L168.399 220.361 L157.843 209.736 L160.575 206.935 L171.2 217.56 L181.825 206.935 L184.579 209.736 Z\" fill=\"#000000\" fill-rule=\"nonzero\" fill-opacity=\"1\" /><path clip-path=\"url(#clip940)\" d=\"M196.94 231.263 L204.579 231.263 L204.579 204.898 L196.269 206.564 L196.269 202.305 L204.533 200.638 L209.209 200.638 L209.209 231.263 L216.848 231.263 L216.848 235.198 L196.94 235.198 L196.94 231.263 Z\" fill=\"#000000\" fill-rule=\"nonzero\" fill-opacity=\"1\" /><path clip-path=\"url(#clip940)\" d=\"M236.292 203.717 Q232.681 203.717 230.852 207.282 Q229.047 210.824 229.047 217.953 Q229.047 225.06 230.852 228.624 Q232.681 232.166 236.292 232.166 Q239.926 232.166 241.732 228.624 Q243.561 225.06 243.561 217.953 Q243.561 210.824 241.732 207.282 Q239.926 203.717 236.292 203.717 M236.292 200.013 Q242.102 200.013 245.158 204.62 Q248.236 209.203 248.236 217.953 Q248.236 226.68 245.158 231.286 Q242.102 235.87 236.292 235.87 Q230.482 235.87 227.403 231.286 Q224.348 226.68 224.348 217.953 Q224.348 209.203 227.403 204.62 Q230.482 200.013 236.292 200.013 Z\" fill=\"#000000\" fill-rule=\"nonzero\" fill-opacity=\"1\" /><path clip-path=\"url(#clip940)\" d=\"M248.782 204.591 L254.988 204.591 L254.988 183.169 L248.236 184.523 L248.236 181.062 L254.951 179.708 L258.75 179.708 L258.75 204.591 L264.957 204.591 L264.957 207.788 L248.782 207.788 L248.782 204.591 Z\" fill=\"#000000\" fill-rule=\"nonzero\" fill-opacity=\"1\" /><path clip-path=\"url(#clip940)\" d=\"M280.755 182.209 Q277.821 182.209 276.335 185.106 Q274.868 187.983 274.868 193.776 Q274.868 199.55 276.335 202.447 Q277.821 205.324 280.755 205.324 Q283.708 205.324 285.175 202.447 Q286.661 199.55 286.661 193.776 Q286.661 187.983 285.175 185.106 Q283.708 182.209 280.755 182.209 M280.755 179.2 Q285.476 179.2 287.958 182.943 Q290.46 186.667 290.46 193.776 Q290.46 200.867 287.958 204.61 Q285.476 208.333 280.755 208.333 Q276.034 208.333 273.533 204.61 Q271.05 200.867 271.05 193.776 Q271.05 186.667 273.533 182.943 Q276.034 179.2 280.755 179.2 Z\" fill=\"#000000\" fill-rule=\"nonzero\" fill-opacity=\"1\" /><polyline clip-path=\"url(#clip942)\" style=\"stroke:#009af9; stroke-linecap:round; stroke-linejoin:round; stroke-width:4; stroke-opacity:1; fill:none\" points=\"383.808,1445.72 384.635,1445.72 385.462,1445.72 386.289,1445.72 387.117,1445.72 387.944,1445.72 388.771,1445.72 389.598,1445.72 390.425,1445.72 391.252,1445.72 392.08,1445.72 392.907,1445.72 393.734,1445.72 394.561,1445.72 395.388,1445.72 396.215,1445.72 397.043,1445.72 397.87,1445.72 398.697,1445.72 399.524,1445.72 400.351,1445.72 401.179,1445.72 402.006,1445.72 402.833,1445.72 403.66,1445.72 404.487,1445.72 405.314,1445.72 406.142,1445.72 406.969,1445.72 407.796,1445.72 408.623,1445.72 409.45,1445.72 410.277,1445.72 411.105,1445.72 411.932,1445.72 412.759,1445.72 413.586,1445.72 414.413,1445.72 415.241,1445.72 416.068,1445.72 416.895,1445.72 417.722,1445.72 418.549,1445.72 419.376,1445.72 420.204,1445.72 421.031,1445.72 421.858,1445.72 422.685,1445.72 423.512,1445.72 424.339,1445.72 425.167,1445.72 425.994,1445.72 426.821,1445.72 427.648,1445.72 428.475,1445.72 429.302,1445.72 430.13,1445.72 430.957,1445.72 431.784,1445.72 432.611,1445.72 433.438,1445.72 434.266,1445.72 435.093,1445.72 435.92,1445.72 436.747,1445.72 437.574,1445.72 438.401,1445.72 439.229,1445.72 440.056,1445.72 440.883,1445.72 441.71,1445.72 442.537,1445.72 443.364,1445.72 444.192,1445.72 445.019,1445.72 445.846,1445.72 446.673,1445.72 447.5,1445.72 448.327,1445.72 449.155,1445.72 449.982,1445.72 450.809,1445.72 451.636,1445.72 452.463,1445.72 453.291,1445.72 454.118,1445.72 454.945,1445.72 455.772,1445.72 456.599,1445.72 457.426,1445.72 458.254,1445.72 459.081,1445.72 459.908,1445.72 460.735,1445.72 461.562,1445.72 462.389,1445.72 463.217,1445.72 464.044,1445.72 464.871,1445.72 465.698,1445.72 466.525,1445.72 467.352,1445.72 468.18,1445.72 469.007,1445.72 469.834,1445.72 470.661,1445.72 471.488,1445.72 472.316,1445.72 473.143,1445.72 473.97,1445.72 474.797,1445.72 475.624,1445.72 476.451,1445.72 477.279,1445.72 478.106,1445.72 478.933,1445.72 479.76,1445.72 480.587,1445.72 481.414,1445.72 482.242,1445.72 483.069,1445.72 483.896,1445.72 484.723,1445.72 485.55,1445.72 486.378,1445.72 487.205,1445.72 488.032,1445.72 488.859,1445.72 489.686,1445.72 490.513,1445.72 491.341,1445.72 492.168,1445.72 492.995,1445.72 493.822,1445.72 494.649,1445.72 495.476,1445.72 496.304,1445.72 497.131,1445.72 497.958,1445.72 498.785,1445.72 499.612,1445.72 500.439,1445.72 501.267,1445.72 502.094,1445.72 502.921,1445.72 503.748,1445.72 504.575,1445.72 505.403,1445.72 506.23,1445.72 507.057,1445.72 507.884,1445.72 508.711,1445.72 509.538,1445.72 510.366,1445.72 511.193,1445.72 512.02,1445.72 512.847,1445.72 513.674,1445.72 514.501,1445.72 515.329,1445.72 516.156,1445.72 516.983,1445.72 517.81,1445.72 518.637,1445.72 519.464,1445.72 520.292,1445.72 521.119,1445.72 521.946,1445.72 522.773,1445.72 523.6,1445.72 524.428,1445.72 525.255,1445.72 526.082,1445.72 526.909,1445.72 527.736,1445.72 528.563,1445.72 529.391,1445.72 530.218,1445.72 531.045,1445.72 531.872,1445.72 532.699,1445.72 533.526,1445.72 534.354,1445.72 535.181,1445.72 536.008,1445.72 536.835,1445.72 537.662,1445.72 538.489,1445.72 539.317,1445.72 540.144,1445.72 540.971,1445.72 541.798,1445.72 542.625,1445.72 543.453,1445.72 544.28,1445.72 545.107,1445.72 545.934,1445.72 546.761,1445.72 547.588,1445.72 548.416,1445.72 549.243,1445.72 550.07,1445.72 550.897,1445.72 551.724,1445.72 552.551,1445.72 553.379,1445.72 554.206,1445.72 555.033,1445.72 555.86,1445.72 556.687,1445.72 557.515,1445.72 558.342,1445.72 559.169,1445.72 559.996,1445.72 560.823,1445.72 561.65,1445.72 562.478,1445.72 563.305,1445.72 564.132,1445.72 564.959,1445.72 565.786,1445.72 566.613,1445.72 567.441,1445.72 568.268,1445.72 569.095,1445.72 569.922,1445.72 570.749,1445.72 571.576,1445.72 572.404,1445.72 573.231,1445.72 574.058,1445.72 574.885,1445.72 575.712,1445.72 576.54,1445.72 577.367,1445.72 578.194,1445.72 579.021,1445.72 579.848,1445.72 580.675,1445.72 581.503,1445.72 582.33,1445.72 583.157,1445.72 583.984,1445.72 584.811,1445.72 585.638,1445.72 586.466,1445.72 587.293,1445.72 588.12,1445.72 588.947,1445.72 589.774,1445.72 590.601,1445.72 591.429,1445.72 592.256,1445.72 593.083,1445.72 593.91,1445.72 594.737,1445.72 595.565,1445.72 596.392,1445.72 597.219,1445.72 598.046,1445.72 598.873,1445.72 599.7,1445.72 600.528,1445.72 601.355,1445.72 602.182,1445.72 603.009,1445.72 603.836,1445.72 604.663,1445.72 605.491,1445.72 606.318,1445.72 607.145,1445.72 607.972,1445.72 608.799,1445.72 609.626,1445.72 610.454,1445.72 611.281,1445.72 612.108,1445.72 612.935,1445.72 613.762,1445.72 614.59,1445.72 615.417,1445.72 616.244,1445.72 617.071,1445.72 617.898,1445.72 618.725,1445.72 619.553,1445.72 620.38,1445.72 621.207,1445.72 622.034,1445.72 622.861,1445.72 623.688,1445.72 624.516,1445.72 625.343,1445.72 626.17,1445.72 626.997,1445.72 627.824,1445.72 628.652,1445.72 629.479,1445.72 630.306,1445.72 631.133,1445.72 631.96,1445.72 632.787,1445.72 633.615,1445.72 634.442,1445.72 635.269,1445.72 636.096,1445.72 636.923,1445.72 637.75,1445.72 638.578,1445.72 639.405,1445.72 640.232,1445.72 641.059,1445.72 641.886,1445.72 642.713,1445.72 643.541,1445.72 644.368,1445.72 645.195,1445.72 646.022,1445.72 646.849,1445.72 647.677,1445.72 648.504,1445.72 649.331,1445.72 650.158,1445.72 650.985,1445.72 651.812,1445.72 652.64,1445.72 653.467,1445.72 654.294,1445.72 655.121,1445.72 655.948,1445.72 656.775,1445.72 657.603,1445.72 658.43,1445.72 659.257,1445.72 660.084,1445.72 660.911,1445.72 661.738,1445.72 662.566,1445.72 663.393,1445.72 664.22,1445.72 665.047,1445.72 665.874,1445.72 666.702,1445.72 667.529,1445.72 668.356,1445.72 669.183,1445.72 670.01,1445.72 670.837,1445.72 671.665,1445.72 672.492,1445.72 673.319,1445.72 674.146,1445.72 674.973,1445.72 675.8,1445.72 676.628,1445.72 677.455,1445.72 678.282,1165.46 679.109,1165.46 679.936,1165.46 680.763,1165.46 681.591,1165.46 682.418,1165.46 683.245,1165.46 684.072,1165.46 684.899,1165.46 685.727,1165.46 686.554,1165.46 687.381,1165.46 688.208,1165.46 689.035,1165.46 689.862,1165.46 690.69,1165.46 691.517,1165.46 692.344,1165.46 693.171,1165.46 693.998,1165.46 694.825,1165.46 695.653,1165.46 696.48,1165.46 697.307,1165.46 698.134,1165.46 698.961,1165.46 699.789,1165.46 700.616,1165.46 701.443,1165.46 702.27,1165.46 703.097,1165.46 703.924,1165.46 704.752,1165.46 705.579,1165.46 706.406,1165.46 707.233,1165.46 708.06,1165.46 708.887,1165.46 709.715,1165.46 710.542,1165.46 711.369,1165.46 712.196,1165.46 713.023,1165.46 713.85,1165.46 714.678,1165.46 715.505,1165.46 716.332,1165.46 717.159,1165.46 717.986,1165.46 718.814,1165.46 719.641,1165.46 720.468,1165.46 721.295,1165.46 722.122,1165.46 722.949,1165.46 723.777,1165.46 724.604,1165.46 725.431,1165.46 726.258,1165.46 727.085,1165.46 727.912,1165.46 728.74,1165.46 729.567,1165.46 730.394,1165.46 731.221,1165.46 732.048,1165.46 732.875,1165.46 733.703,1165.46 734.53,1165.46 735.357,1165.46 736.184,1165.46 737.011,1165.46 737.839,1165.46 738.666,1165.46 739.493,1165.46 740.32,1165.46 741.147,1165.46 741.974,1165.46 742.802,1165.46 743.629,1165.46 744.456,1165.46 745.283,1165.46 746.11,1165.46 746.937,1165.46 747.765,1165.46 748.592,1165.46 749.419,1165.46 750.246,1165.46 751.073,1165.46 751.9,1165.46 752.728,1165.46 753.555,1165.46 754.382,1165.46 755.209,1165.46 756.036,1165.46 756.864,1165.46 757.691,1165.46 758.518,1165.46 759.345,1165.46 760.172,1165.46 760.999,1165.46 761.827,1165.46 762.654,1165.46 763.481,1165.46 764.308,1165.46 765.135,1165.46 765.962,1165.46 766.79,1165.46 767.617,1165.46 768.444,1165.46 769.271,1165.46 770.098,1165.46 770.925,1165.46 771.753,1165.46 772.58,1165.46 773.407,1165.46 774.234,1165.46 775.061,1165.46 775.889,1165.46 776.716,1165.46 777.543,1165.46 778.37,1165.46 779.197,1165.46 780.024,1165.46 780.852,1165.46 781.679,1165.46 782.506,1165.46 783.333,1165.46 784.16,1165.46 784.987,1165.46 785.815,1165.46 786.642,1165.46 787.469,1165.46 788.296,968.982 789.123,968.982 789.951,968.982 790.778,968.982 791.605,968.982 792.432,968.982 793.259,968.982 794.086,968.982 794.914,968.982 795.741,968.982 796.568,968.982 797.395,968.982 798.222,968.982 799.049,968.982 799.877,968.982 800.704,968.982 801.531,968.982 802.358,968.982 803.185,968.982 804.012,968.982 804.84,968.982 805.667,968.982 806.494,968.982 807.321,968.982 808.148,968.982 808.976,968.982 809.803,968.982 810.63,968.982 811.457,968.982 812.284,968.982 813.111,968.982 813.939,968.982 814.766,968.982 815.593,968.982 816.42,968.982 817.247,968.982 818.074,968.982 818.902,968.982 819.729,968.982 820.556,968.982 821.383,968.982 822.21,968.982 823.037,968.982 823.865,968.982 824.692,968.982 825.519,968.982 826.346,968.982 827.173,968.982 828.001,968.982 828.828,968.982 829.655,968.982 830.482,968.982 831.309,968.982 832.136,968.982 832.964,968.982 833.791,968.982 834.618,968.982 835.445,968.982 836.272,968.982 837.099,968.982 837.927,968.982 838.754,968.982 839.581,968.982 840.408,968.982 841.235,968.982 842.062,968.982 842.89,968.982 843.717,968.982 844.544,968.982 845.371,968.982 846.198,968.982 847.026,968.982 847.853,968.982 848.68,968.982 849.507,968.982 850.334,968.982 851.161,968.982 851.989,968.982 852.816,968.982 853.643,968.982 854.47,968.982 855.297,968.982 856.124,968.982 856.952,968.982 857.779,968.982 858.606,968.982 859.433,968.982 860.26,968.982 861.088,968.982 861.915,968.982 862.742,968.982 863.569,968.982 864.396,968.982 865.223,968.982 866.051,968.982 866.878,968.982 867.705,968.982 868.532,968.982 869.359,968.982 870.186,968.982 871.014,968.982 871.841,968.982 872.668,968.982 873.495,968.982 874.322,968.982 875.149,968.982 875.977,968.982 876.804,968.982 877.631,968.982 878.458,968.982 879.285,968.982 880.113,968.982 880.94,968.982 881.767,968.982 882.594,968.982 883.421,968.982 884.248,968.982 885.076,968.982 885.903,968.982 886.73,968.982 887.557,968.982 888.384,968.982 889.211,968.982 890.039,968.982 890.866,968.982 891.693,968.982 892.52,968.982 893.347,968.982 894.174,968.982 895.002,968.982 895.829,968.982 896.656,968.982 897.483,968.982 898.31,968.982 899.138,968.982 899.965,968.982 900.792,968.982 901.619,968.982 902.446,968.982 903.273,968.982 904.101,968.982 904.928,968.982 905.755,968.982 906.582,968.982 907.409,968.982 908.236,968.982 909.064,968.982 909.891,968.982 910.718,968.982 911.545,968.982 912.372,968.982 913.199,968.982 914.027,968.982 914.854,968.982 915.681,968.982 916.508,968.982 917.335,968.982 918.163,968.982 918.99,968.982 919.817,968.982 920.644,968.982 921.471,968.982 922.298,968.982 923.126,968.982 923.953,968.982 924.78,968.982 925.607,968.982 926.434,968.982 927.261,968.982 928.089,968.982 928.916,968.982 929.743,968.982 930.57,968.982 931.397,968.982 932.225,968.982 933.052,968.982 933.879,968.982 934.706,968.982 935.533,87.9763 936.36,87.9763 937.188,87.9763 938.015,87.9763 938.842,87.9763 939.669,87.9763 940.496,87.9763 941.323,87.9763 942.151,87.9763 942.978,87.9763 943.805,87.9763 944.632,87.9763 945.459,87.9763 946.286,87.9763 947.114,87.9763 947.941,87.9763 948.768,87.9763 949.595,87.9763 950.422,87.9763 951.25,87.9763 952.077,87.9763 952.904,87.9763 953.731,87.9763 954.558,87.9763 955.385,87.9763 956.213,87.9763 957.04,87.9763 957.867,87.9763 958.694,87.9763 959.521,87.9763 960.348,87.9763 961.176,87.9763 962.003,87.9763 962.83,87.9763 963.657,87.9763 964.484,87.9763 965.311,87.9763 966.139,87.9763 966.966,87.9763 967.793,87.9763 968.62,87.9763 969.447,87.9763 970.275,87.9763 971.102,87.9763 971.929,87.9763 972.756,87.9763 973.583,87.9763 974.41,87.9763 975.238,87.9763 976.065,87.9763 976.892,87.9763 977.719,87.9763 978.546,87.9763 979.373,87.9763 980.201,87.9763 981.028,87.9763 981.855,87.9763 982.682,87.9763 983.509,87.9763 984.336,87.9763 985.164,87.9763 985.991,87.9763 986.818,87.9763 987.645,87.9763 988.472,87.9763 989.3,87.9763 990.127,87.9763 990.954,87.9763 991.781,87.9763 992.608,87.9763 993.435,87.9763 994.263,87.9763 995.09,87.9763 995.917,87.9763 996.744,87.9763 997.571,87.9763 998.398,87.9763 999.226,87.9763 1000.05,87.9763 1000.88,87.9763 1001.71,87.9763 1002.53,87.9763 1003.36,87.9763 1004.19,87.9763 1005.02,87.9763 1005.84,87.9763 1006.67,87.9763 1007.5,87.9763 1008.32,87.9763 1009.15,87.9763 1009.98,87.9763 1010.81,87.9763 1011.63,87.9763 1012.46,87.9763 1013.29,87.9763 1014.11,87.9763 1014.94,87.9763 1015.77,87.9763 1016.6,87.9763 1017.42,87.9763 1018.25,87.9763 1019.08,87.9763 1019.9,87.9763 1020.73,87.9763 1021.56,87.9763 1022.39,87.9763 1023.21,87.9763 1024.04,87.9763 1024.87,87.9763 1025.7,87.9763 1026.52,87.9763 1027.35,87.9763 1028.18,87.9763 1029,87.9763 1029.83,87.9763 1030.66,87.9763 1031.49,87.9763 1032.31,87.9763 1033.14,87.9763 1033.97,87.9763 1034.79,87.9763 1035.62,87.9763 1036.45,87.9763 1037.28,87.9763 1038.1,87.9763 1038.93,87.9763 1039.76,87.9763 1040.58,87.9763 1041.41,87.9763 1042.24,87.9763 1043.07,87.9763 1043.89,87.9763 1044.72,87.9763 1045.55,87.9763 1046.37,87.9763 1047.2,87.9763 1048.03,87.9763 1048.86,87.9763 1049.68,87.9763 1050.51,87.9763 1051.34,87.9763 1052.16,87.9763 1052.99,87.9763 1053.82,87.9763 1054.65,87.9763 1055.47,87.9763 1056.3,87.9763 1057.13,87.9763 1057.96,87.9763 1058.78,87.9763 1059.61,87.9763 1060.44,87.9763 1061.26,87.9763 1062.09,87.9763 1062.92,87.9763 1063.75,87.9763 1064.57,87.9763 1065.4,87.9763 1066.23,87.9763 1067.05,87.9763 1067.88,87.9763 1068.71,87.9763 1069.54,87.9763 1070.36,87.9763 1071.19,87.9763 1072.02,87.9763 1072.84,87.9763 1073.67,87.9763 1074.5,87.9763 1075.33,87.9763 1076.15,87.9763 1076.98,87.9763 1077.81,87.9763 1078.63,87.9763 1079.46,87.9763 1080.29,87.9763 1081.12,87.9763 1081.94,87.9763 1082.77,87.9763 1083.6,87.9763 1084.42,87.9763 1085.25,87.9763 1086.08,87.9763 1086.91,87.9763 1087.73,87.9763 1088.56,87.9763 1089.39,87.9763 1090.21,87.9763 1091.04,87.9763 1091.87,87.9763 1092.7,87.9763 1093.52,87.9763 1094.35,87.9763 1095.18,87.9763 1096.01,87.9763 1096.83,87.9763 1097.66,87.9763 1098.49,87.9763 1099.31,87.9763 1100.14,87.9763 1100.97,87.9763 1101.8,87.9763 1102.62,87.9763 1103.45,87.9763 1104.28,87.9763 1105.1,87.9763 1105.93,87.9763 1106.76,87.9763 1107.59,87.9763 1108.41,87.9763 1109.24,87.9763 1110.07,87.9763 1110.89,87.9763 1111.72,87.9763 1112.55,87.9763 1113.38,87.9763 1114.2,87.9763 1115.03,87.9763 1115.86,87.9763 1116.68,87.9763 1117.51,87.9763 1118.34,87.9763 1119.17,87.9763 1119.99,87.9763 1120.82,87.9763 1121.65,87.9763 1122.47,87.9763 1123.3,87.9763 1124.13,87.9763 1124.96,87.9763 1125.78,87.9763 1126.61,87.9763 1127.44,87.9763 1128.26,87.9763 1129.09,87.9763 1129.92,87.9763 1130.75,87.9763 1131.57,87.9763 1132.4,87.9763 1133.23,87.9763 1134.06,87.9763 1134.88,87.9763 1135.71,87.9763 1136.54,87.9763 1137.36,87.9763 1138.19,87.9763 1139.02,87.9763 1139.85,87.9763 1140.67,87.9763 1141.5,87.9763 1142.33,87.9763 1143.15,87.9763 1143.98,87.9763 1144.81,87.9763 1145.64,87.9763 1146.46,87.9763 1147.29,87.9763 1148.12,87.9763 1148.94,87.9763 1149.77,87.9763 1150.6,87.9763 1151.43,87.9763 1152.25,87.9763 1153.08,87.9763 1153.91,87.9763 1154.73,87.9763 1155.56,87.9763 1156.39,87.9763 1157.22,87.9763 1158.04,87.9763 1158.87,87.9763 1159.7,87.9763 1160.52,87.9763 1161.35,87.9763 1162.18,87.9763 1163.01,87.9763 1163.83,87.9763 1164.66,87.9763 1165.49,87.9763 1166.31,87.9763 1167.14,87.9763 1167.97,87.9763 1168.8,87.9763 1169.62,87.9763 1170.45,87.9763 1171.28,87.9763 1172.11,87.9763 1172.93,87.9763 1173.76,87.9763 1174.59,87.9763 1175.41,87.9763 1176.24,87.9763 1177.07,87.9763 1177.9,87.9763 1178.72,87.9763 1179.55,87.9763 1180.38,87.9763 1181.2,87.9763 1182.03,87.9763 1182.86,87.9763 1183.69,87.9763 1184.51,87.9763 1185.34,87.9763 1186.17,87.9763 1186.99,87.9763 1187.82,87.9763 1188.65,87.9763 1189.48,87.9763 1190.3,87.9763 1191.13,87.9763 1191.96,87.9763 1192.78,1330.53 1193.61,1330.53 1194.44,1330.53 1195.27,1330.53 1196.09,1330.53 1196.92,1330.53 1197.75,1330.53 1198.57,1330.53 1199.4,1330.53 1200.23,1330.53 1201.06,1330.53 1201.88,1330.53 1202.71,1330.53 1203.54,1330.53 1204.36,1330.53 1205.19,1330.53 1206.02,1330.53 1206.85,1330.53 1207.67,1330.53 1208.5,1330.53 1209.33,1330.53 1210.16,1330.53 1210.98,1330.53 1211.81,1330.53 1212.64,1330.53 1213.46,1330.53 1214.29,1330.53 1215.12,1330.53 1215.95,1330.53 1216.77,1330.53 1217.6,1330.53 1218.43,1330.53 1219.25,1330.53 1220.08,1330.53 1220.91,1330.53 1221.74,1330.53 1222.56,1330.53 1223.39,1330.53 1224.22,1330.53 1225.04,1330.53 1225.87,1330.53 1226.7,1330.53 1227.53,1330.53 1228.35,1330.53 1229.18,1330.53 1230.01,1330.53 1230.83,1330.53 1231.66,1330.53 1232.49,1330.53 1233.32,1330.53 1234.14,1330.53 1234.97,1330.53 1235.8,1330.53 1236.62,1330.53 1237.45,1330.53 1238.28,1330.53 1239.11,1330.53 1239.93,1330.53 1240.76,1330.53 1241.59,1330.53 1242.41,1330.53 1243.24,1330.53 1244.07,1330.53 1244.9,1330.53 1245.72,1330.53 1246.55,1330.53 1247.38,1330.53 1248.21,1330.53 1249.03,1330.53 1249.86,1330.53 1250.69,1330.53 1251.51,1330.53 1252.34,1330.53 1253.17,1330.53 1254,1330.53 1254.82,1330.53 1255.65,1330.53 1256.48,1330.53 1257.3,1330.53 1258.13,1330.53 1258.96,1330.53 1259.79,1330.53 1260.61,1330.53 1261.44,1330.53 1262.27,1330.53 1263.09,1330.53 1263.92,1330.53 1264.75,1330.53 1265.58,1330.53 1266.4,1330.53 1267.23,1330.53 1268.06,1330.53 1268.88,1330.53 1269.71,1330.53 1270.54,1330.53 1271.37,1330.53 1272.19,1330.53 1273.02,1330.53 1273.85,1330.53 1274.67,1330.53 1275.5,1330.53 1276.33,1330.53 1277.16,1330.53 1277.98,1330.53 1278.81,1330.53 1279.64,1330.53 1280.46,1330.53 1281.29,1330.53 1282.12,1330.53 1282.95,1330.53 1283.77,1330.53 1284.6,1330.53 1285.43,1330.53 1286.26,1330.53 1287.08,1330.53 1287.91,1330.53 1288.74,1330.53 1289.56,1330.53 1290.39,1330.53 1291.22,1330.53 1292.05,1330.53 1292.87,1330.53 1293.7,1330.53 1294.53,1330.53 1295.35,1330.53 1296.18,1330.53 1297.01,1330.53 1297.84,1330.53 1298.66,1330.53 1299.49,1330.53 1300.32,1330.53 1301.14,1330.53 1301.97,1330.53 1302.8,1330.53 1303.63,1330.53 1304.45,1330.53 1305.28,1330.53 1306.11,1330.53 1306.93,1330.53 1307.76,1330.53 1308.59,1330.53 1309.42,1330.53 1310.24,1330.53 1311.07,1330.53 1311.9,1330.53 1312.72,1330.53 1313.55,1330.53 1314.38,1330.53 1315.21,1330.53 1316.03,1330.53 1316.86,1330.53 1317.69,1330.53 1318.51,1330.53 1319.34,1330.53 1320.17,1330.53 1321,1330.53 1321.82,1330.53 1322.65,1330.53 1323.48,1330.53 1324.31,1330.53 1325.13,1330.53 1325.96,1330.53 1326.79,1330.53 1327.61,1330.53 1328.44,1330.53 1329.27,1330.53 1330.1,1330.53 1330.92,1330.53 1331.75,1330.53 1332.58,1330.53 1333.4,1330.53 1334.23,1330.53 1335.06,1330.53 1335.89,1330.53 1336.71,1330.53 1337.54,1330.53 1338.37,1330.53 1339.19,1330.53 1340.02,1330.53 1340.85,1330.53 1341.68,1330.53 1342.5,1330.53 1343.33,1330.53 1344.16,1330.53 1344.98,1330.53 1345.81,1330.53 1346.64,1330.53 1347.47,1330.53 1348.29,1330.53 1349.12,1330.53 1349.95,1330.53 1350.77,1330.53 1351.6,1330.53 1352.43,1330.53 1353.26,1330.53 1354.08,1330.53 1354.91,1330.53 1355.74,1330.53 1356.56,1330.53 1357.39,1330.53 1358.22,1330.53 1359.05,1330.53 1359.87,1330.53 1360.7,1330.53 1361.53,1330.53 1362.36,1330.53 1363.18,1330.53 1364.01,1330.53 1364.84,1330.53 1365.66,1330.53 1366.49,1330.53 1367.32,1330.53 1368.15,1330.53 1368.97,1330.53 1369.8,1330.53 1370.63,1330.53 1371.45,1330.53 1372.28,1330.53 1373.11,1330.53 1373.94,1330.53 1374.76,1330.53 1375.59,1330.53 1376.42,1330.53 1377.24,1330.53 1378.07,1330.53 1378.9,1330.53 1379.73,1330.53 1380.55,1330.53 1381.38,1330.53 1382.21,1330.53 1383.03,1330.53 1383.86,1330.53 1384.69,1330.53 1385.52,1330.53 1386.34,1330.53 1387.17,1330.53 1388,1330.53 1388.82,1330.53 1389.65,1330.53 1390.48,1330.53 1391.31,1330.53 1392.13,1330.53 1392.96,1330.53 1393.79,1330.53 1394.61,1330.53 1395.44,1330.53 1396.27,1330.53 1397.1,1330.53 1397.92,1330.53 1398.75,1330.53 1399.58,1330.53 1400.41,1330.53 1401.23,1330.53 1402.06,1330.53 1402.89,1330.53 1403.71,1330.53 1404.54,1330.53 1405.37,1330.53 1406.2,1330.53 1407.02,1330.53 1407.85,1330.53 1408.68,1330.53 1409.5,1330.53 1410.33,1330.53 1411.16,1330.53 1411.99,1330.53 1412.81,1330.53 1413.64,1330.53 1414.47,1330.53 1415.29,1330.53 1416.12,1330.53 1416.95,1330.53 1417.78,1330.53 1418.6,1330.53 1419.43,1330.53 1420.26,1330.53 1421.08,1330.53 1421.91,1330.53 1422.74,1330.53 1423.57,1330.53 1424.39,1330.53 1425.22,1330.53 1426.05,1330.53 1426.87,1330.53 1427.7,1330.53 1428.53,1330.53 1429.36,1330.53 1430.18,1330.53 1431.01,1330.53 1431.84,1330.53 1432.67,1330.53 1433.49,1330.53 1434.32,1330.53 1435.15,1330.53 1435.97,1330.53 1436.8,1330.53 1437.63,1330.53 1438.46,1330.53 1439.28,1330.53 1440.11,1330.53 1440.94,1330.53 1441.76,1330.53 1442.59,1330.53 1443.42,1330.53 1444.25,1330.53 1445.07,1330.53 1445.9,1330.53 1446.73,1330.53 1447.55,1330.53 1448.38,1330.53 1449.21,1330.53 1450.04,1225.37 1450.86,1225.37 1451.69,1225.37 1452.52,1225.37 1453.34,1225.37 1454.17,1225.37 1455,1225.37 1455.83,1225.37 1456.65,1225.37 1457.48,1225.37 1458.31,1225.37 1459.13,1225.37 1459.96,1225.37 1460.79,1225.37 1461.62,1225.37 1462.44,1225.37 1463.27,1225.37 1464.1,1225.37 1464.92,1225.37 1465.75,1225.37 1466.58,1225.37 1467.41,1225.37 1468.23,1225.37 1469.06,1225.37 1469.89,1225.37 1470.72,1225.37 1471.54,1225.37 1472.37,1225.37 1473.2,1225.37 1474.02,1225.37 1474.85,1225.37 1475.68,1225.37 1476.51,1225.37 1477.33,1225.37 1478.16,1225.37 1478.99,1225.37 1479.81,1225.37 1480.64,1225.37 1481.47,1225.37 1482.3,1225.37 1483.12,1225.37 1483.95,1225.37 1484.78,1225.37 1485.6,1225.37 1486.43,1225.37 1487.26,1225.37 1488.09,1225.37 1488.91,1225.37 1489.74,1225.37 1490.57,1225.37 1491.39,1225.37 1492.22,1225.37 1493.05,1225.37 1493.88,1225.37 1494.7,1225.37 1495.53,1225.37 1496.36,1225.37 1497.18,1225.37 1498.01,1225.37 1498.84,1225.37 1499.67,1225.37 1500.49,1225.37 1501.32,1225.37 1502.15,1225.37 1502.97,1225.37 1503.8,1225.37 1504.63,1225.37 1505.46,1225.37 1506.28,1225.37 1507.11,1225.37 1507.94,1225.37 1508.77,1225.37 1509.59,1225.37 1510.42,1225.37 1511.25,1225.37 1512.07,1225.37 1512.9,1225.37 1513.73,1225.37 1514.56,1225.37 1515.38,1225.37 1516.21,1225.37 1517.04,1225.37 1517.86,1225.37 1518.69,1225.37 1519.52,1225.37 1520.35,1225.37 1521.17,1225.37 1522,1225.37 1522.83,1225.37 1523.65,1225.37 1524.48,1225.37 1525.31,1225.37 1526.14,1225.37 1526.96,1225.37 1527.79,1225.37 1528.62,1225.37 1529.44,1225.37 1530.27,1225.37 1531.1,1225.37 1531.93,1225.37 1532.75,1225.37 1533.58,1225.37 1534.41,1225.37 1535.23,1225.37 1536.06,1225.37 1536.89,1225.37 1537.72,1225.37 1538.54,1225.37 1539.37,1225.37 1540.2,1225.37 1541.02,1225.37 1541.85,1225.37 1542.68,1225.37 1543.51,1225.37 1544.33,1225.37 1545.16,1225.37 1545.99,1225.37 1546.82,1225.37 1547.64,1225.37 1548.47,1225.37 1549.3,1225.37 1550.12,1225.37 1550.95,1225.37 1551.78,1225.37 1552.61,1225.37 1553.43,1225.37 1554.26,1225.37 1555.09,1225.37 1555.91,1225.37 1556.74,1225.37 1557.57,1225.37 1558.4,1225.37 1559.22,1225.37 1560.05,1225.37 1560.88,1225.37 1561.7,1225.37 1562.53,1225.37 1563.36,1225.37 1564.19,1225.37 1565.01,1225.37 1565.84,1225.37 1566.67,1225.37 1567.49,1225.37 1568.32,1225.37 1569.15,1225.37 1569.98,1225.37 1570.8,1225.37 1571.63,1225.37 1572.46,1225.37 1573.28,1225.37 1574.11,1225.37 1574.94,1225.37 1575.77,1225.37 1576.59,1225.37 1577.42,1225.37 1578.25,1225.37 1579.07,1225.37 1579.9,1225.37 1580.73,1225.37 1581.56,1225.37 1582.38,1225.37 1583.21,1225.37 1584.04,1225.37 1584.87,1225.37 1585.69,1225.37 1586.52,1225.37 1587.35,1225.37 1588.17,1225.37 1589,1225.37 1589.83,1225.37 1590.66,1225.37 1591.48,1225.37 1592.31,1225.37 1593.14,1225.37 1593.96,1225.37 1594.79,1225.37 1595.62,1225.37 1596.45,1225.37 1597.27,1225.37 1598.1,1225.37 1598.93,1225.37 1599.75,1225.37 1600.58,1225.37 1601.41,1225.37 1602.24,1225.37 1603.06,1225.37 1603.89,1225.37 1604.72,1225.37 1605.54,1225.37 1606.37,1225.37 1607.2,1225.37 1608.03,1225.37 1608.85,1225.37 1609.68,1225.37 1610.51,1225.37 1611.33,1225.37 1612.16,1225.37 1612.99,1225.37 1613.82,1225.37 1614.64,1225.37 1615.47,1225.37 1616.3,1225.37 1617.12,1225.37 1617.95,1225.37 1618.78,1225.37 1619.61,1225.37 1620.43,1225.37 1621.26,1225.37 1622.09,1225.37 1622.92,1225.37 1623.74,1225.37 1624.57,1225.37 1625.4,1225.37 1626.22,1225.37 1627.05,1225.37 1627.88,1225.37 1628.71,1225.37 1629.53,1225.37 1630.36,1225.37 1631.19,1225.37 1632.01,1225.37 1632.84,1225.37 1633.67,1225.37 1634.5,1225.37 1635.32,1225.37 1636.15,1225.37 1636.98,1225.37 1637.8,1225.37 1638.63,1225.37 1639.46,1225.37 1640.29,1225.37 1641.11,1225.37 1641.94,1225.37 1642.77,1225.37 1643.59,1225.37 1644.42,1225.37 1645.25,1225.37 1646.08,1225.37 1646.9,1225.37 1647.73,1225.37 1648.56,1225.37 1649.38,1225.37 1650.21,1225.37 1651.04,1225.37 1651.87,1225.37 1652.69,1225.37 1653.52,1225.37 1654.35,1225.37 1655.17,1225.37 1656,1225.37 1656.83,1225.37 1657.66,1225.37 1658.48,1225.37 1659.31,1225.37 1660.14,1225.37 1660.97,1225.37 1661.79,1225.37 1662.62,1225.37 1663.45,1225.37 1664.27,1225.37 1665.1,1225.37 1665.93,1225.37 1666.76,1225.37 1667.58,1225.37 1668.41,1225.37 1669.24,1225.37 1670.06,1225.37 1670.89,1225.37 1671.72,1225.37 1672.55,1225.37 1673.37,1225.37 1674.2,1225.37 1675.03,1225.37 1675.85,1225.37 1676.68,1225.37 1677.51,1225.37 1678.34,1225.37 1679.16,1225.37 1679.99,1225.37 1680.82,1225.37 1681.64,1225.37 1682.47,1225.37 1683.3,1225.37 1684.13,1225.37 1684.95,1225.37 1685.78,1225.37 1686.61,1225.37 1687.43,1225.37 1688.26,1225.37 1689.09,1225.37 1689.92,1225.37 1690.74,1225.37 1691.57,1225.37 1692.4,1225.37 1693.22,1225.37 1694.05,1225.37 1694.88,1225.37 1695.71,1225.37 1696.53,1225.37 1697.36,1225.37 1698.19,1225.37 1699.02,1225.37 1699.84,1225.37 1700.67,1225.37 1701.5,1225.37 1702.32,1225.37 1703.15,1225.37 1703.98,1225.37 1704.81,1225.37 1705.63,1225.37 1706.46,1225.37 1707.29,1444.81 1708.11,1444.81 1708.94,1444.81 1709.77,1444.81 1710.6,1444.81 1711.42,1444.81 1712.25,1444.81 1713.08,1444.81 1713.9,1444.81 1714.73,1444.81 1715.56,1444.81 1716.39,1444.81 1717.21,1444.81 1718.04,1444.81 1718.87,1444.81 1719.69,1444.81 1720.52,1444.81 1721.35,1444.81 1722.18,1444.81 1723,1444.81 1723.83,1444.81 1724.66,1444.81 1725.48,1444.81 1726.31,1444.81 1727.14,1444.81 1727.97,1444.81 1728.79,1444.81 1729.62,1444.81 1730.45,1444.81 1731.27,1444.81 1732.1,1444.81 1732.93,1444.81 1733.76,1444.81 1734.58,1444.81 1735.41,1444.81 1736.24,1444.81 1737.07,1444.81 1737.89,1444.81 1738.72,1444.81 1739.55,1444.81 1740.37,1444.81 1741.2,1444.81 1742.03,1444.81 1742.86,1444.81 1743.68,1444.81 1744.51,1444.81 1745.34,1444.81 1746.16,1444.81 1746.99,1444.81 1747.82,1444.81 1748.65,1444.81 1749.47,1444.81 1750.3,1444.81 1751.13,1444.81 1751.95,1444.81 1752.78,1444.81 1753.61,1444.81 1754.44,1444.81 1755.26,1444.81 1756.09,1444.81 1756.92,1444.81 1757.74,1444.81 1758.57,1444.81 1759.4,1444.81 1760.23,1444.81 1761.05,1444.81 1761.88,1444.81 1762.71,1444.81 1763.53,1444.81 1764.36,1444.81 1765.19,1444.81 1766.02,1444.81 1766.84,1444.81 1767.67,1444.81 1768.5,1444.81 1769.32,1444.81 1770.15,1444.81 1770.98,1444.81 1771.81,1444.81 1772.63,1444.81 1773.46,1444.81 1774.29,1444.81 1775.12,1444.81 1775.94,1444.81 1776.77,1444.81 1777.6,1444.81 1778.42,1444.81 1779.25,1444.81 1780.08,1444.81 1780.91,1444.81 1781.73,1444.81 1782.56,1444.81 1783.39,1444.81 1784.21,1444.81 1785.04,1444.81 1785.87,1444.81 1786.7,1444.81 1787.52,1444.81 1788.35,1444.81 1789.18,1444.81 1790,1444.81 1790.83,1444.81 1791.66,1444.81 1792.49,1444.81 1793.31,1444.81 1794.14,1444.81 1794.97,1444.81 1795.79,1444.81 1796.62,1444.81 1797.45,1444.81 1798.28,1444.81 1799.1,1444.81 1799.93,1444.81 1800.76,1444.81 1801.58,1444.81 1802.41,1444.81 1803.24,1444.81 1804.07,1444.81 1804.89,1444.81 1805.72,1444.81 1806.55,1444.81 1807.38,1444.81 1808.2,1444.81 1809.03,1444.81 1809.86,1444.81 1810.68,1444.81 1811.51,1444.81 1812.34,1444.81 1813.17,1444.81 1813.99,1444.81 1814.82,1444.81 1815.65,1444.81 1816.47,1444.81 1817.3,1444.81 1818.13,1444.81 1818.96,1444.81 1819.78,1444.81 1820.61,1444.81 1821.44,1444.81 1822.26,1444.81 1823.09,1444.81 1823.92,1444.81 1824.75,1444.81 1825.57,1444.81 1826.4,1444.81 1827.23,1444.81 1828.05,1444.81 1828.88,1444.81 1829.71,1444.81 1830.54,1444.81 1831.36,1444.81 1832.19,1444.81 1833.02,1444.81 1833.84,1444.81 1834.67,1444.81 1835.5,1444.81 1836.33,1444.81 1837.15,1444.81 1837.98,1444.81 1838.81,1444.81 1839.63,1444.81 1840.46,1444.81 1841.29,1444.81 1842.12,1444.81 1842.94,1444.81 1843.77,1444.81 1844.6,1444.81 1845.43,1444.81 1846.25,1444.81 1847.08,1444.81 1847.91,1444.81 1848.73,1444.81 1849.56,1444.81 1850.39,1444.81 1851.22,1444.81 1852.04,1444.81 1852.87,1444.81 1853.7,1444.81 1854.52,1444.81 1855.35,1444.81 1856.18,1444.81 1857.01,1444.81 1857.83,1444.81 1858.66,1444.81 1859.49,1444.81 1860.31,1444.81 1861.14,1444.81 1861.97,1444.81 1862.8,1444.81 1863.62,1444.81 1864.45,1444.81 1865.28,1444.81 1866.1,1444.81 1866.93,1444.81 1867.76,1444.81 1868.59,1444.81 1869.41,1444.81 1870.24,1444.81 1871.07,1444.81 1871.89,1444.81 1872.72,1444.81 1873.55,1444.81 1874.38,1444.81 1875.2,1444.81 1876.03,1444.81 1876.86,1444.81 1877.68,1444.81 1878.51,1444.81 1879.34,1444.81 1880.17,1444.81 1880.99,1444.81 1881.82,1444.81 1882.65,1444.81 1883.48,1444.81 1884.3,1444.81 1885.13,1444.81 1885.96,1444.81 1886.78,1444.81 1887.61,1444.81 1888.44,1444.81 1889.27,1444.81 1890.09,1444.81 1890.92,1444.81 1891.75,1444.81 1892.57,1444.81 1893.4,1444.81 1894.23,1444.81 1895.06,1444.81 1895.88,1444.81 1896.71,1444.81 1897.54,1444.81 1898.36,1444.81 1899.19,1444.81 1900.02,1444.81 1900.85,1444.81 1901.67,1444.81 1902.5,1444.81 1903.33,1444.81 1904.15,1444.81 1904.98,1444.81 1905.81,1444.81 1906.64,1444.81 1907.46,1444.81 1908.29,1444.81 1909.12,1444.81 1909.94,1444.81 1910.77,1444.81 1911.6,1444.81 1912.43,1444.81 1913.25,1444.81 1914.08,1444.81 1914.91,1444.81 1915.73,1444.81 1916.56,1444.81 1917.39,1444.81 1918.22,1444.81 1919.04,1444.81 1919.87,1444.81 1920.7,1444.81 1921.53,1444.81 1922.35,1444.81 1923.18,1444.81 1924.01,1444.81 1924.83,1444.81 1925.66,1444.81 1926.49,1444.81 1927.32,1444.81 1928.14,1444.81 1928.97,1444.81 1929.8,1444.81 1930.62,1444.81 1931.45,1444.81 1932.28,1444.81 1933.11,1444.81 1933.93,1444.81 1934.76,1444.81 1935.59,1444.81 1936.41,1444.81 1937.24,1444.81 1938.07,1444.81 1938.9,1444.81 1939.72,1444.81 1940.55,1444.81 1941.38,1444.81 1942.2,1444.81 1943.03,1444.81 1943.86,1444.81 1944.69,1444.81 1945.51,1444.81 1946.34,1444.81 1947.17,1444.81 1947.99,1444.81 1948.82,1444.81 1949.65,1444.81 1950.48,1444.81 1951.3,1444.81 1952.13,1444.81 1952.96,1444.81 1953.78,1444.81 1954.61,1444.81 1955.44,1444.81 1956.27,1444.81 1957.09,1444.81 1957.92,1444.81 1958.75,1444.81 1959.58,1444.81 1960.4,1444.81 1961.23,1444.81 1962.06,1444.81 1962.88,1444.81 1963.71,1444.81 1964.54,1444.81 1965.37,1444.81 1966.19,1444.81 1967.02,1444.81 1967.85,1444.81 1968.67,1444.81 1969.5,1444.81 1970.33,1444.81 1971.16,1444.81 1971.98,1444.81 1972.81,1444.81 1973.64,1444.81 1974.46,1444.81 1975.29,1444.81 1976.12,1444.81 1976.95,1444.81 1977.77,1444.81 1978.6,1444.81 1979.43,1444.81 1980.25,1444.81 1981.08,1444.81 1981.91,1444.81 1982.74,1444.81 1983.56,1444.81 1984.39,1444.81 1985.22,1444.81 1986.04,1444.81 1986.87,1444.81 1987.7,1444.81 1988.53,1444.81 1989.35,1444.81 1990.18,1444.81 1991.01,1444.81 1991.83,1444.81 1992.66,1444.81 1993.49,1444.81 1994.32,1444.81 1995.14,1444.81 1995.97,1444.81 1996.8,1444.81 1997.63,1444.81 1998.45,1444.81 1999.28,1444.81 2000.11,1444.81 2000.93,1444.81 2001.76,1444.81 2002.59,1444.81 2003.42,1444.81 2004.24,1444.81 2005.07,1444.81 2005.9,1444.81 2006.72,1444.81 2007.55,1444.81 2008.38,1444.81 2009.21,1444.81 2010.03,1444.81 2010.86,1444.81 2011.69,1444.81 2012.51,1444.81 2013.34,1444.81 2014.17,1444.81 2015,1444.81 2015.82,1444.81 2016.65,1444.81 2017.48,1444.81 2018.3,1444.81 2019.13,1444.81 2019.96,1444.81 2020.79,1444.81 2021.61,1444.81 2022.44,1444.81 2023.27,1444.81 2024.09,1444.81 2024.92,1444.81 2025.75,1444.81 2026.58,1444.81 2027.4,1444.81 2028.23,1444.81 2029.06,1444.81 2029.88,1444.81 2030.71,1444.81 2031.54,1444.81 2032.37,1444.81 2033.19,1444.81 2034.02,1444.81 2034.85,1444.81 2035.68,1444.81 2036.5,1444.81 2037.33,1444.81 2038.16,1444.81 2038.98,1444.81 2039.81,1444.81 2040.64,1444.81 2041.47,1444.81 2042.29,1444.81 2043.12,1444.81 2043.95,1444.81 2044.77,1444.81 2045.6,1444.81 2046.43,1444.81 2047.26,1444.81 2048.08,1444.81 2048.91,1444.81 2049.74,1444.81 2050.56,1444.81 2051.39,1444.81 2052.22,1444.81 2053.05,1444.81 2053.87,1444.81 2054.7,1444.81 2055.53,1444.81 2056.35,1444.81 2057.18,1444.81 2058.01,1444.81 2058.84,1444.81 2059.66,1444.81 2060.49,1444.81 2061.32,1444.81 2062.14,1444.81 2062.97,1444.81 2063.8,1444.81 2064.63,1444.81 2065.45,1444.81 2066.28,1444.81 2067.11,1444.81 2067.93,1444.81 2068.76,1444.81 2069.59,1444.81 2070.42,1444.81 2071.24,1444.81 2072.07,1444.81 2072.9,1444.81 2073.73,1444.81 2074.55,1444.81 2075.38,1444.81 2076.21,1444.81 2077.03,1444.81 2077.86,1444.81 2078.69,1444.81 2079.52,1444.81 2080.34,1444.81 2081.17,1444.81 2082,1444.81 2082.82,1444.81 2083.65,1444.81 2084.48,1444.81 2085.31,1444.81 2086.13,1444.81 2086.96,1444.81 2087.79,1444.81 2088.61,1444.81 2089.44,1444.81 2090.27,1444.81 2091.1,1444.81 2091.92,1444.81 2092.75,1444.81 2093.58,1444.81 2094.4,1444.81 2095.23,1444.81 2096.06,1444.81 2096.89,1444.81 2097.71,1444.81 2098.54,1444.81 2099.37,1444.81 2100.19,1444.81 2101.02,1444.81 2101.85,1444.81 2102.68,1444.81 2103.5,1444.81 2104.33,1444.81 2105.16,1444.81 2105.98,1444.81 2106.81,1444.81 2107.64,1444.81 2108.47,1444.81 2109.29,1444.81 2110.12,1444.81 2110.95,1444.81 2111.78,1444.81 2112.6,1444.81 2113.43,1444.81 2114.26,1444.81 2115.08,1444.81 2115.91,1444.81 2116.74,1444.81 2117.57,1444.81 2118.39,1444.81 2119.22,1444.81 2120.05,1444.81 2120.87,1444.81 2121.7,1444.81 2122.53,1444.81 2123.36,1444.81 2124.18,1444.81 2125.01,1444.81 2125.84,1444.81 2126.66,1444.81 2127.49,1444.81 2128.32,1444.81 2129.15,1444.81 2129.97,1444.81 2130.8,1444.81 2131.63,1444.81 2132.45,1444.81 2133.28,1444.81 2134.11,1444.81 2134.94,1444.81 2135.76,1444.81 2136.59,1444.81 2137.42,1444.81 2138.24,1444.81 2139.07,1444.81 2139.9,1444.81 2140.73,1444.81 2141.55,1444.81 2142.38,1444.81 2143.21,1444.81 2144.03,1444.81 2144.86,1444.81 2145.69,1444.81 2146.52,1444.81 2147.34,1444.81 2148.17,1444.81 2149,1444.81 2149.83,1444.81 2150.65,1444.81 2151.48,1444.81 2152.31,1444.81 2153.13,1444.81 2153.96,1444.81 2154.79,1444.81 2155.62,1444.81 2156.44,1444.81 2157.27,1444.81 2158.1,1444.81 2158.92,1444.81 2159.75,1444.81 2160.58,1444.81 2161.41,1444.81 2162.23,1444.81 2163.06,1444.81 2163.89,1444.81 2164.71,1444.81 2165.54,1444.81 2166.37,1444.81 2167.2,1444.81 2168.02,1444.81 2168.85,1444.81 2169.68,1444.81 2170.5,1444.81 2171.33,1444.81 2172.16,1444.81 2172.99,1444.81 2173.81,1444.81 2174.64,1444.81 2175.47,1444.81 2176.29,1444.81 2177.12,1444.81 2177.95,1444.81 2178.78,1444.81 2179.6,1444.81 2180.43,1444.81 2181.26,1444.81 2182.09,1444.81 2182.91,1444.81 2183.74,1444.81 2184.57,1444.81 2185.39,1444.81 2186.22,1444.81 2187.05,1444.81 2187.88,1444.81 2188.7,1444.81 2189.53,1444.81 2190.36,1444.81 2191.18,1444.81 2192.01,1444.81 2192.84,1444.81 2193.67,1444.81 2194.49,1444.81 2195.32,1444.81 2196.15,1444.81 2196.97,1444.81 2197.8,1444.81 2198.63,1444.81 2199.46,1444.81 2200.28,1444.81 2201.11,1444.81 2201.94,1444.81 2202.76,1444.81 2203.59,1444.81 2204.42,1444.81 2205.25,1444.81 2206.07,1444.81 2206.9,1444.81 2207.73,1444.81 2208.55,1444.81 2209.38,1444.81 2210.21,1444.81 2211.04,1444.81 2211.86,1444.81 2212.69,1444.81 2213.52,1444.81 2214.34,1444.81 2215.17,1444.81 2216,1444.81 2216.83,1444.81 2217.65,1444.81 2218.48,1444.81 2219.31,1444.81 2220.14,1444.81 2220.96,1444.81 2221.79,1444.81 2222.62,1443.45 2223.44,1443.45 2224.27,1443.45 2225.1,1443.45 2225.93,1443.45 2226.75,1443.45 2227.58,1443.45 2228.41,1443.45 2229.23,1443.45 2230.06,1443.45 2230.89,1443.45 2231.72,1443.45 2232.54,1443.45 2233.37,1443.45 2234.2,1443.45 2235.02,1443.45 2235.85,1443.45 2236.68,1443.45 2237.51,1443.45 2238.33,1443.45 2239.16,1443.45 2239.99,1443.45 2240.81,1443.45 2241.64,1443.45 2242.47,1443.45 2243.3,1443.45 2244.12,1443.45 2244.95,1443.45 2245.78,1443.45 2246.6,1443.45 2247.43,1443.45 2248.26,1443.45 2249.09,1443.45 2249.91,1443.45 2250.74,1443.45 2251.57,1443.45 2252.39,1443.45 2253.22,1443.45 2254.05,1443.45 2254.88,1443.45 2255.7,1443.45 2256.53,1443.45 2257.36,1443.45 2258.19,1443.45 2259.01,1443.45 2259.84,1443.45 2260.67,1443.45 2261.49,1443.45 2262.32,1443.45 2263.15,1443.45 2263.98,1443.45 2264.8,1443.45 2265.63,1443.45 2266.46,1443.45 2267.28,1443.45 2268.11,1443.45 2268.94,1443.45 2269.77,1443.45 2270.59,1443.45 2271.42,1443.45 2272.25,1443.45 2273.07,1443.45 2273.9,1443.45 2274.73,1443.45 2275.56,1443.45 2276.38,1443.45 2277.21,1443.45 2278.04,1443.45 2278.86,1443.45 2279.69,1443.45 2280.52,1443.45 2281.35,1443.45 2282.17,1443.45 2283,1443.45 2283.83,1443.45 2284.65,1443.45 2285.48,1443.45 2286.31,1443.45 2287.14,1443.45 2287.96,1443.45 2288.79,1443.45 2289.62,1443.45 2290.44,1443.45 2291.27,1443.45 2292.1,1443.45 2292.93,1443.45 2293.75,1443.45 2294.58,1443.45 2295.41,1443.45 \"/>\n",
       "<polyline clip-path=\"url(#clip942)\" style=\"stroke:#e26f46; stroke-linecap:round; stroke-linejoin:round; stroke-width:4; stroke-opacity:1; fill:none\" points=\"383.808,1445.72 420.571,1445.72 457.335,1445.72 494.098,1445.72 530.861,1445.72 567.618,1445.72 604.381,1445.72 641.144,1445.72 677.908,1165.46 714.671,1165.46 751.434,1165.46 788.198,968.982 824.961,968.982 861.724,968.982 898.495,968.982 935.258,87.9763 972.021,87.9763 1008.78,87.9763 1045.55,87.9763 1082.31,87.9763 1119.07,87.9763 1155.84,87.9763 1192.6,1330.53 1229.36,1330.53 1266.12,1330.53 1302.88,1330.53 1339.65,1330.53 1376.41,1330.53 1413.17,1330.53 1449.94,1225.37 1486.7,1225.37 1523.46,1225.37 1560.23,1225.37 1596.99,1225.37 1633.75,1225.37 1670.52,1225.37 1707.28,1444.81 1744.04,1444.81 1780.81,1444.81 1817.57,1444.81 1854.33,1444.81 1891.1,1444.81 1927.86,1444.81 1964.62,1444.81 2001.39,1444.81 2038.15,1444.81 2074.91,1444.81 2111.68,1444.81 2148.44,1444.81 2185.2,1444.81 2221.97,1443.45 \"/>\n",
       "<path clip-path=\"url(#clip940)\" d=\"M2030.15 250.738 L2285.21 250.738 L2285.21 95.2176 L2030.15 95.2176  Z\" fill=\"#ffffff\" fill-rule=\"evenodd\" fill-opacity=\"1\"/>\n",
       "<polyline clip-path=\"url(#clip940)\" style=\"stroke:#000000; stroke-linecap:round; stroke-linejoin:round; stroke-width:4; stroke-opacity:1; fill:none\" points=\"2030.15,250.738 2285.21,250.738 2285.21,95.2176 2030.15,95.2176 2030.15,250.738 \"/>\n",
       "<polyline clip-path=\"url(#clip940)\" style=\"stroke:#009af9; stroke-linecap:round; stroke-linejoin:round; stroke-width:4; stroke-opacity:1; fill:none\" points=\"2052.67,147.058 2187.75,147.058 \"/>\n",
       "<path clip-path=\"url(#clip940)\" d=\"M2224.11 166.745 Q2222.31 171.375 2220.59 172.787 Q2218.88 174.199 2216.01 174.199 L2212.61 174.199 L2212.61 170.634 L2215.11 170.634 Q2216.87 170.634 2217.84 169.8 Q2218.81 168.967 2219.99 165.865 L2220.75 163.921 L2210.27 138.412 L2214.78 138.412 L2222.88 158.689 L2230.99 138.412 L2235.5 138.412 L2224.11 166.745 Z\" fill=\"#000000\" fill-rule=\"nonzero\" fill-opacity=\"1\" /><path clip-path=\"url(#clip940)\" d=\"M2242.79 160.402 L2250.43 160.402 L2250.43 134.037 L2242.12 135.703 L2242.12 131.444 L2250.38 129.778 L2255.06 129.778 L2255.06 160.402 L2262.7 160.402 L2262.7 164.338 L2242.79 164.338 L2242.79 160.402 Z\" fill=\"#000000\" fill-rule=\"nonzero\" fill-opacity=\"1\" /><polyline clip-path=\"url(#clip940)\" style=\"stroke:#e26f46; stroke-linecap:round; stroke-linejoin:round; stroke-width:4; stroke-opacity:1; fill:none\" points=\"2052.67,198.898 2187.75,198.898 \"/>\n",
       "<path clip-path=\"url(#clip940)\" d=\"M2224.11 218.585 Q2222.31 223.215 2220.59 224.627 Q2218.88 226.039 2216.01 226.039 L2212.61 226.039 L2212.61 222.474 L2215.11 222.474 Q2216.87 222.474 2217.84 221.64 Q2218.81 220.807 2219.99 217.705 L2220.75 215.761 L2210.27 190.252 L2214.78 190.252 L2222.88 210.529 L2230.99 190.252 L2235.5 190.252 L2224.11 218.585 Z\" fill=\"#000000\" fill-rule=\"nonzero\" fill-opacity=\"1\" /><path clip-path=\"url(#clip940)\" d=\"M2246.01 212.242 L2262.33 212.242 L2262.33 216.178 L2240.38 216.178 L2240.38 212.242 Q2243.05 209.488 2247.63 204.858 Q2252.24 200.205 2253.42 198.863 Q2255.66 196.34 2256.54 194.604 Q2257.44 192.844 2257.44 191.155 Q2257.44 188.4 2255.5 186.664 Q2253.58 184.928 2250.48 184.928 Q2248.28 184.928 2245.82 185.692 Q2243.39 186.455 2240.62 188.006 L2240.62 183.284 Q2243.44 182.15 2245.89 181.571 Q2248.35 180.993 2250.38 180.993 Q2255.75 180.993 2258.95 183.678 Q2262.14 186.363 2262.14 190.854 Q2262.14 192.983 2261.33 194.905 Q2260.55 196.803 2258.44 199.395 Q2257.86 200.067 2254.76 203.284 Q2251.66 206.479 2246.01 212.242 Z\" fill=\"#000000\" fill-rule=\"nonzero\" fill-opacity=\"1\" /></svg>\n"
      ],
      "text/html": [
       "<?xml version=\"1.0\" encoding=\"utf-8\"?>\n",
       "<svg xmlns=\"http://www.w3.org/2000/svg\" xmlns:xlink=\"http://www.w3.org/1999/xlink\" width=\"600\" height=\"400\" viewBox=\"0 0 2400 1600\">\n",
       "<defs>\n",
       "  <clipPath id=\"clip990\">\n",
       "    <rect x=\"0\" y=\"0\" width=\"2400\" height=\"1600\"/>\n",
       "  </clipPath>\n",
       "</defs>\n",
       "<path clip-path=\"url(#clip990)\" d=\"M0 1600 L2400 1600 L2400 0 L0 0  Z\" fill=\"#ffffff\" fill-rule=\"evenodd\" fill-opacity=\"1\"/>\n",
       "<defs>\n",
       "  <clipPath id=\"clip991\">\n",
       "    <rect x=\"480\" y=\"0\" width=\"1681\" height=\"1600\"/>\n",
       "  </clipPath>\n",
       "</defs>\n",
       "<path clip-path=\"url(#clip990)\" d=\"M326.46 1486.45 L2352.76 1486.45 L2352.76 47.2441 L326.46 47.2441  Z\" fill=\"#ffffff\" fill-rule=\"evenodd\" fill-opacity=\"1\"/>\n",
       "<defs>\n",
       "  <clipPath id=\"clip992\">\n",
       "    <rect x=\"326\" y=\"47\" width=\"2027\" height=\"1440\"/>\n",
       "  </clipPath>\n",
       "</defs>\n",
       "<polyline clip-path=\"url(#clip992)\" style=\"stroke:#000000; stroke-linecap:round; stroke-linejoin:round; stroke-width:2; stroke-opacity:0.1; fill:none\" points=\"687.104,1486.45 687.104,47.2441 \"/>\n",
       "<polyline clip-path=\"url(#clip992)\" style=\"stroke:#000000; stroke-linecap:round; stroke-linejoin:round; stroke-width:2; stroke-opacity:0.1; fill:none\" points=\"1100.69,1486.45 1100.69,47.2441 \"/>\n",
       "<polyline clip-path=\"url(#clip992)\" style=\"stroke:#000000; stroke-linecap:round; stroke-linejoin:round; stroke-width:2; stroke-opacity:0.1; fill:none\" points=\"1514.28,1486.45 1514.28,47.2441 \"/>\n",
       "<polyline clip-path=\"url(#clip992)\" style=\"stroke:#000000; stroke-linecap:round; stroke-linejoin:round; stroke-width:2; stroke-opacity:0.1; fill:none\" points=\"1927.87,1486.45 1927.87,47.2441 \"/>\n",
       "<polyline clip-path=\"url(#clip992)\" style=\"stroke:#000000; stroke-linecap:round; stroke-linejoin:round; stroke-width:2; stroke-opacity:0.1; fill:none\" points=\"2341.45,1486.45 2341.45,47.2441 \"/>\n",
       "<polyline clip-path=\"url(#clip990)\" style=\"stroke:#000000; stroke-linecap:round; stroke-linejoin:round; stroke-width:4; stroke-opacity:1; fill:none\" points=\"326.46,1486.45 2352.76,1486.45 \"/>\n",
       "<polyline clip-path=\"url(#clip990)\" style=\"stroke:#000000; stroke-linecap:round; stroke-linejoin:round; stroke-width:4; stroke-opacity:1; fill:none\" points=\"687.104,1486.45 687.104,1467.55 \"/>\n",
       "<polyline clip-path=\"url(#clip990)\" style=\"stroke:#000000; stroke-linecap:round; stroke-linejoin:round; stroke-width:4; stroke-opacity:1; fill:none\" points=\"1100.69,1486.45 1100.69,1467.55 \"/>\n",
       "<polyline clip-path=\"url(#clip990)\" style=\"stroke:#000000; stroke-linecap:round; stroke-linejoin:round; stroke-width:4; stroke-opacity:1; fill:none\" points=\"1514.28,1486.45 1514.28,1467.55 \"/>\n",
       "<polyline clip-path=\"url(#clip990)\" style=\"stroke:#000000; stroke-linecap:round; stroke-linejoin:round; stroke-width:4; stroke-opacity:1; fill:none\" points=\"1927.87,1486.45 1927.87,1467.55 \"/>\n",
       "<polyline clip-path=\"url(#clip990)\" style=\"stroke:#000000; stroke-linecap:round; stroke-linejoin:round; stroke-width:4; stroke-opacity:1; fill:none\" points=\"2341.45,1486.45 2341.45,1467.55 \"/>\n",
       "<path clip-path=\"url(#clip990)\" d=\"M666.375 1544.91 L682.695 1544.91 L682.695 1548.85 L660.75 1548.85 L660.75 1544.91 Q663.412 1542.16 667.996 1537.53 Q672.602 1532.88 673.783 1531.53 Q676.028 1529.01 676.908 1527.27 Q677.81 1525.51 677.81 1523.82 Q677.81 1521.07 675.866 1519.33 Q673.945 1517.6 670.843 1517.6 Q668.644 1517.6 666.19 1518.36 Q663.76 1519.13 660.982 1520.68 L660.982 1515.95 Q663.806 1514.82 666.26 1514.24 Q668.713 1513.66 670.75 1513.66 Q676.121 1513.66 679.315 1516.35 Q682.51 1519.03 682.51 1523.52 Q682.51 1525.65 681.699 1527.57 Q680.912 1529.47 678.806 1532.07 Q678.227 1532.74 675.125 1535.95 Q672.023 1539.15 666.375 1544.91 Z\" fill=\"#000000\" fill-rule=\"nonzero\" fill-opacity=\"1\" /><path clip-path=\"url(#clip990)\" d=\"M692.556 1514.29 L710.912 1514.29 L710.912 1518.22 L696.838 1518.22 L696.838 1526.7 Q697.857 1526.35 698.875 1526.19 Q699.894 1526 700.912 1526 Q706.699 1526 710.079 1529.17 Q713.458 1532.34 713.458 1537.76 Q713.458 1543.34 709.986 1546.44 Q706.514 1549.52 700.195 1549.52 Q698.019 1549.52 695.75 1549.15 Q693.505 1548.78 691.097 1548.04 L691.097 1543.34 Q693.181 1544.47 695.403 1545.03 Q697.625 1545.58 700.102 1545.58 Q704.107 1545.58 706.445 1543.48 Q708.783 1541.37 708.783 1537.76 Q708.783 1534.15 706.445 1532.04 Q704.107 1529.94 700.102 1529.94 Q698.227 1529.94 696.352 1530.35 Q694.5 1530.77 692.556 1531.65 L692.556 1514.29 Z\" fill=\"#000000\" fill-rule=\"nonzero\" fill-opacity=\"1\" /><path clip-path=\"url(#clip990)\" d=\"M1089.53 1530.21 Q1092.89 1530.93 1094.77 1533.2 Q1096.66 1535.47 1096.66 1538.8 Q1096.66 1543.92 1093.15 1546.72 Q1089.63 1549.52 1083.15 1549.52 Q1080.97 1549.52 1078.65 1549.08 Q1076.36 1548.66 1073.91 1547.81 L1073.91 1543.29 Q1075.85 1544.43 1078.17 1545.01 Q1080.48 1545.58 1083.01 1545.58 Q1087.4 1545.58 1089.7 1543.85 Q1092.01 1542.11 1092.01 1538.8 Q1092.01 1535.75 1089.86 1534.03 Q1087.73 1532.3 1083.91 1532.3 L1079.88 1532.3 L1079.88 1528.45 L1084.09 1528.45 Q1087.54 1528.45 1089.37 1527.09 Q1091.2 1525.7 1091.2 1523.11 Q1091.2 1520.45 1089.3 1519.03 Q1087.43 1517.6 1083.91 1517.6 Q1081.99 1517.6 1079.79 1518.01 Q1077.59 1518.43 1074.95 1519.31 L1074.95 1515.14 Q1077.61 1514.4 1079.93 1514.03 Q1082.27 1513.66 1084.33 1513.66 Q1089.65 1513.66 1092.75 1516.09 Q1095.85 1518.5 1095.85 1522.62 Q1095.85 1525.49 1094.21 1527.48 Q1092.57 1529.45 1089.53 1530.21 Z\" fill=\"#000000\" fill-rule=\"nonzero\" fill-opacity=\"1\" /><path clip-path=\"url(#clip990)\" d=\"M1115.53 1517.37 Q1111.92 1517.37 1110.09 1520.93 Q1108.28 1524.47 1108.28 1531.6 Q1108.28 1538.71 1110.09 1542.27 Q1111.92 1545.82 1115.53 1545.82 Q1119.16 1545.82 1120.97 1542.27 Q1122.8 1538.71 1122.8 1531.6 Q1122.8 1524.47 1120.97 1520.93 Q1119.16 1517.37 1115.53 1517.37 M1115.53 1513.66 Q1121.34 1513.66 1124.4 1518.27 Q1127.47 1522.85 1127.47 1531.6 Q1127.47 1540.33 1124.4 1544.94 Q1121.34 1549.52 1115.53 1549.52 Q1109.72 1549.52 1106.64 1544.94 Q1103.59 1540.33 1103.59 1531.6 Q1103.59 1522.85 1106.64 1518.27 Q1109.72 1513.66 1115.53 1513.66 Z\" fill=\"#000000\" fill-rule=\"nonzero\" fill-opacity=\"1\" /><path clip-path=\"url(#clip990)\" d=\"M1503.62 1530.21 Q1506.98 1530.93 1508.85 1533.2 Q1510.75 1535.47 1510.75 1538.8 Q1510.75 1543.92 1507.23 1546.72 Q1503.71 1549.52 1497.23 1549.52 Q1495.05 1549.52 1492.74 1549.08 Q1490.45 1548.66 1487.99 1547.81 L1487.99 1543.29 Q1489.94 1544.43 1492.25 1545.01 Q1494.57 1545.58 1497.09 1545.58 Q1501.49 1545.58 1503.78 1543.85 Q1506.1 1542.11 1506.1 1538.8 Q1506.1 1535.75 1503.94 1534.03 Q1501.81 1532.3 1497.99 1532.3 L1493.97 1532.3 L1493.97 1528.45 L1498.18 1528.45 Q1501.63 1528.45 1503.46 1527.09 Q1505.29 1525.7 1505.29 1523.11 Q1505.29 1520.45 1503.39 1519.03 Q1501.51 1517.6 1497.99 1517.6 Q1496.07 1517.6 1493.87 1518.01 Q1491.67 1518.43 1489.04 1519.31 L1489.04 1515.14 Q1491.7 1514.4 1494.01 1514.03 Q1496.35 1513.66 1498.41 1513.66 Q1503.73 1513.66 1506.84 1516.09 Q1509.94 1518.5 1509.94 1522.62 Q1509.94 1525.49 1508.3 1527.48 Q1506.65 1529.45 1503.62 1530.21 Z\" fill=\"#000000\" fill-rule=\"nonzero\" fill-opacity=\"1\" /><path clip-path=\"url(#clip990)\" d=\"M1519.66 1514.29 L1538.02 1514.29 L1538.02 1518.22 L1523.94 1518.22 L1523.94 1526.7 Q1524.96 1526.35 1525.98 1526.19 Q1527 1526 1528.02 1526 Q1533.8 1526 1537.18 1529.17 Q1540.56 1532.34 1540.56 1537.76 Q1540.56 1543.34 1537.09 1546.44 Q1533.62 1549.52 1527.3 1549.52 Q1525.12 1549.52 1522.86 1549.15 Q1520.61 1548.78 1518.2 1548.04 L1518.2 1543.34 Q1520.29 1544.47 1522.51 1545.03 Q1524.73 1545.58 1527.21 1545.58 Q1531.21 1545.58 1533.55 1543.48 Q1535.89 1541.37 1535.89 1537.76 Q1535.89 1534.15 1533.55 1532.04 Q1531.21 1529.94 1527.21 1529.94 Q1525.33 1529.94 1523.46 1530.35 Q1521.61 1530.77 1519.66 1531.65 L1519.66 1514.29 Z\" fill=\"#000000\" fill-rule=\"nonzero\" fill-opacity=\"1\" /><path clip-path=\"url(#clip990)\" d=\"M1916.04 1518.36 L1904.23 1536.81 L1916.04 1536.81 L1916.04 1518.36 M1914.81 1514.29 L1920.69 1514.29 L1920.69 1536.81 L1925.62 1536.81 L1925.62 1540.7 L1920.69 1540.7 L1920.69 1548.85 L1916.04 1548.85 L1916.04 1540.7 L1900.44 1540.7 L1900.44 1536.19 L1914.81 1514.29 Z\" fill=\"#000000\" fill-rule=\"nonzero\" fill-opacity=\"1\" /><path clip-path=\"url(#clip990)\" d=\"M1943.35 1517.37 Q1939.74 1517.37 1937.91 1520.93 Q1936.11 1524.47 1936.11 1531.6 Q1936.11 1538.71 1937.91 1542.27 Q1939.74 1545.82 1943.35 1545.82 Q1946.99 1545.82 1948.79 1542.27 Q1950.62 1538.71 1950.62 1531.6 Q1950.62 1524.47 1948.79 1520.93 Q1946.99 1517.37 1943.35 1517.37 M1943.35 1513.66 Q1949.16 1513.66 1952.22 1518.27 Q1955.3 1522.85 1955.3 1531.6 Q1955.3 1540.33 1952.22 1544.94 Q1949.16 1549.52 1943.35 1549.52 Q1937.54 1549.52 1934.46 1544.94 Q1931.41 1540.33 1931.41 1531.6 Q1931.41 1522.85 1934.46 1518.27 Q1937.54 1513.66 1943.35 1513.66 Z\" fill=\"#000000\" fill-rule=\"nonzero\" fill-opacity=\"1\" /><path clip-path=\"url(#clip990)\" d=\"M2330.12 1518.36 L2318.32 1536.81 L2330.12 1536.81 L2330.12 1518.36 M2328.9 1514.29 L2334.77 1514.29 L2334.77 1536.81 L2339.71 1536.81 L2339.71 1540.7 L2334.77 1540.7 L2334.77 1548.85 L2330.12 1548.85 L2330.12 1540.7 L2314.52 1540.7 L2314.52 1536.19 L2328.9 1514.29 Z\" fill=\"#000000\" fill-rule=\"nonzero\" fill-opacity=\"1\" /><path clip-path=\"url(#clip990)\" d=\"M2347.48 1514.29 L2365.84 1514.29 L2365.84 1518.22 L2351.77 1518.22 L2351.77 1526.7 Q2352.78 1526.35 2353.8 1526.19 Q2354.82 1526 2355.84 1526 Q2361.63 1526 2365.01 1529.17 Q2368.39 1532.34 2368.39 1537.76 Q2368.39 1543.34 2364.91 1546.44 Q2361.44 1549.52 2355.12 1549.52 Q2352.95 1549.52 2350.68 1549.15 Q2348.43 1548.78 2346.02 1548.04 L2346.02 1543.34 Q2348.11 1544.47 2350.33 1545.03 Q2352.55 1545.58 2355.03 1545.58 Q2359.03 1545.58 2361.37 1543.48 Q2363.71 1541.37 2363.71 1537.76 Q2363.71 1534.15 2361.37 1532.04 Q2359.03 1529.94 2355.03 1529.94 Q2353.15 1529.94 2351.28 1530.35 Q2349.43 1530.77 2347.48 1531.65 L2347.48 1514.29 Z\" fill=\"#000000\" fill-rule=\"nonzero\" fill-opacity=\"1\" /><polyline clip-path=\"url(#clip992)\" style=\"stroke:#000000; stroke-linecap:round; stroke-linejoin:round; stroke-width:2; stroke-opacity:0.1; fill:none\" points=\"326.46,1445.72 2352.76,1445.72 \"/>\n",
       "<polyline clip-path=\"url(#clip992)\" style=\"stroke:#000000; stroke-linecap:round; stroke-linejoin:round; stroke-width:2; stroke-opacity:0.1; fill:none\" points=\"326.46,1137.15 2352.76,1137.15 \"/>\n",
       "<polyline clip-path=\"url(#clip992)\" style=\"stroke:#000000; stroke-linecap:round; stroke-linejoin:round; stroke-width:2; stroke-opacity:0.1; fill:none\" points=\"326.46,828.593 2352.76,828.593 \"/>\n",
       "<polyline clip-path=\"url(#clip992)\" style=\"stroke:#000000; stroke-linecap:round; stroke-linejoin:round; stroke-width:2; stroke-opacity:0.1; fill:none\" points=\"326.46,520.032 2352.76,520.032 \"/>\n",
       "<polyline clip-path=\"url(#clip992)\" style=\"stroke:#000000; stroke-linecap:round; stroke-linejoin:round; stroke-width:2; stroke-opacity:0.1; fill:none\" points=\"326.46,211.471 2352.76,211.471 \"/>\n",
       "<polyline clip-path=\"url(#clip990)\" style=\"stroke:#000000; stroke-linecap:round; stroke-linejoin:round; stroke-width:4; stroke-opacity:1; fill:none\" points=\"326.46,1486.45 326.46,47.2441 \"/>\n",
       "<polyline clip-path=\"url(#clip990)\" style=\"stroke:#000000; stroke-linecap:round; stroke-linejoin:round; stroke-width:4; stroke-opacity:1; fill:none\" points=\"326.46,1445.72 345.358,1445.72 \"/>\n",
       "<polyline clip-path=\"url(#clip990)\" style=\"stroke:#000000; stroke-linecap:round; stroke-linejoin:round; stroke-width:4; stroke-opacity:1; fill:none\" points=\"326.46,1137.15 345.358,1137.15 \"/>\n",
       "<polyline clip-path=\"url(#clip990)\" style=\"stroke:#000000; stroke-linecap:round; stroke-linejoin:round; stroke-width:4; stroke-opacity:1; fill:none\" points=\"326.46,828.593 345.358,828.593 \"/>\n",
       "<polyline clip-path=\"url(#clip990)\" style=\"stroke:#000000; stroke-linecap:round; stroke-linejoin:round; stroke-width:4; stroke-opacity:1; fill:none\" points=\"326.46,520.032 345.358,520.032 \"/>\n",
       "<polyline clip-path=\"url(#clip990)\" style=\"stroke:#000000; stroke-linecap:round; stroke-linejoin:round; stroke-width:4; stroke-opacity:1; fill:none\" points=\"326.46,211.471 345.358,211.471 \"/>\n",
       "<path clip-path=\"url(#clip990)\" d=\"M278.516 1431.51 Q274.904 1431.51 273.076 1435.08 Q271.27 1438.62 271.27 1445.75 Q271.27 1452.86 273.076 1456.42 Q274.904 1459.96 278.516 1459.96 Q282.15 1459.96 283.955 1456.42 Q285.784 1452.86 285.784 1445.75 Q285.784 1438.62 283.955 1435.08 Q282.15 1431.51 278.516 1431.51 M278.516 1427.81 Q284.326 1427.81 287.381 1432.42 Q290.46 1437 290.46 1445.75 Q290.46 1454.48 287.381 1459.08 Q284.326 1463.67 278.516 1463.67 Q272.705 1463.67 269.627 1459.08 Q266.571 1454.48 266.571 1445.75 Q266.571 1437 269.627 1432.42 Q272.705 1427.81 278.516 1427.81 Z\" fill=\"#000000\" fill-rule=\"nonzero\" fill-opacity=\"1\" /><path clip-path=\"url(#clip990)\" d=\"M77.7324 1156.95 L94.0518 1156.95 L94.0518 1160.88 L72.1075 1160.88 L72.1075 1156.95 Q74.7695 1154.19 79.3528 1149.56 Q83.9593 1144.91 85.1398 1143.57 Q87.3852 1141.04 88.2648 1139.31 Q89.1676 1137.55 89.1676 1135.86 Q89.1676 1133.1 87.2231 1131.37 Q85.3018 1129.63 82.2 1129.63 Q80.0009 1129.63 77.5472 1130.4 Q75.1167 1131.16 72.3389 1132.71 L72.3389 1127.99 Q75.163 1126.85 77.6167 1126.28 Q80.0704 1125.7 82.1074 1125.7 Q87.4778 1125.7 90.6722 1128.38 Q93.8666 1131.07 93.8666 1135.56 Q93.8666 1137.69 93.0564 1139.61 Q92.2694 1141.51 90.1629 1144.1 Q89.5842 1144.77 86.4824 1147.99 Q83.3806 1151.18 77.7324 1156.95 Z\" fill=\"#000000\" fill-rule=\"nonzero\" fill-opacity=\"1\" /><path clip-path=\"url(#clip990)\" d=\"M103.867 1155 L108.751 1155 L108.751 1160.88 L103.867 1160.88 L103.867 1155 Z\" fill=\"#000000\" fill-rule=\"nonzero\" fill-opacity=\"1\" /><path clip-path=\"url(#clip990)\" d=\"M118.982 1126.32 L137.339 1126.32 L137.339 1130.26 L123.265 1130.26 L123.265 1138.73 Q124.283 1138.38 125.302 1138.22 Q126.32 1138.03 127.339 1138.03 Q133.126 1138.03 136.505 1141.21 Q139.885 1144.38 139.885 1149.79 Q139.885 1155.37 136.413 1158.47 Q132.94 1161.55 126.621 1161.55 Q124.445 1161.55 122.177 1161.18 Q119.931 1160.81 117.524 1160.07 L117.524 1155.37 Q119.607 1156.51 121.829 1157.06 Q124.052 1157.62 126.528 1157.62 Q130.533 1157.62 132.871 1155.51 Q135.209 1153.41 135.209 1149.79 Q135.209 1146.18 132.871 1144.08 Q130.533 1141.97 126.528 1141.97 Q124.653 1141.97 122.778 1142.39 Q120.927 1142.8 118.982 1143.68 L118.982 1126.32 Z\" fill=\"#000000\" fill-rule=\"nonzero\" fill-opacity=\"1\" /><path clip-path=\"url(#clip990)\" d=\"M159.098 1129.4 Q155.487 1129.4 153.658 1132.97 Q151.852 1136.51 151.852 1143.64 Q151.852 1150.74 153.658 1154.31 Q155.487 1157.85 159.098 1157.85 Q162.732 1157.85 164.538 1154.31 Q166.366 1150.74 166.366 1143.64 Q166.366 1136.51 164.538 1132.97 Q162.732 1129.4 159.098 1129.4 M159.098 1125.7 Q164.908 1125.7 167.963 1130.3 Q171.042 1134.89 171.042 1143.64 Q171.042 1152.36 167.963 1156.97 Q164.908 1161.55 159.098 1161.55 Q153.288 1161.55 150.209 1156.97 Q147.153 1152.36 147.153 1143.64 Q147.153 1134.89 150.209 1130.3 Q153.288 1125.7 159.098 1125.7 Z\" fill=\"#000000\" fill-rule=\"nonzero\" fill-opacity=\"1\" /><path clip-path=\"url(#clip990)\" d=\"M207.431 1135.42 L196.852 1146.04 L207.431 1156.62 L204.676 1159.42 L194.051 1148.8 L183.426 1159.42 L180.695 1156.62 L191.25 1146.04 L180.695 1135.42 L183.426 1132.62 L194.051 1143.24 L204.676 1132.62 L207.431 1135.42 Z\" fill=\"#000000\" fill-rule=\"nonzero\" fill-opacity=\"1\" /><path clip-path=\"url(#clip990)\" d=\"M219.792 1156.95 L227.431 1156.95 L227.431 1130.58 L219.121 1132.25 L219.121 1127.99 L227.384 1126.32 L232.06 1126.32 L232.06 1156.95 L239.699 1156.95 L239.699 1160.88 L219.792 1160.88 L219.792 1156.95 Z\" fill=\"#000000\" fill-rule=\"nonzero\" fill-opacity=\"1\" /><path clip-path=\"url(#clip990)\" d=\"M259.143 1129.4 Q255.532 1129.4 253.704 1132.97 Q251.898 1136.51 251.898 1143.64 Q251.898 1150.74 253.704 1154.31 Q255.532 1157.85 259.143 1157.85 Q262.778 1157.85 264.583 1154.31 Q266.412 1150.74 266.412 1143.64 Q266.412 1136.51 264.583 1132.97 Q262.778 1129.4 259.143 1129.4 M259.143 1125.7 Q264.954 1125.7 268.009 1130.3 Q271.088 1134.89 271.088 1143.64 Q271.088 1152.36 268.009 1156.97 Q264.954 1161.55 259.143 1161.55 Q253.333 1161.55 250.255 1156.97 Q247.199 1152.36 247.199 1143.64 Q247.199 1134.89 250.255 1130.3 Q253.333 1125.7 259.143 1125.7 Z\" fill=\"#000000\" fill-rule=\"nonzero\" fill-opacity=\"1\" /><path clip-path=\"url(#clip990)\" d=\"M272.893 1132.89 L272.893 1129.43 Q274.323 1130.11 275.79 1130.46 Q277.257 1130.82 278.667 1130.82 Q282.429 1130.82 284.404 1128.3 Q286.397 1125.76 286.68 1120.61 Q285.589 1122.22 283.915 1123.09 Q282.241 1123.95 280.21 1123.95 Q275.997 1123.95 273.533 1121.42 Q271.088 1118.86 271.088 1114.44 Q271.088 1110.11 273.646 1107.5 Q276.204 1104.88 280.454 1104.88 Q285.325 1104.88 287.883 1108.63 Q290.46 1112.35 290.46 1119.46 Q290.46 1126.1 287.3 1130.07 Q284.159 1134.02 278.837 1134.02 Q277.407 1134.02 275.94 1133.73 Q274.473 1133.45 272.893 1132.89 M280.454 1120.98 Q283.012 1120.98 284.498 1119.23 Q286.002 1117.49 286.002 1114.44 Q286.002 1111.41 284.498 1109.66 Q283.012 1107.89 280.454 1107.89 Q277.896 1107.89 276.392 1109.66 Q274.906 1111.41 274.906 1114.44 Q274.906 1117.49 276.392 1119.23 Q277.896 1120.98 280.454 1120.98 Z\" fill=\"#000000\" fill-rule=\"nonzero\" fill-opacity=\"1\" /><path clip-path=\"url(#clip990)\" d=\"M73.751 817.761 L92.1074 817.761 L92.1074 821.696 L78.0334 821.696 L78.0334 830.168 Q79.0519 829.821 80.0704 829.659 Q81.0889 829.474 82.1074 829.474 Q87.8944 829.474 91.274 832.645 Q94.6536 835.816 94.6536 841.233 Q94.6536 846.812 91.1814 849.913 Q87.7092 852.992 81.3898 852.992 Q79.2139 852.992 76.9454 852.622 Q74.7 852.251 72.2926 851.511 L72.2926 846.812 Q74.376 847.946 76.5982 848.501 Q78.8204 849.057 81.2972 849.057 Q85.3018 849.057 87.6398 846.951 Q89.9777 844.844 89.9777 841.233 Q89.9777 837.622 87.6398 835.515 Q85.3018 833.409 81.2972 833.409 Q79.4222 833.409 77.5472 833.826 Q75.6954 834.242 73.751 835.122 L73.751 817.761 Z\" fill=\"#000000\" fill-rule=\"nonzero\" fill-opacity=\"1\" /><path clip-path=\"url(#clip990)\" d=\"M103.867 846.441 L108.751 846.441 L108.751 852.321 L103.867 852.321 L103.867 846.441 Z\" fill=\"#000000\" fill-rule=\"nonzero\" fill-opacity=\"1\" /><path clip-path=\"url(#clip990)\" d=\"M128.936 820.84 Q125.325 820.84 123.496 824.404 Q121.691 827.946 121.691 835.076 Q121.691 842.182 123.496 845.747 Q125.325 849.288 128.936 849.288 Q132.57 849.288 134.376 845.747 Q136.204 842.182 136.204 835.076 Q136.204 827.946 134.376 824.404 Q132.57 820.84 128.936 820.84 M128.936 817.136 Q134.746 817.136 137.802 821.742 Q140.88 826.326 140.88 835.076 Q140.88 843.802 137.802 848.409 Q134.746 852.992 128.936 852.992 Q123.126 852.992 120.047 848.409 Q116.991 843.802 116.991 835.076 Q116.991 826.326 120.047 821.742 Q123.126 817.136 128.936 817.136 Z\" fill=\"#000000\" fill-rule=\"nonzero\" fill-opacity=\"1\" /><path clip-path=\"url(#clip990)\" d=\"M159.098 820.84 Q155.487 820.84 153.658 824.404 Q151.852 827.946 151.852 835.076 Q151.852 842.182 153.658 845.747 Q155.487 849.288 159.098 849.288 Q162.732 849.288 164.538 845.747 Q166.366 842.182 166.366 835.076 Q166.366 827.946 164.538 824.404 Q162.732 820.84 159.098 820.84 M159.098 817.136 Q164.908 817.136 167.963 821.742 Q171.042 826.326 171.042 835.076 Q171.042 843.802 167.963 848.409 Q164.908 852.992 159.098 852.992 Q153.288 852.992 150.209 848.409 Q147.153 843.802 147.153 835.076 Q147.153 826.326 150.209 821.742 Q153.288 817.136 159.098 817.136 Z\" fill=\"#000000\" fill-rule=\"nonzero\" fill-opacity=\"1\" /><path clip-path=\"url(#clip990)\" d=\"M207.431 826.858 L196.852 837.483 L207.431 848.062 L204.676 850.863 L194.051 840.238 L183.426 850.863 L180.695 848.062 L191.25 837.483 L180.695 826.858 L183.426 824.057 L194.051 834.682 L204.676 824.057 L207.431 826.858 Z\" fill=\"#000000\" fill-rule=\"nonzero\" fill-opacity=\"1\" /><path clip-path=\"url(#clip990)\" d=\"M219.792 848.386 L227.431 848.386 L227.431 822.02 L219.121 823.687 L219.121 819.428 L227.384 817.761 L232.06 817.761 L232.06 848.386 L239.699 848.386 L239.699 852.321 L219.792 852.321 L219.792 848.386 Z\" fill=\"#000000\" fill-rule=\"nonzero\" fill-opacity=\"1\" /><path clip-path=\"url(#clip990)\" d=\"M259.143 820.84 Q255.532 820.84 253.704 824.404 Q251.898 827.946 251.898 835.076 Q251.898 842.182 253.704 845.747 Q255.532 849.288 259.143 849.288 Q262.778 849.288 264.583 845.747 Q266.412 842.182 266.412 835.076 Q266.412 827.946 264.583 824.404 Q262.778 820.84 259.143 820.84 M259.143 817.136 Q264.954 817.136 268.009 821.742 Q271.088 826.326 271.088 835.076 Q271.088 843.802 268.009 848.409 Q264.954 852.992 259.143 852.992 Q253.333 852.992 250.255 848.409 Q247.199 843.802 247.199 835.076 Q247.199 826.326 250.255 821.742 Q253.333 817.136 259.143 817.136 Z\" fill=\"#000000\" fill-rule=\"nonzero\" fill-opacity=\"1\" /><path clip-path=\"url(#clip990)\" d=\"M272.893 824.327 L272.893 820.867 Q274.323 821.544 275.79 821.901 Q277.257 822.259 278.667 822.259 Q282.429 822.259 284.404 819.738 Q286.397 817.199 286.68 812.046 Q285.589 813.663 283.915 814.529 Q282.241 815.394 280.21 815.394 Q275.997 815.394 273.533 812.855 Q271.088 810.297 271.088 805.877 Q271.088 801.551 273.646 798.937 Q276.204 796.323 280.454 796.323 Q285.325 796.323 287.883 800.065 Q290.46 803.789 290.46 810.899 Q290.46 817.538 287.3 821.506 Q284.159 825.456 278.837 825.456 Q277.407 825.456 275.94 825.174 Q274.473 824.892 272.893 824.327 M280.454 812.422 Q283.012 812.422 284.498 810.673 Q286.002 808.924 286.002 805.877 Q286.002 802.849 284.498 801.1 Q283.012 799.332 280.454 799.332 Q277.896 799.332 276.392 801.1 Q274.906 802.849 274.906 805.877 Q274.906 808.924 276.392 810.673 Q277.896 812.422 280.454 812.422 Z\" fill=\"#000000\" fill-rule=\"nonzero\" fill-opacity=\"1\" /><path clip-path=\"url(#clip990)\" d=\"M72.5241 509.2 L94.7462 509.2 L94.7462 511.19 L82.2 543.76 L77.3158 543.76 L89.1213 513.135 L72.5241 513.135 L72.5241 509.2 Z\" fill=\"#000000\" fill-rule=\"nonzero\" fill-opacity=\"1\" /><path clip-path=\"url(#clip990)\" d=\"M103.867 537.88 L108.751 537.88 L108.751 543.76 L103.867 543.76 L103.867 537.88 Z\" fill=\"#000000\" fill-rule=\"nonzero\" fill-opacity=\"1\" /><path clip-path=\"url(#clip990)\" d=\"M118.982 509.2 L137.339 509.2 L137.339 513.135 L123.265 513.135 L123.265 521.607 Q124.283 521.26 125.302 521.098 Q126.32 520.913 127.339 520.913 Q133.126 520.913 136.505 524.084 Q139.885 527.255 139.885 532.672 Q139.885 538.25 136.413 541.352 Q132.94 544.431 126.621 544.431 Q124.445 544.431 122.177 544.061 Q119.931 543.69 117.524 542.949 L117.524 538.25 Q119.607 539.385 121.829 539.94 Q124.052 540.496 126.528 540.496 Q130.533 540.496 132.871 538.389 Q135.209 536.283 135.209 532.672 Q135.209 529.061 132.871 526.954 Q130.533 524.848 126.528 524.848 Q124.653 524.848 122.778 525.264 Q120.927 525.681 118.982 526.561 L118.982 509.2 Z\" fill=\"#000000\" fill-rule=\"nonzero\" fill-opacity=\"1\" /><path clip-path=\"url(#clip990)\" d=\"M159.098 512.278 Q155.487 512.278 153.658 515.843 Q151.852 519.385 151.852 526.514 Q151.852 533.621 153.658 537.186 Q155.487 540.727 159.098 540.727 Q162.732 540.727 164.538 537.186 Q166.366 533.621 166.366 526.514 Q166.366 519.385 164.538 515.843 Q162.732 512.278 159.098 512.278 M159.098 508.575 Q164.908 508.575 167.963 513.181 Q171.042 517.764 171.042 526.514 Q171.042 535.241 167.963 539.848 Q164.908 544.431 159.098 544.431 Q153.288 544.431 150.209 539.848 Q147.153 535.241 147.153 526.514 Q147.153 517.764 150.209 513.181 Q153.288 508.575 159.098 508.575 Z\" fill=\"#000000\" fill-rule=\"nonzero\" fill-opacity=\"1\" /><path clip-path=\"url(#clip990)\" d=\"M207.431 518.297 L196.852 528.922 L207.431 539.5 L204.676 542.301 L194.051 531.676 L183.426 542.301 L180.695 539.5 L191.25 528.922 L180.695 518.297 L183.426 515.496 L194.051 526.121 L204.676 515.496 L207.431 518.297 Z\" fill=\"#000000\" fill-rule=\"nonzero\" fill-opacity=\"1\" /><path clip-path=\"url(#clip990)\" d=\"M219.792 539.824 L227.431 539.824 L227.431 513.459 L219.121 515.126 L219.121 510.866 L227.384 509.2 L232.06 509.2 L232.06 539.824 L239.699 539.824 L239.699 543.76 L219.792 543.76 L219.792 539.824 Z\" fill=\"#000000\" fill-rule=\"nonzero\" fill-opacity=\"1\" /><path clip-path=\"url(#clip990)\" d=\"M259.143 512.278 Q255.532 512.278 253.704 515.843 Q251.898 519.385 251.898 526.514 Q251.898 533.621 253.704 537.186 Q255.532 540.727 259.143 540.727 Q262.778 540.727 264.583 537.186 Q266.412 533.621 266.412 526.514 Q266.412 519.385 264.583 515.843 Q262.778 512.278 259.143 512.278 M259.143 508.575 Q264.954 508.575 268.009 513.181 Q271.088 517.764 271.088 526.514 Q271.088 535.241 268.009 539.848 Q264.954 544.431 259.143 544.431 Q253.333 544.431 250.255 539.848 Q247.199 535.241 247.199 526.514 Q247.199 517.764 250.255 513.181 Q253.333 508.575 259.143 508.575 Z\" fill=\"#000000\" fill-rule=\"nonzero\" fill-opacity=\"1\" /><path clip-path=\"url(#clip990)\" d=\"M272.893 515.766 L272.893 512.306 Q274.323 512.983 275.79 513.34 Q277.257 513.697 278.667 513.697 Q282.429 513.697 284.404 511.177 Q286.397 508.638 286.68 503.485 Q285.589 505.102 283.915 505.967 Q282.241 506.833 280.21 506.833 Q275.997 506.833 273.533 504.293 Q271.088 501.736 271.088 497.316 Q271.088 492.99 273.646 490.376 Q276.204 487.761 280.454 487.761 Q285.325 487.761 287.883 491.504 Q290.46 495.228 290.46 502.337 Q290.46 508.977 287.3 512.945 Q284.159 516.895 278.837 516.895 Q277.407 516.895 275.94 516.613 Q274.473 516.33 272.893 515.766 M280.454 503.861 Q283.012 503.861 284.498 502.112 Q286.002 500.363 286.002 497.316 Q286.002 494.288 284.498 492.539 Q283.012 490.771 280.454 490.771 Q277.896 490.771 276.392 492.539 Q274.906 494.288 274.906 497.316 Q274.906 500.363 276.392 502.112 Q277.896 503.861 280.454 503.861 Z\" fill=\"#000000\" fill-rule=\"nonzero\" fill-opacity=\"1\" /><path clip-path=\"url(#clip990)\" d=\"M51.6634 231.263 L59.3023 231.263 L59.3023 204.898 L50.9921 206.564 L50.9921 202.305 L59.256 200.638 L63.9319 200.638 L63.9319 231.263 L71.5707 231.263 L71.5707 235.198 L51.6634 235.198 L51.6634 231.263 Z\" fill=\"#000000\" fill-rule=\"nonzero\" fill-opacity=\"1\" /><path clip-path=\"url(#clip990)\" d=\"M81.0151 229.319 L85.8993 229.319 L85.8993 235.198 L81.0151 235.198 L81.0151 229.319 Z\" fill=\"#000000\" fill-rule=\"nonzero\" fill-opacity=\"1\" /><path clip-path=\"url(#clip990)\" d=\"M106.084 203.717 Q102.473 203.717 100.645 207.282 Q98.8391 210.824 98.8391 217.953 Q98.8391 225.06 100.645 228.624 Q102.473 232.166 106.084 232.166 Q109.719 232.166 111.524 228.624 Q113.353 225.06 113.353 217.953 Q113.353 210.824 111.524 207.282 Q109.719 203.717 106.084 203.717 M106.084 200.013 Q111.895 200.013 114.95 204.62 Q118.029 209.203 118.029 217.953 Q118.029 226.68 114.95 231.286 Q111.895 235.87 106.084 235.87 Q100.274 235.87 97.1956 231.286 Q94.14 226.68 94.14 217.953 Q94.14 209.203 97.1956 204.62 Q100.274 200.013 106.084 200.013 Z\" fill=\"#000000\" fill-rule=\"nonzero\" fill-opacity=\"1\" /><path clip-path=\"url(#clip990)\" d=\"M136.246 203.717 Q132.635 203.717 130.807 207.282 Q129.001 210.824 129.001 217.953 Q129.001 225.06 130.807 228.624 Q132.635 232.166 136.246 232.166 Q139.881 232.166 141.686 228.624 Q143.515 225.06 143.515 217.953 Q143.515 210.824 141.686 207.282 Q139.881 203.717 136.246 203.717 M136.246 200.013 Q142.056 200.013 145.112 204.62 Q148.191 209.203 148.191 217.953 Q148.191 226.68 145.112 231.286 Q142.056 235.87 136.246 235.87 Q130.436 235.87 127.357 231.286 Q124.302 226.68 124.302 217.953 Q124.302 209.203 127.357 204.62 Q130.436 200.013 136.246 200.013 Z\" fill=\"#000000\" fill-rule=\"nonzero\" fill-opacity=\"1\" /><path clip-path=\"url(#clip990)\" d=\"M184.579 209.736 L174.001 220.361 L184.579 230.939 L181.825 233.74 L171.2 223.115 L160.575 233.74 L157.843 230.939 L168.399 220.361 L157.843 209.736 L160.575 206.935 L171.2 217.56 L181.825 206.935 L184.579 209.736 Z\" fill=\"#000000\" fill-rule=\"nonzero\" fill-opacity=\"1\" /><path clip-path=\"url(#clip990)\" d=\"M196.94 231.263 L204.579 231.263 L204.579 204.898 L196.269 206.564 L196.269 202.305 L204.533 200.638 L209.209 200.638 L209.209 231.263 L216.848 231.263 L216.848 235.198 L196.94 235.198 L196.94 231.263 Z\" fill=\"#000000\" fill-rule=\"nonzero\" fill-opacity=\"1\" /><path clip-path=\"url(#clip990)\" d=\"M236.292 203.717 Q232.681 203.717 230.852 207.282 Q229.047 210.824 229.047 217.953 Q229.047 225.06 230.852 228.624 Q232.681 232.166 236.292 232.166 Q239.926 232.166 241.732 228.624 Q243.561 225.06 243.561 217.953 Q243.561 210.824 241.732 207.282 Q239.926 203.717 236.292 203.717 M236.292 200.013 Q242.102 200.013 245.158 204.62 Q248.236 209.203 248.236 217.953 Q248.236 226.68 245.158 231.286 Q242.102 235.87 236.292 235.87 Q230.482 235.87 227.403 231.286 Q224.348 226.68 224.348 217.953 Q224.348 209.203 227.403 204.62 Q230.482 200.013 236.292 200.013 Z\" fill=\"#000000\" fill-rule=\"nonzero\" fill-opacity=\"1\" /><path clip-path=\"url(#clip990)\" d=\"M248.782 204.591 L254.988 204.591 L254.988 183.169 L248.236 184.523 L248.236 181.062 L254.951 179.708 L258.75 179.708 L258.75 204.591 L264.957 204.591 L264.957 207.788 L248.782 207.788 L248.782 204.591 Z\" fill=\"#000000\" fill-rule=\"nonzero\" fill-opacity=\"1\" /><path clip-path=\"url(#clip990)\" d=\"M280.755 182.209 Q277.821 182.209 276.335 185.106 Q274.868 187.983 274.868 193.776 Q274.868 199.55 276.335 202.447 Q277.821 205.324 280.755 205.324 Q283.708 205.324 285.175 202.447 Q286.661 199.55 286.661 193.776 Q286.661 187.983 285.175 185.106 Q283.708 182.209 280.755 182.209 M280.755 179.2 Q285.476 179.2 287.958 182.943 Q290.46 186.667 290.46 193.776 Q290.46 200.867 287.958 204.61 Q285.476 208.333 280.755 208.333 Q276.034 208.333 273.533 204.61 Q271.05 200.867 271.05 193.776 Q271.05 186.667 273.533 182.943 Q276.034 179.2 280.755 179.2 Z\" fill=\"#000000\" fill-rule=\"nonzero\" fill-opacity=\"1\" /><polyline clip-path=\"url(#clip992)\" style=\"stroke:#009af9; stroke-linecap:round; stroke-linejoin:round; stroke-width:4; stroke-opacity:1; fill:none\" points=\"383.808,1445.72 384.635,1445.72 385.462,1445.72 386.289,1445.72 387.117,1445.72 387.944,1445.72 388.771,1445.72 389.598,1445.72 390.425,1445.72 391.252,1445.72 392.08,1445.72 392.907,1445.72 393.734,1445.72 394.561,1445.72 395.388,1445.72 396.215,1445.72 397.043,1445.72 397.87,1445.72 398.697,1445.72 399.524,1445.72 400.351,1445.72 401.179,1445.72 402.006,1445.72 402.833,1445.72 403.66,1445.72 404.487,1445.72 405.314,1445.72 406.142,1445.72 406.969,1445.72 407.796,1445.72 408.623,1445.72 409.45,1445.72 410.277,1445.72 411.105,1445.72 411.932,1445.72 412.759,1445.72 413.586,1445.72 414.413,1445.72 415.241,1445.72 416.068,1445.72 416.895,1445.72 417.722,1445.72 418.549,1445.72 419.376,1445.72 420.204,1445.72 421.031,1445.72 421.858,1445.72 422.685,1445.72 423.512,1445.72 424.339,1445.72 425.167,1445.72 425.994,1445.72 426.821,1445.72 427.648,1445.72 428.475,1445.72 429.302,1445.72 430.13,1445.72 430.957,1445.72 431.784,1445.72 432.611,1445.72 433.438,1445.72 434.266,1445.72 435.093,1445.72 435.92,1445.72 436.747,1445.72 437.574,1445.72 438.401,1445.72 439.229,1445.72 440.056,1445.72 440.883,1445.72 441.71,1445.72 442.537,1445.72 443.364,1445.72 444.192,1445.72 445.019,1445.72 445.846,1445.72 446.673,1445.72 447.5,1445.72 448.327,1445.72 449.155,1445.72 449.982,1445.72 450.809,1445.72 451.636,1445.72 452.463,1445.72 453.291,1445.72 454.118,1445.72 454.945,1445.72 455.772,1445.72 456.599,1445.72 457.426,1445.72 458.254,1445.72 459.081,1445.72 459.908,1445.72 460.735,1445.72 461.562,1445.72 462.389,1445.72 463.217,1445.72 464.044,1445.72 464.871,1445.72 465.698,1445.72 466.525,1445.72 467.352,1445.72 468.18,1445.72 469.007,1445.72 469.834,1445.72 470.661,1445.72 471.488,1445.72 472.316,1445.72 473.143,1445.72 473.97,1445.72 474.797,1445.72 475.624,1445.72 476.451,1445.72 477.279,1445.72 478.106,1445.72 478.933,1445.72 479.76,1445.72 480.587,1445.72 481.414,1445.72 482.242,1445.72 483.069,1445.72 483.896,1445.72 484.723,1445.72 485.55,1445.72 486.378,1445.72 487.205,1445.72 488.032,1445.72 488.859,1445.72 489.686,1445.72 490.513,1445.72 491.341,1445.72 492.168,1445.72 492.995,1445.72 493.822,1445.72 494.649,1445.72 495.476,1445.72 496.304,1445.72 497.131,1445.72 497.958,1445.72 498.785,1445.72 499.612,1445.72 500.439,1445.72 501.267,1445.72 502.094,1445.72 502.921,1445.72 503.748,1445.72 504.575,1445.72 505.403,1445.72 506.23,1445.72 507.057,1445.72 507.884,1445.72 508.711,1445.72 509.538,1445.72 510.366,1445.72 511.193,1445.72 512.02,1445.72 512.847,1445.72 513.674,1445.72 514.501,1445.72 515.329,1445.72 516.156,1445.72 516.983,1445.72 517.81,1445.72 518.637,1445.72 519.464,1445.72 520.292,1445.72 521.119,1445.72 521.946,1445.72 522.773,1445.72 523.6,1445.72 524.428,1445.72 525.255,1445.72 526.082,1445.72 526.909,1445.72 527.736,1445.72 528.563,1445.72 529.391,1445.72 530.218,1445.72 531.045,1445.72 531.872,1445.72 532.699,1445.72 533.526,1445.72 534.354,1445.72 535.181,1445.72 536.008,1445.72 536.835,1445.72 537.662,1445.72 538.489,1445.72 539.317,1445.72 540.144,1445.72 540.971,1445.72 541.798,1445.72 542.625,1445.72 543.453,1445.72 544.28,1445.72 545.107,1445.72 545.934,1445.72 546.761,1445.72 547.588,1445.72 548.416,1445.72 549.243,1445.72 550.07,1445.72 550.897,1445.72 551.724,1445.72 552.551,1445.72 553.379,1445.72 554.206,1445.72 555.033,1445.72 555.86,1445.72 556.687,1445.72 557.515,1445.72 558.342,1445.72 559.169,1445.72 559.996,1445.72 560.823,1445.72 561.65,1445.72 562.478,1445.72 563.305,1445.72 564.132,1445.72 564.959,1445.72 565.786,1445.72 566.613,1445.72 567.441,1445.72 568.268,1445.72 569.095,1445.72 569.922,1445.72 570.749,1445.72 571.576,1445.72 572.404,1445.72 573.231,1445.72 574.058,1445.72 574.885,1445.72 575.712,1445.72 576.54,1445.72 577.367,1445.72 578.194,1445.72 579.021,1445.72 579.848,1445.72 580.675,1445.72 581.503,1445.72 582.33,1445.72 583.157,1445.72 583.984,1445.72 584.811,1445.72 585.638,1445.72 586.466,1445.72 587.293,1445.72 588.12,1445.72 588.947,1445.72 589.774,1445.72 590.601,1445.72 591.429,1445.72 592.256,1445.72 593.083,1445.72 593.91,1445.72 594.737,1445.72 595.565,1445.72 596.392,1445.72 597.219,1445.72 598.046,1445.72 598.873,1445.72 599.7,1445.72 600.528,1445.72 601.355,1445.72 602.182,1445.72 603.009,1445.72 603.836,1445.72 604.663,1445.72 605.491,1445.72 606.318,1445.72 607.145,1445.72 607.972,1445.72 608.799,1445.72 609.626,1445.72 610.454,1445.72 611.281,1445.72 612.108,1445.72 612.935,1445.72 613.762,1445.72 614.59,1445.72 615.417,1445.72 616.244,1445.72 617.071,1445.72 617.898,1445.72 618.725,1445.72 619.553,1445.72 620.38,1445.72 621.207,1445.72 622.034,1445.72 622.861,1445.72 623.688,1445.72 624.516,1445.72 625.343,1445.72 626.17,1445.72 626.997,1445.72 627.824,1445.72 628.652,1445.72 629.479,1445.72 630.306,1445.72 631.133,1445.72 631.96,1445.72 632.787,1445.72 633.615,1445.72 634.442,1445.72 635.269,1445.72 636.096,1445.72 636.923,1445.72 637.75,1445.72 638.578,1445.72 639.405,1445.72 640.232,1445.72 641.059,1445.72 641.886,1445.72 642.713,1445.72 643.541,1445.72 644.368,1445.72 645.195,1445.72 646.022,1445.72 646.849,1445.72 647.677,1445.72 648.504,1445.72 649.331,1445.72 650.158,1445.72 650.985,1445.72 651.812,1445.72 652.64,1445.72 653.467,1445.72 654.294,1445.72 655.121,1445.72 655.948,1445.72 656.775,1445.72 657.603,1445.72 658.43,1445.72 659.257,1445.72 660.084,1445.72 660.911,1445.72 661.738,1445.72 662.566,1445.72 663.393,1445.72 664.22,1445.72 665.047,1445.72 665.874,1445.72 666.702,1445.72 667.529,1445.72 668.356,1445.72 669.183,1445.72 670.01,1445.72 670.837,1445.72 671.665,1445.72 672.492,1445.72 673.319,1445.72 674.146,1445.72 674.973,1445.72 675.8,1445.72 676.628,1445.72 677.455,1445.72 678.282,1165.46 679.109,1165.46 679.936,1165.46 680.763,1165.46 681.591,1165.46 682.418,1165.46 683.245,1165.46 684.072,1165.46 684.899,1165.46 685.727,1165.46 686.554,1165.46 687.381,1165.46 688.208,1165.46 689.035,1165.46 689.862,1165.46 690.69,1165.46 691.517,1165.46 692.344,1165.46 693.171,1165.46 693.998,1165.46 694.825,1165.46 695.653,1165.46 696.48,1165.46 697.307,1165.46 698.134,1165.46 698.961,1165.46 699.789,1165.46 700.616,1165.46 701.443,1165.46 702.27,1165.46 703.097,1165.46 703.924,1165.46 704.752,1165.46 705.579,1165.46 706.406,1165.46 707.233,1165.46 708.06,1165.46 708.887,1165.46 709.715,1165.46 710.542,1165.46 711.369,1165.46 712.196,1165.46 713.023,1165.46 713.85,1165.46 714.678,1165.46 715.505,1165.46 716.332,1165.46 717.159,1165.46 717.986,1165.46 718.814,1165.46 719.641,1165.46 720.468,1165.46 721.295,1165.46 722.122,1165.46 722.949,1165.46 723.777,1165.46 724.604,1165.46 725.431,1165.46 726.258,1165.46 727.085,1165.46 727.912,1165.46 728.74,1165.46 729.567,1165.46 730.394,1165.46 731.221,1165.46 732.048,1165.46 732.875,1165.46 733.703,1165.46 734.53,1165.46 735.357,1165.46 736.184,1165.46 737.011,1165.46 737.839,1165.46 738.666,1165.46 739.493,1165.46 740.32,1165.46 741.147,1165.46 741.974,1165.46 742.802,1165.46 743.629,1165.46 744.456,1165.46 745.283,1165.46 746.11,1165.46 746.937,1165.46 747.765,1165.46 748.592,1165.46 749.419,1165.46 750.246,1165.46 751.073,1165.46 751.9,1165.46 752.728,1165.46 753.555,1165.46 754.382,1165.46 755.209,1165.46 756.036,1165.46 756.864,1165.46 757.691,1165.46 758.518,1165.46 759.345,1165.46 760.172,1165.46 760.999,1165.46 761.827,1165.46 762.654,1165.46 763.481,1165.46 764.308,1165.46 765.135,1165.46 765.962,1165.46 766.79,1165.46 767.617,1165.46 768.444,1165.46 769.271,1165.46 770.098,1165.46 770.925,1165.46 771.753,1165.46 772.58,1165.46 773.407,1165.46 774.234,1165.46 775.061,1165.46 775.889,1165.46 776.716,1165.46 777.543,1165.46 778.37,1165.46 779.197,1165.46 780.024,1165.46 780.852,1165.46 781.679,1165.46 782.506,1165.46 783.333,1165.46 784.16,1165.46 784.987,1165.46 785.815,1165.46 786.642,1165.46 787.469,1165.46 788.296,968.982 789.123,968.982 789.951,968.982 790.778,968.982 791.605,968.982 792.432,968.982 793.259,968.982 794.086,968.982 794.914,968.982 795.741,968.982 796.568,968.982 797.395,968.982 798.222,968.982 799.049,968.982 799.877,968.982 800.704,968.982 801.531,968.982 802.358,968.982 803.185,968.982 804.012,968.982 804.84,968.982 805.667,968.982 806.494,968.982 807.321,968.982 808.148,968.982 808.976,968.982 809.803,968.982 810.63,968.982 811.457,968.982 812.284,968.982 813.111,968.982 813.939,968.982 814.766,968.982 815.593,968.982 816.42,968.982 817.247,968.982 818.074,968.982 818.902,968.982 819.729,968.982 820.556,968.982 821.383,968.982 822.21,968.982 823.037,968.982 823.865,968.982 824.692,968.982 825.519,968.982 826.346,968.982 827.173,968.982 828.001,968.982 828.828,968.982 829.655,968.982 830.482,968.982 831.309,968.982 832.136,968.982 832.964,968.982 833.791,968.982 834.618,968.982 835.445,968.982 836.272,968.982 837.099,968.982 837.927,968.982 838.754,968.982 839.581,968.982 840.408,968.982 841.235,968.982 842.062,968.982 842.89,968.982 843.717,968.982 844.544,968.982 845.371,968.982 846.198,968.982 847.026,968.982 847.853,968.982 848.68,968.982 849.507,968.982 850.334,968.982 851.161,968.982 851.989,968.982 852.816,968.982 853.643,968.982 854.47,968.982 855.297,968.982 856.124,968.982 856.952,968.982 857.779,968.982 858.606,968.982 859.433,968.982 860.26,968.982 861.088,968.982 861.915,968.982 862.742,968.982 863.569,968.982 864.396,968.982 865.223,968.982 866.051,968.982 866.878,968.982 867.705,968.982 868.532,968.982 869.359,968.982 870.186,968.982 871.014,968.982 871.841,968.982 872.668,968.982 873.495,968.982 874.322,968.982 875.149,968.982 875.977,968.982 876.804,968.982 877.631,968.982 878.458,968.982 879.285,968.982 880.113,968.982 880.94,968.982 881.767,968.982 882.594,968.982 883.421,968.982 884.248,968.982 885.076,968.982 885.903,968.982 886.73,968.982 887.557,968.982 888.384,968.982 889.211,968.982 890.039,968.982 890.866,968.982 891.693,968.982 892.52,968.982 893.347,968.982 894.174,968.982 895.002,968.982 895.829,968.982 896.656,968.982 897.483,968.982 898.31,968.982 899.138,968.982 899.965,968.982 900.792,968.982 901.619,968.982 902.446,968.982 903.273,968.982 904.101,968.982 904.928,968.982 905.755,968.982 906.582,968.982 907.409,968.982 908.236,968.982 909.064,968.982 909.891,968.982 910.718,968.982 911.545,968.982 912.372,968.982 913.199,968.982 914.027,968.982 914.854,968.982 915.681,968.982 916.508,968.982 917.335,968.982 918.163,968.982 918.99,968.982 919.817,968.982 920.644,968.982 921.471,968.982 922.298,968.982 923.126,968.982 923.953,968.982 924.78,968.982 925.607,968.982 926.434,968.982 927.261,968.982 928.089,968.982 928.916,968.982 929.743,968.982 930.57,968.982 931.397,968.982 932.225,968.982 933.052,968.982 933.879,968.982 934.706,968.982 935.533,87.9763 936.36,87.9763 937.188,87.9763 938.015,87.9763 938.842,87.9763 939.669,87.9763 940.496,87.9763 941.323,87.9763 942.151,87.9763 942.978,87.9763 943.805,87.9763 944.632,87.9763 945.459,87.9763 946.286,87.9763 947.114,87.9763 947.941,87.9763 948.768,87.9763 949.595,87.9763 950.422,87.9763 951.25,87.9763 952.077,87.9763 952.904,87.9763 953.731,87.9763 954.558,87.9763 955.385,87.9763 956.213,87.9763 957.04,87.9763 957.867,87.9763 958.694,87.9763 959.521,87.9763 960.348,87.9763 961.176,87.9763 962.003,87.9763 962.83,87.9763 963.657,87.9763 964.484,87.9763 965.311,87.9763 966.139,87.9763 966.966,87.9763 967.793,87.9763 968.62,87.9763 969.447,87.9763 970.275,87.9763 971.102,87.9763 971.929,87.9763 972.756,87.9763 973.583,87.9763 974.41,87.9763 975.238,87.9763 976.065,87.9763 976.892,87.9763 977.719,87.9763 978.546,87.9763 979.373,87.9763 980.201,87.9763 981.028,87.9763 981.855,87.9763 982.682,87.9763 983.509,87.9763 984.336,87.9763 985.164,87.9763 985.991,87.9763 986.818,87.9763 987.645,87.9763 988.472,87.9763 989.3,87.9763 990.127,87.9763 990.954,87.9763 991.781,87.9763 992.608,87.9763 993.435,87.9763 994.263,87.9763 995.09,87.9763 995.917,87.9763 996.744,87.9763 997.571,87.9763 998.398,87.9763 999.226,87.9763 1000.05,87.9763 1000.88,87.9763 1001.71,87.9763 1002.53,87.9763 1003.36,87.9763 1004.19,87.9763 1005.02,87.9763 1005.84,87.9763 1006.67,87.9763 1007.5,87.9763 1008.32,87.9763 1009.15,87.9763 1009.98,87.9763 1010.81,87.9763 1011.63,87.9763 1012.46,87.9763 1013.29,87.9763 1014.11,87.9763 1014.94,87.9763 1015.77,87.9763 1016.6,87.9763 1017.42,87.9763 1018.25,87.9763 1019.08,87.9763 1019.9,87.9763 1020.73,87.9763 1021.56,87.9763 1022.39,87.9763 1023.21,87.9763 1024.04,87.9763 1024.87,87.9763 1025.7,87.9763 1026.52,87.9763 1027.35,87.9763 1028.18,87.9763 1029,87.9763 1029.83,87.9763 1030.66,87.9763 1031.49,87.9763 1032.31,87.9763 1033.14,87.9763 1033.97,87.9763 1034.79,87.9763 1035.62,87.9763 1036.45,87.9763 1037.28,87.9763 1038.1,87.9763 1038.93,87.9763 1039.76,87.9763 1040.58,87.9763 1041.41,87.9763 1042.24,87.9763 1043.07,87.9763 1043.89,87.9763 1044.72,87.9763 1045.55,87.9763 1046.37,87.9763 1047.2,87.9763 1048.03,87.9763 1048.86,87.9763 1049.68,87.9763 1050.51,87.9763 1051.34,87.9763 1052.16,87.9763 1052.99,87.9763 1053.82,87.9763 1054.65,87.9763 1055.47,87.9763 1056.3,87.9763 1057.13,87.9763 1057.96,87.9763 1058.78,87.9763 1059.61,87.9763 1060.44,87.9763 1061.26,87.9763 1062.09,87.9763 1062.92,87.9763 1063.75,87.9763 1064.57,87.9763 1065.4,87.9763 1066.23,87.9763 1067.05,87.9763 1067.88,87.9763 1068.71,87.9763 1069.54,87.9763 1070.36,87.9763 1071.19,87.9763 1072.02,87.9763 1072.84,87.9763 1073.67,87.9763 1074.5,87.9763 1075.33,87.9763 1076.15,87.9763 1076.98,87.9763 1077.81,87.9763 1078.63,87.9763 1079.46,87.9763 1080.29,87.9763 1081.12,87.9763 1081.94,87.9763 1082.77,87.9763 1083.6,87.9763 1084.42,87.9763 1085.25,87.9763 1086.08,87.9763 1086.91,87.9763 1087.73,87.9763 1088.56,87.9763 1089.39,87.9763 1090.21,87.9763 1091.04,87.9763 1091.87,87.9763 1092.7,87.9763 1093.52,87.9763 1094.35,87.9763 1095.18,87.9763 1096.01,87.9763 1096.83,87.9763 1097.66,87.9763 1098.49,87.9763 1099.31,87.9763 1100.14,87.9763 1100.97,87.9763 1101.8,87.9763 1102.62,87.9763 1103.45,87.9763 1104.28,87.9763 1105.1,87.9763 1105.93,87.9763 1106.76,87.9763 1107.59,87.9763 1108.41,87.9763 1109.24,87.9763 1110.07,87.9763 1110.89,87.9763 1111.72,87.9763 1112.55,87.9763 1113.38,87.9763 1114.2,87.9763 1115.03,87.9763 1115.86,87.9763 1116.68,87.9763 1117.51,87.9763 1118.34,87.9763 1119.17,87.9763 1119.99,87.9763 1120.82,87.9763 1121.65,87.9763 1122.47,87.9763 1123.3,87.9763 1124.13,87.9763 1124.96,87.9763 1125.78,87.9763 1126.61,87.9763 1127.44,87.9763 1128.26,87.9763 1129.09,87.9763 1129.92,87.9763 1130.75,87.9763 1131.57,87.9763 1132.4,87.9763 1133.23,87.9763 1134.06,87.9763 1134.88,87.9763 1135.71,87.9763 1136.54,87.9763 1137.36,87.9763 1138.19,87.9763 1139.02,87.9763 1139.85,87.9763 1140.67,87.9763 1141.5,87.9763 1142.33,87.9763 1143.15,87.9763 1143.98,87.9763 1144.81,87.9763 1145.64,87.9763 1146.46,87.9763 1147.29,87.9763 1148.12,87.9763 1148.94,87.9763 1149.77,87.9763 1150.6,87.9763 1151.43,87.9763 1152.25,87.9763 1153.08,87.9763 1153.91,87.9763 1154.73,87.9763 1155.56,87.9763 1156.39,87.9763 1157.22,87.9763 1158.04,87.9763 1158.87,87.9763 1159.7,87.9763 1160.52,87.9763 1161.35,87.9763 1162.18,87.9763 1163.01,87.9763 1163.83,87.9763 1164.66,87.9763 1165.49,87.9763 1166.31,87.9763 1167.14,87.9763 1167.97,87.9763 1168.8,87.9763 1169.62,87.9763 1170.45,87.9763 1171.28,87.9763 1172.11,87.9763 1172.93,87.9763 1173.76,87.9763 1174.59,87.9763 1175.41,87.9763 1176.24,87.9763 1177.07,87.9763 1177.9,87.9763 1178.72,87.9763 1179.55,87.9763 1180.38,87.9763 1181.2,87.9763 1182.03,87.9763 1182.86,87.9763 1183.69,87.9763 1184.51,87.9763 1185.34,87.9763 1186.17,87.9763 1186.99,87.9763 1187.82,87.9763 1188.65,87.9763 1189.48,87.9763 1190.3,87.9763 1191.13,87.9763 1191.96,87.9763 1192.78,1330.53 1193.61,1330.53 1194.44,1330.53 1195.27,1330.53 1196.09,1330.53 1196.92,1330.53 1197.75,1330.53 1198.57,1330.53 1199.4,1330.53 1200.23,1330.53 1201.06,1330.53 1201.88,1330.53 1202.71,1330.53 1203.54,1330.53 1204.36,1330.53 1205.19,1330.53 1206.02,1330.53 1206.85,1330.53 1207.67,1330.53 1208.5,1330.53 1209.33,1330.53 1210.16,1330.53 1210.98,1330.53 1211.81,1330.53 1212.64,1330.53 1213.46,1330.53 1214.29,1330.53 1215.12,1330.53 1215.95,1330.53 1216.77,1330.53 1217.6,1330.53 1218.43,1330.53 1219.25,1330.53 1220.08,1330.53 1220.91,1330.53 1221.74,1330.53 1222.56,1330.53 1223.39,1330.53 1224.22,1330.53 1225.04,1330.53 1225.87,1330.53 1226.7,1330.53 1227.53,1330.53 1228.35,1330.53 1229.18,1330.53 1230.01,1330.53 1230.83,1330.53 1231.66,1330.53 1232.49,1330.53 1233.32,1330.53 1234.14,1330.53 1234.97,1330.53 1235.8,1330.53 1236.62,1330.53 1237.45,1330.53 1238.28,1330.53 1239.11,1330.53 1239.93,1330.53 1240.76,1330.53 1241.59,1330.53 1242.41,1330.53 1243.24,1330.53 1244.07,1330.53 1244.9,1330.53 1245.72,1330.53 1246.55,1330.53 1247.38,1330.53 1248.21,1330.53 1249.03,1330.53 1249.86,1330.53 1250.69,1330.53 1251.51,1330.53 1252.34,1330.53 1253.17,1330.53 1254,1330.53 1254.82,1330.53 1255.65,1330.53 1256.48,1330.53 1257.3,1330.53 1258.13,1330.53 1258.96,1330.53 1259.79,1330.53 1260.61,1330.53 1261.44,1330.53 1262.27,1330.53 1263.09,1330.53 1263.92,1330.53 1264.75,1330.53 1265.58,1330.53 1266.4,1330.53 1267.23,1330.53 1268.06,1330.53 1268.88,1330.53 1269.71,1330.53 1270.54,1330.53 1271.37,1330.53 1272.19,1330.53 1273.02,1330.53 1273.85,1330.53 1274.67,1330.53 1275.5,1330.53 1276.33,1330.53 1277.16,1330.53 1277.98,1330.53 1278.81,1330.53 1279.64,1330.53 1280.46,1330.53 1281.29,1330.53 1282.12,1330.53 1282.95,1330.53 1283.77,1330.53 1284.6,1330.53 1285.43,1330.53 1286.26,1330.53 1287.08,1330.53 1287.91,1330.53 1288.74,1330.53 1289.56,1330.53 1290.39,1330.53 1291.22,1330.53 1292.05,1330.53 1292.87,1330.53 1293.7,1330.53 1294.53,1330.53 1295.35,1330.53 1296.18,1330.53 1297.01,1330.53 1297.84,1330.53 1298.66,1330.53 1299.49,1330.53 1300.32,1330.53 1301.14,1330.53 1301.97,1330.53 1302.8,1330.53 1303.63,1330.53 1304.45,1330.53 1305.28,1330.53 1306.11,1330.53 1306.93,1330.53 1307.76,1330.53 1308.59,1330.53 1309.42,1330.53 1310.24,1330.53 1311.07,1330.53 1311.9,1330.53 1312.72,1330.53 1313.55,1330.53 1314.38,1330.53 1315.21,1330.53 1316.03,1330.53 1316.86,1330.53 1317.69,1330.53 1318.51,1330.53 1319.34,1330.53 1320.17,1330.53 1321,1330.53 1321.82,1330.53 1322.65,1330.53 1323.48,1330.53 1324.31,1330.53 1325.13,1330.53 1325.96,1330.53 1326.79,1330.53 1327.61,1330.53 1328.44,1330.53 1329.27,1330.53 1330.1,1330.53 1330.92,1330.53 1331.75,1330.53 1332.58,1330.53 1333.4,1330.53 1334.23,1330.53 1335.06,1330.53 1335.89,1330.53 1336.71,1330.53 1337.54,1330.53 1338.37,1330.53 1339.19,1330.53 1340.02,1330.53 1340.85,1330.53 1341.68,1330.53 1342.5,1330.53 1343.33,1330.53 1344.16,1330.53 1344.98,1330.53 1345.81,1330.53 1346.64,1330.53 1347.47,1330.53 1348.29,1330.53 1349.12,1330.53 1349.95,1330.53 1350.77,1330.53 1351.6,1330.53 1352.43,1330.53 1353.26,1330.53 1354.08,1330.53 1354.91,1330.53 1355.74,1330.53 1356.56,1330.53 1357.39,1330.53 1358.22,1330.53 1359.05,1330.53 1359.87,1330.53 1360.7,1330.53 1361.53,1330.53 1362.36,1330.53 1363.18,1330.53 1364.01,1330.53 1364.84,1330.53 1365.66,1330.53 1366.49,1330.53 1367.32,1330.53 1368.15,1330.53 1368.97,1330.53 1369.8,1330.53 1370.63,1330.53 1371.45,1330.53 1372.28,1330.53 1373.11,1330.53 1373.94,1330.53 1374.76,1330.53 1375.59,1330.53 1376.42,1330.53 1377.24,1330.53 1378.07,1330.53 1378.9,1330.53 1379.73,1330.53 1380.55,1330.53 1381.38,1330.53 1382.21,1330.53 1383.03,1330.53 1383.86,1330.53 1384.69,1330.53 1385.52,1330.53 1386.34,1330.53 1387.17,1330.53 1388,1330.53 1388.82,1330.53 1389.65,1330.53 1390.48,1330.53 1391.31,1330.53 1392.13,1330.53 1392.96,1330.53 1393.79,1330.53 1394.61,1330.53 1395.44,1330.53 1396.27,1330.53 1397.1,1330.53 1397.92,1330.53 1398.75,1330.53 1399.58,1330.53 1400.41,1330.53 1401.23,1330.53 1402.06,1330.53 1402.89,1330.53 1403.71,1330.53 1404.54,1330.53 1405.37,1330.53 1406.2,1330.53 1407.02,1330.53 1407.85,1330.53 1408.68,1330.53 1409.5,1330.53 1410.33,1330.53 1411.16,1330.53 1411.99,1330.53 1412.81,1330.53 1413.64,1330.53 1414.47,1330.53 1415.29,1330.53 1416.12,1330.53 1416.95,1330.53 1417.78,1330.53 1418.6,1330.53 1419.43,1330.53 1420.26,1330.53 1421.08,1330.53 1421.91,1330.53 1422.74,1330.53 1423.57,1330.53 1424.39,1330.53 1425.22,1330.53 1426.05,1330.53 1426.87,1330.53 1427.7,1330.53 1428.53,1330.53 1429.36,1330.53 1430.18,1330.53 1431.01,1330.53 1431.84,1330.53 1432.67,1330.53 1433.49,1330.53 1434.32,1330.53 1435.15,1330.53 1435.97,1330.53 1436.8,1330.53 1437.63,1330.53 1438.46,1330.53 1439.28,1330.53 1440.11,1330.53 1440.94,1330.53 1441.76,1330.53 1442.59,1330.53 1443.42,1330.53 1444.25,1330.53 1445.07,1330.53 1445.9,1330.53 1446.73,1330.53 1447.55,1330.53 1448.38,1330.53 1449.21,1330.53 1450.04,1225.37 1450.86,1225.37 1451.69,1225.37 1452.52,1225.37 1453.34,1225.37 1454.17,1225.37 1455,1225.37 1455.83,1225.37 1456.65,1225.37 1457.48,1225.37 1458.31,1225.37 1459.13,1225.37 1459.96,1225.37 1460.79,1225.37 1461.62,1225.37 1462.44,1225.37 1463.27,1225.37 1464.1,1225.37 1464.92,1225.37 1465.75,1225.37 1466.58,1225.37 1467.41,1225.37 1468.23,1225.37 1469.06,1225.37 1469.89,1225.37 1470.72,1225.37 1471.54,1225.37 1472.37,1225.37 1473.2,1225.37 1474.02,1225.37 1474.85,1225.37 1475.68,1225.37 1476.51,1225.37 1477.33,1225.37 1478.16,1225.37 1478.99,1225.37 1479.81,1225.37 1480.64,1225.37 1481.47,1225.37 1482.3,1225.37 1483.12,1225.37 1483.95,1225.37 1484.78,1225.37 1485.6,1225.37 1486.43,1225.37 1487.26,1225.37 1488.09,1225.37 1488.91,1225.37 1489.74,1225.37 1490.57,1225.37 1491.39,1225.37 1492.22,1225.37 1493.05,1225.37 1493.88,1225.37 1494.7,1225.37 1495.53,1225.37 1496.36,1225.37 1497.18,1225.37 1498.01,1225.37 1498.84,1225.37 1499.67,1225.37 1500.49,1225.37 1501.32,1225.37 1502.15,1225.37 1502.97,1225.37 1503.8,1225.37 1504.63,1225.37 1505.46,1225.37 1506.28,1225.37 1507.11,1225.37 1507.94,1225.37 1508.77,1225.37 1509.59,1225.37 1510.42,1225.37 1511.25,1225.37 1512.07,1225.37 1512.9,1225.37 1513.73,1225.37 1514.56,1225.37 1515.38,1225.37 1516.21,1225.37 1517.04,1225.37 1517.86,1225.37 1518.69,1225.37 1519.52,1225.37 1520.35,1225.37 1521.17,1225.37 1522,1225.37 1522.83,1225.37 1523.65,1225.37 1524.48,1225.37 1525.31,1225.37 1526.14,1225.37 1526.96,1225.37 1527.79,1225.37 1528.62,1225.37 1529.44,1225.37 1530.27,1225.37 1531.1,1225.37 1531.93,1225.37 1532.75,1225.37 1533.58,1225.37 1534.41,1225.37 1535.23,1225.37 1536.06,1225.37 1536.89,1225.37 1537.72,1225.37 1538.54,1225.37 1539.37,1225.37 1540.2,1225.37 1541.02,1225.37 1541.85,1225.37 1542.68,1225.37 1543.51,1225.37 1544.33,1225.37 1545.16,1225.37 1545.99,1225.37 1546.82,1225.37 1547.64,1225.37 1548.47,1225.37 1549.3,1225.37 1550.12,1225.37 1550.95,1225.37 1551.78,1225.37 1552.61,1225.37 1553.43,1225.37 1554.26,1225.37 1555.09,1225.37 1555.91,1225.37 1556.74,1225.37 1557.57,1225.37 1558.4,1225.37 1559.22,1225.37 1560.05,1225.37 1560.88,1225.37 1561.7,1225.37 1562.53,1225.37 1563.36,1225.37 1564.19,1225.37 1565.01,1225.37 1565.84,1225.37 1566.67,1225.37 1567.49,1225.37 1568.32,1225.37 1569.15,1225.37 1569.98,1225.37 1570.8,1225.37 1571.63,1225.37 1572.46,1225.37 1573.28,1225.37 1574.11,1225.37 1574.94,1225.37 1575.77,1225.37 1576.59,1225.37 1577.42,1225.37 1578.25,1225.37 1579.07,1225.37 1579.9,1225.37 1580.73,1225.37 1581.56,1225.37 1582.38,1225.37 1583.21,1225.37 1584.04,1225.37 1584.87,1225.37 1585.69,1225.37 1586.52,1225.37 1587.35,1225.37 1588.17,1225.37 1589,1225.37 1589.83,1225.37 1590.66,1225.37 1591.48,1225.37 1592.31,1225.37 1593.14,1225.37 1593.96,1225.37 1594.79,1225.37 1595.62,1225.37 1596.45,1225.37 1597.27,1225.37 1598.1,1225.37 1598.93,1225.37 1599.75,1225.37 1600.58,1225.37 1601.41,1225.37 1602.24,1225.37 1603.06,1225.37 1603.89,1225.37 1604.72,1225.37 1605.54,1225.37 1606.37,1225.37 1607.2,1225.37 1608.03,1225.37 1608.85,1225.37 1609.68,1225.37 1610.51,1225.37 1611.33,1225.37 1612.16,1225.37 1612.99,1225.37 1613.82,1225.37 1614.64,1225.37 1615.47,1225.37 1616.3,1225.37 1617.12,1225.37 1617.95,1225.37 1618.78,1225.37 1619.61,1225.37 1620.43,1225.37 1621.26,1225.37 1622.09,1225.37 1622.92,1225.37 1623.74,1225.37 1624.57,1225.37 1625.4,1225.37 1626.22,1225.37 1627.05,1225.37 1627.88,1225.37 1628.71,1225.37 1629.53,1225.37 1630.36,1225.37 1631.19,1225.37 1632.01,1225.37 1632.84,1225.37 1633.67,1225.37 1634.5,1225.37 1635.32,1225.37 1636.15,1225.37 1636.98,1225.37 1637.8,1225.37 1638.63,1225.37 1639.46,1225.37 1640.29,1225.37 1641.11,1225.37 1641.94,1225.37 1642.77,1225.37 1643.59,1225.37 1644.42,1225.37 1645.25,1225.37 1646.08,1225.37 1646.9,1225.37 1647.73,1225.37 1648.56,1225.37 1649.38,1225.37 1650.21,1225.37 1651.04,1225.37 1651.87,1225.37 1652.69,1225.37 1653.52,1225.37 1654.35,1225.37 1655.17,1225.37 1656,1225.37 1656.83,1225.37 1657.66,1225.37 1658.48,1225.37 1659.31,1225.37 1660.14,1225.37 1660.97,1225.37 1661.79,1225.37 1662.62,1225.37 1663.45,1225.37 1664.27,1225.37 1665.1,1225.37 1665.93,1225.37 1666.76,1225.37 1667.58,1225.37 1668.41,1225.37 1669.24,1225.37 1670.06,1225.37 1670.89,1225.37 1671.72,1225.37 1672.55,1225.37 1673.37,1225.37 1674.2,1225.37 1675.03,1225.37 1675.85,1225.37 1676.68,1225.37 1677.51,1225.37 1678.34,1225.37 1679.16,1225.37 1679.99,1225.37 1680.82,1225.37 1681.64,1225.37 1682.47,1225.37 1683.3,1225.37 1684.13,1225.37 1684.95,1225.37 1685.78,1225.37 1686.61,1225.37 1687.43,1225.37 1688.26,1225.37 1689.09,1225.37 1689.92,1225.37 1690.74,1225.37 1691.57,1225.37 1692.4,1225.37 1693.22,1225.37 1694.05,1225.37 1694.88,1225.37 1695.71,1225.37 1696.53,1225.37 1697.36,1225.37 1698.19,1225.37 1699.02,1225.37 1699.84,1225.37 1700.67,1225.37 1701.5,1225.37 1702.32,1225.37 1703.15,1225.37 1703.98,1225.37 1704.81,1225.37 1705.63,1225.37 1706.46,1225.37 1707.29,1444.81 1708.11,1444.81 1708.94,1444.81 1709.77,1444.81 1710.6,1444.81 1711.42,1444.81 1712.25,1444.81 1713.08,1444.81 1713.9,1444.81 1714.73,1444.81 1715.56,1444.81 1716.39,1444.81 1717.21,1444.81 1718.04,1444.81 1718.87,1444.81 1719.69,1444.81 1720.52,1444.81 1721.35,1444.81 1722.18,1444.81 1723,1444.81 1723.83,1444.81 1724.66,1444.81 1725.48,1444.81 1726.31,1444.81 1727.14,1444.81 1727.97,1444.81 1728.79,1444.81 1729.62,1444.81 1730.45,1444.81 1731.27,1444.81 1732.1,1444.81 1732.93,1444.81 1733.76,1444.81 1734.58,1444.81 1735.41,1444.81 1736.24,1444.81 1737.07,1444.81 1737.89,1444.81 1738.72,1444.81 1739.55,1444.81 1740.37,1444.81 1741.2,1444.81 1742.03,1444.81 1742.86,1444.81 1743.68,1444.81 1744.51,1444.81 1745.34,1444.81 1746.16,1444.81 1746.99,1444.81 1747.82,1444.81 1748.65,1444.81 1749.47,1444.81 1750.3,1444.81 1751.13,1444.81 1751.95,1444.81 1752.78,1444.81 1753.61,1444.81 1754.44,1444.81 1755.26,1444.81 1756.09,1444.81 1756.92,1444.81 1757.74,1444.81 1758.57,1444.81 1759.4,1444.81 1760.23,1444.81 1761.05,1444.81 1761.88,1444.81 1762.71,1444.81 1763.53,1444.81 1764.36,1444.81 1765.19,1444.81 1766.02,1444.81 1766.84,1444.81 1767.67,1444.81 1768.5,1444.81 1769.32,1444.81 1770.15,1444.81 1770.98,1444.81 1771.81,1444.81 1772.63,1444.81 1773.46,1444.81 1774.29,1444.81 1775.12,1444.81 1775.94,1444.81 1776.77,1444.81 1777.6,1444.81 1778.42,1444.81 1779.25,1444.81 1780.08,1444.81 1780.91,1444.81 1781.73,1444.81 1782.56,1444.81 1783.39,1444.81 1784.21,1444.81 1785.04,1444.81 1785.87,1444.81 1786.7,1444.81 1787.52,1444.81 1788.35,1444.81 1789.18,1444.81 1790,1444.81 1790.83,1444.81 1791.66,1444.81 1792.49,1444.81 1793.31,1444.81 1794.14,1444.81 1794.97,1444.81 1795.79,1444.81 1796.62,1444.81 1797.45,1444.81 1798.28,1444.81 1799.1,1444.81 1799.93,1444.81 1800.76,1444.81 1801.58,1444.81 1802.41,1444.81 1803.24,1444.81 1804.07,1444.81 1804.89,1444.81 1805.72,1444.81 1806.55,1444.81 1807.38,1444.81 1808.2,1444.81 1809.03,1444.81 1809.86,1444.81 1810.68,1444.81 1811.51,1444.81 1812.34,1444.81 1813.17,1444.81 1813.99,1444.81 1814.82,1444.81 1815.65,1444.81 1816.47,1444.81 1817.3,1444.81 1818.13,1444.81 1818.96,1444.81 1819.78,1444.81 1820.61,1444.81 1821.44,1444.81 1822.26,1444.81 1823.09,1444.81 1823.92,1444.81 1824.75,1444.81 1825.57,1444.81 1826.4,1444.81 1827.23,1444.81 1828.05,1444.81 1828.88,1444.81 1829.71,1444.81 1830.54,1444.81 1831.36,1444.81 1832.19,1444.81 1833.02,1444.81 1833.84,1444.81 1834.67,1444.81 1835.5,1444.81 1836.33,1444.81 1837.15,1444.81 1837.98,1444.81 1838.81,1444.81 1839.63,1444.81 1840.46,1444.81 1841.29,1444.81 1842.12,1444.81 1842.94,1444.81 1843.77,1444.81 1844.6,1444.81 1845.43,1444.81 1846.25,1444.81 1847.08,1444.81 1847.91,1444.81 1848.73,1444.81 1849.56,1444.81 1850.39,1444.81 1851.22,1444.81 1852.04,1444.81 1852.87,1444.81 1853.7,1444.81 1854.52,1444.81 1855.35,1444.81 1856.18,1444.81 1857.01,1444.81 1857.83,1444.81 1858.66,1444.81 1859.49,1444.81 1860.31,1444.81 1861.14,1444.81 1861.97,1444.81 1862.8,1444.81 1863.62,1444.81 1864.45,1444.81 1865.28,1444.81 1866.1,1444.81 1866.93,1444.81 1867.76,1444.81 1868.59,1444.81 1869.41,1444.81 1870.24,1444.81 1871.07,1444.81 1871.89,1444.81 1872.72,1444.81 1873.55,1444.81 1874.38,1444.81 1875.2,1444.81 1876.03,1444.81 1876.86,1444.81 1877.68,1444.81 1878.51,1444.81 1879.34,1444.81 1880.17,1444.81 1880.99,1444.81 1881.82,1444.81 1882.65,1444.81 1883.48,1444.81 1884.3,1444.81 1885.13,1444.81 1885.96,1444.81 1886.78,1444.81 1887.61,1444.81 1888.44,1444.81 1889.27,1444.81 1890.09,1444.81 1890.92,1444.81 1891.75,1444.81 1892.57,1444.81 1893.4,1444.81 1894.23,1444.81 1895.06,1444.81 1895.88,1444.81 1896.71,1444.81 1897.54,1444.81 1898.36,1444.81 1899.19,1444.81 1900.02,1444.81 1900.85,1444.81 1901.67,1444.81 1902.5,1444.81 1903.33,1444.81 1904.15,1444.81 1904.98,1444.81 1905.81,1444.81 1906.64,1444.81 1907.46,1444.81 1908.29,1444.81 1909.12,1444.81 1909.94,1444.81 1910.77,1444.81 1911.6,1444.81 1912.43,1444.81 1913.25,1444.81 1914.08,1444.81 1914.91,1444.81 1915.73,1444.81 1916.56,1444.81 1917.39,1444.81 1918.22,1444.81 1919.04,1444.81 1919.87,1444.81 1920.7,1444.81 1921.53,1444.81 1922.35,1444.81 1923.18,1444.81 1924.01,1444.81 1924.83,1444.81 1925.66,1444.81 1926.49,1444.81 1927.32,1444.81 1928.14,1444.81 1928.97,1444.81 1929.8,1444.81 1930.62,1444.81 1931.45,1444.81 1932.28,1444.81 1933.11,1444.81 1933.93,1444.81 1934.76,1444.81 1935.59,1444.81 1936.41,1444.81 1937.24,1444.81 1938.07,1444.81 1938.9,1444.81 1939.72,1444.81 1940.55,1444.81 1941.38,1444.81 1942.2,1444.81 1943.03,1444.81 1943.86,1444.81 1944.69,1444.81 1945.51,1444.81 1946.34,1444.81 1947.17,1444.81 1947.99,1444.81 1948.82,1444.81 1949.65,1444.81 1950.48,1444.81 1951.3,1444.81 1952.13,1444.81 1952.96,1444.81 1953.78,1444.81 1954.61,1444.81 1955.44,1444.81 1956.27,1444.81 1957.09,1444.81 1957.92,1444.81 1958.75,1444.81 1959.58,1444.81 1960.4,1444.81 1961.23,1444.81 1962.06,1444.81 1962.88,1444.81 1963.71,1444.81 1964.54,1444.81 1965.37,1444.81 1966.19,1444.81 1967.02,1444.81 1967.85,1444.81 1968.67,1444.81 1969.5,1444.81 1970.33,1444.81 1971.16,1444.81 1971.98,1444.81 1972.81,1444.81 1973.64,1444.81 1974.46,1444.81 1975.29,1444.81 1976.12,1444.81 1976.95,1444.81 1977.77,1444.81 1978.6,1444.81 1979.43,1444.81 1980.25,1444.81 1981.08,1444.81 1981.91,1444.81 1982.74,1444.81 1983.56,1444.81 1984.39,1444.81 1985.22,1444.81 1986.04,1444.81 1986.87,1444.81 1987.7,1444.81 1988.53,1444.81 1989.35,1444.81 1990.18,1444.81 1991.01,1444.81 1991.83,1444.81 1992.66,1444.81 1993.49,1444.81 1994.32,1444.81 1995.14,1444.81 1995.97,1444.81 1996.8,1444.81 1997.63,1444.81 1998.45,1444.81 1999.28,1444.81 2000.11,1444.81 2000.93,1444.81 2001.76,1444.81 2002.59,1444.81 2003.42,1444.81 2004.24,1444.81 2005.07,1444.81 2005.9,1444.81 2006.72,1444.81 2007.55,1444.81 2008.38,1444.81 2009.21,1444.81 2010.03,1444.81 2010.86,1444.81 2011.69,1444.81 2012.51,1444.81 2013.34,1444.81 2014.17,1444.81 2015,1444.81 2015.82,1444.81 2016.65,1444.81 2017.48,1444.81 2018.3,1444.81 2019.13,1444.81 2019.96,1444.81 2020.79,1444.81 2021.61,1444.81 2022.44,1444.81 2023.27,1444.81 2024.09,1444.81 2024.92,1444.81 2025.75,1444.81 2026.58,1444.81 2027.4,1444.81 2028.23,1444.81 2029.06,1444.81 2029.88,1444.81 2030.71,1444.81 2031.54,1444.81 2032.37,1444.81 2033.19,1444.81 2034.02,1444.81 2034.85,1444.81 2035.68,1444.81 2036.5,1444.81 2037.33,1444.81 2038.16,1444.81 2038.98,1444.81 2039.81,1444.81 2040.64,1444.81 2041.47,1444.81 2042.29,1444.81 2043.12,1444.81 2043.95,1444.81 2044.77,1444.81 2045.6,1444.81 2046.43,1444.81 2047.26,1444.81 2048.08,1444.81 2048.91,1444.81 2049.74,1444.81 2050.56,1444.81 2051.39,1444.81 2052.22,1444.81 2053.05,1444.81 2053.87,1444.81 2054.7,1444.81 2055.53,1444.81 2056.35,1444.81 2057.18,1444.81 2058.01,1444.81 2058.84,1444.81 2059.66,1444.81 2060.49,1444.81 2061.32,1444.81 2062.14,1444.81 2062.97,1444.81 2063.8,1444.81 2064.63,1444.81 2065.45,1444.81 2066.28,1444.81 2067.11,1444.81 2067.93,1444.81 2068.76,1444.81 2069.59,1444.81 2070.42,1444.81 2071.24,1444.81 2072.07,1444.81 2072.9,1444.81 2073.73,1444.81 2074.55,1444.81 2075.38,1444.81 2076.21,1444.81 2077.03,1444.81 2077.86,1444.81 2078.69,1444.81 2079.52,1444.81 2080.34,1444.81 2081.17,1444.81 2082,1444.81 2082.82,1444.81 2083.65,1444.81 2084.48,1444.81 2085.31,1444.81 2086.13,1444.81 2086.96,1444.81 2087.79,1444.81 2088.61,1444.81 2089.44,1444.81 2090.27,1444.81 2091.1,1444.81 2091.92,1444.81 2092.75,1444.81 2093.58,1444.81 2094.4,1444.81 2095.23,1444.81 2096.06,1444.81 2096.89,1444.81 2097.71,1444.81 2098.54,1444.81 2099.37,1444.81 2100.19,1444.81 2101.02,1444.81 2101.85,1444.81 2102.68,1444.81 2103.5,1444.81 2104.33,1444.81 2105.16,1444.81 2105.98,1444.81 2106.81,1444.81 2107.64,1444.81 2108.47,1444.81 2109.29,1444.81 2110.12,1444.81 2110.95,1444.81 2111.78,1444.81 2112.6,1444.81 2113.43,1444.81 2114.26,1444.81 2115.08,1444.81 2115.91,1444.81 2116.74,1444.81 2117.57,1444.81 2118.39,1444.81 2119.22,1444.81 2120.05,1444.81 2120.87,1444.81 2121.7,1444.81 2122.53,1444.81 2123.36,1444.81 2124.18,1444.81 2125.01,1444.81 2125.84,1444.81 2126.66,1444.81 2127.49,1444.81 2128.32,1444.81 2129.15,1444.81 2129.97,1444.81 2130.8,1444.81 2131.63,1444.81 2132.45,1444.81 2133.28,1444.81 2134.11,1444.81 2134.94,1444.81 2135.76,1444.81 2136.59,1444.81 2137.42,1444.81 2138.24,1444.81 2139.07,1444.81 2139.9,1444.81 2140.73,1444.81 2141.55,1444.81 2142.38,1444.81 2143.21,1444.81 2144.03,1444.81 2144.86,1444.81 2145.69,1444.81 2146.52,1444.81 2147.34,1444.81 2148.17,1444.81 2149,1444.81 2149.83,1444.81 2150.65,1444.81 2151.48,1444.81 2152.31,1444.81 2153.13,1444.81 2153.96,1444.81 2154.79,1444.81 2155.62,1444.81 2156.44,1444.81 2157.27,1444.81 2158.1,1444.81 2158.92,1444.81 2159.75,1444.81 2160.58,1444.81 2161.41,1444.81 2162.23,1444.81 2163.06,1444.81 2163.89,1444.81 2164.71,1444.81 2165.54,1444.81 2166.37,1444.81 2167.2,1444.81 2168.02,1444.81 2168.85,1444.81 2169.68,1444.81 2170.5,1444.81 2171.33,1444.81 2172.16,1444.81 2172.99,1444.81 2173.81,1444.81 2174.64,1444.81 2175.47,1444.81 2176.29,1444.81 2177.12,1444.81 2177.95,1444.81 2178.78,1444.81 2179.6,1444.81 2180.43,1444.81 2181.26,1444.81 2182.09,1444.81 2182.91,1444.81 2183.74,1444.81 2184.57,1444.81 2185.39,1444.81 2186.22,1444.81 2187.05,1444.81 2187.88,1444.81 2188.7,1444.81 2189.53,1444.81 2190.36,1444.81 2191.18,1444.81 2192.01,1444.81 2192.84,1444.81 2193.67,1444.81 2194.49,1444.81 2195.32,1444.81 2196.15,1444.81 2196.97,1444.81 2197.8,1444.81 2198.63,1444.81 2199.46,1444.81 2200.28,1444.81 2201.11,1444.81 2201.94,1444.81 2202.76,1444.81 2203.59,1444.81 2204.42,1444.81 2205.25,1444.81 2206.07,1444.81 2206.9,1444.81 2207.73,1444.81 2208.55,1444.81 2209.38,1444.81 2210.21,1444.81 2211.04,1444.81 2211.86,1444.81 2212.69,1444.81 2213.52,1444.81 2214.34,1444.81 2215.17,1444.81 2216,1444.81 2216.83,1444.81 2217.65,1444.81 2218.48,1444.81 2219.31,1444.81 2220.14,1444.81 2220.96,1444.81 2221.79,1444.81 2222.62,1443.45 2223.44,1443.45 2224.27,1443.45 2225.1,1443.45 2225.93,1443.45 2226.75,1443.45 2227.58,1443.45 2228.41,1443.45 2229.23,1443.45 2230.06,1443.45 2230.89,1443.45 2231.72,1443.45 2232.54,1443.45 2233.37,1443.45 2234.2,1443.45 2235.02,1443.45 2235.85,1443.45 2236.68,1443.45 2237.51,1443.45 2238.33,1443.45 2239.16,1443.45 2239.99,1443.45 2240.81,1443.45 2241.64,1443.45 2242.47,1443.45 2243.3,1443.45 2244.12,1443.45 2244.95,1443.45 2245.78,1443.45 2246.6,1443.45 2247.43,1443.45 2248.26,1443.45 2249.09,1443.45 2249.91,1443.45 2250.74,1443.45 2251.57,1443.45 2252.39,1443.45 2253.22,1443.45 2254.05,1443.45 2254.88,1443.45 2255.7,1443.45 2256.53,1443.45 2257.36,1443.45 2258.19,1443.45 2259.01,1443.45 2259.84,1443.45 2260.67,1443.45 2261.49,1443.45 2262.32,1443.45 2263.15,1443.45 2263.98,1443.45 2264.8,1443.45 2265.63,1443.45 2266.46,1443.45 2267.28,1443.45 2268.11,1443.45 2268.94,1443.45 2269.77,1443.45 2270.59,1443.45 2271.42,1443.45 2272.25,1443.45 2273.07,1443.45 2273.9,1443.45 2274.73,1443.45 2275.56,1443.45 2276.38,1443.45 2277.21,1443.45 2278.04,1443.45 2278.86,1443.45 2279.69,1443.45 2280.52,1443.45 2281.35,1443.45 2282.17,1443.45 2283,1443.45 2283.83,1443.45 2284.65,1443.45 2285.48,1443.45 2286.31,1443.45 2287.14,1443.45 2287.96,1443.45 2288.79,1443.45 2289.62,1443.45 2290.44,1443.45 2291.27,1443.45 2292.1,1443.45 2292.93,1443.45 2293.75,1443.45 2294.58,1443.45 2295.41,1443.45 \"/>\n",
       "<polyline clip-path=\"url(#clip992)\" style=\"stroke:#e26f46; stroke-linecap:round; stroke-linejoin:round; stroke-width:4; stroke-opacity:1; fill:none\" points=\"383.808,1445.72 420.571,1445.72 457.335,1445.72 494.098,1445.72 530.861,1445.72 567.618,1445.72 604.381,1445.72 641.144,1445.72 677.908,1165.46 714.671,1165.46 751.434,1165.46 788.198,968.982 824.961,968.982 861.724,968.982 898.495,968.982 935.258,87.9763 972.021,87.9763 1008.78,87.9763 1045.55,87.9763 1082.31,87.9763 1119.07,87.9763 1155.84,87.9763 1192.6,1330.53 1229.36,1330.53 1266.12,1330.53 1302.88,1330.53 1339.65,1330.53 1376.41,1330.53 1413.17,1330.53 1449.94,1225.37 1486.7,1225.37 1523.46,1225.37 1560.23,1225.37 1596.99,1225.37 1633.75,1225.37 1670.52,1225.37 1707.28,1444.81 1744.04,1444.81 1780.81,1444.81 1817.57,1444.81 1854.33,1444.81 1891.1,1444.81 1927.86,1444.81 1964.62,1444.81 2001.39,1444.81 2038.15,1444.81 2074.91,1444.81 2111.68,1444.81 2148.44,1444.81 2185.2,1444.81 2221.97,1443.45 \"/>\n",
       "<path clip-path=\"url(#clip990)\" d=\"M2030.15 250.738 L2285.21 250.738 L2285.21 95.2176 L2030.15 95.2176  Z\" fill=\"#ffffff\" fill-rule=\"evenodd\" fill-opacity=\"1\"/>\n",
       "<polyline clip-path=\"url(#clip990)\" style=\"stroke:#000000; stroke-linecap:round; stroke-linejoin:round; stroke-width:4; stroke-opacity:1; fill:none\" points=\"2030.15,250.738 2285.21,250.738 2285.21,95.2176 2030.15,95.2176 2030.15,250.738 \"/>\n",
       "<polyline clip-path=\"url(#clip990)\" style=\"stroke:#009af9; stroke-linecap:round; stroke-linejoin:round; stroke-width:4; stroke-opacity:1; fill:none\" points=\"2052.67,147.058 2187.75,147.058 \"/>\n",
       "<path clip-path=\"url(#clip990)\" d=\"M2224.11 166.745 Q2222.31 171.375 2220.59 172.787 Q2218.88 174.199 2216.01 174.199 L2212.61 174.199 L2212.61 170.634 L2215.11 170.634 Q2216.87 170.634 2217.84 169.8 Q2218.81 168.967 2219.99 165.865 L2220.75 163.921 L2210.27 138.412 L2214.78 138.412 L2222.88 158.689 L2230.99 138.412 L2235.5 138.412 L2224.11 166.745 Z\" fill=\"#000000\" fill-rule=\"nonzero\" fill-opacity=\"1\" /><path clip-path=\"url(#clip990)\" d=\"M2242.79 160.402 L2250.43 160.402 L2250.43 134.037 L2242.12 135.703 L2242.12 131.444 L2250.38 129.778 L2255.06 129.778 L2255.06 160.402 L2262.7 160.402 L2262.7 164.338 L2242.79 164.338 L2242.79 160.402 Z\" fill=\"#000000\" fill-rule=\"nonzero\" fill-opacity=\"1\" /><polyline clip-path=\"url(#clip990)\" style=\"stroke:#e26f46; stroke-linecap:round; stroke-linejoin:round; stroke-width:4; stroke-opacity:1; fill:none\" points=\"2052.67,198.898 2187.75,198.898 \"/>\n",
       "<path clip-path=\"url(#clip990)\" d=\"M2224.11 218.585 Q2222.31 223.215 2220.59 224.627 Q2218.88 226.039 2216.01 226.039 L2212.61 226.039 L2212.61 222.474 L2215.11 222.474 Q2216.87 222.474 2217.84 221.64 Q2218.81 220.807 2219.99 217.705 L2220.75 215.761 L2210.27 190.252 L2214.78 190.252 L2222.88 210.529 L2230.99 190.252 L2235.5 190.252 L2224.11 218.585 Z\" fill=\"#000000\" fill-rule=\"nonzero\" fill-opacity=\"1\" /><path clip-path=\"url(#clip990)\" d=\"M2246.01 212.242 L2262.33 212.242 L2262.33 216.178 L2240.38 216.178 L2240.38 212.242 Q2243.05 209.488 2247.63 204.858 Q2252.24 200.205 2253.42 198.863 Q2255.66 196.34 2256.54 194.604 Q2257.44 192.844 2257.44 191.155 Q2257.44 188.4 2255.5 186.664 Q2253.58 184.928 2250.48 184.928 Q2248.28 184.928 2245.82 185.692 Q2243.39 186.455 2240.62 188.006 L2240.62 183.284 Q2243.44 182.15 2245.89 181.571 Q2248.35 180.993 2250.38 180.993 Q2255.75 180.993 2258.95 183.678 Q2262.14 186.363 2262.14 190.854 Q2262.14 192.983 2261.33 194.905 Q2260.55 196.803 2258.44 199.395 Q2257.86 200.067 2254.76 203.284 Q2251.66 206.479 2246.01 212.242 Z\" fill=\"#000000\" fill-rule=\"nonzero\" fill-opacity=\"1\" /></svg>\n"
      ]
     },
     "execution_count": 27,
     "metadata": {},
     "output_type": "execute_result"
    }
   ],
   "source": [
    "plot!(range(ts[50],te[100],step=1e-2), [stepf(e_prod[1, :], t, ts, te) for t in range(ts[50],te[100],step=1e-2)])\n",
    "plot!(ts[50:100], e_prod[1, 50:100])\n"
   ]
  },
  {
   "cell_type": "code",
   "execution_count": 42,
   "id": "29abab1d-0a5f-441d-9c08-78610d1c42fb",
   "metadata": {},
   "outputs": [
    {
     "data": {
      "text/plain": [
       "String"
      ]
     },
     "execution_count": 42,
     "metadata": {},
     "output_type": "execute_result"
    }
   ],
   "source": [
    "c = \"asdf\"\n",
    "typeof(c)"
   ]
  },
  {
   "cell_type": "code",
   "execution_count": 156,
   "id": "93a3fc0e-853f-4d78-bb67-5690ac8d9efa",
   "metadata": {
    "tags": []
   },
   "outputs": [
    {
     "name": "stderr",
     "output_type": "stream",
     "text": [
      "WARNING: redefinition of constant dndt. This may fail, cause incorrect answers, or produce other errors.\n",
      "WARNING: redefinition of constant dndt_c. This may fail, cause incorrect answers, or produce other errors.\n",
      "WARNING: redefinition of constant dndt_c2. This may fail, cause incorrect answers, or produce other errors.\n"
     ]
    },
    {
     "data": {
      "text/plain": [
       "dummyf3 (generic function with 1 method)"
      ]
     },
     "execution_count": 156,
     "metadata": {},
     "output_type": "execute_result"
    }
   ],
   "source": [
    "\n",
    "#ode_raw = juliaIC.ode_raw\n",
    "\n",
    "function dndtFromString(s)\n",
    "    f = eval(Meta.parse(\"(nprodd, r, rr, tt) -> \" * s))\n",
    "    return (nprodd, r, rr, tt) -> Base.invokelatest(f, nprodd, r, rr, tt)\n",
    "end\n",
    "\n",
    "\n",
    "dndt = Array{Any}(undef, length(particles))\n",
    "dndt_str = Array{String}(undef, length(particles))\n",
    "\n",
    "for i in 1:length(particles)\n",
    "    #dndt_str = \"\"\n",
    "    if ode_raw[i] == [0]\n",
    "        dndt_str[i] = \"zeros(size(rr[1]))\"\n",
    "        #print(particles[i][2], \"\\n\") #all species that are assumed of constant density (N2, O2, O, H)\n",
    "    else\n",
    "        #print(ode_raw[i], \"\\n\")\n",
    "        dndt_str[i] = \"nprodd[$i](tt)\"\n",
    "        for o in ode_raw[i]\n",
    "            if o == [0] #if not participating in reaction, no terms are added\n",
    "            else\n",
    "                #print(o, \"\\n\")\n",
    "                dndt_str[i] = dndt_str[i] * \" .+ $(o[2]).* rr[$(o[1])]\"\n",
    "                #dndt_str[i] = dndt_str[i] * \" \\n .+ $(o[2]).* $(reactions_[o[1]][2])\"\n",
    "                \n",
    "            end\n",
    "        end\n",
    "    end\n",
    "    #println(dndt_str[i], \"\\n\")\n",
    "end\n",
    "\n",
    "for i in 1:length(particles)\n",
    "    dndt[i] = dndtFromString(dndt_str[i])\n",
    "end\n",
    "\n",
    "const dndt_c = dndt\n",
    "\n",
    "dndt2 = Array{Any}(undef, length(particles))\n",
    "dndt_str2 = Array{String}(undef, length(particles))\n",
    "\n",
    "for i in 1:length(particles)\n",
    "    #dndt_str = \"\"\n",
    "    if ode_raw[i] == [0]\n",
    "        dndt_str2[i] = \"zeros(size(rr[1]))\"\n",
    "        #print(particles[i][2], \"\\n\") #all species that are assumed of constant density (N2, O2, O, H)\n",
    "    else\n",
    "        #print(ode_raw[i], \"\\n\")\n",
    "        dndt_str2[i] = \"nprodd[$i](tt)\"\n",
    "        for o in ode_raw[i]\n",
    "            if o == [0] #if not participating in reaction, no terms are added\n",
    "            else\n",
    "                #print(o, \"\\n\")\n",
    "                dndt_str2[i] = dndt_str2[i] * \" .+ $(o[2]).* rr[:, $(o[1])]\"\n",
    "                #dndt_str[i] = dndt_str[i] * \" \\n .+ $(o[2]).* $(reactions_[o[1]][2])\"\n",
    "                \n",
    "            end\n",
    "        end\n",
    "    end\n",
    "    #println(dndt_str[i], \"\\n\")\n",
    "end\n",
    "\n",
    "for i in 1:length(particles)\n",
    "    dndt2[i] = dndtFromString(dndt_str2[i])\n",
    "end\n",
    "\n",
    "const dndt_c2 = dndt2\n",
    "\n",
    "function dummyf(n, p, t)\n",
    "    dn = zeros(size(n))\n",
    "    reactions, nprod, dndt, temp = p\n",
    "    temp_ = collect(temp(t))\n",
    "    temp_2 = [temp_[i, :] for i in 1:size(temp_,1)]\n",
    "    \n",
    "    #is quite slow! try to get rid of loops\n",
    "    \n",
    "    rr = [r[4](temp_2) for r in reactions]\n",
    "  \n",
    "    for (i, r) in enumerate(reactions)\n",
    "        for j in r[2]\n",
    "            rr[i] = rr[i].*n[j, :]\n",
    "        end\n",
    "    end\n",
    "        \n",
    "    for j in 1:size(n)[1]\n",
    "        #dn[j, :] .= nprod[j](t)\n",
    "        dn[j, :] .= dndt[j](nprod, reactions, rr, t)\n",
    "    end \n",
    "    return dn\n",
    "end\n",
    "\n",
    "\n",
    "\n",
    "function dummyf2(dn::Matrix{Float64}, n, p, t)\n",
    "    #dn = zeros(size(n))\n",
    "    reactions, nprod, dndt, temp = p\n",
    "    temp_ = collect(temp(t))\n",
    "    temp_2 = [temp_[i, :] for i in 1:size(temp_,1)]\n",
    "    \n",
    "    #is quite slow! try to get rid of loops\n",
    "    \n",
    "    rr = [r[4](temp_2) for r in reactions]\n",
    "  \n",
    "    for (i, r) in enumerate(reactions)\n",
    "        for j in r[2]\n",
    "            rr[i] = rr[i].*n[j, :]\n",
    "        end\n",
    "    end\n",
    "        \n",
    "    for j in 1:size(n)[1]\n",
    "        #dn[j, :] .= nprod[j](t)\n",
    "        dn[j, :] .= dndt[j](nprod, reactions, rr, t)\n",
    "    end \n",
    "    nothing;\n",
    "#    return dn\n",
    "end\n",
    "\n",
    "function dummyf3(n, p, t)\n",
    "    dn = zeros(size(n))\n",
    "    reactions, nprod, dndt, temp = p\n",
    "    \n",
    "    rr = Matrix{Float64}(undef, (62, 52))\n",
    "    rr.= [j[4](i) for i in eachrow(temp(0)'), j in reactions]\n",
    "    \n",
    "    for (i, r) in enumerate(reactions)\n",
    "        for j in r[2]\n",
    "            rr[:, i] = rr[:, i].*n[j, :]\n",
    "        end\n",
    "    end\n",
    "        \n",
    "    for j in 1:size(n)[1]\n",
    "        #dn[j, :] .= nprod[j](t)\n",
    "        dn[j, :] .= dndt2[j](nprod, reactions, rr, t)\n",
    "    end \n",
    "    return dn\n",
    "end"
   ]
  },
  {
   "cell_type": "code",
   "execution_count": 145,
   "id": "122c07bf-e026-4280-8ddf-14b26b062ca9",
   "metadata": {
    "tags": []
   },
   "outputs": [
    {
     "name": "stdout",
     "output_type": "stream",
     "text": [
      "  0.032468 seconds (100.92 k allocations: 5.708 MiB, 93.92% compilation time)\n",
      "  0.150738 seconds (100.92 k allocations: 5.683 MiB, 77.99% gc time, 98.93% compilation time)\n"
     ]
    },
    {
     "data": {
      "text/plain": [
       "62×52 Matrix{Float64}:\n",
       " 2.40439e-13  2.16286e-13  6.26726e-13  …  0.0001  1.215  0.07601  0.00745\n",
       " 2.41112e-13  2.16758e-13  6.29709e-13     0.0001  1.215  0.07601  0.00745\n",
       " 2.41488e-13  2.17022e-13  6.31381e-13     0.0001  1.215  0.07601  0.00745\n",
       " 2.41517e-13  2.17042e-13  6.3151e-13      0.0001  1.215  0.07601  0.00745\n",
       " 2.41146e-13  2.16782e-13  6.29861e-13     0.0001  1.215  0.07601  0.00745\n",
       " 2.4032e-13   2.16203e-13  6.26199e-13  …  0.0001  1.215  0.07601  0.00745\n",
       " 2.39018e-13  2.15288e-13  6.2044e-13      0.0001  1.215  0.07601  0.00745\n",
       " 2.37278e-13  2.14065e-13  6.1278e-13      0.0001  1.215  0.07601  0.00745\n",
       " 2.35144e-13  2.12561e-13  6.03441e-13     0.0001  1.215  0.07601  0.00745\n",
       " 2.32659e-13  2.10808e-13  5.92643e-13     0.0001  1.215  0.07601  0.00745\n",
       " 2.29869e-13  2.08833e-13  5.80609e-13  …  0.0001  1.215  0.07601  0.00745\n",
       " 2.26815e-13  2.06666e-13  5.6756e-13      0.0001  1.215  0.07601  0.00745\n",
       " 2.23545e-13  2.04338e-13  5.53719e-13     0.0001  1.215  0.07601  0.00745\n",
       " ⋮                                      ⋱                 ⋮        \n",
       " 1.35458e-13  1.38246e-13  2.36284e-13  …  0.0001  1.215  0.07601  0.00745\n",
       " 1.34596e-13  1.3756e-13   2.33736e-13     0.0001  1.215  0.07601  0.00745\n",
       " 1.3377e-13   1.36901e-13  2.31303e-13     0.0001  1.215  0.07601  0.00745\n",
       " 1.32978e-13  1.36268e-13  2.28978e-13     0.0001  1.215  0.07601  0.00745\n",
       " 1.32217e-13  1.35659e-13  2.26755e-13     0.0001  1.215  0.07601  0.00745\n",
       " 1.31486e-13  1.35074e-13  2.24628e-13  …  0.0001  1.215  0.07601  0.00745\n",
       " 1.30783e-13  1.3451e-13   2.22591e-13     0.0001  1.215  0.07601  0.00745\n",
       " 1.30107e-13  1.33968e-13  2.20639e-13     0.0001  1.215  0.07601  0.00745\n",
       " 1.29457e-13  1.33445e-13  2.18767e-13     0.0001  1.215  0.07601  0.00745\n",
       " 1.28831e-13  1.32941e-13  2.16971e-13     0.0001  1.215  0.07601  0.00745\n",
       " 1.28228e-13  1.32456e-13  2.15247e-13  …  0.0001  1.215  0.07601  0.00745\n",
       " 1.27646e-13  1.31987e-13  2.13591e-13     0.0001  1.215  0.07601  0.00745"
      ]
     },
     "execution_count": 145,
     "metadata": {},
     "output_type": "execute_result"
    }
   ],
   "source": [
    "temp_ = collect(temp_julia(0))\n",
    "temp_2 = [temp_[i, :] for i in 1:size(temp_,1)]\n",
    "rr = [r[4](temp_2) for r in reactions]\n",
    "\n",
    "#rr =  Vector{Vector{Float64}}(undef, )\n",
    "@time begin\n",
    "rr = Matrix{Float64}(undef, (62, 52))\n",
    "rr = [j[4](i) for i in eachrow(temp_julia(0)'), j in reactions]\n",
    "end\n",
    "\n",
    "@time cc = [j[4](i) for i in eachrow(temp_julia(0)'), j in reactions]\n"
   ]
  },
  {
   "cell_type": "code",
   "execution_count": 101,
   "id": "a7cf81cf-9bf8-415d-aa07-3994abc22545",
   "metadata": {
    "collapsed": true,
    "jupyter": {
     "outputs_hidden": true,
     "source_hidden": true
    },
    "tags": []
   },
   "outputs": [
    {
     "name": "stdout",
     "output_type": "stream",
     "text": [
      "2.4043946885773026e-13\n",
      "(3, 62)\n",
      "  0.047104 seconds (100.77 k allocations: 5.935 MiB, 96.18% compilation time)\n",
      "  0.030824 seconds (100.77 k allocations: 5.686 MiB, 94.63% compilation time)\n",
      "  0.028283 seconds (100.92 k allocations: 5.694 MiB, 94.51% compilation time)\n",
      "  0.028003 seconds (100.92 k allocations: 5.747 MiB, 94.68% compilation time)\n",
      "  0.033600 seconds (102.77 k allocations: 12.713 MiB, 87.42% compilation time)\n",
      "  0.030777 seconds (102.77 k allocations: 12.713 MiB, 89.14% compilation time)\n"
     ]
    },
    {
     "data": {
      "text/plain": [
       "62×52 Matrix{Float64}:\n",
       " 2.40439e-13  2.16286e-13  6.26726e-13  …  0.0001  1.215  0.07601  0.00745\n",
       " 2.41112e-13  2.16758e-13  6.29709e-13     0.0001  1.215  0.07601  0.00745\n",
       " 2.41488e-13  2.17022e-13  6.31381e-13     0.0001  1.215  0.07601  0.00745\n",
       " 2.41517e-13  2.17042e-13  6.3151e-13      0.0001  1.215  0.07601  0.00745\n",
       " 2.41146e-13  2.16782e-13  6.29861e-13     0.0001  1.215  0.07601  0.00745\n",
       " 2.4032e-13   2.16203e-13  6.26199e-13  …  0.0001  1.215  0.07601  0.00745\n",
       " 2.39018e-13  2.15288e-13  6.2044e-13      0.0001  1.215  0.07601  0.00745\n",
       " 2.37278e-13  2.14065e-13  6.1278e-13      0.0001  1.215  0.07601  0.00745\n",
       " 2.35144e-13  2.12561e-13  6.03441e-13     0.0001  1.215  0.07601  0.00745\n",
       " 2.32659e-13  2.10808e-13  5.92643e-13     0.0001  1.215  0.07601  0.00745\n",
       " 2.29869e-13  2.08833e-13  5.80609e-13  …  0.0001  1.215  0.07601  0.00745\n",
       " 2.26815e-13  2.06666e-13  5.6756e-13      0.0001  1.215  0.07601  0.00745\n",
       " 2.23545e-13  2.04338e-13  5.53719e-13     0.0001  1.215  0.07601  0.00745\n",
       " ⋮                                      ⋱                 ⋮        \n",
       " 1.35458e-13  1.38246e-13  2.36284e-13  …  0.0001  1.215  0.07601  0.00745\n",
       " 1.34596e-13  1.3756e-13   2.33736e-13     0.0001  1.215  0.07601  0.00745\n",
       " 1.3377e-13   1.36901e-13  2.31303e-13     0.0001  1.215  0.07601  0.00745\n",
       " 1.32978e-13  1.36268e-13  2.28978e-13     0.0001  1.215  0.07601  0.00745\n",
       " 1.32217e-13  1.35659e-13  2.26755e-13     0.0001  1.215  0.07601  0.00745\n",
       " 1.31486e-13  1.35074e-13  2.24628e-13  …  0.0001  1.215  0.07601  0.00745\n",
       " 1.30783e-13  1.3451e-13   2.22591e-13     0.0001  1.215  0.07601  0.00745\n",
       " 1.30107e-13  1.33968e-13  2.20639e-13     0.0001  1.215  0.07601  0.00745\n",
       " 1.29457e-13  1.33445e-13  2.18767e-13     0.0001  1.215  0.07601  0.00745\n",
       " 1.28831e-13  1.32941e-13  2.16971e-13     0.0001  1.215  0.07601  0.00745\n",
       " 1.28228e-13  1.32456e-13  2.15247e-13  …  0.0001  1.215  0.07601  0.00745\n",
       " 1.27646e-13  1.31987e-13  2.13591e-13     0.0001  1.215  0.07601  0.00745"
      ]
     },
     "execution_count": 101,
     "metadata": {},
     "output_type": "execute_result"
    }
   ],
   "source": [
    "println(reactions[1][4](temp(0)))\n",
    "println(size(temp_julia3(0)))\n",
    "\n",
    "@time collect(j[4](i) for i in eachrow(temp(0)'), j in reactions)\n",
    "@time collect(j[4](i) for i in eachrow(temp(0)'), j in reactions)\n",
    "@time collect(j[4](i) for i in eachrow(collect(temp_julia(0))'), j in reactions)\n",
    "@time collect(j[4](i) for i in eachrow(collect(temp_julia(0))'), j in reactions)\n",
    "@time collect(j[4](i) for i in eachrow(collect(temp_julia3(0))'), j in reactions)\n",
    "@time collect(j[4](i) for i in eachrow(collect(temp_julia3(0))'), j in reactions)\n",
    "\n",
    "\n",
    "\n"
   ]
  },
  {
   "cell_type": "code",
   "execution_count": 158,
   "id": "ec79c1e6-a357-4aaf-a51a-d0fd39157301",
   "metadata": {},
   "outputs": [
    {
     "name": "stdout",
     "output_type": "stream",
     "text": [
      "  0.049833 seconds (44.40 k allocations: 2.059 MiB)\n",
      "  0.003377 seconds (44.40 k allocations: 2.059 MiB)\n",
      "  0.002890 seconds (2.39 k allocations: 342.781 KiB)\n",
      "  0.000813 seconds (2.39 k allocations: 342.781 KiB)\n",
      "  0.001904 seconds (1.89 k allocations: 332.688 KiB)\n",
      "  0.000499 seconds (1.89 k allocations: 332.688 KiB)\n",
      "  0.000500 seconds (1.89 k allocations: 332.688 KiB)\n",
      "  0.000478 seconds (1.89 k allocations: 332.688 KiB)\n",
      "  0.001320 seconds (2.03 k allocations: 333.734 KiB)\n",
      "  0.000749 seconds (2.03 k allocations: 333.734 KiB)\n",
      "  0.000785 seconds (2.03 k allocations: 324.359 KiB)\n",
      "  0.000660 seconds (2.03 k allocations: 324.359 KiB)\n"
     ]
    }
   ],
   "source": [
    "@time dummyf3(n0, (reactions, nprod, dndt, temp), 0);\n",
    "@time dummyf3(n0, (reactions, nprod, dndt, temp), 0);\n",
    "\n",
    "@time dummyf(n0, (reactions, nprod, dndt, temp), 0);\n",
    "@time dummyf(n0, (reactions, nprod, dndt, temp), 0);\n",
    "\n",
    "\n",
    "@time dummyf(n0, (reactions, nprod_julia, dndt, temp), 0);\n",
    "@time dummyf(n0, (reactions, nprod_julia, dndt, temp), 0);\n",
    "\n",
    "@time dummyf(n0, (reactions, nprod_julia, dndt_c, temp), 0);\n",
    "@time dummyf(n0, (reactions, nprod_julia, dndt_c, temp), 0);\n",
    "\n",
    "@time dummyf(n0, (reactions, nprod_julia, dndt_c, temp_julia), 0);\n",
    "@time dummyf(n0, (reactions, nprod_julia, dndt_c, temp_julia), 0);\n",
    "\n",
    "dn = Matrix{Float64}(undef, size(n0))\n",
    "@time dummyf2(dn, n0, (reactions, nprod_julia, dndt_c, temp_julia), 0);\n",
    "dn = Matrix{Float64}(undef, size(n0))\n",
    "@time dummyf2(dn, n0, (reactions, nprod_julia, dndt_c, temp_julia), 0);"
   ]
  },
  {
   "cell_type": "code",
   "execution_count": 161,
   "id": "8e3728c2-d6e7-431e-96be-e4069947074b",
   "metadata": {
    "tags": []
   },
   "outputs": [
    {
     "data": {
      "text/plain": [
       "solveIC_allAtOnce (generic function with 1 method)"
      ]
     },
     "execution_count": 161,
     "metadata": {},
     "output_type": "execute_result"
    }
   ],
   "source": [
    "function solveIC_allAtOnce(n0, ts, te, nprod, temp, reactions, dndt)\n",
    "    tspan = (ts, te)\n",
    "    prob = ODEProblem(dummyf, n0, tspan, (reactions, nprod, dndt, temp))\n",
    "    sol = solve(prob, TRBDF2(autodiff=false), reltol = 1e-7, abstol = 1e-3, saveat = t_save)\n",
    "    return sol    \n",
    "end"
   ]
  },
  {
   "cell_type": "code",
   "execution_count": 162,
   "id": "0dc95cc2-25e2-442b-bb5f-a330eb6e540e",
   "metadata": {
    "tags": []
   },
   "outputs": [
    {
     "name": "stdout",
     "output_type": "stream",
     "text": [
      " 75.309398 seconds (398.74 M allocations: 483.178 GiB, 10.69% gc time, 0.89% compilation time: 58% of which was recompilation)\n"
     ]
    }
   ],
   "source": [
    "@time sol3 = solveIC_allAtOnce(n0, ts_, te_, nprod, temp, reactions, dndt);"
   ]
  },
  {
   "cell_type": "code",
   "execution_count": 163,
   "id": "7b7ccd45-8af3-4ab2-bc12-a14cda409422",
   "metadata": {
    "tags": []
   },
   "outputs": [
    {
     "name": "stdout",
     "output_type": "stream",
     "text": [
      " 70.829902 seconds (421.79 M allocations: 545.117 GiB, 10.06% gc time, 0.93% compilation time: 67% of which was recompilation)\n"
     ]
    }
   ],
   "source": [
    "@time sol3 = solveIC_allAtOnce(n0, ts_, te_, nprod_julia_c, temp_julia, reactions, dndt_c);"
   ]
  },
  {
   "cell_type": "code",
   "execution_count": null,
   "id": "3d7f2cdb-8336-4295-b1b8-9c458347d152",
   "metadata": {},
   "outputs": [],
   "source": [
    "@time sol3 = solveIC_allAtOnce(n0, ts_, te_, nprod_julia, temp_julia3, reactions, dndt);"
   ]
  },
  {
   "cell_type": "code",
   "execution_count": null,
   "id": "c03806f2-c713-459a-afad-483932a971d0",
   "metadata": {
    "tags": []
   },
   "outputs": [],
   "source": [
    "sol1[1]"
   ]
  },
  {
   "cell_type": "code",
   "execution_count": 43,
   "id": "3b0fe749-e681-45e1-922a-016681cd61d7",
   "metadata": {
    "collapsed": true,
    "jupyter": {
     "outputs_hidden": true
    },
    "tags": []
   },
   "outputs": [
    {
     "ename": "LoadError",
     "evalue": "MethodError: no method matching (::var\"#33#34\"{var\"#35#36\"})(::Vector{PyObject}, ::Vector{Any}, ::Vector{Vector{Float64}}, ::Vector{Float64}, ::Float64)\n\n\u001b[0mClosest candidates are:\n\u001b[0m  (::var\"#33#34\")(::Any, ::Any, ::Any, ::Any)\n\u001b[0m\u001b[90m   @\u001b[39m \u001b[33mMain\u001b[39m \u001b[90m\u001b[4mIn[28]:6\u001b[24m\u001b[39m\n",
     "output_type": "error",
     "traceback": [
      "MethodError: no method matching (::var\"#33#34\"{var\"#35#36\"})(::Vector{PyObject}, ::Vector{Any}, ::Vector{Vector{Float64}}, ::Vector{Float64}, ::Float64)\n\n\u001b[0mClosest candidates are:\n\u001b[0m  (::var\"#33#34\")(::Any, ::Any, ::Any, ::Any)\n\u001b[0m\u001b[90m   @\u001b[39m \u001b[33mMain\u001b[39m \u001b[90m\u001b[4mIn[28]:6\u001b[24m\u001b[39m\n",
      "",
      "Stacktrace:",
      "  [1] dummyf2(n::Vector{Float64}, p::Tuple{Vector{Any}, Vector{PyObject}, Vector{Any}, PyObject, Int64}, t::Float64)",
      "    @ Main.juliaIC ~/Documents/PhD/ElectronPrecipitation/juliaIC.jl:225",
      "  [2] ODEFunction",
      "    @ ~/.julia/packages/SciMLBase/kTUaf/src/scimlfunctions.jl:2127 [inlined]",
      "  [3] initialize!(integrator::OrdinaryDiffEq.ODEIntegrator{TRBDF2{1, false, LinearSolve.DefaultLinearSolver, NLNewton{Rational{Int64}, Rational{Int64}, Rational{Int64}, Rational{Int64}}, typeof(OrdinaryDiffEq.DEFAULT_PRECS), Val{:forward}, true, nothing}, false, Vector{Float64}, Nothing, Float64, Tuple{Vector{Any}, Vector{PyObject}, Vector{Any}, PyObject, Int64}, Float64, Float64, Float64, Float64, Vector{Vector{Float64}}, ODESolution{Float64, 2, Vector{Vector{Float64}}, Nothing, Nothing, Vector{Float64}, Vector{Vector{Vector{Float64}}}, ODEProblem{Vector{Float64}, Tuple{Float64, Float64}, false, Tuple{Vector{Any}, Vector{PyObject}, Vector{Any}, PyObject, Int64}, ODEFunction{false, SciMLBase.AutoSpecialize, typeof(Main.juliaIC.dummyf2), LinearAlgebra.UniformScaling{Bool}, Nothing, Nothing, Nothing, Nothing, Nothing, Nothing, Nothing, Nothing, Nothing, Nothing, Nothing, Nothing, Nothing, Nothing, typeof(SciMLBase.DEFAULT_OBSERVED), Nothing, Nothing}, Base.Pairs{Symbol, Union{}, Tuple{}, NamedTuple{(), Tuple{}}}, SciMLBase.StandardODEProblem}, TRBDF2{1, false, LinearSolve.DefaultLinearSolver, NLNewton{Rational{Int64}, Rational{Int64}, Rational{Int64}, Rational{Int64}}, typeof(OrdinaryDiffEq.DEFAULT_PRECS), Val{:forward}, true, nothing}, OrdinaryDiffEq.InterpolationData{ODEFunction{false, SciMLBase.AutoSpecialize, typeof(Main.juliaIC.dummyf2), LinearAlgebra.UniformScaling{Bool}, Nothing, Nothing, Nothing, Nothing, Nothing, Nothing, Nothing, Nothing, Nothing, Nothing, Nothing, Nothing, Nothing, Nothing, typeof(SciMLBase.DEFAULT_OBSERVED), Nothing, Nothing}, Vector{Vector{Float64}}, Vector{Float64}, Vector{Vector{Vector{Float64}}}, OrdinaryDiffEq.TRBDF2ConstantCache{OrdinaryDiffEq.TRBDF2Tableau{Float64, Float64}, OrdinaryDiffEq.NLSolver{NLNewton{Rational{Int64}, Rational{Int64}, Rational{Int64}, Rational{Int64}}, false, Vector{Float64}, Float64, Nothing, Float64, OrdinaryDiffEq.NLNewtonConstantCache{Float64, Float64, Matrix{Float64}, LinearAlgebra.LU{Float64, Matrix{Float64}, Vector{Int64}}, SciMLBase.UDerivativeWrapper{ODEFunction{false, SciMLBase.AutoSpecialize, typeof(Main.juliaIC.dummyf2), LinearAlgebra.UniformScaling{Bool}, Nothing, Nothing, Nothing, Nothing, Nothing, Nothing, Nothing, Nothing, Nothing, Nothing, Nothing, Nothing, Nothing, Nothing, typeof(SciMLBase.DEFAULT_OBSERVED), Nothing, Nothing}, Float64, Tuple{Vector{Any}, Vector{PyObject}, Vector{Any}, PyObject, Int64}}}}}}, DiffEqBase.Stats, Nothing}, ODEFunction{false, SciMLBase.AutoSpecialize, typeof(Main.juliaIC.dummyf2), LinearAlgebra.UniformScaling{Bool}, Nothing, Nothing, Nothing, Nothing, Nothing, Nothing, Nothing, Nothing, Nothing, Nothing, Nothing, Nothing, Nothing, Nothing, typeof(SciMLBase.DEFAULT_OBSERVED), Nothing, Nothing}, OrdinaryDiffEq.TRBDF2ConstantCache{OrdinaryDiffEq.TRBDF2Tableau{Float64, Float64}, OrdinaryDiffEq.NLSolver{NLNewton{Rational{Int64}, Rational{Int64}, Rational{Int64}, Rational{Int64}}, false, Vector{Float64}, Float64, Nothing, Float64, OrdinaryDiffEq.NLNewtonConstantCache{Float64, Float64, Matrix{Float64}, LinearAlgebra.LU{Float64, Matrix{Float64}, Vector{Int64}}, SciMLBase.UDerivativeWrapper{ODEFunction{false, SciMLBase.AutoSpecialize, typeof(Main.juliaIC.dummyf2), LinearAlgebra.UniformScaling{Bool}, Nothing, Nothing, Nothing, Nothing, Nothing, Nothing, Nothing, Nothing, Nothing, Nothing, Nothing, Nothing, Nothing, Nothing, typeof(SciMLBase.DEFAULT_OBSERVED), Nothing, Nothing}, Float64, Tuple{Vector{Any}, Vector{PyObject}, Vector{Any}, PyObject, Int64}}}}}, OrdinaryDiffEq.DEOptions{Float64, Float64, Float64, Float64, PIController{Rational{Int64}}, typeof(DiffEqBase.ODE_DEFAULT_NORM), typeof(LinearAlgebra.opnorm), Nothing, CallbackSet{Tuple{}, Tuple{}}, typeof(DiffEqBase.ODE_DEFAULT_ISOUTOFDOMAIN), typeof(DiffEqBase.ODE_DEFAULT_PROG_MESSAGE), typeof(DiffEqBase.ODE_DEFAULT_UNSTABLE_CHECK), DataStructures.BinaryHeap{Float64, DataStructures.FasterForward}, DataStructures.BinaryHeap{Float64, DataStructures.FasterForward}, Nothing, Nothing, Int64, Tuple{}, StepRangeLen{Float64, Base.TwicePrecision{Float64}, Base.TwicePrecision{Float64}, Int64}, Tuple{}}, Vector{Float64}, Float64, Nothing, OrdinaryDiffEq.DefaultInit}, cache::OrdinaryDiffEq.TRBDF2ConstantCache{OrdinaryDiffEq.TRBDF2Tableau{Float64, Float64}, OrdinaryDiffEq.NLSolver{NLNewton{Rational{Int64}, Rational{Int64}, Rational{Int64}, Rational{Int64}}, false, Vector{Float64}, Float64, Nothing, Float64, OrdinaryDiffEq.NLNewtonConstantCache{Float64, Float64, Matrix{Float64}, LinearAlgebra.LU{Float64, Matrix{Float64}, Vector{Int64}}, SciMLBase.UDerivativeWrapper{ODEFunction{false, SciMLBase.AutoSpecialize, typeof(Main.juliaIC.dummyf2), LinearAlgebra.UniformScaling{Bool}, Nothing, Nothing, Nothing, Nothing, Nothing, Nothing, Nothing, Nothing, Nothing, Nothing, Nothing, Nothing, Nothing, Nothing, typeof(SciMLBase.DEFAULT_OBSERVED), Nothing, Nothing}, Float64, Tuple{Vector{Any}, Vector{PyObject}, Vector{Any}, PyObject, Int64}}}}})",
      "    @ OrdinaryDiffEq ~/.julia/packages/OrdinaryDiffEq/Kxv5a/src/perform_step/sdirk_perform_step.jl:23",
      "  [4] __init(prob::ODEProblem{Vector{Float64}, Tuple{Float64, Float64}, false, Tuple{Vector{Any}, Vector{PyObject}, Vector{Any}, PyObject, Int64}, ODEFunction{false, SciMLBase.AutoSpecialize, typeof(Main.juliaIC.dummyf2), LinearAlgebra.UniformScaling{Bool}, Nothing, Nothing, Nothing, Nothing, Nothing, Nothing, Nothing, Nothing, Nothing, Nothing, Nothing, Nothing, Nothing, Nothing, typeof(SciMLBase.DEFAULT_OBSERVED), Nothing, Nothing}, Base.Pairs{Symbol, Union{}, Tuple{}, NamedTuple{(), Tuple{}}}, SciMLBase.StandardODEProblem}, alg::TRBDF2{1, false, LinearSolve.DefaultLinearSolver, NLNewton{Rational{Int64}, Rational{Int64}, Rational{Int64}, Rational{Int64}}, typeof(OrdinaryDiffEq.DEFAULT_PRECS), Val{:forward}, true, nothing}, timeseries_init::Tuple{}, ts_init::Tuple{}, ks_init::Tuple{}, recompile::Type{Val{true}}; saveat::StepRangeLen{Float64, Base.TwicePrecision{Float64}, Base.TwicePrecision{Float64}, Int64}, tstops::Tuple{}, d_discontinuities::Tuple{}, save_idxs::Nothing, save_everystep::Bool, save_on::Bool, save_start::Bool, save_end::Nothing, callback::Nothing, dense::Bool, calck::Bool, dt::Float64, dtmin::Nothing, dtmax::Float64, force_dtmin::Bool, adaptive::Bool, gamma::Rational{Int64}, abstol::Float64, reltol::Float64, qmin::Rational{Int64}, qmax::Int64, qsteady_min::Int64, qsteady_max::Rational{Int64}, beta1::Nothing, beta2::Nothing, qoldinit::Rational{Int64}, controller::Nothing, fullnormalize::Bool, failfactor::Int64, maxiters::Int64, internalnorm::typeof(DiffEqBase.ODE_DEFAULT_NORM), internalopnorm::typeof(LinearAlgebra.opnorm), isoutofdomain::typeof(DiffEqBase.ODE_DEFAULT_ISOUTOFDOMAIN), unstable_check::typeof(DiffEqBase.ODE_DEFAULT_UNSTABLE_CHECK), verbose::Bool, timeseries_errors::Bool, dense_errors::Bool, advance_to_tstop::Bool, stop_at_next_tstop::Bool, initialize_save::Bool, progress::Bool, progress_steps::Int64, progress_name::String, progress_message::typeof(DiffEqBase.ODE_DEFAULT_PROG_MESSAGE), userdata::Nothing, allow_extrapolation::Bool, initialize_integrator::Bool, alias_u0::Bool, alias_du0::Bool, initializealg::OrdinaryDiffEq.DefaultInit, kwargs::Base.Pairs{Symbol, Union{}, Tuple{}, NamedTuple{(), Tuple{}}})",
      "    @ OrdinaryDiffEq ~/.julia/packages/OrdinaryDiffEq/Kxv5a/src/solve.jl:500",
      "  [5] __init (repeats 5 times)",
      "    @ ~/.julia/packages/OrdinaryDiffEq/Kxv5a/src/solve.jl:10 [inlined]",
      "  [6] __solve(::ODEProblem{Vector{Float64}, Tuple{Float64, Float64}, false, Tuple{Vector{Any}, Vector{PyObject}, Vector{Any}, PyObject, Int64}, ODEFunction{false, SciMLBase.AutoSpecialize, typeof(Main.juliaIC.dummyf2), LinearAlgebra.UniformScaling{Bool}, Nothing, Nothing, Nothing, Nothing, Nothing, Nothing, Nothing, Nothing, Nothing, Nothing, Nothing, Nothing, Nothing, Nothing, typeof(SciMLBase.DEFAULT_OBSERVED), Nothing, Nothing}, Base.Pairs{Symbol, Union{}, Tuple{}, NamedTuple{(), Tuple{}}}, SciMLBase.StandardODEProblem}, ::TRBDF2{1, false, LinearSolve.DefaultLinearSolver, NLNewton{Rational{Int64}, Rational{Int64}, Rational{Int64}, Rational{Int64}}, typeof(OrdinaryDiffEq.DEFAULT_PRECS), Val{:forward}, true, nothing}; kwargs::Base.Pairs{Symbol, Any, Tuple{Symbol, Symbol, Symbol}, NamedTuple{(:reltol, :abstol, :saveat), Tuple{Float64, Float64, StepRangeLen{Float64, Base.TwicePrecision{Float64}, Base.TwicePrecision{Float64}, Int64}}}})",
      "    @ OrdinaryDiffEq ~/.julia/packages/OrdinaryDiffEq/Kxv5a/src/solve.jl:5",
      "  [7] __solve",
      "    @ ~/.julia/packages/OrdinaryDiffEq/Kxv5a/src/solve.jl:1 [inlined]",
      "  [8] #solve_call#34",
      "    @ ~/.julia/packages/DiffEqBase/rVTlI/src/solve.jl:511 [inlined]",
      "  [9] solve_up(prob::ODEProblem{Vector{Float64}, Tuple{Int64, Int64}, false, Tuple{Vector{Any}, Vector{PyObject}, Vector{Any}, PyObject, Int64}, ODEFunction{false, SciMLBase.AutoSpecialize, typeof(Main.juliaIC.dummyf2), LinearAlgebra.UniformScaling{Bool}, Nothing, Nothing, Nothing, Nothing, Nothing, Nothing, Nothing, Nothing, Nothing, Nothing, Nothing, Nothing, Nothing, Nothing, typeof(SciMLBase.DEFAULT_OBSERVED), Nothing, Nothing}, Base.Pairs{Symbol, Union{}, Tuple{}, NamedTuple{(), Tuple{}}}, SciMLBase.StandardODEProblem}, sensealg::Nothing, u0::Vector{Float64}, p::Tuple{Vector{Any}, Vector{PyObject}, Vector{Any}, PyObject, Int64}, args::TRBDF2{0, false, Nothing, NLNewton{Rational{Int64}, Rational{Int64}, Rational{Int64}, Rational{Int64}}, typeof(OrdinaryDiffEq.DEFAULT_PRECS), Val{:forward}, true, nothing}; kwargs::Base.Pairs{Symbol, Any, Tuple{Symbol, Symbol, Symbol}, NamedTuple{(:reltol, :abstol, :saveat), Tuple{Float64, Float64, StepRangeLen{Float64, Base.TwicePrecision{Float64}, Base.TwicePrecision{Float64}, Int64}}}})",
      "    @ DiffEqBase ~/.julia/packages/DiffEqBase/rVTlI/src/solve.jl:972",
      " [10] solve_up",
      "    @ ~/.julia/packages/DiffEqBase/rVTlI/src/solve.jl:945 [inlined]",
      " [11] solve(prob::ODEProblem{Vector{Float64}, Tuple{Int64, Int64}, false, Tuple{Vector{Any}, Vector{PyObject}, Vector{Any}, PyObject, Int64}, ODEFunction{false, SciMLBase.AutoSpecialize, typeof(Main.juliaIC.dummyf2), LinearAlgebra.UniformScaling{Bool}, Nothing, Nothing, Nothing, Nothing, Nothing, Nothing, Nothing, Nothing, Nothing, Nothing, Nothing, Nothing, Nothing, Nothing, typeof(SciMLBase.DEFAULT_OBSERVED), Nothing, Nothing}, Base.Pairs{Symbol, Union{}, Tuple{}, NamedTuple{(), Tuple{}}}, SciMLBase.StandardODEProblem}, args::TRBDF2{0, false, Nothing, NLNewton{Rational{Int64}, Rational{Int64}, Rational{Int64}, Rational{Int64}}, typeof(OrdinaryDiffEq.DEFAULT_PRECS), Val{:forward}, true, nothing}; sensealg::Nothing, u0::Nothing, p::Nothing, wrap::Val{true}, kwargs::Base.Pairs{Symbol, Any, Tuple{Symbol, Symbol, Symbol}, NamedTuple{(:reltol, :abstol, :saveat), Tuple{Float64, Float64, StepRangeLen{Float64, Base.TwicePrecision{Float64}, Base.TwicePrecision{Float64}, Int64}}}})",
      "    @ DiffEqBase ~/.julia/packages/DiffEqBase/rVTlI/src/solve.jl:882",
      " [12] solveIC(n0::Matrix{Float64}, ts::Int64, te::Int64, nprod::Vector{PyObject}, temp::PyObject, t_save::StepRangeLen{Float64, Base.TwicePrecision{Float64}, Base.TwicePrecision{Float64}, Int64}, reactions::Vector{Any}, dndt::Vector{Any})",
      "    @ Main.juliaIC ~/Documents/PhD/ElectronPrecipitation/juliaIC.jl:254",
      " [13] top-level scope",
      "    @ ./timing.jl:273 [inlined]",
      " [14] top-level scope",
      "    @ ./In[43]:0"
     ]
    }
   ],
   "source": [
    "@time sol1 = juliaIC.solveIC(n0, ts_, te_, nprod, temp, t_save, reactions, dndt);"
   ]
  },
  {
   "cell_type": "code",
   "execution_count": 148,
   "id": "f18c3883-de26-4939-bbd7-2b9453754cca",
   "metadata": {
    "collapsed": true,
    "jupyter": {
     "outputs_hidden": true
    },
    "tags": []
   },
   "outputs": [
    {
     "ename": "LoadError",
     "evalue": "MethodError: no method matching (::var\"#587#588\"{var\"#589#590\"})(::Vector{Any}, ::Vector{Any}, ::Vector{Vector{Float64}}, ::Vector{Float64}, ::Float64)\n\n\u001b[0mClosest candidates are:\n\u001b[0m  (::var\"#587#588\")(::Any, ::Any, ::Any, ::Any)\n\u001b[0m\u001b[90m   @\u001b[39m \u001b[33mMain\u001b[39m \u001b[90m\u001b[4mIn[139]:6\u001b[24m\u001b[39m\n",
     "output_type": "error",
     "traceback": [
      "MethodError: no method matching (::var\"#587#588\"{var\"#589#590\"})(::Vector{Any}, ::Vector{Any}, ::Vector{Vector{Float64}}, ::Vector{Float64}, ::Float64)\n\n\u001b[0mClosest candidates are:\n\u001b[0m  (::var\"#587#588\")(::Any, ::Any, ::Any, ::Any)\n\u001b[0m\u001b[90m   @\u001b[39m \u001b[33mMain\u001b[39m \u001b[90m\u001b[4mIn[139]:6\u001b[24m\u001b[39m\n",
      "",
      "Stacktrace:",
      "  [1] dummyf2(n::Vector{Float64}, p::Tuple{Vector{Any}, Vector{Any}, Vector{Any}, typeof(temp_julia), Int64}, t::Float64)",
      "    @ Main.juliaIC ~/Documents/PhD/ElectronPrecipitation/juliaIC.jl:225",
      "  [2] ODEFunction",
      "    @ ~/.julia/packages/SciMLBase/kTUaf/src/scimlfunctions.jl:2127 [inlined]",
      "  [3] initialize!(integrator::OrdinaryDiffEq.ODEIntegrator{TRBDF2{1, false, LinearSolve.DefaultLinearSolver, NLNewton{Rational{Int64}, Rational{Int64}, Rational{Int64}, Rational{Int64}}, typeof(OrdinaryDiffEq.DEFAULT_PRECS), Val{:forward}, true, nothing}, false, Vector{Float64}, Nothing, Float64, Tuple{Vector{Any}, Vector{Any}, Vector{Any}, typeof(temp_julia), Int64}, Float64, Float64, Float64, Float64, Vector{Vector{Float64}}, ODESolution{Float64, 2, Vector{Vector{Float64}}, Nothing, Nothing, Vector{Float64}, Vector{Vector{Vector{Float64}}}, ODEProblem{Vector{Float64}, Tuple{Float64, Float64}, false, Tuple{Vector{Any}, Vector{Any}, Vector{Any}, typeof(temp_julia), Int64}, ODEFunction{false, SciMLBase.AutoSpecialize, typeof(Main.juliaIC.dummyf2), LinearAlgebra.UniformScaling{Bool}, Nothing, Nothing, Nothing, Nothing, Nothing, Nothing, Nothing, Nothing, Nothing, Nothing, Nothing, Nothing, Nothing, Nothing, typeof(SciMLBase.DEFAULT_OBSERVED), Nothing, Nothing}, Base.Pairs{Symbol, Union{}, Tuple{}, NamedTuple{(), Tuple{}}}, SciMLBase.StandardODEProblem}, TRBDF2{1, false, LinearSolve.DefaultLinearSolver, NLNewton{Rational{Int64}, Rational{Int64}, Rational{Int64}, Rational{Int64}}, typeof(OrdinaryDiffEq.DEFAULT_PRECS), Val{:forward}, true, nothing}, OrdinaryDiffEq.InterpolationData{ODEFunction{false, SciMLBase.AutoSpecialize, typeof(Main.juliaIC.dummyf2), LinearAlgebra.UniformScaling{Bool}, Nothing, Nothing, Nothing, Nothing, Nothing, Nothing, Nothing, Nothing, Nothing, Nothing, Nothing, Nothing, Nothing, Nothing, typeof(SciMLBase.DEFAULT_OBSERVED), Nothing, Nothing}, Vector{Vector{Float64}}, Vector{Float64}, Vector{Vector{Vector{Float64}}}, OrdinaryDiffEq.TRBDF2ConstantCache{OrdinaryDiffEq.TRBDF2Tableau{Float64, Float64}, OrdinaryDiffEq.NLSolver{NLNewton{Rational{Int64}, Rational{Int64}, Rational{Int64}, Rational{Int64}}, false, Vector{Float64}, Float64, Nothing, Float64, OrdinaryDiffEq.NLNewtonConstantCache{Float64, Float64, Matrix{Float64}, LinearAlgebra.LU{Float64, Matrix{Float64}, Vector{Int64}}, SciMLBase.UDerivativeWrapper{ODEFunction{false, SciMLBase.AutoSpecialize, typeof(Main.juliaIC.dummyf2), LinearAlgebra.UniformScaling{Bool}, Nothing, Nothing, Nothing, Nothing, Nothing, Nothing, Nothing, Nothing, Nothing, Nothing, Nothing, Nothing, Nothing, Nothing, typeof(SciMLBase.DEFAULT_OBSERVED), Nothing, Nothing}, Float64, Tuple{Vector{Any}, Vector{Any}, Vector{Any}, typeof(temp_julia), Int64}}}}}}, DiffEqBase.Stats, Nothing}, ODEFunction{false, SciMLBase.AutoSpecialize, typeof(Main.juliaIC.dummyf2), LinearAlgebra.UniformScaling{Bool}, Nothing, Nothing, Nothing, Nothing, Nothing, Nothing, Nothing, Nothing, Nothing, Nothing, Nothing, Nothing, Nothing, Nothing, typeof(SciMLBase.DEFAULT_OBSERVED), Nothing, Nothing}, OrdinaryDiffEq.TRBDF2ConstantCache{OrdinaryDiffEq.TRBDF2Tableau{Float64, Float64}, OrdinaryDiffEq.NLSolver{NLNewton{Rational{Int64}, Rational{Int64}, Rational{Int64}, Rational{Int64}}, false, Vector{Float64}, Float64, Nothing, Float64, OrdinaryDiffEq.NLNewtonConstantCache{Float64, Float64, Matrix{Float64}, LinearAlgebra.LU{Float64, Matrix{Float64}, Vector{Int64}}, SciMLBase.UDerivativeWrapper{ODEFunction{false, SciMLBase.AutoSpecialize, typeof(Main.juliaIC.dummyf2), LinearAlgebra.UniformScaling{Bool}, Nothing, Nothing, Nothing, Nothing, Nothing, Nothing, Nothing, Nothing, Nothing, Nothing, Nothing, Nothing, Nothing, Nothing, typeof(SciMLBase.DEFAULT_OBSERVED), Nothing, Nothing}, Float64, Tuple{Vector{Any}, Vector{Any}, Vector{Any}, typeof(temp_julia), Int64}}}}}, OrdinaryDiffEq.DEOptions{Float64, Float64, Float64, Float64, PIController{Rational{Int64}}, typeof(DiffEqBase.ODE_DEFAULT_NORM), typeof(LinearAlgebra.opnorm), Nothing, CallbackSet{Tuple{}, Tuple{}}, typeof(DiffEqBase.ODE_DEFAULT_ISOUTOFDOMAIN), typeof(DiffEqBase.ODE_DEFAULT_PROG_MESSAGE), typeof(DiffEqBase.ODE_DEFAULT_UNSTABLE_CHECK), DataStructures.BinaryHeap{Float64, DataStructures.FasterForward}, DataStructures.BinaryHeap{Float64, DataStructures.FasterForward}, Nothing, Nothing, Int64, Tuple{}, StepRangeLen{Float64, Base.TwicePrecision{Float64}, Base.TwicePrecision{Float64}, Int64}, Tuple{}}, Vector{Float64}, Float64, Nothing, OrdinaryDiffEq.DefaultInit}, cache::OrdinaryDiffEq.TRBDF2ConstantCache{OrdinaryDiffEq.TRBDF2Tableau{Float64, Float64}, OrdinaryDiffEq.NLSolver{NLNewton{Rational{Int64}, Rational{Int64}, Rational{Int64}, Rational{Int64}}, false, Vector{Float64}, Float64, Nothing, Float64, OrdinaryDiffEq.NLNewtonConstantCache{Float64, Float64, Matrix{Float64}, LinearAlgebra.LU{Float64, Matrix{Float64}, Vector{Int64}}, SciMLBase.UDerivativeWrapper{ODEFunction{false, SciMLBase.AutoSpecialize, typeof(Main.juliaIC.dummyf2), LinearAlgebra.UniformScaling{Bool}, Nothing, Nothing, Nothing, Nothing, Nothing, Nothing, Nothing, Nothing, Nothing, Nothing, Nothing, Nothing, Nothing, Nothing, typeof(SciMLBase.DEFAULT_OBSERVED), Nothing, Nothing}, Float64, Tuple{Vector{Any}, Vector{Any}, Vector{Any}, typeof(temp_julia), Int64}}}}})",
      "    @ OrdinaryDiffEq ~/.julia/packages/OrdinaryDiffEq/Kxv5a/src/perform_step/sdirk_perform_step.jl:23",
      "  [4] __init(prob::ODEProblem{Vector{Float64}, Tuple{Float64, Float64}, false, Tuple{Vector{Any}, Vector{Any}, Vector{Any}, typeof(temp_julia), Int64}, ODEFunction{false, SciMLBase.AutoSpecialize, typeof(Main.juliaIC.dummyf2), LinearAlgebra.UniformScaling{Bool}, Nothing, Nothing, Nothing, Nothing, Nothing, Nothing, Nothing, Nothing, Nothing, Nothing, Nothing, Nothing, Nothing, Nothing, typeof(SciMLBase.DEFAULT_OBSERVED), Nothing, Nothing}, Base.Pairs{Symbol, Union{}, Tuple{}, NamedTuple{(), Tuple{}}}, SciMLBase.StandardODEProblem}, alg::TRBDF2{1, false, LinearSolve.DefaultLinearSolver, NLNewton{Rational{Int64}, Rational{Int64}, Rational{Int64}, Rational{Int64}}, typeof(OrdinaryDiffEq.DEFAULT_PRECS), Val{:forward}, true, nothing}, timeseries_init::Tuple{}, ts_init::Tuple{}, ks_init::Tuple{}, recompile::Type{Val{true}}; saveat::StepRangeLen{Float64, Base.TwicePrecision{Float64}, Base.TwicePrecision{Float64}, Int64}, tstops::Tuple{}, d_discontinuities::Tuple{}, save_idxs::Nothing, save_everystep::Bool, save_on::Bool, save_start::Bool, save_end::Nothing, callback::Nothing, dense::Bool, calck::Bool, dt::Float64, dtmin::Nothing, dtmax::Float64, force_dtmin::Bool, adaptive::Bool, gamma::Rational{Int64}, abstol::Float64, reltol::Float64, qmin::Rational{Int64}, qmax::Int64, qsteady_min::Int64, qsteady_max::Rational{Int64}, beta1::Nothing, beta2::Nothing, qoldinit::Rational{Int64}, controller::Nothing, fullnormalize::Bool, failfactor::Int64, maxiters::Int64, internalnorm::typeof(DiffEqBase.ODE_DEFAULT_NORM), internalopnorm::typeof(LinearAlgebra.opnorm), isoutofdomain::typeof(DiffEqBase.ODE_DEFAULT_ISOUTOFDOMAIN), unstable_check::typeof(DiffEqBase.ODE_DEFAULT_UNSTABLE_CHECK), verbose::Bool, timeseries_errors::Bool, dense_errors::Bool, advance_to_tstop::Bool, stop_at_next_tstop::Bool, initialize_save::Bool, progress::Bool, progress_steps::Int64, progress_name::String, progress_message::typeof(DiffEqBase.ODE_DEFAULT_PROG_MESSAGE), userdata::Nothing, allow_extrapolation::Bool, initialize_integrator::Bool, alias_u0::Bool, alias_du0::Bool, initializealg::OrdinaryDiffEq.DefaultInit, kwargs::Base.Pairs{Symbol, Union{}, Tuple{}, NamedTuple{(), Tuple{}}})",
      "    @ OrdinaryDiffEq ~/.julia/packages/OrdinaryDiffEq/Kxv5a/src/solve.jl:500",
      "  [5] __init (repeats 5 times)",
      "    @ ~/.julia/packages/OrdinaryDiffEq/Kxv5a/src/solve.jl:10 [inlined]",
      "  [6] __solve(::ODEProblem{Vector{Float64}, Tuple{Float64, Float64}, false, Tuple{Vector{Any}, Vector{Any}, Vector{Any}, typeof(temp_julia), Int64}, ODEFunction{false, SciMLBase.AutoSpecialize, typeof(Main.juliaIC.dummyf2), LinearAlgebra.UniformScaling{Bool}, Nothing, Nothing, Nothing, Nothing, Nothing, Nothing, Nothing, Nothing, Nothing, Nothing, Nothing, Nothing, Nothing, Nothing, typeof(SciMLBase.DEFAULT_OBSERVED), Nothing, Nothing}, Base.Pairs{Symbol, Union{}, Tuple{}, NamedTuple{(), Tuple{}}}, SciMLBase.StandardODEProblem}, ::TRBDF2{1, false, LinearSolve.DefaultLinearSolver, NLNewton{Rational{Int64}, Rational{Int64}, Rational{Int64}, Rational{Int64}}, typeof(OrdinaryDiffEq.DEFAULT_PRECS), Val{:forward}, true, nothing}; kwargs::Base.Pairs{Symbol, Any, Tuple{Symbol, Symbol, Symbol}, NamedTuple{(:reltol, :abstol, :saveat), Tuple{Float64, Float64, StepRangeLen{Float64, Base.TwicePrecision{Float64}, Base.TwicePrecision{Float64}, Int64}}}})",
      "    @ OrdinaryDiffEq ~/.julia/packages/OrdinaryDiffEq/Kxv5a/src/solve.jl:5",
      "  [7] __solve",
      "    @ ~/.julia/packages/OrdinaryDiffEq/Kxv5a/src/solve.jl:1 [inlined]",
      "  [8] #solve_call#34",
      "    @ ~/.julia/packages/DiffEqBase/rVTlI/src/solve.jl:511 [inlined]",
      "  [9] solve_up(prob::ODEProblem{Vector{Float64}, Tuple{Int64, Int64}, false, Tuple{Vector{Any}, Vector{Any}, Vector{Any}, typeof(temp_julia), Int64}, ODEFunction{false, SciMLBase.AutoSpecialize, typeof(Main.juliaIC.dummyf2), LinearAlgebra.UniformScaling{Bool}, Nothing, Nothing, Nothing, Nothing, Nothing, Nothing, Nothing, Nothing, Nothing, Nothing, Nothing, Nothing, Nothing, Nothing, typeof(SciMLBase.DEFAULT_OBSERVED), Nothing, Nothing}, Base.Pairs{Symbol, Union{}, Tuple{}, NamedTuple{(), Tuple{}}}, SciMLBase.StandardODEProblem}, sensealg::Nothing, u0::Vector{Float64}, p::Tuple{Vector{Any}, Vector{Any}, Vector{Any}, typeof(temp_julia), Int64}, args::TRBDF2{0, false, Nothing, NLNewton{Rational{Int64}, Rational{Int64}, Rational{Int64}, Rational{Int64}}, typeof(OrdinaryDiffEq.DEFAULT_PRECS), Val{:forward}, true, nothing}; kwargs::Base.Pairs{Symbol, Any, Tuple{Symbol, Symbol, Symbol}, NamedTuple{(:reltol, :abstol, :saveat), Tuple{Float64, Float64, StepRangeLen{Float64, Base.TwicePrecision{Float64}, Base.TwicePrecision{Float64}, Int64}}}})",
      "    @ DiffEqBase ~/.julia/packages/DiffEqBase/rVTlI/src/solve.jl:972",
      " [10] solve_up",
      "    @ ~/.julia/packages/DiffEqBase/rVTlI/src/solve.jl:945 [inlined]",
      " [11] solve(prob::ODEProblem{Vector{Float64}, Tuple{Int64, Int64}, false, Tuple{Vector{Any}, Vector{Any}, Vector{Any}, typeof(temp_julia), Int64}, ODEFunction{false, SciMLBase.AutoSpecialize, typeof(Main.juliaIC.dummyf2), LinearAlgebra.UniformScaling{Bool}, Nothing, Nothing, Nothing, Nothing, Nothing, Nothing, Nothing, Nothing, Nothing, Nothing, Nothing, Nothing, Nothing, Nothing, typeof(SciMLBase.DEFAULT_OBSERVED), Nothing, Nothing}, Base.Pairs{Symbol, Union{}, Tuple{}, NamedTuple{(), Tuple{}}}, SciMLBase.StandardODEProblem}, args::TRBDF2{0, false, Nothing, NLNewton{Rational{Int64}, Rational{Int64}, Rational{Int64}, Rational{Int64}}, typeof(OrdinaryDiffEq.DEFAULT_PRECS), Val{:forward}, true, nothing}; sensealg::Nothing, u0::Nothing, p::Nothing, wrap::Val{true}, kwargs::Base.Pairs{Symbol, Any, Tuple{Symbol, Symbol, Symbol}, NamedTuple{(:reltol, :abstol, :saveat), Tuple{Float64, Float64, StepRangeLen{Float64, Base.TwicePrecision{Float64}, Base.TwicePrecision{Float64}, Int64}}}})",
      "    @ DiffEqBase ~/.julia/packages/DiffEqBase/rVTlI/src/solve.jl:882",
      " [12] solveIC(n0::Matrix{Float64}, ts::Int64, te::Int64, nprod::Vector{Any}, temp::Function, t_save::StepRangeLen{Float64, Base.TwicePrecision{Float64}, Base.TwicePrecision{Float64}, Int64}, reactions::Vector{Any}, dndt::Vector{Any})",
      "    @ Main.juliaIC ~/Documents/PhD/ElectronPrecipitation/juliaIC.jl:254",
      " [13] top-level scope",
      "    @ ./timing.jl:273 [inlined]",
      " [14] top-level scope",
      "    @ ./In[148]:0"
     ]
    }
   ],
   "source": [
    "@time sol1 = juliaIC.solveIC(n0, ts_, te_, nprod_julia, temp_julia, t_save, reactions, dndt);"
   ]
  },
  {
   "cell_type": "code",
   "execution_count": 147,
   "id": "0c97fc28-7dbd-4ca9-8151-5ea426dffeed",
   "metadata": {},
   "outputs": [
    {
     "ename": "LoadError",
     "evalue": "MethodError: no method matching (::var\"#587#588\"{var\"#589#590\"})(::Vector{Any}, ::Vector{Any}, ::Vector{Vector{Float64}}, ::Matrix{Float64}, ::Float64)\n\n\u001b[0mClosest candidates are:\n\u001b[0m  (::var\"#587#588\")(::Any, ::Any, ::Any, ::Any)\n\u001b[0m\u001b[90m   @\u001b[39m \u001b[33mMain\u001b[39m \u001b[90m\u001b[4mIn[139]:6\u001b[24m\u001b[39m\n",
     "output_type": "error",
     "traceback": [
      "MethodError: no method matching (::var\"#587#588\"{var\"#589#590\"})(::Vector{Any}, ::Vector{Any}, ::Vector{Vector{Float64}}, ::Matrix{Float64}, ::Float64)\n\n\u001b[0mClosest candidates are:\n\u001b[0m  (::var\"#587#588\")(::Any, ::Any, ::Any, ::Any)\n\u001b[0m\u001b[90m   @\u001b[39m \u001b[33mMain\u001b[39m \u001b[90m\u001b[4mIn[139]:6\u001b[24m\u001b[39m\n",
      "",
      "Stacktrace:",
      "  [1] dummyf(n::Matrix{Float64}, p::Tuple{Vector{Any}, Vector{Any}, Vector{Any}, typeof(temp_julia)}, t::Float64)",
      "    @ Main.juliaIC ~/Documents/PhD/ElectronPrecipitation/juliaIC.jl:238",
      "  [2] ODEFunction",
      "    @ ~/.julia/packages/SciMLBase/kTUaf/src/scimlfunctions.jl:2127 [inlined]",
      "  [3] initialize!(integrator::OrdinaryDiffEq.ODEIntegrator{TRBDF2{1, false, LinearSolve.DefaultLinearSolver, NLNewton{Rational{Int64}, Rational{Int64}, Rational{Int64}, Rational{Int64}}, typeof(OrdinaryDiffEq.DEFAULT_PRECS), Val{:forward}, true, nothing}, false, Matrix{Float64}, Nothing, Float64, Tuple{Vector{Any}, Vector{Any}, Vector{Any}, typeof(temp_julia)}, Float64, Float64, Float64, Float64, Vector{Matrix{Float64}}, ODESolution{Float64, 3, Vector{Matrix{Float64}}, Nothing, Nothing, Vector{Float64}, Vector{Vector{Matrix{Float64}}}, ODEProblem{Matrix{Float64}, Tuple{Float64, Float64}, false, Tuple{Vector{Any}, Vector{Any}, Vector{Any}, typeof(temp_julia)}, ODEFunction{false, SciMLBase.AutoSpecialize, typeof(Main.juliaIC.dummyf), LinearAlgebra.UniformScaling{Bool}, Nothing, Nothing, Nothing, Nothing, Nothing, Nothing, Nothing, Nothing, Nothing, Nothing, Nothing, Nothing, Nothing, Nothing, typeof(SciMLBase.DEFAULT_OBSERVED), Nothing, Nothing}, Base.Pairs{Symbol, Union{}, Tuple{}, NamedTuple{(), Tuple{}}}, SciMLBase.StandardODEProblem}, TRBDF2{1, false, LinearSolve.DefaultLinearSolver, NLNewton{Rational{Int64}, Rational{Int64}, Rational{Int64}, Rational{Int64}}, typeof(OrdinaryDiffEq.DEFAULT_PRECS), Val{:forward}, true, nothing}, OrdinaryDiffEq.InterpolationData{ODEFunction{false, SciMLBase.AutoSpecialize, typeof(Main.juliaIC.dummyf), LinearAlgebra.UniformScaling{Bool}, Nothing, Nothing, Nothing, Nothing, Nothing, Nothing, Nothing, Nothing, Nothing, Nothing, Nothing, Nothing, Nothing, Nothing, typeof(SciMLBase.DEFAULT_OBSERVED), Nothing, Nothing}, Vector{Matrix{Float64}}, Vector{Float64}, Vector{Vector{Matrix{Float64}}}, OrdinaryDiffEq.TRBDF2ConstantCache{OrdinaryDiffEq.TRBDF2Tableau{Float64, Float64}, OrdinaryDiffEq.NLSolver{NLNewton{Rational{Int64}, Rational{Int64}, Rational{Int64}, Rational{Int64}}, false, Matrix{Float64}, Float64, Nothing, Float64, OrdinaryDiffEq.NLNewtonConstantCache{Float64, Float64, Matrix{Float64}, LinearAlgebra.LU{Float64, Matrix{Float64}, Vector{Int64}}, SciMLBase.UDerivativeWrapper{ODEFunction{false, SciMLBase.AutoSpecialize, typeof(Main.juliaIC.dummyf), LinearAlgebra.UniformScaling{Bool}, Nothing, Nothing, Nothing, Nothing, Nothing, Nothing, Nothing, Nothing, Nothing, Nothing, Nothing, Nothing, Nothing, Nothing, typeof(SciMLBase.DEFAULT_OBSERVED), Nothing, Nothing}, Float64, Tuple{Vector{Any}, Vector{Any}, Vector{Any}, typeof(temp_julia)}}}}}}, DiffEqBase.Stats, Nothing}, ODEFunction{false, SciMLBase.AutoSpecialize, typeof(Main.juliaIC.dummyf), LinearAlgebra.UniformScaling{Bool}, Nothing, Nothing, Nothing, Nothing, Nothing, Nothing, Nothing, Nothing, Nothing, Nothing, Nothing, Nothing, Nothing, Nothing, typeof(SciMLBase.DEFAULT_OBSERVED), Nothing, Nothing}, OrdinaryDiffEq.TRBDF2ConstantCache{OrdinaryDiffEq.TRBDF2Tableau{Float64, Float64}, OrdinaryDiffEq.NLSolver{NLNewton{Rational{Int64}, Rational{Int64}, Rational{Int64}, Rational{Int64}}, false, Matrix{Float64}, Float64, Nothing, Float64, OrdinaryDiffEq.NLNewtonConstantCache{Float64, Float64, Matrix{Float64}, LinearAlgebra.LU{Float64, Matrix{Float64}, Vector{Int64}}, SciMLBase.UDerivativeWrapper{ODEFunction{false, SciMLBase.AutoSpecialize, typeof(Main.juliaIC.dummyf), LinearAlgebra.UniformScaling{Bool}, Nothing, Nothing, Nothing, Nothing, Nothing, Nothing, Nothing, Nothing, Nothing, Nothing, Nothing, Nothing, Nothing, Nothing, typeof(SciMLBase.DEFAULT_OBSERVED), Nothing, Nothing}, Float64, Tuple{Vector{Any}, Vector{Any}, Vector{Any}, typeof(temp_julia)}}}}}, OrdinaryDiffEq.DEOptions{Float64, Float64, Float64, Float64, PIController{Rational{Int64}}, typeof(DiffEqBase.ODE_DEFAULT_NORM), typeof(LinearAlgebra.opnorm), Nothing, CallbackSet{Tuple{}, Tuple{}}, typeof(DiffEqBase.ODE_DEFAULT_ISOUTOFDOMAIN), typeof(DiffEqBase.ODE_DEFAULT_PROG_MESSAGE), typeof(DiffEqBase.ODE_DEFAULT_UNSTABLE_CHECK), DataStructures.BinaryHeap{Float64, DataStructures.FasterForward}, DataStructures.BinaryHeap{Float64, DataStructures.FasterForward}, Nothing, Nothing, Int64, Tuple{}, StepRangeLen{Float64, Base.TwicePrecision{Float64}, Base.TwicePrecision{Float64}, Int64}, Tuple{}}, Matrix{Float64}, Float64, Nothing, OrdinaryDiffEq.DefaultInit}, cache::OrdinaryDiffEq.TRBDF2ConstantCache{OrdinaryDiffEq.TRBDF2Tableau{Float64, Float64}, OrdinaryDiffEq.NLSolver{NLNewton{Rational{Int64}, Rational{Int64}, Rational{Int64}, Rational{Int64}}, false, Matrix{Float64}, Float64, Nothing, Float64, OrdinaryDiffEq.NLNewtonConstantCache{Float64, Float64, Matrix{Float64}, LinearAlgebra.LU{Float64, Matrix{Float64}, Vector{Int64}}, SciMLBase.UDerivativeWrapper{ODEFunction{false, SciMLBase.AutoSpecialize, typeof(Main.juliaIC.dummyf), LinearAlgebra.UniformScaling{Bool}, Nothing, Nothing, Nothing, Nothing, Nothing, Nothing, Nothing, Nothing, Nothing, Nothing, Nothing, Nothing, Nothing, Nothing, typeof(SciMLBase.DEFAULT_OBSERVED), Nothing, Nothing}, Float64, Tuple{Vector{Any}, Vector{Any}, Vector{Any}, typeof(temp_julia)}}}}})",
      "    @ OrdinaryDiffEq ~/.julia/packages/OrdinaryDiffEq/Kxv5a/src/perform_step/sdirk_perform_step.jl:23",
      "  [4] __init(prob::ODEProblem{Matrix{Float64}, Tuple{Float64, Float64}, false, Tuple{Vector{Any}, Vector{Any}, Vector{Any}, typeof(temp_julia)}, ODEFunction{false, SciMLBase.AutoSpecialize, typeof(Main.juliaIC.dummyf), LinearAlgebra.UniformScaling{Bool}, Nothing, Nothing, Nothing, Nothing, Nothing, Nothing, Nothing, Nothing, Nothing, Nothing, Nothing, Nothing, Nothing, Nothing, typeof(SciMLBase.DEFAULT_OBSERVED), Nothing, Nothing}, Base.Pairs{Symbol, Union{}, Tuple{}, NamedTuple{(), Tuple{}}}, SciMLBase.StandardODEProblem}, alg::TRBDF2{1, false, LinearSolve.DefaultLinearSolver, NLNewton{Rational{Int64}, Rational{Int64}, Rational{Int64}, Rational{Int64}}, typeof(OrdinaryDiffEq.DEFAULT_PRECS), Val{:forward}, true, nothing}, timeseries_init::Tuple{}, ts_init::Tuple{}, ks_init::Tuple{}, recompile::Type{Val{true}}; saveat::StepRangeLen{Float64, Base.TwicePrecision{Float64}, Base.TwicePrecision{Float64}, Int64}, tstops::Tuple{}, d_discontinuities::Tuple{}, save_idxs::Nothing, save_everystep::Bool, save_on::Bool, save_start::Bool, save_end::Nothing, callback::Nothing, dense::Bool, calck::Bool, dt::Float64, dtmin::Nothing, dtmax::Float64, force_dtmin::Bool, adaptive::Bool, gamma::Rational{Int64}, abstol::Float64, reltol::Float64, qmin::Rational{Int64}, qmax::Int64, qsteady_min::Int64, qsteady_max::Rational{Int64}, beta1::Nothing, beta2::Nothing, qoldinit::Rational{Int64}, controller::Nothing, fullnormalize::Bool, failfactor::Int64, maxiters::Int64, internalnorm::typeof(DiffEqBase.ODE_DEFAULT_NORM), internalopnorm::typeof(LinearAlgebra.opnorm), isoutofdomain::typeof(DiffEqBase.ODE_DEFAULT_ISOUTOFDOMAIN), unstable_check::typeof(DiffEqBase.ODE_DEFAULT_UNSTABLE_CHECK), verbose::Bool, timeseries_errors::Bool, dense_errors::Bool, advance_to_tstop::Bool, stop_at_next_tstop::Bool, initialize_save::Bool, progress::Bool, progress_steps::Int64, progress_name::String, progress_message::typeof(DiffEqBase.ODE_DEFAULT_PROG_MESSAGE), userdata::Nothing, allow_extrapolation::Bool, initialize_integrator::Bool, alias_u0::Bool, alias_du0::Bool, initializealg::OrdinaryDiffEq.DefaultInit, kwargs::Base.Pairs{Symbol, Union{}, Tuple{}, NamedTuple{(), Tuple{}}})",
      "    @ OrdinaryDiffEq ~/.julia/packages/OrdinaryDiffEq/Kxv5a/src/solve.jl:500",
      "  [5] __init (repeats 5 times)",
      "    @ ~/.julia/packages/OrdinaryDiffEq/Kxv5a/src/solve.jl:10 [inlined]",
      "  [6] __solve(::ODEProblem{Matrix{Float64}, Tuple{Float64, Float64}, false, Tuple{Vector{Any}, Vector{Any}, Vector{Any}, typeof(temp_julia)}, ODEFunction{false, SciMLBase.AutoSpecialize, typeof(Main.juliaIC.dummyf), LinearAlgebra.UniformScaling{Bool}, Nothing, Nothing, Nothing, Nothing, Nothing, Nothing, Nothing, Nothing, Nothing, Nothing, Nothing, Nothing, Nothing, Nothing, typeof(SciMLBase.DEFAULT_OBSERVED), Nothing, Nothing}, Base.Pairs{Symbol, Union{}, Tuple{}, NamedTuple{(), Tuple{}}}, SciMLBase.StandardODEProblem}, ::TRBDF2{1, false, LinearSolve.DefaultLinearSolver, NLNewton{Rational{Int64}, Rational{Int64}, Rational{Int64}, Rational{Int64}}, typeof(OrdinaryDiffEq.DEFAULT_PRECS), Val{:forward}, true, nothing}; kwargs::Base.Pairs{Symbol, Any, Tuple{Symbol, Symbol, Symbol}, NamedTuple{(:reltol, :abstol, :saveat), Tuple{Float64, Float64, StepRangeLen{Float64, Base.TwicePrecision{Float64}, Base.TwicePrecision{Float64}, Int64}}}})",
      "    @ OrdinaryDiffEq ~/.julia/packages/OrdinaryDiffEq/Kxv5a/src/solve.jl:5",
      "  [7] __solve",
      "    @ ~/.julia/packages/OrdinaryDiffEq/Kxv5a/src/solve.jl:1 [inlined]",
      "  [8] #solve_call#34",
      "    @ ~/.julia/packages/DiffEqBase/rVTlI/src/solve.jl:511 [inlined]",
      "  [9] solve_up(prob::ODEProblem{Matrix{Float64}, Tuple{Int64, Int64}, false, Tuple{Vector{Any}, Vector{Any}, Vector{Any}, typeof(temp_julia)}, ODEFunction{false, SciMLBase.AutoSpecialize, typeof(Main.juliaIC.dummyf), LinearAlgebra.UniformScaling{Bool}, Nothing, Nothing, Nothing, Nothing, Nothing, Nothing, Nothing, Nothing, Nothing, Nothing, Nothing, Nothing, Nothing, Nothing, typeof(SciMLBase.DEFAULT_OBSERVED), Nothing, Nothing}, Base.Pairs{Symbol, Union{}, Tuple{}, NamedTuple{(), Tuple{}}}, SciMLBase.StandardODEProblem}, sensealg::Nothing, u0::Matrix{Float64}, p::Tuple{Vector{Any}, Vector{Any}, Vector{Any}, typeof(temp_julia)}, args::TRBDF2{0, false, Nothing, NLNewton{Rational{Int64}, Rational{Int64}, Rational{Int64}, Rational{Int64}}, typeof(OrdinaryDiffEq.DEFAULT_PRECS), Val{:forward}, true, nothing}; kwargs::Base.Pairs{Symbol, Any, Tuple{Symbol, Symbol, Symbol}, NamedTuple{(:reltol, :abstol, :saveat), Tuple{Float64, Float64, StepRangeLen{Float64, Base.TwicePrecision{Float64}, Base.TwicePrecision{Float64}, Int64}}}})",
      "    @ DiffEqBase ~/.julia/packages/DiffEqBase/rVTlI/src/solve.jl:972",
      " [10] solve_up",
      "    @ ~/.julia/packages/DiffEqBase/rVTlI/src/solve.jl:945 [inlined]",
      " [11] solve(prob::ODEProblem{Matrix{Float64}, Tuple{Int64, Int64}, false, Tuple{Vector{Any}, Vector{Any}, Vector{Any}, typeof(temp_julia)}, ODEFunction{false, SciMLBase.AutoSpecialize, typeof(Main.juliaIC.dummyf), LinearAlgebra.UniformScaling{Bool}, Nothing, Nothing, Nothing, Nothing, Nothing, Nothing, Nothing, Nothing, Nothing, Nothing, Nothing, Nothing, Nothing, Nothing, typeof(SciMLBase.DEFAULT_OBSERVED), Nothing, Nothing}, Base.Pairs{Symbol, Union{}, Tuple{}, NamedTuple{(), Tuple{}}}, SciMLBase.StandardODEProblem}, args::TRBDF2{0, false, Nothing, NLNewton{Rational{Int64}, Rational{Int64}, Rational{Int64}, Rational{Int64}}, typeof(OrdinaryDiffEq.DEFAULT_PRECS), Val{:forward}, true, nothing}; sensealg::Nothing, u0::Nothing, p::Nothing, wrap::Val{true}, kwargs::Base.Pairs{Symbol, Any, Tuple{Symbol, Symbol, Symbol}, NamedTuple{(:reltol, :abstol, :saveat), Tuple{Float64, Float64, StepRangeLen{Float64, Base.TwicePrecision{Float64}, Base.TwicePrecision{Float64}, Int64}}}})",
      "    @ DiffEqBase ~/.julia/packages/DiffEqBase/rVTlI/src/solve.jl:882",
      " [12] solveIC_allAtOnce(n0::Matrix{Float64}, ts::Int64, te::Int64, nprod::Vector{Any}, temp::Function, t_save::StepRangeLen{Float64, Base.TwicePrecision{Float64}, Base.TwicePrecision{Float64}, Int64}, reactions::Vector{Any}, dndt::Vector{Any})",
      "    @ Main.juliaIC ~/Documents/PhD/ElectronPrecipitation/juliaIC.jl:266",
      " [13] top-level scope",
      "    @ ./timing.jl:273 [inlined]",
      " [14] top-level scope",
      "    @ ./In[147]:0"
     ]
    }
   ],
   "source": [
    "@time sol2 = juliaIC.solveIC_allAtOnce(n0, ts_, te_, nprod_julia, temp_julia, t_save, reactions, dndt);"
   ]
  },
  {
   "cell_type": "code",
   "execution_count": null,
   "id": "2fb60ca6-c12d-49fc-8388-4764229cafe4",
   "metadata": {},
   "outputs": [],
   "source": [
    "@time sol2 = juliaIC.solveIC_allAtOnce(n0, ts_, te_, nprod_julia, temp, t_save, reactions, dndt);"
   ]
  },
  {
   "cell_type": "code",
   "execution_count": null,
   "id": "7d9c6f42-987f-40c3-b0b5-91a14030469b",
   "metadata": {
    "tags": []
   },
   "outputs": [],
   "source": [
    "@time sol2 = juliaIC.solveIC_allAtOnce(n0, ts_, te_, nprod, temp, t_save, reactions, dndt)"
   ]
  },
  {
   "cell_type": "code",
   "execution_count": 42,
   "id": "fab4cfce-f166-458e-90a4-6f96829e1830",
   "metadata": {},
   "outputs": [
    {
     "data": {
      "text/plain": [
       "62-element Vector{Float64}:\n",
       " 2.3468991949894056e8\n",
       " 5.758440256754757e8\n",
       " 1.1762670274161274e9\n",
       " 2.0632307596038108e9\n",
       " 3.1908779291868963e9\n",
       " 4.449653619828161e9\n",
       " 5.703248308997093e9\n",
       " 6.83143210435948e9\n",
       " 7.754219893024414e9\n",
       " 8.436716716422884e9\n",
       " 8.880838041384436e9\n",
       " 9.112101151850105e9\n",
       " 9.16731682239053e9\n",
       " ⋮\n",
       " 2.0364942494259312e9\n",
       " 1.9781109164034536e9\n",
       " 1.9226897733109682e9\n",
       " 1.8700706722988176e9\n",
       " 1.8201138315081062e9\n",
       " 1.7726958270275946e9\n",
       " 1.727692267644037e9\n",
       " 1.684923057877791e9\n",
       " 1.6439898289946795e9\n",
       " 1.6038644929862013e9\n",
       " 1.5622421600018065e9\n",
       " 1.515393459930683e9"
      ]
     },
     "execution_count": 42,
     "metadata": {},
     "output_type": "execute_result"
    }
   ],
   "source": [
    "nprod[1](0)\n"
   ]
  },
  {
   "cell_type": "code",
   "execution_count": 57,
   "id": "117b9bc4-0b5c-4a95-b1e1-51c2e3ffd074",
   "metadata": {},
   "outputs": [
    {
     "data": {
      "text/plain": [
       "19-element Vector{Any}:\n",
       " #49 (generic function with 1 method)\n",
       " zerof (generic function with 1 method)\n",
       " zerof (generic function with 1 method)\n",
       " #51 (generic function with 1 method)\n",
       " zerof (generic function with 1 method)\n",
       " zerof (generic function with 1 method)\n",
       " #52 (generic function with 1 method)\n",
       " zerof (generic function with 1 method)\n",
       " zerof (generic function with 1 method)\n",
       " zerof (generic function with 1 method)\n",
       " zerof (generic function with 1 method)\n",
       " zerof (generic function with 1 method)\n",
       " zerof (generic function with 1 method)\n",
       " zerof (generic function with 1 method)\n",
       " zerof (generic function with 1 method)\n",
       " zerof (generic function with 1 method)\n",
       " zerof (generic function with 1 method)\n",
       " #50 (generic function with 1 method)\n",
       " zerof (generic function with 1 method)"
      ]
     },
     "execution_count": 57,
     "metadata": {},
     "output_type": "execute_result"
    }
   ],
   "source": [
    "nprod_julia"
   ]
  },
  {
   "cell_type": "code",
   "execution_count": 58,
   "id": "b029c162-3411-4b41-8b40-86fbebb2e704",
   "metadata": {},
   "outputs": [
    {
     "ename": "LoadError",
     "evalue": "UndefVarError: `sol1` not defined",
     "output_type": "error",
     "traceback": [
      "UndefVarError: `sol1` not defined",
      "",
      "Stacktrace:",
      " [1] top-level scope",
      "   @ In[58]:1"
     ]
    }
   ],
   "source": [
    "println(size(sol1))\n",
    "println([size(h) for h in sol1])\n",
    "\n",
    "sol1u = zeros(size(sol2.u))\n",
    "\n",
    "println(size(sol2.u))\n",
    "println(size(sol3.u))\n",
    "maximum([maximum(u[:]) for u in (sol2.u - sol3.u)./sol3.u])"
   ]
  },
  {
   "cell_type": "code",
   "execution_count": 59,
   "id": "d7b7963c-8148-4a0c-9501-d3c3596e1932",
   "metadata": {
    "tags": []
   },
   "outputs": [
    {
     "ename": "LoadError",
     "evalue": "BoundsError: attempt to access 675×3×62 Array{Float64, 3} at index [1, 1:3]",
     "output_type": "error",
     "traceback": [
      "BoundsError: attempt to access 675×3×62 Array{Float64, 3} at index [1, 1:3]",
      "",
      "Stacktrace:",
      " [1] throw_boundserror(A::Array{Float64, 3}, I::Tuple{Int64, Base.Slice{Base.OneTo{Int64}}})",
      "   @ Base ./abstractarray.jl:744",
      " [2] checkbounds",
      "   @ ./abstractarray.jl:709 [inlined]",
      " [3] _getindex",
      "   @ ./multidimensional.jl:860 [inlined]",
      " [4] getindex(::Array{Float64, 3}, ::Int64, ::Function)",
      "   @ Base ./abstractarray.jl:1294",
      " [5] (::var\"#103#104\")(i::Int64)",
      "   @ Main ./none:0",
      " [6] iterate",
      "   @ ./generator.jl:47 [inlined]",
      " [7] collect(itr::Base.Generator{UnitRange{Int64}, var\"#103#104\"})",
      "   @ Base ./array.jl:782",
      " [8] top-level scope",
      "   @ In[59]:5"
     ]
    }
   ],
   "source": [
    "#temp(t)[ts, h, [Tn, Ti, Te]]\n",
    "#println(size(ts))\n",
    "#println(size(temp(ts)))\n",
    "temp_ = temp(ts)\n",
    "temp_2 = [temp_[i, :] for i in 1:size(temp_,1)]\n",
    "#println(typeof(temp_2))\n",
    "println(size(temp_2[1]))\n",
    "\n",
    "for i in 1:length(particles)\n",
    "    print(i, \" \")\n",
    "    #println(dndt[i])\n",
    "    println(size(dndt[i](nprod, reactions, temp_2, n0, 0.1)))\n",
    "    println(dndt[i](nprod, reactions, temp_2, n0, ts))\n",
    "end\n",
    "println(\"chkpnt2\")"
   ]
  },
  {
   "cell_type": "code",
   "execution_count": 60,
   "id": "839e7e0f-a5b5-46db-8f1e-d8ef46d2a6b7",
   "metadata": {
    "tags": []
   },
   "outputs": [
    {
     "ename": "LoadError",
     "evalue": "UndefVarError: `dd` not defined",
     "output_type": "error",
     "traceback": [
      "UndefVarError: `dd` not defined",
      "",
      "Stacktrace:",
      " [1] top-level scope",
      "   @ In[60]:19"
     ]
    }
   ],
   "source": [
    "\n",
    "\n",
    "function dummyf(n, p, t)\n",
    "    dn = zeros(size(n))\n",
    "    reactions, nprod, dndt, temp = p\n",
    "    temp_ = temp(t)\n",
    "    temp_2 = [temp_[i, :] for i in 1:size(temp_,1)]\n",
    "    \n",
    "    rr = [r[4](temp_2) for r in reactions]\n",
    "    \n",
    "    for j in 1:size(n)[1]\n",
    "        #dn[j, :] .= nprod[j](t)\n",
    "        dn[j, :] .= dndt[j](nprod, reactions, temp_2, n, t)\n",
    "    end \n",
    "    return dn\n",
    "end\n",
    "\n",
    "\n",
    "tspan = (0, 1)dd\n",
    "prob = ODEProblem(dummyf, n0, tspan, (reactions, nprod, dndt, temp))\n",
    "#sol = solve(prob, SciPyDiffEq.BDF(), reltol = 1e-7, abstol = 1e-3)\n",
    "\n",
    "#dummyf(u0, (reactions, nprod, dndt, temp), 0)\n",
    "\n",
    "\n",
    "sol = solve(prob, TRBDF2(autodiff=false), reltol = 1e-7, abstol = 1e-3)"
   ]
  },
  {
   "cell_type": "code",
   "execution_count": 61,
   "id": "fc91c668-1f89-4cb3-8327-994393373706",
   "metadata": {},
   "outputs": [
    {
     "ename": "LoadError",
     "evalue": "UndefVarError: `sol` not defined",
     "output_type": "error",
     "traceback": [
      "UndefVarError: `sol` not defined",
      "",
      "Stacktrace:",
      " [1] top-level scope",
      "   @ In[61]:1"
     ]
    }
   ],
   "source": [
    "[m[m .< 0] for m in sol.u]"
   ]
  },
  {
   "cell_type": "code",
   "execution_count": 62,
   "id": "b0c19108-3118-4f60-9584-45ccee7e49cb",
   "metadata": {
    "tags": []
   },
   "outputs": [
    {
     "ename": "LoadError",
     "evalue": "UndefVarError: `sol1` not defined",
     "output_type": "error",
     "traceback": [
      "UndefVarError: `sol1` not defined",
      "",
      "Stacktrace:",
      " [1] top-level scope",
      "   @ In[62]:1"
     ]
    }
   ],
   "source": [
    "p = plot(sol1[1],\n",
    "    xaxis = \"Time (t)\",\n",
    "    yaxis = (\"u(t) (in μm)\"),\n",
    "    label = reshape([p[2] for p in particles], (1, :)),\n",
    "    )#ylimits = (1, 1e12))\n"
   ]
  },
  {
   "cell_type": "code",
   "execution_count": 63,
   "id": "d38d962b-7b53-4784-90da-6f3a0158844f",
   "metadata": {},
   "outputs": [
    {
     "ename": "LoadError",
     "evalue": "UndefVarError: `sol` not defined",
     "output_type": "error",
     "traceback": [
      "UndefVarError: `sol` not defined",
      "",
      "Stacktrace:",
      " [1] top-level scope",
      "   @ In[63]:1"
     ]
    }
   ],
   "source": [
    "sol[1]\n",
    "\n",
    "p = plot(sol[1], \n",
    "     xaxis = \"Time (t)\", yaxis = (\"u(t) (in μm)\", :log), label = reshape([p[2] for p in particles], (1, :)), \n",
    "        ylimits = (1, 1e12))\n",
    "#plot!(sol.t, t -> 0.5 * exp(1.01t), lw = 3, ls = :dash, label = \"True Solution!\")\n",
    "#display(p)"
   ]
  },
  {
   "cell_type": "code",
   "execution_count": 64,
   "id": "48633f56-383d-4b0a-b4b4-624f4026553c",
   "metadata": {},
   "outputs": [
    {
     "ename": "LoadError",
     "evalue": "UndefVarError: `sol1` not defined",
     "output_type": "error",
     "traceback": [
      "UndefVarError: `sol1` not defined",
      "",
      "Stacktrace:",
      " [1] top-level scope",
      "   @ In[64]:1"
     ]
    }
   ],
   "source": [
    "sol1[1]"
   ]
  },
  {
   "cell_type": "code",
   "execution_count": null,
   "id": "bafde225-55ae-40f6-8705-b114351a0320",
   "metadata": {},
   "outputs": [],
   "source": []
  },
  {
   "cell_type": "code",
   "execution_count": null,
   "id": "859eaebe-3323-417a-aafa-c2bb87c99297",
   "metadata": {},
   "outputs": [],
   "source": []
  },
  {
   "cell_type": "code",
   "execution_count": null,
   "id": "c250dd07-f036-4721-a04b-b9bceeeb77e9",
   "metadata": {},
   "outputs": [],
   "source": []
  },
  {
   "cell_type": "code",
   "execution_count": null,
   "id": "142f2810-10ab-476d-8cd6-81079aff6502",
   "metadata": {},
   "outputs": [],
   "source": []
  }
 ],
 "metadata": {
  "@webio": {
   "lastCommId": "3f052963-e2a9-4e62-860e-b9944e0e50e0",
   "lastKernelId": "224e92b8-3ba4-4816-97ed-5ddb15dd8b5d"
  },
  "kernelspec": {
   "display_name": "Julia 1.9.2",
   "language": "julia",
   "name": "julia-1.9"
  },
  "language_info": {
   "file_extension": ".jl",
   "mimetype": "application/julia",
   "name": "julia",
   "version": "1.9.2"
  }
 },
 "nbformat": 4,
 "nbformat_minor": 5
}
