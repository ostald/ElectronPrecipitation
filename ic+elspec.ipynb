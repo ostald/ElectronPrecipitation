{
 "cells": [
  {
   "cell_type": "code",
   "execution_count": null,
   "id": "c3d1cfc7-848d-4801-b8a2-bd5f8cd6b173",
   "metadata": {
    "tags": []
   },
   "outputs": [
    {
     "name": "stdout",
     "output_type": "stream",
     "text": [
      "importing Jupyter notebook from ic4elspec.ipynb\n",
      "importing Jupyter notebook from ionChem.ipynb\n",
      "importing Jupyter notebook from organizing.ipynb\n",
      "importing Jupyter notebook from loadMSIS.ipynb\n",
      "Reactions Set Rees/ElSpec-iqt_IC_0\n",
      "  \n",
      "Copyright 2015-2022, Ilkka Virtanen, Bjorn Gustavsson and Juha Vierinen\n",
      "This is free software, licensed under GNU GPL version 2 or later.\n",
      "  \n",
      "This program is distributed in the hope that it will be useful, \n",
      "but WITHOUT ANY WARRANTY; without even the implied warranty of \n",
      "MERCHANTABILITY or FITNESS FOR A PARTICULAR PURPOSE.\n",
      "See the GNU General Public License for more details\n",
      "\n",
      "ElSpec input arguments\n",
      "\n",
      "       ppdir: /Users/ost051/Documents/PhD/Electron Precipitation/example/Data\n",
      "      fitdir: /Users/ost051/Documents/PhD/Electron Precipitation/example/Data\n",
      "  experiment: arc1\n",
      "       radar: uhf\n",
      "     version: 1\n",
      "   hmin [km]:  95.0\n",
      "   hmax [km]: 150.0\n",
      "       btime: 2006 12 12 19 30 0 \n",
      "       etime: 2006 12 12 19 35 0 \n",
      "   ionomodel: Sergienko\n",
      " recombmodel: SheehanGr\n",
      "   integtype: integrate\n",
      "    maxorder: 5\n",
      "     plotres: 0\n",
      "        tres: best\n",
      "   Emin [eV]:       1000\n",
      "      ninteg: 5\n",
      "Will write results in:\n",
      " Reactions Set Rees/ElSpec-iqt_IC_0\n",
      "     1   128   128\n",
      "\n"
     ]
    }
   ],
   "source": [
    "import os\n",
    "import import_ipynb\n",
    "import ic4elspec\n",
    "import time\n",
    "#%matplotlib widget\n",
    "\n",
    "i = 0\n",
    "os.system(\"/Applications/MATLAB_R2022b.app/bin/./matlab -sd\"+\n",
    "          \" \\\"/Users/ost051/Documents/PhD/ELSPEC-2022\" +\n",
    "          \"\\\" -batch \\\"ElSpec_IC\\\" -nodisplay\")\n",
    "\n",
    "\n",
    "ic4elspec.ic('/Users/ost051/Documents/PhD/ELSPEC-2022/Reactions Set Rees/',\n",
    "             'ElSpec-iqt_IC_', i)\n",
    "\n",
    "\n",
    "while True:\n",
    "    osstr = \"/Applications/MATLAB_R2022b.app/bin/./matlab -sd \"+\\\n",
    "              \"\\\"/Users/ost051/Documents/PhD/ELSPEC-2022\"+\\\n",
    "              \"\\\" -batch \\\"ElSpec_IC_iter(\"+str(i)+\")\\\" -nodisplay\"\n",
    "    os.system(osstr)\n",
    "    ic4elspec.ic('/Users/ost051/Documents/PhD/ELSPEC-2022/Reactions Set Rees/',\n",
    "                 'ElSpec-iqt_IC_', i)\n",
    "    i = i+1\n",
    "\n",
    "    "
   ]
  },
  {
   "cell_type": "code",
   "execution_count": null,
   "id": "3ab7d45a-c290-4d69-a6a6-71b3c9d05e27",
   "metadata": {},
   "outputs": [],
   "source": []
  }
 ],
 "metadata": {
  "kernelspec": {
   "display_name": "Python 3 (ipykernel)",
   "language": "python",
   "name": "python3"
  },
  "language_info": {
   "codemirror_mode": {
    "name": "ipython",
    "version": 3
   },
   "file_extension": ".py",
   "mimetype": "text/x-python",
   "name": "python",
   "nbconvert_exporter": "python",
   "pygments_lexer": "ipython3",
   "version": "3.10.2"
  }
 },
 "nbformat": 4,
 "nbformat_minor": 5
}
