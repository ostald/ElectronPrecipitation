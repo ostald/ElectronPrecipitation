{
 "cells": [
  {
   "cell_type": "code",
   "execution_count": 6,
   "id": "5e267454-23b9-400f-ba06-141a724c313e",
   "metadata": {},
   "outputs": [],
   "source": [
    "import os\n",
    "from datetime import datetime\n",
    "from shutil import copy\n",
    "\n",
    "class setup:\n",
    "    def __init__(self, msis_config, iri_config, chemistry_config, path_eiscat_data):\n",
    "        self._directory = os.path.abspath('')\n",
    "        self._create_directory()\n",
    "        self._copy_config(msis_config, iri_config, chemistry_config, path_eiscat_data)\n",
    "     \n",
    "    def _create_directory(self):\n",
    "        \"\"\"\n",
    "        Creates a directory to store the configuration and results of this run.\n",
    "        The directory is labeled with the time of starting the program.\n",
    "        Folders created are Simulation (Config is created at the time of copying the config files)\n",
    "        \"\"\"\n",
    "        self._today = datetime.now()\n",
    "        self._log_directory = self._directory + '/log/' + self._today.strftime('%Y.%m.%d_%H_%M_%S')\n",
    "        os.mkdir(self._log_directory)\n",
    "        os.mkdir(self._log_directory + '/Simulation')\n",
    "        \n",
    "    def _copy_config(self, msis_config, iri_config, chemistry_config, path_eiscat_data):\n",
    "        \"\"\"\n",
    "        Copies all configuration files into the log folder\n",
    "        \"\"\"\n",
    "        os.mkdir(self._log_directory + '/Config')\n",
    "        copy(msis_config, self._log_directory + '/Config')\n",
    "        copy(iri_config, self._log_directory + '/Config')\n",
    "        copy(chemistry_config, self._log_directory + '/Config')\n",
    "        with open(self._log_directory + '/Config/path_to_eiscat_data.txt', 'w') as f:\n",
    "            f.write(path_eiscat_data)"
   ]
  }
 ],
 "metadata": {
  "kernelspec": {
   "display_name": "Python 3 (ipykernel)",
   "language": "python",
   "name": "python3"
  },
  "language_info": {
   "codemirror_mode": {
    "name": "ipython",
    "version": 3
   },
   "file_extension": ".py",
   "mimetype": "text/x-python",
   "name": "python",
   "nbconvert_exporter": "python",
   "pygments_lexer": "ipython3",
   "version": "3.10.2"
  }
 },
 "nbformat": 4,
 "nbformat_minor": 5
}
