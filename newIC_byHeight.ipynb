{
 "cells": [
  {
   "cell_type": "code",
   "execution_count": 7,
   "id": "578c44e6-d1f8-4934-9da0-5c44ff57d1a0",
   "metadata": {},
   "outputs": [
    {
     "name": "stderr",
     "output_type": "stream",
     "text": [
      "WARNING: replacing module juliaIC.\n"
     ]
    },
    {
     "data": {
      "text/plain": [
       "getparams (generic function with 1 method)"
      ]
     },
     "execution_count": 7,
     "metadata": {},
     "output_type": "execute_result"
    }
   ],
   "source": [
    "using MAT\n",
    "using PCHIPInterpolation\n",
    "using DifferentialEquations\n",
    "\n",
    "include(\"juliaIC.jl\");\n",
    "\n",
    "\n",
    "function loadmat(matfile)\n",
    "    file = matopen(matfile)\n",
    "    con = read(file, \"ElSpecOut\") # note that this does NOT introduce a variable ``varname`` into scope\n",
    "    close(file)\n",
    "    return con\n",
    "end\n",
    "\n",
    "function getparams(con)\n",
    "    ne = con[\"ne\"] #size: (62, 674)\n",
    "    \n",
    "    iri = permutedims(con[\"iri\"], (2, 1, 3))\n",
    "    Tn_, Ti_, Te_, nN2, nO2, nO, nAr, nNOp, nO2p, nOp = [iri[i, :, :] for i in 1:size(iri)[1]]\n",
    "    Tn = Tn_\n",
    "    nNOp, nO2p, nOp = [i .* ne ./ sum([nNOp, nO2p, nOp]) for i in [nNOp, nO2p, nOp]]\n",
    "    nion = cat(ne, nN2, nO2, nO, nAr, nNOp, nO2p, nOp; dims = 3)\n",
    "    nion = permutedims(nion, (3, 1, 2))\n",
    "\n",
    "    par = con[\"par\"]\n",
    "    Ti = par[:, 2, :]\n",
    "    Te = par[:, 3, :]\n",
    "    \n",
    "    T = permutedims(cat(Te, Ti, Tn; dims = 3), (2, 1, 3)) #be aware of ordering!!!\n",
    "    #size: (674, 62, 3)\n",
    "    \n",
    "    ts_ = dropdims(con[\"ts\"]; dims = 2)\n",
    "    te_ = dropdims(con[\"te\"]; dims = 2)\n",
    "    ts = ts_ .- ts_[1]\n",
    "    te = te_ .- ts_[1]\n",
    "    \n",
    "    e_prod = permutedims(con[\"q\"], (2, 1))\n",
    "    #size 674x62\n",
    "    \n",
    "    h = dropdims(con[\"h\"]; dims = 1)\n",
    "    \n",
    "    return ts, te, h, nion, T, e_prod\n",
    "end\n"
   ]
  },
  {
   "cell_type": "code",
   "execution_count": 2,
   "id": "bd391eb7-b3db-42ba-ba1e-388a8c3b5653",
   "metadata": {},
   "outputs": [
    {
     "data": {
      "text/plain": [
       "interpolate_T (generic function with 1 method)"
      ]
     },
     "execution_count": 2,
     "metadata": {},
     "output_type": "execute_result"
    }
   ],
   "source": [
    "function interpolate_T(ts, T)\n",
    "    i, j, k = size(T)\n",
    "    T_intp = Array{Any}(undef, (j, k))\n",
    "\n",
    "    for kk in 1:k\n",
    "        for jj in 1:j\n",
    "            T_intp[jj, kk] = Interpolator(ts, T[:, j, k])\n",
    "        end\n",
    "    end\n",
    "\n",
    "    return T_intp\n",
    "end\n",
    "\n",
    "#function interpolate_q(ts, q)\n",
    "#    i, k = size(q)\n",
    "#    q_intp = Array{Any}(undef, k)\n",
    "#\n",
    "#    for kk in 1:k\n",
    "#        q_intp[kk] = Interpolator(ts, q[:, k])\n",
    "#    end\n",
    "#\n",
    "#    return T_intp\n",
    "#end"
   ]
  },
  {
   "cell_type": "code",
   "execution_count": 3,
   "id": "c1dc8c38-a657-4d7e-a005-6214ff3cfbe9",
   "metadata": {
    "tags": []
   },
   "outputs": [
    {
     "data": {
      "text/plain": [
       "19-element Vector{Vector{Any}}:\n",
       " [1, \"O2+\"]\n",
       " [2, \"e-\"]\n",
       " [3, \"O(1D)\"]\n",
       " [4, \"O(1S)\"]\n",
       " [5, \"O\"]\n",
       " [6, \"N2+\"]\n",
       " [7, \"N(2D)\"]\n",
       " [8, \"N(4S)\"]\n",
       " [9, \"NO+\"]\n",
       " [10, \"O2+(a4P)\"]\n",
       " [11, \"O+(2D)\"]\n",
       " [12, \"O+(4S)\"]\n",
       " [13, \"O+(2P)\"]\n",
       " [14, \"O2\"]\n",
       " [15, \"NO\"]\n",
       " [16, \"N2\"]\n",
       " [17, \"N+\"]\n",
       " [18, \"H\"]\n",
       " [19, \"H+\"]"
      ]
     },
     "execution_count": 3,
     "metadata": {},
     "output_type": "execute_result"
    }
   ],
   "source": [
    "const path_reactions_file = \"/Users/ost051/Documents/PhD/ElectronPrecipitation/Data/other/Reaction rates full set ext.txt\"\n",
    "const dndt, particles, reactions, ode_raw = juliaIC.initIC(path_reactions_file)\n",
    "particles\n",
    "\n"
   ]
  },
  {
   "cell_type": "code",
   "execution_count": 4,
   "id": "4b786134-93f7-4dcb-962f-9a2011d1a739",
   "metadata": {},
   "outputs": [
    {
     "data": {
      "text/plain": [
       "ion_production (generic function with 1 method)"
      ]
     },
     "execution_count": 4,
     "metadata": {},
     "output_type": "execute_result"
    }
   ],
   "source": [
    "function zerof(t)\n",
    "    return 0\n",
    "end\n",
    "\n",
    "#make ion production part of ODE\n",
    "function ion_production(qe, particles, n0)\n",
    "    prod = Array{Any}(undef, length(particles))\n",
    "    prod.= zerof\n",
    "    i_O  = findall(p -> p[2] == \"O\", particles)[1]\n",
    "    i_O2 = findall(p -> p[2] == \"O2\", particles)[1]\n",
    "    i_N2 = findall(p -> p[2] == \"N2\", particles)[1]\n",
    "    for i in 1:length(particles)\n",
    "        if particles[i][2] == \"e-\"\n",
    "            prod[i] = (t) -> qe(t, itp)\n",
    "        end\n",
    "        if particles[i][2] == \"O+(4S)\"\n",
    "            prod[i] = (t) -> qe(t) .* n0[i_O , :]*0.56 ./(n0[i_O, :]*0.56 .+ n0[i_N2, :]*0.92 .+ n0[i_O2, :])\n",
    "            #println(size(prod[i](0)))\n",
    "        end\n",
    "        if particles[i][2] == \"O2+\"\n",
    "            prod[i] = (t) -> qe(t) .* n0[i_N2, :]*0.92 ./(n0[i_O, :]*0.56 .+ n0[i_N2, :]*0.92 .+ n0[i_O2, :])\n",
    "        end\n",
    "        if particles[i][2] == \"N2+\"\n",
    "            prod[i] = (t) -> qe(t) .* n0[i_O2, :]      ./(n0[i_O, :]*0.56 .+ n0[i_N2, :]*0.92 .+ n0[i_O2, :])\n",
    "        end\n",
    "    end\n",
    "\n",
    "    return Array{Any}(undef, length(particles))\n",
    "end\n"
   ]
  },
  {
   "cell_type": "code",
   "execution_count": 8,
   "id": "a7da2c66-4edd-4468-bfd6-acef57d02d42",
   "metadata": {},
   "outputs": [
    {
     "name": "stdout",
     "output_type": "stream",
     "text": [
      "16\n",
      "(62, 3)\n",
      "(674, 62, 3)\n",
      "(62,)\n",
      "--\n"
     ]
    },
    {
     "name": "stderr",
     "output_type": "stream",
     "text": [
      "\u001b[33m\u001b[1m┌ \u001b[22m\u001b[39m\u001b[33m\u001b[1mWarning: \u001b[22m\u001b[39mUsing arrays or dicts to store parameters of different types can hurt performance.\n",
      "\u001b[33m\u001b[1m│ \u001b[22m\u001b[39mConsider using tuples instead.\n",
      "\u001b[33m\u001b[1m└ \u001b[22m\u001b[39m\u001b[90m@ SciMLBase ~/.julia/packages/SciMLBase/kTUaf/src/performance_warnings.jl:32\u001b[39m\n"
     ]
    },
    {
     "ename": "LoadError",
     "evalue": "MethodError: no method matching Vector{Float64}(::Int64)\n\n\u001b[0mClosest candidates are:\n\u001b[0m  Vector{T}() where T\n\u001b[0m\u001b[90m   @\u001b[39m \u001b[90mCore\u001b[39m \u001b[90m\u001b[4mboot.jl:496\u001b[24m\u001b[39m\n\u001b[0m  Array{T, N}(\u001b[91m::FillArrays.Ones{V, N}\u001b[39m) where {T, V, N}\n\u001b[0m\u001b[90m   @\u001b[39m \u001b[33mFillArrays\u001b[39m \u001b[90m~/.julia/packages/FillArrays/FwMoZ/src/\u001b[39m\u001b[90m\u001b[4mFillArrays.jl:519\u001b[24m\u001b[39m\n\u001b[0m  Array{T, N}(\u001b[91m::BitArray{N}\u001b[39m) where {T, N}\n\u001b[0m\u001b[90m   @\u001b[39m \u001b[90mBase\u001b[39m \u001b[90m\u001b[4mbitarray.jl:495\u001b[24m\u001b[39m\n\u001b[0m  ...\n",
     "output_type": "error",
     "traceback": [
      "MethodError: no method matching Vector{Float64}(::Int64)\n\n\u001b[0mClosest candidates are:\n\u001b[0m  Vector{T}() where T\n\u001b[0m\u001b[90m   @\u001b[39m \u001b[90mCore\u001b[39m \u001b[90m\u001b[4mboot.jl:496\u001b[24m\u001b[39m\n\u001b[0m  Array{T, N}(\u001b[91m::FillArrays.Ones{V, N}\u001b[39m) where {T, V, N}\n\u001b[0m\u001b[90m   @\u001b[39m \u001b[33mFillArrays\u001b[39m \u001b[90m~/.julia/packages/FillArrays/FwMoZ/src/\u001b[39m\u001b[90m\u001b[4mFillArrays.jl:519\u001b[24m\u001b[39m\n\u001b[0m  Array{T, N}(\u001b[91m::BitArray{N}\u001b[39m) where {T, N}\n\u001b[0m\u001b[90m   @\u001b[39m \u001b[90mBase\u001b[39m \u001b[90m\u001b[4mbitarray.jl:495\u001b[24m\u001b[39m\n\u001b[0m  ...\n",
      "",
      "Stacktrace:",
      " [1] __solve(::ODEProblem{Vector{Float64}, Tuple{Vector{Float64}, Vector{Float64}}, false, Tuple{Vector{Any}, Vector{Any}, Vector{Any}, Matrix{Any}, Int64}, ODEFunction{false, SciMLBase.AutoSpecialize, typeof(dummyf2), LinearAlgebra.UniformScaling{Bool}, Nothing, Nothing, Nothing, Nothing, Nothing, Nothing, Nothing, Nothing, Nothing, Nothing, Nothing, Nothing, Nothing, Nothing, typeof(SciMLBase.DEFAULT_OBSERVED), Nothing, Nothing}, Base.Pairs{Symbol, Union{}, Tuple{}, NamedTuple{(), Tuple{}}}, SciMLBase.StandardODEProblem}, ::TRBDF2{1, false, LinearSolve.DefaultLinearSolver, NLNewton{Rational{Int64}, Rational{Int64}, Rational{Int64}, Rational{Int64}}, typeof(OrdinaryDiffEq.DEFAULT_PRECS), Val{:forward}, true, nothing}; kwargs::Base.Pairs{Symbol, Any, Tuple{Symbol, Symbol, Symbol}, NamedTuple{(:reltol, :abstol, :saveat), Tuple{Float64, Float64, Vector{Float64}}}})",
      "   @ OrdinaryDiffEq ~/.julia/packages/OrdinaryDiffEq/Kxv5a/src/solve.jl:5",
      " [2] solve_call(_prob::ODEProblem{Vector{Float64}, Tuple{Vector{Float64}, Vector{Float64}}, false, Tuple{Vector{Any}, Vector{Any}, Vector{Any}, Matrix{Any}, Int64}, ODEFunction{false, SciMLBase.AutoSpecialize, typeof(dummyf2), LinearAlgebra.UniformScaling{Bool}, Nothing, Nothing, Nothing, Nothing, Nothing, Nothing, Nothing, Nothing, Nothing, Nothing, Nothing, Nothing, Nothing, Nothing, typeof(SciMLBase.DEFAULT_OBSERVED), Nothing, Nothing}, Base.Pairs{Symbol, Union{}, Tuple{}, NamedTuple{(), Tuple{}}}, SciMLBase.StandardODEProblem}, args::TRBDF2{1, false, LinearSolve.DefaultLinearSolver, NLNewton{Rational{Int64}, Rational{Int64}, Rational{Int64}, Rational{Int64}}, typeof(OrdinaryDiffEq.DEFAULT_PRECS), Val{:forward}, true, nothing}; merge_callbacks::Bool, kwargshandle::KeywordArgError, kwargs::Base.Pairs{Symbol, Any, Tuple{Symbol, Symbol, Symbol}, NamedTuple{(:reltol, :abstol, :saveat), Tuple{Float64, Float64, Vector{Float64}}}})",
      "   @ DiffEqBase ~/.julia/packages/DiffEqBase/rVTlI/src/solve.jl:511",
      " [3] solve_up(prob::ODEProblem{Vector{Float64}, Tuple{Vector{Float64}, Vector{Float64}}, false, Tuple{Vector{Any}, Vector{Any}, Vector{Any}, Matrix{Any}, Int64}, ODEFunction{false, SciMLBase.AutoSpecialize, typeof(dummyf2), LinearAlgebra.UniformScaling{Bool}, Nothing, Nothing, Nothing, Nothing, Nothing, Nothing, Nothing, Nothing, Nothing, Nothing, Nothing, Nothing, Nothing, Nothing, typeof(SciMLBase.DEFAULT_OBSERVED), Nothing, Nothing}, Base.Pairs{Symbol, Union{}, Tuple{}, NamedTuple{(), Tuple{}}}, SciMLBase.StandardODEProblem}, sensealg::Nothing, u0::Vector{Float64}, p::Tuple{Vector{Any}, Vector{Any}, Vector{Any}, Matrix{Any}, Int64}, args::TRBDF2{0, false, Nothing, NLNewton{Rational{Int64}, Rational{Int64}, Rational{Int64}, Rational{Int64}}, typeof(OrdinaryDiffEq.DEFAULT_PRECS), Val{:forward}, true, nothing}; kwargs::Base.Pairs{Symbol, Any, Tuple{Symbol, Symbol, Symbol}, NamedTuple{(:reltol, :abstol, :saveat), Tuple{Float64, Float64, Vector{Float64}}}})",
      "   @ DiffEqBase ~/.julia/packages/DiffEqBase/rVTlI/src/solve.jl:972",
      " [4] solve_up",
      "   @ ~/.julia/packages/DiffEqBase/rVTlI/src/solve.jl:945 [inlined]",
      " [5] solve(prob::ODEProblem{Vector{Float64}, Tuple{Vector{Float64}, Vector{Float64}}, false, Tuple{Vector{Any}, Vector{Any}, Vector{Any}, Matrix{Any}, Int64}, ODEFunction{false, SciMLBase.AutoSpecialize, typeof(dummyf2), LinearAlgebra.UniformScaling{Bool}, Nothing, Nothing, Nothing, Nothing, Nothing, Nothing, Nothing, Nothing, Nothing, Nothing, Nothing, Nothing, Nothing, Nothing, typeof(SciMLBase.DEFAULT_OBSERVED), Nothing, Nothing}, Base.Pairs{Symbol, Union{}, Tuple{}, NamedTuple{(), Tuple{}}}, SciMLBase.StandardODEProblem}, args::TRBDF2{0, false, Nothing, NLNewton{Rational{Int64}, Rational{Int64}, Rational{Int64}, Rational{Int64}}, typeof(OrdinaryDiffEq.DEFAULT_PRECS), Val{:forward}, true, nothing}; sensealg::Nothing, u0::Nothing, p::Nothing, wrap::Val{true}, kwargs::Base.Pairs{Symbol, Any, Tuple{Symbol, Symbol, Symbol}, NamedTuple{(:reltol, :abstol, :saveat), Tuple{Float64, Float64, Vector{Float64}}}})",
      "   @ DiffEqBase ~/.julia/packages/DiffEqBase/rVTlI/src/solve.jl:882",
      " [6] IC_byHeight()",
      "   @ Main ./In[8]:61",
      " [7] top-level scope",
      "   @ In[8]:74"
     ]
    }
   ],
   "source": [
    "function dummyf2(n, p, t)\n",
    "    dn = zeros(size(n))\n",
    "    reactions, nprod, dndt, T_intp, ih = p\n",
    "    @views TT = [t(0) for t in T_intp[ih, :]]\n",
    "    \n",
    "    for j in 1:size(n)\n",
    "        dn[j] = dndt[j](nprod, reactions, TT, n, t)[ih]\n",
    "    end \n",
    "    return dn\n",
    "end\n",
    "\n",
    "function IC_byHeight()\n",
    "    path_reactions_file = \"/Users/ost051/Documents/PhD/ElectronPrecipitation/Data/other/Reaction rates full set ext.txt\"\n",
    "    dndt, particles, reactions, ode_raw = juliaIC.initIC(path_reactions_file)\n",
    "\n",
    "    con = loadmat(\"/Users/ost051/Documents/PhD/ElectronPrecipitation/log/testing/2023.05.12_09_56_23_mixf=0/ElSpec-iqt_IC_0.mat\")\n",
    "    ts, te, h, nion, T, e_prod = getparams(con)\n",
    "    nh = length(h)\n",
    "    np = length(particles)\n",
    "    n0 = zeros(np, nh)\n",
    "    #nion = [ne, nN2, nO2, nO, nAr, nNOp, nO2p, nOp]\n",
    "    for i in 1:np\n",
    "        if particles[i][2] == \"N2\"\n",
    "            n0[i, :] = nion[2, :, 1]\n",
    "            println(i)\n",
    "        elseif particles[i][2] == \"O2\"\n",
    "            n0[i, :] = nion[3, :, 1]\n",
    "        elseif particles[i][2] == \"O(1D)\"\n",
    "            n0[i, :] = nion[4, :, 1]\n",
    "        elseif particles[i][2] == \"NO+\"\n",
    "            n0[i, :] = nion[6, :, 1]\n",
    "        elseif particles[i][2] == \"O2+\"\n",
    "            n0[i, :] = nion[7, :, 1]\n",
    "        elseif particles[i][2] == \"O+(4S)\"\n",
    "            n0[i, :] = nion[8, :, 1]\n",
    "        end\n",
    "    end\n",
    "    \n",
    "    T_intp = interpolate_T(ts, T)\n",
    "    println(size(T_intp))\n",
    "    TT = Array{Float64}(undef, 3)\n",
    "    \n",
    "    #e_p_intp = interpolate_q(ts, e_prod)\n",
    "    #println(size(e_p_intp))\n",
    "    \n",
    "    println(size(T))\n",
    "    t_save = ts\n",
    "    sol = Array{Any}(undef, nh)\n",
    "\n",
    "    \n",
    "    for ih in 1:nh\n",
    "        #@time @views TT = [t(0) for t in T_intp[ih, :]]\n",
    "        e_p_intp2 = Interpolator(ts, e_prod[:, ih])\n",
    "        nprod = ion_production(e_p_intp2, particles, n0)\n",
    "        #@time QQ = e_p_intp2(0)\n",
    "        println(\"--\")\n",
    "        \n",
    "        n0h = n0[:, ih]\n",
    "        tspan = (ts, te)\n",
    "        prob = ODEProblem(dummyf2, n0h, tspan, (reactions, nprod, dndt, T_intp, ih))\n",
    "        sol[i] = solve(prob, TRBDF2(autodiff=false), reltol = 1e-7, abstol = 1e-3, saveat = t_save)\n",
    "    end\n",
    "    \n",
    "    \n",
    "    return 0\n",
    "end\n",
    "\n",
    "function setup()\n",
    "end\n",
    "\n",
    "setup()\n",
    "\n",
    "\n",
    "IC_byHeight()\n",
    "\n",
    "\"\"\"\n",
    "todo:\n",
    "- map elspec ion densities to ionchem\n",
    "- put some stuff in init, look up if state can be preserved in julia\n",
    "\n",
    "\n",
    "\"\"\""
   ]
  },
  {
   "cell_type": "code",
   "execution_count": 19,
   "id": "11528e7e-25e7-44e0-ad9b-f12eb95475fc",
   "metadata": {},
   "outputs": [
    {
     "name": "stdout",
     "output_type": "stream",
     "text": [
      "(8, 62, 674)\n"
     ]
    },
    {
     "name": "stderr",
     "output_type": "stream",
     "text": [
      "WARNING: redefinition of constant dndt. This may fail, cause incorrect answers, or produce other errors.\n",
      "WARNING: redefinition of constant particles. This may fail, cause incorrect answers, or produce other errors.\n",
      "WARNING: redefinition of constant reactions. This may fail, cause incorrect answers, or produce other errors.\n",
      "WARNING: redefinition of constant ode_raw. This may fail, cause incorrect answers, or produce other errors.\n"
     ]
    }
   ],
   "source": [
    "path_reactions_file = \"/Users/ost051/Documents/PhD/ElectronPrecipitation/Data/other/Reaction rates full set ext.txt\"\n",
    "dndt, particles, reactions, ode_raw = juliaIC.initIC(path_reactions_file)\n",
    "\n",
    "con = loadmat(\"/Users/ost051/Documents/PhD/ElectronPrecipitation/log/testing/2023.05.12_09_56_23_mixf=0/ElSpec-iqt_IC_0.mat\")\n",
    "ts, te, h, nion, T, e_prod = getparams(con)\n",
    "\n",
    "println(size(nion))\n"
   ]
  },
  {
   "cell_type": "code",
   "execution_count": 32,
   "id": "049a9ec4-6802-4e09-a176-21de822bc0ea",
   "metadata": {},
   "outputs": [
    {
     "name": "stdout",
     "output_type": "stream",
     "text": [
      "16\n"
     ]
    },
    {
     "data": {
      "text/plain": [
       "19×62 Matrix{Float64}:\n",
       " 1.80178e10  2.80073e10  3.97494e10  …  7.22771e10  7.24361e10  7.23335e10\n",
       " 0.0         0.0         0.0            0.0         0.0         0.0\n",
       " 3.00082e17  3.08221e17  3.11227e17     1.10853e16  1.07078e16  1.03489e16\n",
       " 0.0         0.0         0.0            0.0         0.0         0.0\n",
       " 0.0         0.0         0.0            0.0         0.0         0.0\n",
       " 0.0         0.0         0.0         …  0.0         0.0         0.0\n",
       " 0.0         0.0         0.0            0.0         0.0         0.0\n",
       " 0.0         0.0         0.0            0.0         0.0         0.0\n",
       " 9.0089e9    1.40036e10  1.98747e10     3.61385e10  3.6218e10   3.61668e10\n",
       " 0.0         0.0         0.0            0.0         0.0         0.0\n",
       " 0.0         0.0         0.0         …  0.0         0.0         0.0\n",
       " 3.00297e9   4.66788e9   6.6249e9       1.20462e10  1.20727e10  1.20556e10\n",
       " 0.0         0.0         0.0            0.0         0.0         0.0\n",
       " 3.96627e18  3.39376e18  2.8931e18      3.31351e15  3.12798e15  2.95557e15\n",
       " 0.0         0.0         0.0            0.0         0.0         0.0\n",
       " 1.54304e19  1.32809e19  1.13962e19  …  2.68441e16  2.54889e16  2.42191e16\n",
       " 0.0         0.0         0.0            0.0         0.0         0.0\n",
       " 0.0         0.0         0.0            0.0         0.0         0.0\n",
       " 0.0         0.0         0.0            0.0         0.0         0.0"
      ]
     },
     "execution_count": 32,
     "metadata": {},
     "output_type": "execute_result"
    }
   ],
   "source": [
    "np = length(particles)\n",
    "nh = length(h)\n",
    "n0 = zeros(np, nh)\n",
    "    #nion = [ne, nN2, nO2, nO, nAr, nNOp, nO2p, nOp]\n",
    "    for i in 1:np\n",
    "        if particles[i][2] == \"N2\"\n",
    "            n0[i, :] = nion[2, :, 1]\n",
    "            println(i)\n",
    "        elseif particles[i][2] == \"O2\"\n",
    "            n0[i, :] = nion[3, :, 1]\n",
    "        elseif particles[i][2] == \"O(1D)\"\n",
    "            n0[i, :] = nion[4, :, 1]\n",
    "        elseif particles[i][2] == \"NO+\"\n",
    "            n0[i, :] = nion[6, :, 1]\n",
    "        elseif particles[i][2] == \"O2+\"\n",
    "            n0[i, :] = nion[7, :, 1]\n",
    "        elseif particles[i][2] == \"O+(4S)\"\n",
    "            n0[i, :] = nion[8, :, 1]\n",
    "        end\n",
    "    end\n",
    "\n",
    "n0"
   ]
  },
  {
   "cell_type": "code",
   "execution_count": 7,
   "id": "f23f9eb8-4e91-441f-beb4-ab1da5a3f31f",
   "metadata": {},
   "outputs": [
    {
     "data": {
      "text/plain": [
       "\"Performance:\\n1. Avoid containers with abstract types\\n    => define arrays as float64 explicitly\\n\\n\\n1. Type-stable code => no abstract types => define types explicitly as eg. Float64 of Int32\\n2. \\n\\n\""
      ]
     },
     "execution_count": 7,
     "metadata": {},
     "output_type": "execute_result"
    }
   ],
   "source": [
    "\"\"\"\n",
    "Performance:\n",
    "1. Avoid containers with abstract types\n",
    "    => define arrays as float64 explicitly\n",
    "\n",
    "\n",
    "1. Type-stable code => no abstract types => define types explicitly as eg. Float64 of Int32\n",
    "2. \n",
    "\"\"\""
   ]
  },
  {
   "cell_type": "code",
   "execution_count": null,
   "id": "c7a12baa-663c-48f3-83e8-2093c3ec948e",
   "metadata": {},
   "outputs": [],
   "source": []
  }
 ],
 "metadata": {
  "kernelspec": {
   "display_name": "Julia 1.9.2",
   "language": "julia",
   "name": "julia-1.9"
  },
  "language_info": {
   "file_extension": ".jl",
   "mimetype": "application/julia",
   "name": "julia",
   "version": "1.9.2"
  }
 },
 "nbformat": 4,
 "nbformat_minor": 5
}
