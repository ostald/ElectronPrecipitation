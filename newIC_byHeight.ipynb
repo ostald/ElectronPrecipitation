{
 "cells": [
  {
   "cell_type": "code",
   "execution_count": 1,
   "id": "578c44e6-d1f8-4934-9da0-5c44ff57d1a0",
   "metadata": {},
   "outputs": [
    {
     "data": {
      "text/plain": [
       "getparams (generic function with 1 method)"
      ]
     },
     "execution_count": 1,
     "metadata": {},
     "output_type": "execute_result"
    }
   ],
   "source": [
    "using MAT\n",
    "\n",
    "function loadmat(matfile)\n",
    "    file = matopen(matfile)\n",
    "    con = read(file, \"ElSpecOut\") # note that this does NOT introduce a variable ``varname`` into scope\n",
    "    close(file)\n",
    "    return con\n",
    "end\n",
    "\n",
    "function getparams(con)\n",
    "    ne = con[\"ne\"] #size: (62, 674)\n",
    "    ne0 = ne[:, 1]\n",
    "    \n",
    "    iri = con[\"iri\"]\n",
    "    Tn = iri[:, 1, :]\n",
    "    \n",
    "    par = con[\"par\"]\n",
    "    Ti = par[:, 2, :]\n",
    "    Te = par[:, 3, :]\n",
    "    \n",
    "    T = cat(Te, Ti, Tn; dims = 3) #be aware of ordering!!!\n",
    "    #size: (62, 674, 3)\n",
    "    \n",
    "    ts_ = con[\"ts\"]\n",
    "    te_ = con[\"te\"]\n",
    "    ts = ts_ .- ts_[1]\n",
    "    te = te_ .- ts_[1]\n",
    "    #size: (674, 1) ???? => make it flat?\n",
    "    \n",
    "    e_prod = con[\"q\"] #size 62×674 \n",
    "    \n",
    "    h = con[\"h\"]\n",
    "    #size: 1×62 \n",
    "    \n",
    "    return ts, te, h, ne, T, e_prod\n",
    "end"
   ]
  },
  {
   "cell_type": "code",
   "execution_count": 4,
   "id": "a7da2c66-4edd-4468-bfd6-acef57d02d42",
   "metadata": {},
   "outputs": [
    {
     "name": "stdout",
     "output_type": "stream",
     "text": [
      "(62, 674, 3)\n"
     ]
    },
    {
     "data": {
      "text/plain": [
       "0"
      ]
     },
     "execution_count": 4,
     "metadata": {},
     "output_type": "execute_result"
    }
   ],
   "source": [
    "function IC_byHeight()\n",
    "    con = loadmat(\"/Users/ost051/Documents/PhD/ElectronPrecipitation/log/testing/2023.05.12_09_56_23_mixf=0/ElSpec-iqt_IC_0.mat\")\n",
    "    ts, te, h, ne, T, e_prod = getparams(con)\n",
    "    \n",
    "    #interpolate T, e_prod\n",
    "    \n",
    "    println(size(T))\n",
    "    return 0\n",
    "end\n",
    "\n",
    "IC_byHeight()\n"
   ]
  },
  {
   "cell_type": "code",
   "execution_count": 6,
   "id": "11528e7e-25e7-44e0-ad9b-f12eb95475fc",
   "metadata": {},
   "outputs": [
    {
     "data": {
      "text/plain": [
       "(674, 1)"
      ]
     },
     "execution_count": 6,
     "metadata": {},
     "output_type": "execute_result"
    }
   ],
   "source": [
    "con = loadmat(\"/Users/ost051/Documents/PhD/ElectronPrecipitation/log/testing/2023.05.12_09_56_23_mixf=0/ElSpec-iqt_IC_0.mat\")\n",
    "ts, te, h, ne, T, e_prod = getparams(con)\n",
    "size(ts)"
   ]
  },
  {
   "cell_type": "code",
   "execution_count": 9,
   "id": "1dffbcae-f421-43eb-897c-e38237e15119",
   "metadata": {},
   "outputs": [
    {
     "data": {
      "text/plain": [
       "1×62 Matrix{Float64}:\n",
       " 95.8547  96.7328  97.6108  98.4889  …  146.782  147.66  148.538  149.416"
      ]
     },
     "execution_count": 9,
     "metadata": {},
     "output_type": "execute_result"
    }
   ],
   "source": [
    "h"
   ]
  },
  {
   "cell_type": "code",
   "execution_count": null,
   "id": "f23f9eb8-4e91-441f-beb4-ab1da5a3f31f",
   "metadata": {},
   "outputs": [],
   "source": [
    "\"\"\"\n",
    "Performance:\n",
    "1. Avoid containers with abstract types\n",
    "    => define arrays as float64 explicitly\n",
    "\n",
    "\n",
    "1. Type-stable code => no abstract types => define types explicitly as eg. Float64 of Int32\n",
    "2. \n",
    "\n",
    "\"\"\""
   ]
  }
 ],
 "metadata": {
  "kernelspec": {
   "display_name": "Julia 1.9.2",
   "language": "julia",
   "name": "julia-1.9"
  },
  "language_info": {
   "file_extension": ".jl",
   "mimetype": "application/julia",
   "name": "julia",
   "version": "1.9.2"
  }
 },
 "nbformat": 4,
 "nbformat_minor": 5
}
