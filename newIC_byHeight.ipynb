{
 "cells": [
  {
   "cell_type": "code",
   "execution_count": 1,
   "id": "578c44e6-d1f8-4934-9da0-5c44ff57d1a0",
   "metadata": {},
   "outputs": [
    {
     "data": {
      "text/plain": [
       "getparams (generic function with 1 method)"
      ]
     },
     "execution_count": 1,
     "metadata": {},
     "output_type": "execute_result"
    }
   ],
   "source": [
    "using MAT\n",
    "using PCHIPInterpolation\n",
    "include(\"juliaIC.jl\");\n",
    "\n",
    "\n",
    "function loadmat(matfile)\n",
    "    file = matopen(matfile)\n",
    "    con = read(file, \"ElSpecOut\") # note that this does NOT introduce a variable ``varname`` into scope\n",
    "    close(file)\n",
    "    return con\n",
    "end\n",
    "\n",
    "function getparams(con)\n",
    "    ne = con[\"ne\"] #size: (62, 674)\n",
    "    \n",
    "    iri = permutedims(con[\"iri\"], (2, 1, 3))\n",
    "    Tn_, Ti_, Te_, nN2, nO2, nO, nAr, nNOp, nO2p, nOp = [iri[i, :, :] for i in 1:size(iri)[1]]\n",
    "    Tn = Tn_\n",
    "    nNOp, nO2p, nOp = [i .* ne ./ sum([nNOp, nO2p, nOp]) for i in [nNOp, nO2p, nOp]]\n",
    "    nion = cat(ne, nN2, nO2, nO, nAr, nNOp, nO2p, nOp; dims = 3)\n",
    "    nion = permutedims(nion, (3, 1, 2))\n",
    "\n",
    "    par = con[\"par\"]\n",
    "    Ti = par[:, 2, :]\n",
    "    Te = par[:, 3, :]\n",
    "    \n",
    "    T = permutedims(cat(Te, Ti, Tn; dims = 3), (2, 1, 3)) #be aware of ordering!!!\n",
    "    #size: (674, 62, 3)\n",
    "    \n",
    "    ts_ = dropdims(con[\"ts\"]; dims = 2)\n",
    "    te_ = dropdims(con[\"te\"]; dims = 2)\n",
    "    ts = ts_ .- ts_[1]\n",
    "    te = te_ .- ts_[1]\n",
    "    \n",
    "    e_prod = permutedims(con[\"q\"], (2, 1))\n",
    "    #size 674x62\n",
    "    \n",
    "    h = dropdims(con[\"h\"]; dims = 1)\n",
    "    \n",
    "    return ts, te, h, nion, T, e_prod\n",
    "end\n"
   ]
  },
  {
   "cell_type": "code",
   "execution_count": 2,
   "id": "bd391eb7-b3db-42ba-ba1e-388a8c3b5653",
   "metadata": {},
   "outputs": [
    {
     "data": {
      "text/plain": [
       "interpolate_T (generic function with 1 method)"
      ]
     },
     "execution_count": 2,
     "metadata": {},
     "output_type": "execute_result"
    }
   ],
   "source": [
    "function interpolate_T(ts, T)\n",
    "    i, j, k = size(T)\n",
    "    T_intp = Array{Any}(undef, (j, k))\n",
    "\n",
    "    for kk in 1:k\n",
    "        for jj in 1:j\n",
    "            T_intp[jj, kk] = Interpolator(ts, T[:, j, k])\n",
    "        end\n",
    "    end\n",
    "\n",
    "    return T_intp\n",
    "end\n",
    "\n",
    "#function interpolate_q(ts, q)\n",
    "#    i, k = size(q)\n",
    "#    q_intp = Array{Any}(undef, k)\n",
    "#\n",
    "#    for kk in 1:k\n",
    "#        q_intp[kk] = Interpolator(ts, q[:, k])\n",
    "#    end\n",
    "#\n",
    "#    return T_intp\n",
    "#end"
   ]
  },
  {
   "cell_type": "code",
   "execution_count": 3,
   "id": "c1dc8c38-a657-4d7e-a005-6214ff3cfbe9",
   "metadata": {
    "collapsed": true,
    "jupyter": {
     "outputs_hidden": true
    },
    "tags": []
   },
   "outputs": [
    {
     "data": {
      "text/plain": [
       "19-element Vector{Vector{Any}}:\n",
       " [1, \"O2+\"]\n",
       " [2, \"e-\"]\n",
       " [3, \"O(1D)\"]\n",
       " [4, \"O(1S)\"]\n",
       " [5, \"O\"]\n",
       " [6, \"N2+\"]\n",
       " [7, \"N(2D)\"]\n",
       " [8, \"N(4S)\"]\n",
       " [9, \"NO+\"]\n",
       " [10, \"O2+(a4P)\"]\n",
       " [11, \"O+(2D)\"]\n",
       " [12, \"O+(4S)\"]\n",
       " [13, \"O+(2P)\"]\n",
       " [14, \"O2\"]\n",
       " [15, \"NO\"]\n",
       " [16, \"N2\"]\n",
       " [17, \"N+\"]\n",
       " [18, \"H\"]\n",
       " [19, \"H+\"]"
      ]
     },
     "execution_count": 3,
     "metadata": {},
     "output_type": "execute_result"
    }
   ],
   "source": [
    "const path_reactions_file = \"/Users/ost051/Documents/PhD/ElectronPrecipitation/Data/other/Reaction rates full set ext.txt\"\n",
    "const dndt, particles, reactions, ode_raw = juliaIC.initIC(path_reactions_file)\n",
    "particles\n",
    "\n"
   ]
  },
  {
   "cell_type": "code",
   "execution_count": 13,
   "id": "4b786134-93f7-4dcb-962f-9a2011d1a739",
   "metadata": {},
   "outputs": [
    {
     "data": {
      "text/plain": [
       "ion_production (generic function with 1 method)"
      ]
     },
     "execution_count": 13,
     "metadata": {},
     "output_type": "execute_result"
    }
   ],
   "source": [
    "function zerof(t)\n",
    "    return 0\n",
    "end\n",
    "\n",
    "#make ion production part of ODE\n",
    "function ion_production(qe, particles, nion)\n",
    "    prod = Array{Any}(undef, length(particles))\n",
    "    prod.= zerof\n",
    "    i_O  = findall(p -> p[2] == \"O\", particles)[1]\n",
    "    i_O2 = findall(p -> p[2] == \"O2\", particles)[1]\n",
    "    i_N2 = findall(p -> p[2] == \"N2\", particles)[1]\n",
    "    for i in 1:length(particles)\n",
    "        if particles[i][2] == \"e-\"\n",
    "            prod[i] = (t) -> qe(t, itp)\n",
    "        end\n",
    "        if particles[i][2] == \"O+(4S)\"\n",
    "            prod[i] = (t) -> qe(t) .* n0[i_O , :]*0.56 ./(n0[i_O, :]*0.56 .+ n0[i_N2, :]*0.92 .+ n0[i_O2, :])\n",
    "            println(size(prod[i](0)))\n",
    "        end\n",
    "        if particles[i][2] == \"O2+\"\n",
    "            prod[i] = (t) -> qe(t) .* n0[i_N2, :]*0.92 ./(n0[i_O, :]*0.56 .+ n0[i_N2, :]*0.92 .+ n0[i_O2, :])\n",
    "        end\n",
    "        if particles[i][2] == \"N2+\"\n",
    "            prod[i] = (t) -> qe(t) .* n0[i_O2, :]      ./(n0[i_O, :]*0.56 .+ n0[i_N2, :]*0.92 .+ n0[i_O2, :])\n",
    "        end\n",
    "    end\n",
    "\n",
    "    return Array{Any}(undef, length(particles))\n",
    "end\n"
   ]
  },
  {
   "cell_type": "code",
   "execution_count": 14,
   "id": "a7da2c66-4edd-4468-bfd6-acef57d02d42",
   "metadata": {},
   "outputs": [
    {
     "name": "stdout",
     "output_type": "stream",
     "text": [
      "(62, 3)\n",
      "(674, 62, 3)\n"
     ]
    },
    {
     "ename": "LoadError",
     "evalue": "UndefVarError: `n0` not defined",
     "output_type": "error",
     "traceback": [
      "UndefVarError: `n0` not defined",
      "",
      "Stacktrace:",
      " [1] (::var\"#61#68\"{Interpolator{Vector{Float64}, Vector{Float64}, Vector{Float64}}, Int64, Int64, Int64})(t::Int64)",
      "   @ Main ./In[13]:16",
      " [2] ion_production(qe::Interpolator{Vector{Float64}, Vector{Float64}, Vector{Float64}}, particles::Vector{Vector{Any}}, nion::Array{Float64, 3})",
      "   @ Main ./In[13]:17",
      " [3] IC_byHeight()",
      "   @ Main ./In[14]:36",
      " [4] top-level scope",
      "   @ In[14]:56"
     ]
    }
   ],
   "source": [
    "function dummyf2(n, p, t)\n",
    "    dn = zeros(size(n))\n",
    "    reactions, nprod, dndt, T_intp, ih = p\n",
    "    @views TT = [t(0) for t in T_intp[ih, :]]\n",
    "    \n",
    "    for j in 1:size(n)\n",
    "        dn[j] = dndt[j](nprod, reactions, TT, n, t)[ih]\n",
    "    end \n",
    "    return dn\n",
    "end\n",
    "\n",
    "function IC_byHeight()\n",
    "    path_reactions_file = \"/Users/ost051/Documents/PhD/ElectronPrecipitation/Data/other/Reaction rates full set ext.txt\"\n",
    "    dndt, particles, reactions, ode_raw = juliaIC.initIC(path_reactions_file)\n",
    "\n",
    "    con = loadmat(\"/Users/ost051/Documents/PhD/ElectronPrecipitation/log/testing/2023.05.12_09_56_23_mixf=0/ElSpec-iqt_IC_0.mat\")\n",
    "    ts, te, h, nion, T, e_prod = getparams(con)\n",
    "    n0 = nion[:, :, 1]\n",
    "    nh = length(h)\n",
    "    \n",
    "    T_intp = interpolate_T(ts, T)\n",
    "    println(size(T_intp))\n",
    "    TT = Array{Float64}(undef, 3)\n",
    "    \n",
    "    #e_p_intp = interpolate_q(ts, e_prod)\n",
    "    #println(size(e_p_intp))\n",
    "    \n",
    "    println(size(T))\n",
    "    t_save = ts\n",
    "    sol = Array{Any}(undef, nh)\n",
    "\n",
    "    \n",
    "    for ih in 1:nh\n",
    "        #@time @views TT = [t(0) for t in T_intp[ih, :]]\n",
    "        e_p_intp2 = Interpolator(ts, e_prod[:, ih])\n",
    "        nprod = ion_production(e_p_intp2, particles, nion)\n",
    "        #@time QQ = e_p_intp2(0)\n",
    "        println(\"--\")\n",
    "        \n",
    "        n0h = n0[:, ih]\n",
    "        tspan = (ts, te)\n",
    "        #prob = ODEProblem(dummyf2, n0h, tspan, (reactions, nprod, dndt, T_intp, ih))\n",
    "        #sol[i] = solve(prob, TRBDF2(autodiff=false), reltol = 1e-7, abstol = 1e-3, saveat = t_save)\n",
    "    end\n",
    "    \n",
    "    \n",
    "    return 0\n",
    "end\n",
    "\n",
    "function setup()\n",
    "end\n",
    "\n",
    "setup()\n",
    "\n",
    "\n",
    "IC_byHeight()"
   ]
  },
  {
   "cell_type": "code",
   "execution_count": 6,
   "id": "11528e7e-25e7-44e0-ad9b-f12eb95475fc",
   "metadata": {},
   "outputs": [
    {
     "data": {
      "text/plain": [
       "(674, 62)"
      ]
     },
     "execution_count": 6,
     "metadata": {},
     "output_type": "execute_result"
    }
   ],
   "source": [
    "con = loadmat(\"/Users/ost051/Documents/PhD/ElectronPrecipitation/log/testing/2023.05.12_09_56_23_mixf=0/ElSpec-iqt_IC_0.mat\")\n",
    "ts, te, h, ne, T, e_prod = getparams(con)\n",
    "size(e_prod)\n"
   ]
  },
  {
   "cell_type": "code",
   "execution_count": 7,
   "id": "f23f9eb8-4e91-441f-beb4-ab1da5a3f31f",
   "metadata": {},
   "outputs": [
    {
     "data": {
      "text/plain": [
       "\"Performance:\\n1. Avoid containers with abstract types\\n    => define arrays as float64 explicitly\\n\\n\\n1. Type-stable code => no abstract types => define types explicitly as eg. Float64 of Int32\\n2. \\n\\n\""
      ]
     },
     "execution_count": 7,
     "metadata": {},
     "output_type": "execute_result"
    }
   ],
   "source": [
    "\"\"\"\n",
    "Performance:\n",
    "1. Avoid containers with abstract types\n",
    "    => define arrays as float64 explicitly\n",
    "\n",
    "\n",
    "1. Type-stable code => no abstract types => define types explicitly as eg. Float64 of Int32\n",
    "2. \n",
    "\n",
    "\"\"\""
   ]
  },
  {
   "cell_type": "code",
   "execution_count": null,
   "id": "c7a12baa-663c-48f3-83e8-2093c3ec948e",
   "metadata": {},
   "outputs": [],
   "source": []
  }
 ],
 "metadata": {
  "kernelspec": {
   "display_name": "Julia 1.9.2",
   "language": "julia",
   "name": "julia-1.9"
  },
  "language_info": {
   "file_extension": ".jl",
   "mimetype": "application/julia",
   "name": "julia",
   "version": "1.9.2"
  }
 },
 "nbformat": 4,
 "nbformat_minor": 5
}
