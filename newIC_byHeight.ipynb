{
 "cells": [
  {
   "cell_type": "code",
   "execution_count": 4,
   "id": "578c44e6-d1f8-4934-9da0-5c44ff57d1a0",
   "metadata": {},
   "outputs": [
    {
     "data": {
      "text/plain": [
       "getparams (generic function with 1 method)"
      ]
     },
     "execution_count": 4,
     "metadata": {},
     "output_type": "execute_result"
    }
   ],
   "source": [
    "using MAT\n",
    "using PCHIPInterpolation\n",
    "using DifferentialEquations\n",
    "\n",
    "include(\"juliaIC.jl\");\n",
    "\n",
    "function loadmat(matfile)\n",
    "    file = matopen(matfile)\n",
    "    con = read(file, \"ElSpecOut\")\n",
    "    close(file)\n",
    "    return con\n",
    "end\n",
    "\n",
    "\n",
    "function getparams(con)\n",
    "    ne = con[\"ne\"] #size: (62, 674)\n",
    "    \n",
    "    iri = permutedims(con[\"iri\"], (2, 1, 3))\n",
    "    Tn_, Ti_, Te_, nN2, nO2, nO, nAr, nNOp, nO2p, nOp = [iri[i, :, :] for i in 1:size(iri)[1]]\n",
    "    Tn = Tn_\n",
    "    nNOp, nO2p, nOp = [i .* ne ./ sum([nNOp, nO2p, nOp]) for i in [nNOp, nO2p, nOp]]\n",
    "    nion = cat(ne, nN2, nO2, nO, nAr, nNOp, nO2p, nOp; dims = 3)\n",
    "    nion = permutedims(nion, (3, 1, 2))\n",
    "\n",
    "    par = con[\"par\"]\n",
    "    Ti = par[:, 2, :]\n",
    "    Te = par[:, 3, :]\n",
    "    \n",
    "    T = permutedims(cat(Te, Ti, Tn; dims = 3), (2, 1, 3)) #be aware of ordering!!!\n",
    "    #size: (674, 62, 3)\n",
    "    \n",
    "    ts_ = dropdims(con[\"ts\"]; dims = 2)\n",
    "    te_ = dropdims(con[\"te\"]; dims = 2)\n",
    "    ts = ts_ .- ts_[1]\n",
    "    te = te_ .- ts_[1]\n",
    "    \n",
    "    e_prod = permutedims(con[\"q\"], (2, 1))\n",
    "    #size 674x62\n",
    "    \n",
    "    h = dropdims(con[\"h\"]; dims = 1)\n",
    "    \n",
    "    return ts, te, h, nion, T, e_prod\n",
    "end\n"
   ]
  },
  {
   "cell_type": "code",
   "execution_count": 5,
   "id": "bd391eb7-b3db-42ba-ba1e-388a8c3b5653",
   "metadata": {},
   "outputs": [
    {
     "data": {
      "text/plain": [
       "interpolate_T (generic function with 1 method)"
      ]
     },
     "execution_count": 5,
     "metadata": {},
     "output_type": "execute_result"
    }
   ],
   "source": [
    "function interpolate_T(ts, T)\n",
    "    i, j, k = size(T)\n",
    "    T_intp = Array{Any}(undef, (j, k))\n",
    "\n",
    "    for kk in 1:k\n",
    "        for jj in 1:j\n",
    "            T_intp[jj, kk] = Interpolator(ts, T[:, j, k])\n",
    "        end\n",
    "    end\n",
    "\n",
    "    return T_intp\n",
    "end\n",
    "\n",
    "#function interpolate_q(ts, q)\n",
    "#    i, k = size(q)\n",
    "#    q_intp = Array{Any}(undef, k)\n",
    "#\n",
    "#    for kk in 1:k\n",
    "#        q_intp[kk] = Interpolator(ts, q[:, k])\n",
    "#    end\n",
    "#\n",
    "#    return T_intp\n",
    "#end"
   ]
  },
  {
   "cell_type": "code",
   "execution_count": 6,
   "id": "c1dc8c38-a657-4d7e-a005-6214ff3cfbe9",
   "metadata": {
    "collapsed": true,
    "jupyter": {
     "outputs_hidden": true
    },
    "tags": []
   },
   "outputs": [
    {
     "name": "stdout",
     "output_type": "stream",
     "text": [
      "nprodd[1](tt) .+ -1.0.* rr[1][4](tem).* nn[1, :].* nn[2, :] .+ 1.0.* rr[15][4](tem).* nn[12, :].* nn[14, :] .+ 1.0.* rr[18][4](tem).* nn[6, :].* nn[14, :] .+ 1.0.* rr[20][4](tem).* nn[10, :].* nn[5, :] .+ -1.0.* rr[21][4](tem).* nn[1, :].* nn[16, :] .+ 1.0.* rr[24][4](tem).* nn[17, :].* nn[14, :] .+ -1.0.* rr[27][4](tem).* nn[1, :].* nn[15, :] .+ -1.0.* rr[28][4](tem).* nn[1, :].* nn[8, :] .+ -1.0.* rr[29][4](tem).* nn[1, :].* nn[7, :] .+ 1.0.* rr[34][4](tem).* nn[11, :].* nn[14, :] .+ 1.0.* rr[44][4](tem).* nn[17, :].* nn[14, :] .+ 1.0.* rr[49][4](tem).* nn[10, :]\n",
      "\n",
      "nprodd[2](tt) .+ -1.0.* rr[1][4](tem).* nn[1, :].* nn[2, :] .+ -1.0.* rr[2][4](tem).* nn[6, :].* nn[2, :] .+ -1.0.* rr[3][4](tem).* nn[9, :].* nn[2, :] .+ -1.0.* rr[4][4](tem).* nn[10, :].* nn[2, :]\n",
      "\n",
      "nprodd[3](tt) .+ 1.2.* rr[1][4](tem).* nn[1, :].* nn[2, :] .+ 0.1.* rr[9][4](tem).* nn[7, :].* nn[14, :] .+ 0.7.* rr[23][4](tem).* nn[17, :].* nn[14, :] .+ 1.0.* rr[50][4](tem).* nn[4, :] .+ -1.0.* rr[52][4](tem).* nn[3, :]\n",
      "\n",
      "nprodd[4](tt) .+ 0.1.* rr[1][4](tem).* nn[1, :].* nn[2, :] .+ -1.0.* rr[50][4](tem).* nn[4, :] .+ -1.0.* rr[51][4](tem).* nn[4, :]\n",
      "\n",
      "zeros(size(tem[1]))\n",
      "\n",
      "nprodd[6](tt) .+ -1.0.* rr[2][4](tem).* nn[6, :].* nn[2, :] .+ 1.0.* rr[16][4](tem).* nn[11, :].* nn[16, :] .+ -1.0.* rr[17][4](tem).* nn[6, :].* nn[5, :] .+ -1.0.* rr[18][4](tem).* nn[6, :].* nn[14, :] .+ 1.0.* rr[19][4](tem).* nn[10, :].* nn[16, :] .+ 1.0.* rr[22][4](tem).* nn[13, :].* nn[16, :] .+ -1.0.* rr[30][4](tem).* nn[6, :].* nn[15, :] .+ -1.0.* rr[31][4](tem).* nn[6, :].* nn[5, :]\n",
      "\n",
      "nprodd[7](tt) .+ 1.9.* rr[2][4](tem).* nn[6, :].* nn[2, :] .+ 0.78.* rr[3][4](tem).* nn[9, :].* nn[2, :] .+ -1.0.* rr[9][4](tem).* nn[7, :].* nn[14, :] .+ -1.0.* rr[11][4](tem).* nn[7, :].* nn[5, :] .+ -1.0.* rr[12][4](tem).* nn[7, :].* nn[2, :] .+ -1.0.* rr[13][4](tem).* nn[7, :].* nn[15, :] .+ 1.0.* rr[17][4](tem).* nn[6, :].* nn[5, :] .+ -1.0.* rr[29][4](tem).* nn[1, :].* nn[7, :] .+ -1.0.* rr[37][4](tem).* nn[12, :].* nn[7, :] .+ 1.0.* rr[44][4](tem).* nn[17, :].* nn[14, :] .+ -1.0.* rr[48][4](tem).* nn[7, :]\n",
      "\n",
      "nprodd[8](tt) .+ 0.1.* rr[2][4](tem).* nn[6, :].* nn[2, :] .+ 0.22.* rr[3][4](tem).* nn[9, :].* nn[2, :] .+ -1.0.* rr[8][4](tem).* nn[8, :].* nn[14, :] .+ -1.0.* rr[10][4](tem).* nn[8, :].* nn[15, :] .+ 1.0.* rr[11][4](tem).* nn[7, :].* nn[5, :] .+ 1.0.* rr[12][4](tem).* nn[7, :].* nn[2, :] .+ 1.0.* rr[14][4](tem).* nn[12, :].* nn[16, :] .+ 1.0.* rr[24][4](tem).* nn[17, :].* nn[14, :] .+ -1.0.* rr[28][4](tem).* nn[1, :].* nn[8, :] .+ 1.0.* rr[39][4](tem).* nn[17, :].* nn[5, :] .+ 1.0.* rr[40][4](tem).* nn[17, :].* nn[18, :] .+ -1.0.* rr[42][4](tem).* nn[13, :].* nn[8, :] .+ -1.0.* rr[43][4](tem).* nn[11, :].* nn[8, :] .+ 1.0.* rr[48][4](tem).* nn[7, :]\n",
      "\n",
      "nprodd[9](tt) .+ -1.0.* rr[3][4](tem).* nn[9, :].* nn[2, :] .+ 1.0.* rr[14][4](tem).* nn[12, :].* nn[16, :] .+ 1.0.* rr[17][4](tem).* nn[6, :].* nn[5, :] .+ 1.0.* rr[21][4](tem).* nn[1, :].* nn[16, :] .+ 1.0.* rr[23][4](tem).* nn[17, :].* nn[14, :] .+ 1.0.* rr[27][4](tem).* nn[1, :].* nn[15, :] .+ 1.0.* rr[28][4](tem).* nn[1, :].* nn[8, :] .+ 1.0.* rr[30][4](tem).* nn[6, :].* nn[15, :] .+ 1.0.* rr[33][4](tem).* nn[12, :].* nn[15, :]\n",
      "\n",
      "nprodd[10](tt) .+ -1.0.* rr[4][4](tem).* nn[10, :].* nn[2, :] .+ -1.0.* rr[19][4](tem).* nn[10, :].* nn[16, :] .+ -1.0.* rr[20][4](tem).* nn[10, :].* nn[5, :] .+ -1.0.* rr[49][4](tem).* nn[10, :]\n",
      "\n",
      "nprodd[11](tt) .+ -1.0.* rr[5][4](tem).* nn[11, :].* nn[2, :] .+ 1.0.* rr[7][4](tem).* nn[13, :].* nn[2, :] .+ -1.0.* rr[16][4](tem).* nn[11, :].* nn[16, :] .+ -1.0.* rr[26][4](tem).* nn[11, :].* nn[5, :] .+ -1.0.* rr[34][4](tem).* nn[11, :].* nn[14, :] .+ -1.0.* rr[35][4](tem).* nn[11, :].* nn[16, :] .+ -1.0.* rr[43][4](tem).* nn[11, :].* nn[8, :] .+ 1.0.* rr[46][4](tem).* nn[13, :] .+ -1.0.* rr[47][4](tem).* nn[11, :]\n",
      "\n",
      "nprodd[12](tt) .+ 1.0.* rr[5][4](tem).* nn[11, :].* nn[2, :] .+ 1.0.* rr[6][4](tem).* nn[13, :].* nn[2, :] .+ -1.0.* rr[14][4](tem).* nn[12, :].* nn[16, :] .+ -1.0.* rr[15][4](tem).* nn[12, :].* nn[14, :] .+ -1.0.* rr[25][4](tem).* nn[12, :].* nn[18, :] .+ 1.0.* rr[26][4](tem).* nn[11, :].* nn[5, :] .+ 1.0.* rr[31][4](tem).* nn[6, :].* nn[5, :] .+ 1.0.* rr[32][4](tem).* nn[19, :].* nn[5, :] .+ -1.0.* rr[33][4](tem).* nn[12, :].* nn[15, :] .+ 1.0.* rr[35][4](tem).* nn[11, :].* nn[16, :] .+ 1.0.* rr[36][4](tem).* nn[13, :].* nn[5, :] .+ -1.0.* rr[37][4](tem).* nn[12, :].* nn[7, :] .+ 1.0.* rr[38][4](tem).* nn[17, :].* nn[14, :] .+ 1.0.* rr[39][4](tem).* nn[17, :].* nn[5, :] .+ 1.0.* rr[45][4](tem).* nn[13, :] .+ 1.0.* rr[47][4](tem).* nn[11, :]\n",
      "\n",
      "nprodd[13](tt) .+ -1.0.* rr[6][4](tem).* nn[13, :].* nn[2, :] .+ -1.0.* rr[7][4](tem).* nn[13, :].* nn[2, :] .+ -1.0.* rr[22][4](tem).* nn[13, :].* nn[16, :] .+ -1.0.* rr[36][4](tem).* nn[13, :].* nn[5, :] .+ -1.0.* rr[41][4](tem).* nn[13, :].* nn[16, :] .+ -1.0.* rr[42][4](tem).* nn[13, :].* nn[8, :] .+ -1.0.* rr[45][4](tem).* nn[13, :] .+ -1.0.* rr[46][4](tem).* nn[13, :]\n",
      "\n",
      "zeros(size(tem[1]))\n",
      "\n",
      "nprodd[15](tt) .+ 1.0.* rr[8][4](tem).* nn[8, :].* nn[14, :] .+ 1.0.* rr[9][4](tem).* nn[7, :].* nn[14, :] .+ -1.0.* rr[10][4](tem).* nn[8, :].* nn[15, :] .+ -1.0.* rr[13][4](tem).* nn[7, :].* nn[15, :] .+ 1.0.* rr[21][4](tem).* nn[1, :].* nn[16, :] .+ -1.0.* rr[27][4](tem).* nn[1, :].* nn[15, :] .+ -1.0.* rr[30][4](tem).* nn[6, :].* nn[15, :] .+ -1.0.* rr[33][4](tem).* nn[12, :].* nn[15, :] .+ 1.0.* rr[38][4](tem).* nn[17, :].* nn[14, :] .+ 1.0.* rr[41][4](tem).* nn[13, :].* nn[16, :]\n",
      "\n",
      "zeros(size(tem[1]))\n",
      "\n",
      "nprodd[17](tt) .+ -1.0.* rr[23][4](tem).* nn[17, :].* nn[14, :] .+ -1.0.* rr[24][4](tem).* nn[17, :].* nn[14, :] .+ 1.0.* rr[29][4](tem).* nn[1, :].* nn[7, :] .+ 1.0.* rr[37][4](tem).* nn[12, :].* nn[7, :] .+ -1.0.* rr[38][4](tem).* nn[17, :].* nn[14, :] .+ -1.0.* rr[39][4](tem).* nn[17, :].* nn[5, :] .+ -1.0.* rr[40][4](tem).* nn[17, :].* nn[18, :] .+ 1.0.* rr[41][4](tem).* nn[13, :].* nn[16, :] .+ 1.0.* rr[42][4](tem).* nn[13, :].* nn[8, :] .+ 1.0.* rr[43][4](tem).* nn[11, :].* nn[8, :] .+ -1.0.* rr[44][4](tem).* nn[17, :].* nn[14, :]\n",
      "\n",
      "zeros(size(tem[1]))\n",
      "\n",
      "nprodd[19](tt) .+ 1.0.* rr[25][4](tem).* nn[12, :].* nn[18, :] .+ -1.0.* rr[32][4](tem).* nn[19, :].* nn[5, :] .+ 1.0.* rr[40][4](tem).* nn[17, :].* nn[18, :]\n",
      "\n"
     ]
    },
    {
     "data": {
      "text/plain": [
       "19-element Vector{Vector{Any}}:\n",
       " [1, \"O2+\"]\n",
       " [2, \"e-\"]\n",
       " [3, \"O(1D)\"]\n",
       " [4, \"O(1S)\"]\n",
       " [5, \"O\"]\n",
       " [6, \"N2+\"]\n",
       " [7, \"N(2D)\"]\n",
       " [8, \"N(4S)\"]\n",
       " [9, \"NO+\"]\n",
       " [10, \"O2+(a4P)\"]\n",
       " [11, \"O+(2D)\"]\n",
       " [12, \"O+(4S)\"]\n",
       " [13, \"O+(2P)\"]\n",
       " [14, \"O2\"]\n",
       " [15, \"NO\"]\n",
       " [16, \"N2\"]\n",
       " [17, \"N+\"]\n",
       " [18, \"H\"]\n",
       " [19, \"H+\"]"
      ]
     },
     "execution_count": 6,
     "metadata": {},
     "output_type": "execute_result"
    }
   ],
   "source": [
    "const path_reactions_file = \"/Users/ost051/Documents/PhD/ElectronPrecipitation/Data/other/Reaction rates full set ext.txt\"\n",
    "const dndt, particles, reactions, ode_raw = juliaIC.initIC(path_reactions_file)\n",
    "particles\n",
    "\n"
   ]
  },
  {
   "cell_type": "code",
   "execution_count": 7,
   "id": "4b786134-93f7-4dcb-962f-9a2011d1a739",
   "metadata": {},
   "outputs": [
    {
     "data": {
      "text/plain": [
       "ion_production (generic function with 1 method)"
      ]
     },
     "execution_count": 7,
     "metadata": {},
     "output_type": "execute_result"
    }
   ],
   "source": [
    "function zerof(t)\n",
    "    return 0\n",
    "end\n",
    "\n",
    "#make ion production part of ODE\n",
    "function ion_production(qe, particles, n0)\n",
    "    prod = Array{Any}(undef, length(particles))\n",
    "    prod.= zerof\n",
    "    i_O  = findall(p -> p[2] == \"O\", particles)[1]\n",
    "    i_O2 = findall(p -> p[2] == \"O2\", particles)[1]\n",
    "    i_N2 = findall(p -> p[2] == \"N2\", particles)[1]\n",
    "    for i in 1:length(particles)\n",
    "        if particles[i][2] == \"e-\"\n",
    "            prod[i] = (t) -> qe(t, itp)\n",
    "        end\n",
    "        if particles[i][2] == \"O+(4S)\"\n",
    "            prod[i] = (t) -> qe(t) .* n0[i_O , :]*0.56 ./(n0[i_O, :]*0.56 .+ n0[i_N2, :]*0.92 .+ n0[i_O2, :])\n",
    "            #println(size(prod[i](0)))\n",
    "        end\n",
    "        if particles[i][2] == \"O2+\"\n",
    "            prod[i] = (t) -> qe(t) .* n0[i_N2, :]*0.92 ./(n0[i_O, :]*0.56 .+ n0[i_N2, :]*0.92 .+ n0[i_O2, :])\n",
    "        end\n",
    "        if particles[i][2] == \"N2+\"\n",
    "            prod[i] = (t) -> qe(t) .* n0[i_O2, :]      ./(n0[i_O, :]*0.56 .+ n0[i_N2, :]*0.92 .+ n0[i_O2, :])\n",
    "        end\n",
    "    end\n",
    "\n",
    "    return Array{Any}(undef, length(particles))\n",
    "end\n"
   ]
  },
  {
   "cell_type": "code",
   "execution_count": 8,
   "id": "a7da2c66-4edd-4468-bfd6-acef57d02d42",
   "metadata": {
    "collapsed": true,
    "jupyter": {
     "outputs_hidden": true
    },
    "tags": []
   },
   "outputs": [
    {
     "name": "stdout",
     "output_type": "stream",
     "text": [
      "nprodd[1](tt) .+ -1.0.* rr[1][4](tem).* nn[1, :].* nn[2, :] .+ 1.0.* rr[15][4](tem).* nn[12, :].* nn[14, :] .+ 1.0.* rr[18][4](tem).* nn[6, :].* nn[14, :] .+ 1.0.* rr[20][4](tem).* nn[10, :].* nn[5, :] .+ -1.0.* rr[21][4](tem).* nn[1, :].* nn[16, :] .+ 1.0.* rr[24][4](tem).* nn[17, :].* nn[14, :] .+ -1.0.* rr[27][4](tem).* nn[1, :].* nn[15, :] .+ -1.0.* rr[28][4](tem).* nn[1, :].* nn[8, :] .+ -1.0.* rr[29][4](tem).* nn[1, :].* nn[7, :] .+ 1.0.* rr[34][4](tem).* nn[11, :].* nn[14, :] .+ 1.0.* rr[44][4](tem).* nn[17, :].* nn[14, :] .+ 1.0.* rr[49][4](tem).* nn[10, :]\n",
      "\n",
      "nprodd[2](tt) .+ -1.0.* rr[1][4](tem).* nn[1, :].* nn[2, :] .+ -1.0.* rr[2][4](tem).* nn[6, :].* nn[2, :] .+ -1.0.* rr[3][4](tem).* nn[9, :].* nn[2, :] .+ -1.0.* rr[4][4](tem).* nn[10, :].* nn[2, :]\n",
      "\n",
      "nprodd[3](tt) .+ 1.2.* rr[1][4](tem).* nn[1, :].* nn[2, :] .+ 0.1.* rr[9][4](tem).* nn[7, :].* nn[14, :] .+ 0.7.* rr[23][4](tem).* nn[17, :].* nn[14, :] .+ 1.0.* rr[50][4](tem).* nn[4, :] .+ -1.0.* rr[52][4](tem).* nn[3, :]\n",
      "\n",
      "nprodd[4](tt) .+ 0.1.* rr[1][4](tem).* nn[1, :].* nn[2, :] .+ -1.0.* rr[50][4](tem).* nn[4, :] .+ -1.0.* rr[51][4](tem).* nn[4, :]\n",
      "\n",
      "zeros(size(tem[1]))\n",
      "\n",
      "nprodd[6](tt) .+ -1.0.* rr[2][4](tem).* nn[6, :].* nn[2, :] .+ 1.0.* rr[16][4](tem).* nn[11, :].* nn[16, :] .+ -1.0.* rr[17][4](tem).* nn[6, :].* nn[5, :] .+ -1.0.* rr[18][4](tem).* nn[6, :].* nn[14, :] .+ 1.0.* rr[19][4](tem).* nn[10, :].* nn[16, :] .+ 1.0.* rr[22][4](tem).* nn[13, :].* nn[16, :] .+ -1.0.* rr[30][4](tem).* nn[6, :].* nn[15, :] .+ -1.0.* rr[31][4](tem).* nn[6, :].* nn[5, :]\n",
      "\n",
      "nprodd[7](tt) .+ 1.9.* rr[2][4](tem).* nn[6, :].* nn[2, :] .+ 0.78.* rr[3][4](tem).* nn[9, :].* nn[2, :] .+ -1.0.* rr[9][4](tem).* nn[7, :].* nn[14, :] .+ -1.0.* rr[11][4](tem).* nn[7, :].* nn[5, :] .+ -1.0.* rr[12][4](tem).* nn[7, :].* nn[2, :] .+ -1.0.* rr[13][4](tem).* nn[7, :].* nn[15, :] .+ 1.0.* rr[17][4](tem).* nn[6, :].* nn[5, :] .+ -1.0.* rr[29][4](tem).* nn[1, :].* nn[7, :] .+ -1.0.* rr[37][4](tem).* nn[12, :].* nn[7, :] .+ 1.0.* rr[44][4](tem).* nn[17, :].* nn[14, :] .+ -1.0.* rr[48][4](tem).* nn[7, :]\n",
      "\n",
      "nprodd[8](tt) .+ 0.1.* rr[2][4](tem).* nn[6, :].* nn[2, :] .+ 0.22.* rr[3][4](tem).* nn[9, :].* nn[2, :] .+ -1.0.* rr[8][4](tem).* nn[8, :].* nn[14, :] .+ -1.0.* rr[10][4](tem).* nn[8, :].* nn[15, :] .+ 1.0.* rr[11][4](tem).* nn[7, :].* nn[5, :] .+ 1.0.* rr[12][4](tem).* nn[7, :].* nn[2, :] .+ 1.0.* rr[14][4](tem).* nn[12, :].* nn[16, :] .+ 1.0.* rr[24][4](tem).* nn[17, :].* nn[14, :] .+ -1.0.* rr[28][4](tem).* nn[1, :].* nn[8, :] .+ 1.0.* rr[39][4](tem).* nn[17, :].* nn[5, :] .+ 1.0.* rr[40][4](tem).* nn[17, :].* nn[18, :] .+ -1.0.* rr[42][4](tem).* nn[13, :].* nn[8, :] .+ -1.0.* rr[43][4](tem).* nn[11, :].* nn[8, :] .+ 1.0.* rr[48][4](tem).* nn[7, :]\n",
      "\n",
      "nprodd[9](tt) .+ -1.0.* rr[3][4](tem).* nn[9, :].* nn[2, :] .+ 1.0.* rr[14][4](tem).* nn[12, :].* nn[16, :] .+ 1.0.* rr[17][4](tem).* nn[6, :].* nn[5, :] .+ 1.0.* rr[21][4](tem).* nn[1, :].* nn[16, :] .+ 1.0.* rr[23][4](tem).* nn[17, :].* nn[14, :] .+ 1.0.* rr[27][4](tem).* nn[1, :].* nn[15, :] .+ 1.0.* rr[28][4](tem).* nn[1, :].* nn[8, :] .+ 1.0.* rr[30][4](tem).* nn[6, :].* nn[15, :] .+ 1.0.* rr[33][4](tem).* nn[12, :].* nn[15, :]\n",
      "\n",
      "nprodd[10](tt) .+ -1.0.* rr[4][4](tem).* nn[10, :].* nn[2, :] .+ -1.0.* rr[19][4](tem).* nn[10, :].* nn[16, :] .+ -1.0.* rr[20][4](tem).* nn[10, :].* nn[5, :] .+ -1.0.* rr[49][4](tem).* nn[10, :]\n",
      "\n",
      "nprodd[11](tt) .+ -1.0.* rr[5][4](tem).* nn[11, :].* nn[2, :] .+ 1.0.* rr[7][4](tem).* nn[13, :].* nn[2, :] .+ -1.0.* rr[16][4](tem).* nn[11, :].* nn[16, :] .+ -1.0.* rr[26][4](tem).* nn[11, :].* nn[5, :] .+ -1.0.* rr[34][4](tem).* nn[11, :].* nn[14, :] .+ -1.0.* rr[35][4](tem).* nn[11, :].* nn[16, :] .+ -1.0.* rr[43][4](tem).* nn[11, :].* nn[8, :] .+ 1.0.* rr[46][4](tem).* nn[13, :] .+ -1.0.* rr[47][4](tem).* nn[11, :]\n",
      "\n",
      "nprodd[12](tt) .+ 1.0.* rr[5][4](tem).* nn[11, :].* nn[2, :] .+ 1.0.* rr[6][4](tem).* nn[13, :].* nn[2, :] .+ -1.0.* rr[14][4](tem).* nn[12, :].* nn[16, :] .+ -1.0.* rr[15][4](tem).* nn[12, :].* nn[14, :] .+ -1.0.* rr[25][4](tem).* nn[12, :].* nn[18, :] .+ 1.0.* rr[26][4](tem).* nn[11, :].* nn[5, :] .+ 1.0.* rr[31][4](tem).* nn[6, :].* nn[5, :] .+ 1.0.* rr[32][4](tem).* nn[19, :].* nn[5, :] .+ -1.0.* rr[33][4](tem).* nn[12, :].* nn[15, :] .+ 1.0.* rr[35][4](tem).* nn[11, :].* nn[16, :] .+ 1.0.* rr[36][4](tem).* nn[13, :].* nn[5, :] .+ -1.0.* rr[37][4](tem).* nn[12, :].* nn[7, :] .+ 1.0.* rr[38][4](tem).* nn[17, :].* nn[14, :] .+ 1.0.* rr[39][4](tem).* nn[17, :].* nn[5, :] .+ 1.0.* rr[45][4](tem).* nn[13, :] .+ 1.0.* rr[47][4](tem).* nn[11, :]\n",
      "\n",
      "nprodd[13](tt) .+ -1.0.* rr[6][4](tem).* nn[13, :].* nn[2, :] .+ -1.0.* rr[7][4](tem).* nn[13, :].* nn[2, :] .+ -1.0.* rr[22][4](tem).* nn[13, :].* nn[16, :] .+ -1.0.* rr[36][4](tem).* nn[13, :].* nn[5, :] .+ -1.0.* rr[41][4](tem).* nn[13, :].* nn[16, :] .+ -1.0.* rr[42][4](tem).* nn[13, :].* nn[8, :] .+ -1.0.* rr[45][4](tem).* nn[13, :] .+ -1.0.* rr[46][4](tem).* nn[13, :]\n",
      "\n",
      "zeros(size(tem[1]))\n",
      "\n",
      "nprodd[15](tt) .+ 1.0.* rr[8][4](tem).* nn[8, :].* nn[14, :] .+ 1.0.* rr[9][4](tem).* nn[7, :].* nn[14, :] .+ -1.0.* rr[10][4](tem).* nn[8, :].* nn[15, :] .+ -1.0.* rr[13][4](tem).* nn[7, :].* nn[15, :] .+ 1.0.* rr[21][4](tem).* nn[1, :].* nn[16, :] .+ -1.0.* rr[27][4](tem).* nn[1, :].* nn[15, :] .+ -1.0.* rr[30][4](tem).* nn[6, :].* nn[15, :] .+ -1.0.* rr[33][4](tem).* nn[12, :].* nn[15, :] .+ 1.0.* rr[38][4](tem).* nn[17, :].* nn[14, :] .+ 1.0.* rr[41][4](tem).* nn[13, :].* nn[16, :]\n",
      "\n",
      "zeros(size(tem[1]))\n",
      "\n",
      "nprodd[17](tt) .+ -1.0.* rr[23][4](tem).* nn[17, :].* nn[14, :] .+ -1.0.* rr[24][4](tem).* nn[17, :].* nn[14, :] .+ 1.0.* rr[29][4](tem).* nn[1, :].* nn[7, :] .+ 1.0.* rr[37][4](tem).* nn[12, :].* nn[7, :] .+ -1.0.* rr[38][4](tem).* nn[17, :].* nn[14, :] .+ -1.0.* rr[39][4](tem).* nn[17, :].* nn[5, :] .+ -1.0.* rr[40][4](tem).* nn[17, :].* nn[18, :] .+ 1.0.* rr[41][4](tem).* nn[13, :].* nn[16, :] .+ 1.0.* rr[42][4](tem).* nn[13, :].* nn[8, :] .+ 1.0.* rr[43][4](tem).* nn[11, :].* nn[8, :] .+ -1.0.* rr[44][4](tem).* nn[17, :].* nn[14, :]\n",
      "\n",
      "zeros(size(tem[1]))\n",
      "\n",
      "nprodd[19](tt) .+ 1.0.* rr[25][4](tem).* nn[12, :].* nn[18, :] .+ -1.0.* rr[32][4](tem).* nn[19, :].* nn[5, :] .+ 1.0.* rr[40][4](tem).* nn[17, :].* nn[18, :]\n",
      "\n",
      "16\n",
      "(62, 3)\n",
      "(674, 62, 3)\n",
      "--\n"
     ]
    },
    {
     "ename": "LoadError",
     "evalue": "UndefRefError: access to undefined reference",
     "output_type": "error",
     "traceback": [
      "UndefRefError: access to undefined reference",
      "",
      "Stacktrace:",
      " [1] getindex",
      "   @ ./essentials.jl:13 [inlined]",
      " [2] (::Main.juliaIC.var\"#278#279\")(nprodd::Vector{Any}, rr::Vector{Any}, tem::Vector{Float64}, nn::Vector{Float64}, tt::Int64)",
      "   @ Main.juliaIC ./none:1",
      " [3] #invokelatest#2",
      "   @ ./essentials.jl:816 [inlined]",
      " [4] invokelatest",
      "   @ ./essentials.jl:813 [inlined]",
      " [5] (::Main.juliaIC.var\"#25#27\"{Main.juliaIC.var\"#278#279\"})(nprodd::Vector{Any}, rr::Vector{Any}, tem::Vector{Float64}, nn::Vector{Float64}, tt::Int64)",
      "   @ Main.juliaIC ~/Documents/PhD/ElectronPrecipitation/juliaIC.jl:173",
      " [6] dummyf2(n::Vector{Float64}, p::Tuple{Vector{Any}, Vector{Any}, Vector{Any}, Vector{Any}, Int64}, t::Int64)",
      "   @ Main ./In[8]:23",
      " [7] IC_byHeight()",
      "   @ Main ./In[8]:80",
      " [8] top-level scope",
      "   @ In[8]:98"
     ]
    }
   ],
   "source": [
    "#function dummyf2(n, p, t)\n",
    "#    dn = zeros(size(n))\n",
    "#    reactions, nprod, dndt, T_intp, ih = p\n",
    "#    @views TT = [t(0) for t in T_intp[ih, :]]\n",
    "#    \n",
    "#    for j in 1:size(n)\n",
    "#        dn[j] = dndt[j](nprod, reactions, TT, n, t)[ih]\n",
    "#    end \n",
    "#    return dn\n",
    "#end\n",
    "\n",
    "\n",
    "function dummyf2(n, p, t)\n",
    "    dn = zeros(size(n))\n",
    "    reactions, nprod, dndt, temp, ih = p\n",
    "    temp_ = [t(0) for t in temp[1, :]]\n",
    "    #temp_ = temp(t)\n",
    "    #temp_2 = [temp_[i, :] for i in 1:size(temp_,1)]\n",
    "    \n",
    "    for j in 1:size(n)[1]\n",
    "        #dn[j, :] .= nprod[j](t)\n",
    "        #println(size(dndt[j](nprod, reactions, temp_2, n, t)))\n",
    "        dn[j] = dndt[j](nprod, reactions, temp_, n, t)[ih]\n",
    "    end \n",
    "    return dn\n",
    "end\n",
    "\n",
    "\n",
    "function IC_byHeight()\n",
    "    path_reactions_file = \"/Users/ost051/Documents/PhD/ElectronPrecipitation/Data/other/Reaction rates full set ext.txt\"\n",
    "    dndt, particles, reactions, ode_raw = juliaIC.initIC(path_reactions_file)\n",
    "\n",
    "    con = loadmat(\"/Users/ost051/Documents/PhD/ElectronPrecipitation/log/testing/2023.05.12_09_56_23_mixf=0/ElSpec-iqt_IC_0.mat\")\n",
    "    ts, te, h, nion, T, e_prod = getparams(con)\n",
    "    nh = length(h)\n",
    "    np = length(particles)\n",
    "    n0 = zeros(np, nh)\n",
    "    #nion = [ne, nN2, nO2, nO, nAr, nNOp, nO2p, nOp]\n",
    "    for i in 1:np\n",
    "        if particles[i][2] == \"N2\"\n",
    "            n0[i, :] = nion[2, :, 1]\n",
    "            println(i)\n",
    "        elseif particles[i][2] == \"O2\"\n",
    "            n0[i, :] = nion[3, :, 1]\n",
    "        elseif particles[i][2] == \"O(1D)\"\n",
    "            n0[i, :] = nion[4, :, 1]\n",
    "        elseif particles[i][2] == \"NO+\"\n",
    "            n0[i, :] = nion[6, :, 1]\n",
    "        elseif particles[i][2] == \"O2+\"\n",
    "            n0[i, :] = nion[7, :, 1]\n",
    "        elseif particles[i][2] == \"O+(4S)\"\n",
    "            n0[i, :] = nion[8, :, 1]\n",
    "        end\n",
    "    end\n",
    "    \n",
    "    T_intp = interpolate_T(ts, T)\n",
    "    println(size(T_intp))\n",
    "    TT = Array{Float64}(undef, 3)\n",
    "    \n",
    "    #e_p_intp = interpolate_q(ts, e_prod)\n",
    "    #println(size(e_p_intp))\n",
    "    \n",
    "    println(size(T))\n",
    "    t_save = ts\n",
    "    sol = Array{Any}(undef, nh)\n",
    "\n",
    "    \n",
    "    for ih in 1:nh\n",
    "        #@time @views TT = [t(0) for t in T_intp[ih, :]]\n",
    "        e_p_intp2 = Interpolator(ts, e_prod[:, ih])\n",
    "        nprod = ion_production(e_p_intp2, particles, n0)\n",
    "        #@time QQ = e_p_intp2(0)\n",
    "        println(\"--\")\n",
    "        \n",
    "        n0h = n0[:, ih]\n",
    "        tspan = (ts, te)\n",
    "        \n",
    "                \n",
    "        p = (reactions, nprod, dndt, T_intp[ih, :], ih)\n",
    "        prob = dummyf2(n0h, p, 0)\n",
    "        \n",
    "        \n",
    "        prob = ODEProblem(juliaIC.dummyf2, n0h, tspan, (reactions, nprod, dndt, T_intp[ih, :], ih))\n",
    "        sol[i] = solve(prob, TRBDF2(autodiff=false), reltol = 1e-7, abstol = 1e-3, saveat = t_save)\n",
    "    end\n",
    "    \n",
    "    \n",
    "    return 0\n",
    "end\n",
    "\n",
    "#function setup()\n",
    "#    \n",
    "#end\n",
    "#\n",
    "#setup()\n",
    "#\n",
    "\n",
    "IC_byHeight()\n",
    "\n",
    "\"\"\"\n",
    "todo:\n",
    "- map elspec ion densities to ionchem\n",
    "- put some stuff in init, look up if state can be preserved in julia\n",
    "\n",
    "\n",
    "\"\"\""
   ]
  },
  {
   "cell_type": "code",
   "execution_count": 9,
   "id": "11528e7e-25e7-44e0-ad9b-f12eb95475fc",
   "metadata": {
    "collapsed": true,
    "jupyter": {
     "outputs_hidden": true
    },
    "tags": []
   },
   "outputs": [
    {
     "name": "stdout",
     "output_type": "stream",
     "text": [
      "nprodd[1](tt) .+ -1.0.* rr[1][4](tem).* nn[1, :].* nn[2, :] .+ 1.0.* rr[15][4](tem).* nn[12, :].* nn[14, :] .+ 1.0.* rr[18][4](tem).* nn[6, :].* nn[14, :] .+ 1.0.* rr[20][4](tem).* nn[10, :].* nn[5, :] .+ -1.0.* rr[21][4](tem).* nn[1, :].* nn[16, :] .+ 1.0.* rr[24][4](tem).* nn[17, :].* nn[14, :] .+ -1.0.* rr[27][4](tem).* nn[1, :].* nn[15, :] .+ -1.0.* rr[28][4](tem).* nn[1, :].* nn[8, :] .+ -1.0.* rr[29][4](tem).* nn[1, :].* nn[7, :] .+ 1.0.* rr[34][4](tem).* nn[11, :].* nn[14, :] .+ 1.0.* rr[44][4](tem).* nn[17, :].* nn[14, :] .+ 1.0.* rr[49][4](tem).* nn[10, :]\n",
      "\n",
      "nprodd[2](tt) .+ -1.0.* rr[1][4](tem).* nn[1, :].* nn[2, :] .+ -1.0.* rr[2][4](tem).* nn[6, :].* nn[2, :] .+ -1.0.* rr[3][4](tem).* nn[9, :].* nn[2, :] .+ -1.0.* rr[4][4](tem).* nn[10, :].* nn[2, :]\n",
      "\n",
      "nprodd[3](tt) .+ 1.2.* rr[1][4](tem).* nn[1, :].* nn[2, :] .+ 0.1.* rr[9][4](tem).* nn[7, :].* nn[14, :] .+ 0.7.* rr[23][4](tem).* nn[17, :].* nn[14, :] .+ 1.0.* rr[50][4](tem).* nn[4, :] .+ -1.0.* rr[52][4](tem).* nn[3, :]\n",
      "\n",
      "nprodd[4](tt) .+ 0.1.* rr[1][4](tem).* nn[1, :].* nn[2, :] .+ -1.0.* rr[50][4](tem).* nn[4, :] .+ -1.0.* rr[51][4](tem).* nn[4, :]\n",
      "\n",
      "zeros(size(tem[1]))\n",
      "\n",
      "nprodd[6](tt) .+ -1.0.* rr[2][4](tem).* nn[6, :].* nn[2, :] .+ 1.0.* rr[16][4](tem).* nn[11, :].* nn[16, :] .+ -1.0.* rr[17][4](tem).* nn[6, :].* nn[5, :] .+ -1.0.* rr[18][4](tem).* nn[6, :].* nn[14, :] .+ 1.0.* rr[19][4](tem).* nn[10, :].* nn[16, :] .+ 1.0.* rr[22][4](tem).* nn[13, :].* nn[16, :] .+ -1.0.* rr[30][4](tem).* nn[6, :].* nn[15, :] .+ -1.0.* rr[31][4](tem).* nn[6, :].* nn[5, :]\n",
      "\n",
      "nprodd[7](tt) .+ 1.9.* rr[2][4](tem).* nn[6, :].* nn[2, :] .+ 0.78.* rr[3][4](tem).* nn[9, :].* nn[2, :] .+ -1.0.* rr[9][4](tem).* nn[7, :].* nn[14, :] .+ -1.0.* rr[11][4](tem).* nn[7, :].* nn[5, :] .+ -1.0.* rr[12][4](tem).* nn[7, :].* nn[2, :] .+ -1.0.* rr[13][4](tem).* nn[7, :].* nn[15, :] .+ 1.0.* rr[17][4](tem).* nn[6, :].* nn[5, :] .+ -1.0.* rr[29][4](tem).* nn[1, :].* nn[7, :] .+ -1.0.* rr[37][4](tem).* nn[12, :].* nn[7, :] .+ 1.0.* rr[44][4](tem).* nn[17, :].* nn[14, :] .+ -1.0.* rr[48][4](tem).* nn[7, :]\n",
      "\n",
      "nprodd[8](tt) .+ 0.1.* rr[2][4](tem).* nn[6, :].* nn[2, :] .+ 0.22.* rr[3][4](tem).* nn[9, :].* nn[2, :] .+ -1.0.* rr[8][4](tem).* nn[8, :].* nn[14, :] .+ -1.0.* rr[10][4](tem).* nn[8, :].* nn[15, :] .+ 1.0.* rr[11][4](tem).* nn[7, :].* nn[5, :] .+ 1.0.* rr[12][4](tem).* nn[7, :].* nn[2, :] .+ 1.0.* rr[14][4](tem).* nn[12, :].* nn[16, :] .+ 1.0.* rr[24][4](tem).* nn[17, :].* nn[14, :] .+ -1.0.* rr[28][4](tem).* nn[1, :].* nn[8, :] .+ 1.0.* rr[39][4](tem).* nn[17, :].* nn[5, :] .+ 1.0.* rr[40][4](tem).* nn[17, :].* nn[18, :] .+ -1.0.* rr[42][4](tem).* nn[13, :].* nn[8, :] .+ -1.0.* rr[43][4](tem).* nn[11, :].* nn[8, :] .+ 1.0.* rr[48][4](tem).* nn[7, :]\n",
      "\n",
      "nprodd[9](tt) .+ -1.0.* rr[3][4](tem).* nn[9, :].* nn[2, :] .+ 1.0.* rr[14][4](tem).* nn[12, :].* nn[16, :] .+ 1.0.* rr[17][4](tem).* nn[6, :].* nn[5, :] .+ 1.0.* rr[21][4](tem).* nn[1, :].* nn[16, :] .+ 1.0.* rr[23][4](tem).* nn[17, :].* nn[14, :] .+ 1.0.* rr[27][4](tem).* nn[1, :].* nn[15, :] .+ 1.0.* rr[28][4](tem).* nn[1, :].* nn[8, :] .+ 1.0.* rr[30][4](tem).* nn[6, :].* nn[15, :] .+ 1.0.* rr[33][4](tem).* nn[12, :].* nn[15, :]\n",
      "\n",
      "nprodd[10](tt) .+ -1.0.* rr[4][4](tem).* nn[10, :].* nn[2, :] .+ -1.0.* rr[19][4](tem).* nn[10, :].* nn[16, :] .+ -1.0.* rr[20][4](tem).* nn[10, :].* nn[5, :] .+ -1.0.* rr[49][4](tem).* nn[10, :]\n",
      "\n",
      "nprodd[11](tt) .+ -1.0.* rr[5][4](tem).* nn[11, :].* nn[2, :] .+ 1.0.* rr[7][4](tem).* nn[13, :].* nn[2, :] .+ -1.0.* rr[16][4](tem).* nn[11, :].* nn[16, :] .+ -1.0.* rr[26][4](tem).* nn[11, :].* nn[5, :] .+ -1.0.* rr[34][4](tem).* nn[11, :].* nn[14, :] .+ -1.0.* rr[35][4](tem).* nn[11, :].* nn[16, :] .+ -1.0.* rr[43][4](tem).* nn[11, :].* nn[8, :] .+ 1.0.* rr[46][4](tem).* nn[13, :] .+ -1.0.* rr[47][4](tem).* nn[11, :]\n",
      "\n",
      "nprodd[12](tt) .+ 1.0.* rr[5][4](tem).* nn[11, :].* nn[2, :] .+ 1.0.* rr[6][4](tem).* nn[13, :].* nn[2, :] .+ -1.0.* rr[14][4](tem).* nn[12, :].* nn[16, :] .+ -1.0.* rr[15][4](tem).* nn[12, :].* nn[14, :] .+ -1.0.* rr[25][4](tem).* nn[12, :].* nn[18, :] .+ 1.0.* rr[26][4](tem).* nn[11, :].* nn[5, :] .+ 1.0.* rr[31][4](tem).* nn[6, :].* nn[5, :] .+ 1.0.* rr[32][4](tem).* nn[19, :].* nn[5, :] .+ -1.0.* rr[33][4](tem).* nn[12, :].* nn[15, :] .+ 1.0.* rr[35][4](tem).* nn[11, :].* nn[16, :] .+ 1.0.* rr[36][4](tem).* nn[13, :].* nn[5, :] .+ -1.0.* rr[37][4](tem).* nn[12, :].* nn[7, :] .+ 1.0.* rr[38][4](tem).* nn[17, :].* nn[14, :] .+ 1.0.* rr[39][4](tem).* nn[17, :].* nn[5, :] .+ 1.0.* rr[45][4](tem).* nn[13, :] .+ 1.0.* rr[47][4](tem).* nn[11, :]\n",
      "\n",
      "nprodd[13](tt) .+ -1.0.* rr[6][4](tem).* nn[13, :].* nn[2, :] .+ -1.0.* rr[7][4](tem).* nn[13, :].* nn[2, :] .+ -1.0.* rr[22][4](tem).* nn[13, :].* nn[16, :] .+ -1.0.* rr[36][4](tem).* nn[13, :].* nn[5, :] .+ -1.0.* rr[41][4](tem).* nn[13, :].* nn[16, :] .+ -1.0.* rr[42][4](tem).* nn[13, :].* nn[8, :] .+ -1.0.* rr[45][4](tem).* nn[13, :] .+ -1.0.* rr[46][4](tem).* nn[13, :]\n",
      "\n",
      "zeros(size(tem[1]))\n",
      "\n",
      "nprodd[15](tt) .+ 1.0.* rr[8][4](tem).* nn[8, :].* nn[14, :] .+ 1.0.* rr[9][4](tem).* nn[7, :].* nn[14, :] .+ -1.0.* rr[10][4](tem).* nn[8, :].* nn[15, :] .+ -1.0.* rr[13][4](tem).* nn[7, :].* nn[15, :] .+ 1.0.* rr[21][4](tem).* nn[1, :].* nn[16, :] .+ -1.0.* rr[27][4](tem).* nn[1, :].* nn[15, :] .+ -1.0.* rr[30][4](tem).* nn[6, :].* nn[15, :] .+ -1.0.* rr[33][4](tem).* nn[12, :].* nn[15, :] .+ 1.0.* rr[38][4](tem).* nn[17, :].* nn[14, :] .+ 1.0.* rr[41][4](tem).* nn[13, :].* nn[16, :]\n",
      "\n",
      "zeros(size(tem[1]))\n",
      "\n",
      "nprodd[17](tt) .+ -1.0.* rr[23][4](tem).* nn[17, :].* nn[14, :] .+ -1.0.* rr[24][4](tem).* nn[17, :].* nn[14, :] .+ 1.0.* rr[29][4](tem).* nn[1, :].* nn[7, :] .+ 1.0.* rr[37][4](tem).* nn[12, :].* nn[7, :] .+ -1.0.* rr[38][4](tem).* nn[17, :].* nn[14, :] .+ -1.0.* rr[39][4](tem).* nn[17, :].* nn[5, :] .+ -1.0.* rr[40][4](tem).* nn[17, :].* nn[18, :] .+ 1.0.* rr[41][4](tem).* nn[13, :].* nn[16, :] .+ 1.0.* rr[42][4](tem).* nn[13, :].* nn[8, :] .+ 1.0.* rr[43][4](tem).* nn[11, :].* nn[8, :] .+ -1.0.* rr[44][4](tem).* nn[17, :].* nn[14, :]\n",
      "\n",
      "zeros(size(tem[1]))\n",
      "\n",
      "nprodd[19](tt) .+ 1.0.* rr[25][4](tem).* nn[12, :].* nn[18, :] .+ -1.0.* rr[32][4](tem).* nn[19, :].* nn[5, :] .+ 1.0.* rr[40][4](tem).* nn[17, :].* nn[18, :]\n",
      "\n"
     ]
    },
    {
     "name": "stderr",
     "output_type": "stream",
     "text": [
      "WARNING: redefinition of constant dndt. This may fail, cause incorrect answers, or produce other errors.\n",
      "WARNING: redefinition of constant particles. This may fail, cause incorrect answers, or produce other errors.\n",
      "WARNING: redefinition of constant reactions. This may fail, cause incorrect answers, or produce other errors.\n",
      "WARNING: redefinition of constant ode_raw. This may fail, cause incorrect answers, or produce other errors.\n"
     ]
    },
    {
     "data": {
      "text/plain": [
       "([0.0, 0.4444444179534912, 0.8888888359069824, 1.3333332538604736, 1.777777910232544, 2.222222328186035, 2.6666667461395264, 3.1111111640930176, 3.5555996894836426, 4.000044107437134  …  295.1106083393097, 295.55512166023254, 295.99956607818604, 296.4440104961395, 296.888454914093, 297.3328993320465, 297.7773439884186, 298.22178840637207, 298.66623282432556, 299.11067724227905], [0.4444444179534912, 0.8888888359069824, 1.3333332538604736, 1.777777910232544, 2.222222328186035, 2.6666667461395264, 3.1111111640930176, 3.555555582046509, 4.000044107437134, 4.444488525390625  …  295.5550527572632, 295.99956607818604, 296.4440104961395, 296.888454914093, 297.3328993320465, 297.7773439884186, 298.22178840637207, 298.66623282432556, 299.11067724227905, 299.55512166023254], [95.85472385504806, 96.73278239417829, 97.61084093330851, 98.48889947243873, 99.36695801156895, 100.24501655069918, 101.1230750898294, 102.00113362895962, 102.87919216808984, 103.75725070722007  …  141.51376788981963, 142.39182642894986, 143.26988496808008, 144.1479435072103, 145.02600204634052, 145.90406058547075, 146.78211912460097, 147.6601776637312, 148.5382362028614, 149.41629474199163], [3.0029656524843533e10 4.667876953004589e10 … 1.2072681995684015e11 1.2055584936072374e11; 1.5430390558524707e19 1.3280898287768713e19 … 2.5488905703009264e16 2.4219134316427504e16; … ; 1.801779391490612e10 2.800726171802753e10 … 7.243609197410408e10 7.233350961643423e10; 3.0029656524843535e9 4.667876953004589e9 … 1.2072681995684015e10 1.2055584936072372e10;;; 2.9927162894919983e10 4.6437620322957436e10 … 1.200679080934097e11 1.1990138113959329e11; 1.5430390558524707e19 1.3280898287768713e19 … 2.5488905703009264e16 2.4219134316427504e16; … ; 1.7956297736951992e10 2.786257219377446e10 … 7.20407448560458e10 7.194082868375597e10; 2.992716289491998e9 4.643762032295743e9 … 1.200679080934097e10 1.199013811395933e10;;; 2.982640850462354e10 4.620220535008088e10 … 1.194213425030667e11 1.1925828364278513e11; 1.5430390558524707e19 1.3280898287768713e19 … 2.5488905703009264e16 2.4219134316427504e16; … ; 1.789584510277412e10 2.7721323210048527e10 … 7.165280550184001e10 7.155497018567107e10; 2.982640850462354e9 4.620220535008087e9 … 1.194213425030667e10 1.1925828364278511e10;;; … ;;; 1.7418371792546722e11 2.0324933758725104e11 … 1.256333425782331e11 1.2526035820407571e11; 1.5430390558524707e19 1.3280898287768713e19 … 2.5488905703009264e16 2.4219134316427504e16; … ; 1.0451023075528033e11 1.2194960255235062e11 … 7.538000554693985e10 7.515621492244543e10; 1.7418371792546726e10 2.03249337587251e10 … 1.2563334257823309e10 1.2526035820407572e10;;; 1.724049262904303e11 2.016791730413475e11 … 1.2531468759898196e11 1.2496523572503583e11; 1.5430390558524707e19 1.3280898287768713e19 … 2.5488905703009264e16 2.4219134316427504e16; … ; 1.0344295577425818e11 1.210075038248085e11 … 7.518881255938918e10 7.49791414350215e10; 1.724049262904303e10 2.016791730413475e10 … 1.2531468759898197e10 1.249652357250358e10;;; 1.706427802751521e11 2.001778640472922e11 … 1.2497391296013507e11 1.2463972506178622e11; 1.5430390558524707e19 1.3280898287768713e19 … 2.5488905703009264e16 2.4219134316427504e16; … ; 1.0238566816509126e11 1.2010671842837532e11 … 7.498434777608104e10 7.478383503707173e10; 1.7064278027515211e10 2.001778640472922e10 … 1.2497391296013508e10 1.2463972506178621e10], [259.4663313821292 252.81890265224558 … 763.8105107788758 778.0044806429338; 265.0285617997057 259.17071886823436 … 767.5953069485705 780.6762718404166; … ; 174.70630176523167 163.8017946348101 … 888.824565498234 953.5431125937325; 170.4984486090413 162.82972259828097 … 840.792624775708 883.9548683523798;;; 231.986731926556 226.01306238447364 … 825.2181146523009 783.1345100021365; 236.9671759927312 231.6991038092675 … 826.5944147743551 782.8236105229341; … ; 156.42123137680096 146.77714166111218 … 899.5361470600631 922.7936228183737; 152.59532166695567 145.82031261770805 … 997.6607486578241 1062.4378583224625;;; 187.33414252147176 186.29074805516666 … 658.6660260060169 664.6790125809878; 187.33414252147176 186.29074805516666 … 658.6660260060169 664.6790125809878; … ; 187.33414252147176 186.29074805516666 … 658.6660260060169 664.6790125809878; 187.33414252147176 186.29074805516666 … 658.6660260060169 664.6790125809878], [1.2816889751575612e7 5.450863603367534e7 … 3.813192085624705e8 3.634189215574419e8; 1.2816889751575612e7 5.450863603367534e7 … 3.813192085624705e8 3.634189215574419e8; … ; 6.693548665639019e9 1.1820084451146229e10 … 1.0844548859485726e9 1.0335546561770344e9; 6.693548665639019e9 1.1820084451146229e10 … 1.0844548859485726e9 1.0335546561770344e9])"
      ]
     },
     "execution_count": 9,
     "metadata": {},
     "output_type": "execute_result"
    }
   ],
   "source": [
    "path_reactions_file = \"/Users/ost051/Documents/PhD/ElectronPrecipitation/Data/other/Reaction rates full set ext.txt\"\n",
    "dndt, particles, reactions, ode_raw = juliaIC.initIC(path_reactions_file)\n",
    "\n",
    "con = loadmat(\"/Users/ost051/Documents/PhD/ElectronPrecipitation/log/testing/2023.05.12_09_56_23_mixf=0/ElSpec-iqt_IC_0.mat\")\n",
    "ts, te, h, nion, T, e_prod = getparams(con)\n"
   ]
  },
  {
   "cell_type": "code",
   "execution_count": 11,
   "id": "e72c59f5-0c66-4636-a525-a54610625257",
   "metadata": {},
   "outputs": [
    {
     "name": "stdout",
     "output_type": "stream",
     "text": [
      "(8, 62, 674)\n",
      "16\n",
      "(62, 3)\n",
      "(674, 62, 3)\n"
     ]
    },
    {
     "data": {
      "text/plain": [
       "62-element Vector{Any}:\n",
       " #undef\n",
       " #undef\n",
       " #undef\n",
       " #undef\n",
       " #undef\n",
       " #undef\n",
       " #undef\n",
       " #undef\n",
       " #undef\n",
       " #undef\n",
       " #undef\n",
       " #undef\n",
       " #undef\n",
       "   ⋮\n",
       " #undef\n",
       " #undef\n",
       " #undef\n",
       " #undef\n",
       " #undef\n",
       " #undef\n",
       " #undef\n",
       " #undef\n",
       " #undef\n",
       " #undef\n",
       " #undef\n",
       " #undef"
      ]
     },
     "execution_count": 11,
     "metadata": {},
     "output_type": "execute_result"
    }
   ],
   "source": [
    "println(size(nion))\n",
    "\n",
    "T_intp = interpolate_T(ts, T)\n",
    "size(T_intp)\n",
    "[t(0) for t in T_intp[1, :]]\n",
    "\n",
    "nh = length(h)\n",
    "np = length(particles)\n",
    "n0 = zeros(np, nh)\n",
    "    \n",
    "#nion = [ne, nN2, nO2, nO, nAr, nNOp, nO2p, nOp]\n",
    "for i in 1:np\n",
    "    if particles[i][2] == \"N2\"\n",
    "        n0[i, :] = nion[2, :, 1]\n",
    "        println(i)\n",
    "    elseif particles[i][2] == \"O2\"\n",
    "        n0[i, :] = nion[3, :, 1]\n",
    "    elseif particles[i][2] == \"O(1D)\"\n",
    "        n0[i, :] = nion[4, :, 1]\n",
    "    elseif particles[i][2] == \"NO+\"\n",
    "        n0[i, :] = nion[6, :, 1]\n",
    "    elseif particles[i][2] == \"O2+\"\n",
    "        n0[i, :] = nion[7, :, 1]\n",
    "    elseif particles[i][2] == \"O+(4S)\"\n",
    "        n0[i, :] = nion[8, :, 1]\n",
    "    end\n",
    "end\n",
    "    \n",
    "    T_intp = interpolate_T(ts, T)\n",
    "    println(size(T_intp))\n",
    "    TT = Array{Float64}(undef, 3)\n",
    "    \n",
    "    #e_p_intp = interpolate_q(ts, e_prod)\n",
    "    #println(size(e_p_intp))\n",
    "    \n",
    "    println(size(T))\n",
    "    t_save = ts\n",
    "    sol = Array{Any}(undef, nh)"
   ]
  },
  {
   "cell_type": "code",
   "execution_count": null,
   "id": "049a9ec4-6802-4e09-a176-21de822bc0ea",
   "metadata": {},
   "outputs": [
    {
     "name": "stdout",
     "output_type": "stream",
     "text": [
      "16\n"
     ]
    },
    {
     "data": {
      "text/plain": [
       "19×62 Matrix{Float64}:\n",
       " 1.80178e10  2.80073e10  3.97494e10  …  7.22771e10  7.24361e10  7.23335e10\n",
       " 0.0         0.0         0.0            0.0         0.0         0.0\n",
       " 3.00082e17  3.08221e17  3.11227e17     1.10853e16  1.07078e16  1.03489e16\n",
       " 0.0         0.0         0.0            0.0         0.0         0.0\n",
       " 0.0         0.0         0.0            0.0         0.0         0.0\n",
       " 0.0         0.0         0.0         …  0.0         0.0         0.0\n",
       " 0.0         0.0         0.0            0.0         0.0         0.0\n",
       " 0.0         0.0         0.0            0.0         0.0         0.0\n",
       " 9.0089e9    1.40036e10  1.98747e10     3.61385e10  3.6218e10   3.61668e10\n",
       " 0.0         0.0         0.0            0.0         0.0         0.0\n",
       " 0.0         0.0         0.0         …  0.0         0.0         0.0\n",
       " 3.00297e9   4.66788e9   6.6249e9       1.20462e10  1.20727e10  1.20556e10\n",
       " 0.0         0.0         0.0            0.0         0.0         0.0\n",
       " 3.96627e18  3.39376e18  2.8931e18      3.31351e15  3.12798e15  2.95557e15\n",
       " 0.0         0.0         0.0            0.0         0.0         0.0\n",
       " 1.54304e19  1.32809e19  1.13962e19  …  2.68441e16  2.54889e16  2.42191e16\n",
       " 0.0         0.0         0.0            0.0         0.0         0.0\n",
       " 0.0         0.0         0.0            0.0         0.0         0.0\n",
       " 0.0         0.0         0.0            0.0         0.0         0.0"
      ]
     },
     "execution_count": 8,
     "metadata": {},
     "output_type": "execute_result"
    }
   ],
   "source": [
    "np = length(particles)\n",
    "nh = length(h)\n",
    "n0 = zeros(np, nh)\n",
    "    #nion = [ne, nN2, nO2, nO, nAr, nNOp, nO2p, nOp]\n",
    "    for i in 1:np\n",
    "        if particles[i][2] == \"N2\"\n",
    "            n0[i, :] = nion[2, :, 1]\n",
    "            println(i)\n",
    "        elseif particles[i][2] == \"O2\"\n",
    "            n0[i, :] = nion[3, :, 1]\n",
    "        elseif particles[i][2] == \"O(1D)\"\n",
    "            n0[i, :] = nion[4, :, 1]\n",
    "        elseif particles[i][2] == \"NO+\"\n",
    "            n0[i, :] = nion[6, :, 1]\n",
    "        elseif particles[i][2] == \"O2+\"\n",
    "            n0[i, :] = nion[7, :, 1]\n",
    "        elseif particles[i][2] == \"O+(4S)\"\n",
    "            n0[i, :] = nion[8, :, 1]\n",
    "        end\n",
    "    end\n",
    "\n",
    "n0"
   ]
  },
  {
   "cell_type": "code",
   "execution_count": null,
   "id": "f23f9eb8-4e91-441f-beb4-ab1da5a3f31f",
   "metadata": {},
   "outputs": [
    {
     "data": {
      "text/plain": [
       "\"Performance:\\n1. Avoid containers with abstract types\\n    => define arrays as float64 explicitly\\n\\n\\n1. Type-stable code => no abstract types => define types explicitly as eg. Float64 of Int32\\n2. \\n\""
      ]
     },
     "execution_count": 9,
     "metadata": {},
     "output_type": "execute_result"
    }
   ],
   "source": [
    "\"\"\"\n",
    "Performance:\n",
    "1. Avoid containers with abstract types\n",
    "    => define arrays as float64 explicitly\n",
    "\n",
    "\n",
    "1. Type-stable code => no abstract types => define types explicitly as eg. Float64 of Int32\n",
    "2. \n",
    "\"\"\""
   ]
  },
  {
   "cell_type": "code",
   "execution_count": null,
   "id": "c7a12baa-663c-48f3-83e8-2093c3ec948e",
   "metadata": {},
   "outputs": [],
   "source": []
  },
  {
   "cell_type": "code",
   "execution_count": 10,
   "id": "79578e1b-267e-470d-b873-d56fe6b98e3a",
   "metadata": {},
   "outputs": [
    {
     "ename": "LoadError",
     "evalue": "UndefVarError: `dndt_str` not defined",
     "output_type": "error",
     "traceback": [
      "UndefVarError: `dndt_str` not defined",
      "",
      "Stacktrace:",
      " [1] getproperty(x::Module, f::Symbol)",
      "   @ Base ./Base.jl:31",
      " [2] top-level scope",
      "   @ In[10]:1"
     ]
    }
   ],
   "source": [
    "juliaIC.dndt_str"
   ]
  },
  {
   "cell_type": "code",
   "execution_count": null,
   "id": "aff2637b-34a2-495f-a193-1c86dfdd52f1",
   "metadata": {},
   "outputs": [],
   "source": []
  }
 ],
 "metadata": {
  "kernelspec": {
   "display_name": "Julia 1.9.2",
   "language": "julia",
   "name": "julia-1.9"
  },
  "language_info": {
   "file_extension": ".jl",
   "mimetype": "application/julia",
   "name": "julia",
   "version": "1.9.2"
  }
 },
 "nbformat": 4,
 "nbformat_minor": 5
}
