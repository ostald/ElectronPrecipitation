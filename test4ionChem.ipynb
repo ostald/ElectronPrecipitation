{
 "cells": [
  {
   "cell_type": "code",
   "execution_count": 1,
   "id": "a006c5a2-eb15-4481-98ed-328b3ed8f861",
   "metadata": {},
   "outputs": [
    {
     "name": "stdout",
     "output_type": "stream",
     "text": [
      "importing Jupyter notebook from ionChem2.ipynb\n"
     ]
    },
    {
     "ename": "TypeError",
     "evalue": "ionChem.assign_densities() missing 12 required positional arguments: 'z_msis', 'n_o1_msis', 'n_n2_msis', 'n_o2_msis', 'z_iri', 'ne_iri', 'rel_o_p', 'rel_n_p', 'rel_h_p', 'rel_he_p', 'rel_o2_p', and 'rel_no_p'",
     "output_type": "error",
     "traceback": [
      "\u001b[0;31m---------------------------------------------------------------------------\u001b[0m",
      "\u001b[0;31mTypeError\u001b[0m                                 Traceback (most recent call last)",
      "Input \u001b[0;32mIn [1]\u001b[0m, in \u001b[0;36m<cell line: 7>\u001b[0;34m()\u001b[0m\n\u001b[1;32m      4\u001b[0m reactions_file \u001b[38;5;241m=\u001b[39m \u001b[38;5;124m'\u001b[39m\u001b[38;5;124m/Users/ost051/Documents/PhD/Electron Precipitation/example/Meta-data/Reaction rates.txt\u001b[39m\u001b[38;5;124m'\u001b[39m\n\u001b[1;32m      6\u001b[0m a \u001b[38;5;241m=\u001b[39m ionChem2\u001b[38;5;241m.\u001b[39mionChem(reactions_file)\n\u001b[0;32m----> 7\u001b[0m \u001b[43ma\u001b[49m\u001b[38;5;241;43m.\u001b[39;49m\u001b[43massign_densities\u001b[49m\u001b[43m(\u001b[49m\u001b[43m)\u001b[49m\n",
      "\u001b[0;31mTypeError\u001b[0m: ionChem.assign_densities() missing 12 required positional arguments: 'z_msis', 'n_o1_msis', 'n_n2_msis', 'n_o2_msis', 'z_iri', 'ne_iri', 'rel_o_p', 'rel_n_p', 'rel_h_p', 'rel_he_p', 'rel_o2_p', and 'rel_no_p'"
     ]
    }
   ],
   "source": [
    "import import_ipynb\n",
    "import ionChem2\n",
    "\n",
    "reactions_file = '/Users/ost051/Documents/PhD/Electron Precipitation/example/Meta-data/Reaction rates.txt'\n",
    "\n",
    "a = ionChem2.ionChem(reactions_file)\n",
    "a.assign_densities()\n"
   ]
  },
  {
   "cell_type": "code",
   "execution_count": null,
   "id": "4a3a78a5-c48e-4970-abca-4ce21ee0bbb4",
   "metadata": {},
   "outputs": [],
   "source": [
    "if 1:\n",
    "    Te = 300\n",
    "    for i in a.all_reactions:\n",
    "        print(i.r_ID)\n",
    "        print(i.r_stoch)\n",
    "        print(i.educts_ID, i.products_ID)\n",
    "        for j in i.educts: print(j)\n",
    "        print(i.r_rate(300))\n",
    "        print('\\n')"
   ]
  },
  {
   "cell_type": "code",
   "execution_count": null,
   "id": "336c17b3-bff6-4313-8976-8711bbbee574",
   "metadata": {},
   "outputs": [
    {
     "name": "stdout",
     "output_type": "stream",
     "text": [
      "importing Jupyter notebook from organizing.ipynb\n",
      "importing Jupyter notebook from loadMSIS.ipynb\n",
      "importing Jupyter notebook from loadIRI.ipynb\n",
      "importing Jupyter notebook from EnergyDissipation.ipynb\n",
      "importing Jupyter notebook from loadEISCAT.ipynb\n"
     ]
    }
   ],
   "source": []
  }
 ],
 "metadata": {
  "kernelspec": {
   "display_name": "Python 3 (ipykernel)",
   "language": "python",
   "name": "python3"
  },
  "language_info": {
   "codemirror_mode": {
    "name": "ipython",
    "version": 3
   },
   "file_extension": ".py",
   "mimetype": "text/x-python",
   "name": "python",
   "nbconvert_exporter": "python",
   "pygments_lexer": "ipython3",
   "version": "3.10.2"
  }
 },
 "nbformat": 4,
 "nbformat_minor": 5
}
