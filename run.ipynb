{
 "cells": [
  {
   "cell_type": "code",
   "execution_count": 6,
   "id": "f547cff2-bed7-4f9a-a359-8f3c7170bb6f",
   "metadata": {},
   "outputs": [],
   "source": [
    "import import_ipynb\n",
    "\n",
    "import loadMSIS\n",
    "import loadIRI\n",
    "\n",
    "\n",
    "class run:\n",
    "    def __init__(self, log_directory):\n",
    "        \n",
    "        data_msis = loadMSIS.loadMSIS(log_directory + '/Config/msis.txt')\n",
    "        [z_msis\n",
    "         , n_o1_msis\n",
    "         , n_n2_msis\n",
    "         , n_o2_msis\n",
    "         , mass_density\n",
    "         , temp_n_msis\n",
    "         , scale_height_msis\n",
    "        ] = data_msis\n",
    "        \n",
    "        data_iri = loadIRI.loadIRI(log_directory + '/Config/iri.txt')\n",
    "        [z_iri     \n",
    "        , ne_iri    \n",
    "        , t_neutral \n",
    "        , t_ion     \n",
    "        , t_e       \n",
    "        , rel_o_p   \n",
    "        , rel_n_p   \n",
    "        , rel_h_p   \n",
    "        , rel_he_p  \n",
    "        , rel_o2_p  \n",
    "        , rel_no_p] = data_iri\n",
    "        \n",
    "        global var\n",
    "        var = z_msis\n",
    "\n",
    "        "
   ]
  },
  {
   "cell_type": "code",
   "execution_count": 7,
   "id": "8896d4d0-9afa-4097-bf29-4a1a358aa90e",
   "metadata": {},
   "outputs": [
    {
     "data": {
      "text/plain": [
       "<__main__.run at 0x103c52740>"
      ]
     },
     "execution_count": 7,
     "metadata": {},
     "output_type": "execute_result"
    }
   ],
   "source": [
    "run('/Users/ost051/Documents/PhD/Electron Precipitation/log/2022.09.02_11_21_54') "
   ]
  },
  {
   "cell_type": "code",
   "execution_count": 9,
   "id": "f676cc5f-dd22-41bd-a366-8fc10a625307",
   "metadata": {},
   "outputs": [
    {
     "data": {
      "text/plain": [
       "array([ 80000.,  85000.,  90000.,  95000., 100000., 105000., 110000.,\n",
       "       115000., 120000., 125000., 130000., 135000., 140000., 145000.,\n",
       "       150000., 155000., 160000., 165000., 170000., 175000., 180000.,\n",
       "       185000., 190000., 195000., 200000., 205000., 210000., 215000.,\n",
       "       220000., 225000., 230000., 235000., 240000., 245000., 250000.,\n",
       "       255000., 260000., 265000., 270000., 275000., 280000., 285000.,\n",
       "       290000., 295000., 300000., 305000., 310000., 315000., 320000.,\n",
       "       325000., 330000., 335000., 340000., 345000., 350000., 355000.,\n",
       "       360000., 365000., 370000., 375000., 380000., 385000., 390000.,\n",
       "       395000., 400000., 405000., 410000., 415000., 420000., 425000.,\n",
       "       430000., 435000., 440000., 445000., 450000., 455000., 460000.,\n",
       "       465000., 470000., 475000., 480000., 485000., 490000., 495000.,\n",
       "       500000., 505000., 510000., 515000., 520000., 525000., 530000.,\n",
       "       535000., 540000., 545000., 550000., 555000., 560000., 565000.,\n",
       "       570000., 575000., 580000., 585000., 590000., 595000., 600000.,\n",
       "       605000., 610000., 615000., 620000., 625000., 630000., 635000.,\n",
       "       640000., 645000., 650000., 655000., 660000., 665000., 670000.,\n",
       "       675000., 680000., 685000., 690000., 695000., 700000.])"
      ]
     },
     "execution_count": 9,
     "metadata": {},
     "output_type": "execute_result"
    }
   ],
   "source": [
    "var"
   ]
  },
  {
   "cell_type": "code",
   "execution_count": 4,
   "id": "cff6c6db-043d-42e5-be20-afcbd5847f79",
   "metadata": {},
   "outputs": [],
   "source": [
    "#from loadIRI import *\n",
    "#z_iri"
   ]
  },
  {
   "cell_type": "code",
   "execution_count": null,
   "id": "3afc2633-e332-45ef-8c3c-e5213418da1e",
   "metadata": {},
   "outputs": [],
   "source": []
  }
 ],
 "metadata": {
  "kernelspec": {
   "display_name": "Python 3 (ipykernel)",
   "language": "python",
   "name": "python3"
  },
  "language_info": {
   "codemirror_mode": {
    "name": "ipython",
    "version": 3
   },
   "file_extension": ".py",
   "mimetype": "text/x-python",
   "name": "python",
   "nbconvert_exporter": "python",
   "pygments_lexer": "ipython3",
   "version": "3.10.2"
  }
 },
 "nbformat": 4,
 "nbformat_minor": 5
}
