{
 "cells": [
  {
   "cell_type": "code",
   "execution_count": 2,
   "id": "3d25f729-ba85-4b39-81e1-66ba6369347c",
   "metadata": {},
   "outputs": [],
   "source": [
    "import scipy.io\n",
    "import numpy as np\n",
    "from os import listdir\n",
    "from os.path import isfile, join\n",
    "\n",
    "\n",
    "def loadEISCATdata(directory, identifiers):\n",
    "    \"\"\"\n",
    "    loads a list of variables from a directorz containing EISCAT data files\n",
    "    Parameters:\n",
    "    directory: path to the EISCAT .mat files\n",
    "        string\n",
    "    identifiers: Variables as a list of strings\n",
    "        ndarray\n",
    "    \"\"\"\n",
    "    data = np.empty(len(identifiers), dtype = 'object')\n",
    "    for i, var in enumerate(identifiers):\n",
    "        data_files = [f for f in listdir(directory) if isfile(join(directory, f)) and f[-3:] == 'mat']\n",
    "        n = len(data_files)\n",
    "        mat_data = [scipy.io.loadmat(directory + file) for file in sorted(data_files)]\n",
    "        data[i] = mat_extract_variable(mat_data, var)\n",
    "        del mat_data\n",
    "    return data\n",
    "\n",
    "\n",
    "def mat_extract_variable(loaded_mat, var):\n",
    "    \"\"\"\n",
    "    Extracts data for variable var from pre-loaded matfiles:\n",
    "    loaded_mat = scipy.io.loadmat(path_to_file)\n",
    "    data = loaded_mat('var')\n",
    "    CAN HANDLE JAGGED ARRAYS (at least in 1 dimension)\n",
    "    \n",
    "    Parameters:\n",
    "    loaded_mat: preloaded mat files as a list\n",
    "        ndarry\n",
    "    var: Variable to be extracted\n",
    "        string\n",
    "        \n",
    "    Returns:\n",
    "    data: all data saved in the loaded_mat['var']\n",
    "    \"\"\"\n",
    "    n = len(loaded_mat)\n",
    "    var_data = np.array([data[var] for data in loaded_mat])\n",
    "    \n",
    "    max_shape = np.amax([i.shape for i in var_data], axis = 0)\n",
    "    array_size = [n, *max_shape]\n",
    "\n",
    "    data = np.empty(array_size, dtype = 'object')\n",
    "    \n",
    "    for i in range(n):\n",
    "        data[i, :len(var_data[i])] = var_data[i]\n",
    "    \n",
    "    if max_shape.shape == (2,):\n",
    "        if max_shape[1] == 1:\n",
    "            data = data.reshape(array_size[:-1])\n",
    "    return data.astype('float')\n"
   ]
  },
  {
   "cell_type": "code",
   "execution_count": 5,
   "id": "d061c271-6f9b-4d10-9936-d3c3ec5f782b",
   "metadata": {},
   "outputs": [
    {
     "data": {
      "text/plain": [
       "['Reaction rates.txt',\n",
       " 'msis.txt',\n",
       " 'iri.txt',\n",
       " 'iri20061212Ramfjord.dat',\n",
       " 'Reaction rates_old.txt',\n",
       " 'iri20061212Ramfjord.dat~',\n",
       " 'msis20061212Ramfjord.dat']"
      ]
     },
     "execution_count": 5,
     "metadata": {},
     "output_type": "execute_result"
    }
   ],
   "source": []
  },
  {
   "cell_type": "code",
   "execution_count": null,
   "id": "f6633107-2eaf-4741-9b5b-9b1d4d1ab9cb",
   "metadata": {},
   "outputs": [],
   "source": []
  }
 ],
 "metadata": {
  "kernelspec": {
   "display_name": "Python 3 (ipykernel)",
   "language": "python",
   "name": "python3"
  },
  "language_info": {
   "codemirror_mode": {
    "name": "ipython",
    "version": 3
   },
   "file_extension": ".py",
   "mimetype": "text/x-python",
   "name": "python",
   "nbconvert_exporter": "python",
   "pygments_lexer": "ipython3",
   "version": "3.10.2"
  }
 },
 "nbformat": 4,
 "nbformat_minor": 5
}
