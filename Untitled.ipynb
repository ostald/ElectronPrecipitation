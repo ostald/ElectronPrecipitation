{
 "cells": [
  {
   "cell_type": "code",
   "execution_count": 1,
   "id": "78eaf0de-7ec1-431b-a3e0-7bab0dd073f5",
   "metadata": {},
   "outputs": [],
   "source": [
    "B0 = 45000"
   ]
  },
  {
   "cell_type": "code",
   "execution_count": 4,
   "id": "b2e3435d-6716-4db0-b8cc-9ae7bbfcfd38",
   "metadata": {},
   "outputs": [
    {
     "data": {
      "text/plain": [
       "2801.6961902032767"
      ]
     },
     "execution_count": 4,
     "metadata": {},
     "output_type": "execute_result"
    }
   ],
   "source": [
    "B0 * ((6400 + 100) / (6400 + 10000))**3"
   ]
  },
  {
   "cell_type": "code",
   "execution_count": 12,
   "id": "7d68b9ce-cfa8-4d9f-8f0b-e15548e00a07",
   "metadata": {},
   "outputs": [
    {
     "data": {
      "text/plain": [
       "698702776.4874586"
      ]
     },
     "execution_count": 12,
     "metadata": {},
     "output_type": "execute_result"
    }
   ],
   "source": [
    "import numpy as np\n",
    "r = np.sin(20/180*np.pi)*6500e3\n",
    "r**2*np.pi*B0*1e-9"
   ]
  },
  {
   "cell_type": "code",
   "execution_count": 24,
   "id": "c4ed85ab-3cf6-46ff-a351-6ffc564e5dac",
   "metadata": {},
   "outputs": [
    {
     "data": {
      "text/plain": [
       "17564.305695016446"
      ]
     },
     "execution_count": 24,
     "metadata": {},
     "output_type": "execute_result"
    }
   ],
   "source": [
    "1.6e-19 * 100e-9 / 9.1093837e-31"
   ]
  },
  {
   "cell_type": "code",
   "execution_count": 25,
   "id": "bfa24835-0c40-432d-b156-020e4dca60f9",
   "metadata": {},
   "outputs": [],
   "source": [
    "v = (10e3*1.6e-19 / 9.1093837e-31 )**(1/2)"
   ]
  },
  {
   "cell_type": "code",
   "execution_count": 26,
   "id": "13114977-642b-4281-a5b2-0d523a67ed7b",
   "metadata": {},
   "outputs": [
    {
     "data": {
      "text/plain": [
       "2386.0772855253454"
      ]
     },
     "execution_count": 26,
     "metadata": {},
     "output_type": "execute_result"
    }
   ],
   "source": [
    "9.1093837e-31 * v / (1.6e-19 * 100e-9)"
   ]
  },
  {
   "cell_type": "code",
   "execution_count": 60,
   "id": "cb2ab8cf-99de-4ec3-807b-69ec2e23c547",
   "metadata": {},
   "outputs": [],
   "source": [
    "me = 9.1093837e-31\n",
    "mp = 1.67262192369e-27\n",
    "q = 1.60217663e-19\n",
    "E = 10e3\n",
    "B = 100e-9"
   ]
  },
  {
   "cell_type": "code",
   "execution_count": 61,
   "id": "0c301850-a277-4f23-b016-b35dc4c86068",
   "metadata": {},
   "outputs": [
    {
     "data": {
      "text/plain": [
       "978715.1338376804"
      ]
     },
     "execution_count": 61,
     "metadata": {},
     "output_type": "execute_result"
    }
   ],
   "source": [
    "(E*q/mp)**0.5"
   ]
  },
  {
   "cell_type": "code",
   "execution_count": 68,
   "id": "eba97c33-1035-4056-832d-c3b61fac97d9",
   "metadata": {},
   "outputs": [
    {
     "data": {
      "text/plain": [
       "144496.95457632947"
      ]
     },
     "execution_count": 68,
     "metadata": {},
     "output_type": "execute_result"
    }
   ],
   "source": [
    "mp * (2*E*q/mp)**(1/2) / (q * B)"
   ]
  },
  {
   "cell_type": "code",
   "execution_count": 67,
   "id": "947aaa37-6635-4188-9dee-846f593deee6",
   "metadata": {},
   "outputs": [
    {
     "data": {
      "text/plain": [
       "9.578833132029086"
      ]
     },
     "execution_count": 67,
     "metadata": {},
     "output_type": "execute_result"
    }
   ],
   "source": [
    "q* B /mp "
   ]
  },
  {
   "cell_type": "code",
   "execution_count": 69,
   "id": "89f7cda3-8907-4d72-a6c1-59186810bce7",
   "metadata": {},
   "outputs": [
    {
     "data": {
      "text/plain": [
       "3372.129925380771"
      ]
     },
     "execution_count": 69,
     "metadata": {},
     "output_type": "execute_result"
    }
   ],
   "source": [
    "me * (2*E*q/me)**0.5 / (q * B)"
   ]
  },
  {
   "cell_type": "code",
   "execution_count": 33,
   "id": "79f29248-c9d8-46a6-82ca-cb340e4259dc",
   "metadata": {},
   "outputs": [
    {
     "data": {
      "text/plain": [
       "17588.200066707035"
      ]
     },
     "execution_count": 33,
     "metadata": {},
     "output_type": "execute_result"
    }
   ],
   "source": [
    "q* B /me"
   ]
  },
  {
   "cell_type": "code",
   "execution_count": 48,
   "id": "da762002-611f-4eae-9977-83ebf6721dc0",
   "metadata": {},
   "outputs": [],
   "source": [
    "me = 9.1093837e-31\n",
    "mp = 1.67262192369e-27*4\n",
    "q = 1.60217663e-19 * 2\n",
    "v = 400e3\n",
    "B = 5e-9"
   ]
  },
  {
   "cell_type": "code",
   "execution_count": 49,
   "id": "4eb65027-8667-42d0-820b-ec6c225e9467",
   "metadata": {},
   "outputs": [
    {
     "data": {
      "text/plain": [
       "0.23947082830072716"
      ]
     },
     "execution_count": 49,
     "metadata": {},
     "output_type": "execute_result"
    }
   ],
   "source": [
    "q* B /mp"
   ]
  },
  {
   "cell_type": "code",
   "execution_count": 50,
   "id": "4535f3f9-f020-44bc-85f1-54ccd052bab0",
   "metadata": {},
   "outputs": [
    {
     "data": {
      "text/plain": [
       "1670349.5905467055"
      ]
     },
     "execution_count": 50,
     "metadata": {},
     "output_type": "execute_result"
    }
   ],
   "source": [
    "mp * v / (q * B)"
   ]
  },
  {
   "cell_type": "code",
   "execution_count": 70,
   "id": "0755603f-0e3e-4fe0-ade0-5fe0b24af746",
   "metadata": {},
   "outputs": [
    {
     "data": {
      "text/plain": [
       "47947.05362884127"
      ]
     },
     "execution_count": 70,
     "metadata": {},
     "output_type": "execute_result"
    }
   ],
   "source": [
    "(2*12*q/mp)**0.5"
   ]
  },
  {
   "cell_type": "code",
   "execution_count": 80,
   "id": "8feade8d-d5f6-4760-b4b7-61fd2418cc0f",
   "metadata": {},
   "outputs": [
    {
     "data": {
      "text/plain": [
       "0.0002527367879203908"
      ]
     },
     "execution_count": 80,
     "metadata": {},
     "output_type": "execute_result"
    }
   ],
   "source": [
    "B0 = 30e-6\n",
    "mu0 = 1.25663706212e-6\n",
    "rho = 8e-6*mp\n",
    "v = 410e3\n",
    "re = 3670e3\n",
    "(2 * B0**2 / (mu0 * rho * v**2))**(1/6) / re"
   ]
  },
  {
   "cell_type": "code",
   "execution_count": 115,
   "id": "0b1196c6-6b21-4f81-b687-916a9437c3d5",
   "metadata": {},
   "outputs": [],
   "source": [
    "q\n",
    "n = 0.3e6\n",
    "n = 10e12\n",
    "me\n",
    "kb = 1.380649e-23 \n",
    "T = 2e6\n",
    "T = 1e3"
   ]
  },
  {
   "cell_type": "code",
   "execution_count": 116,
   "id": "012381a0-b7ea-4390-a634-f62beaa6e289",
   "metadata": {},
   "outputs": [],
   "source": [
    "K = q**2 * n / ((2*np.pi*me*kb*T)**(1/2))"
   ]
  },
  {
   "cell_type": "code",
   "execution_count": 117,
   "id": "21c65d2a-b506-4832-bd4d-5c17c803b6c3",
   "metadata": {},
   "outputs": [
    {
     "data": {
      "text/plain": [
       "0.9131554427298976"
      ]
     },
     "execution_count": 117,
     "metadata": {},
     "output_type": "execute_result"
    }
   ],
   "source": [
    "K"
   ]
  },
  {
   "cell_type": "code",
   "execution_count": 118,
   "id": "3a53f30c-2e9f-46d9-af88-7fae5570fbb9",
   "metadata": {},
   "outputs": [
    {
     "data": {
      "text/plain": [
       "4.679965395428675"
      ]
     },
     "execution_count": 118,
     "metadata": {},
     "output_type": "execute_result"
    }
   ],
   "source": [
    "(20 / K)**(1/2)"
   ]
  },
  {
   "cell_type": "code",
   "execution_count": 123,
   "id": "82c71afe-f7df-40ad-9f2a-22d14fb378d0",
   "metadata": {},
   "outputs": [
    {
     "data": {
      "text/plain": [
       "1.16045180925782"
      ]
     },
     "execution_count": 123,
     "metadata": {},
     "output_type": "execute_result"
    }
   ],
   "source": [
    "q*0.1e3/kb/1e6"
   ]
  },
  {
   "cell_type": "code",
   "execution_count": 119,
   "id": "e18d04a6-62b1-4848-b599-5b8f17c001fb",
   "metadata": {},
   "outputs": [
    {
     "data": {
      "text/plain": [
       "0.08617333283659244"
      ]
     },
     "execution_count": 119,
     "metadata": {},
     "output_type": "execute_result"
    }
   ],
   "source": [
    "1000*kb/q"
   ]
  },
  {
   "cell_type": "code",
   "execution_count": 124,
   "id": "6ddd128c-8a0e-4839-95cd-98342b2f8cb7",
   "metadata": {},
   "outputs": [
    {
     "data": {
      "text/plain": [
       "4472.13595499958"
      ]
     },
     "execution_count": 124,
     "metadata": {},
     "output_type": "execute_result"
    }
   ],
   "source": [
    "np.sqrt(2/1e-7)"
   ]
  },
  {
   "cell_type": "code",
   "execution_count": 136,
   "id": "7541c22f-06e5-4120-8ca2-263f813c9f1f",
   "metadata": {},
   "outputs": [
    {
     "data": {
      "text/plain": [
       "692056.1079865233"
      ]
     },
     "execution_count": 136,
     "metadata": {},
     "output_type": "execute_result"
    }
   ],
   "source": [
    "v = (2500*q*2/mp)**(1/2)\n",
    "v"
   ]
  },
  {
   "cell_type": "code",
   "execution_count": 137,
   "id": "3789d307-78fe-485e-8e5a-4a92c1d150e0",
   "metadata": {},
   "outputs": [
    {
     "data": {
      "text/plain": [
       "0.12330406790513446"
      ]
     },
     "execution_count": 137,
     "metadata": {},
     "output_type": "execute_result"
    }
   ],
   "source": [
    "mp*v /(q *B0*(1/8)**(3))/1e6"
   ]
  },
  {
   "cell_type": "code",
   "execution_count": 133,
   "id": "a55ab0f8-9290-4685-ac90-0791a2bec234",
   "metadata": {},
   "outputs": [
    {
     "data": {
      "text/plain": [
       "0.001953125"
      ]
     },
     "execution_count": 133,
     "metadata": {},
     "output_type": "execute_result"
    }
   ],
   "source": [
    "(1/8)**3"
   ]
  },
  {
   "cell_type": "code",
   "execution_count": 139,
   "id": "a118c571-6193-461b-90cc-e7347651c512",
   "metadata": {},
   "outputs": [
    {
     "data": {
      "text/plain": [
       "22.627416997969522"
      ]
     },
     "execution_count": 139,
     "metadata": {},
     "output_type": "execute_result"
    }
   ],
   "source": [
    "8**(3/2)"
   ]
  },
  {
   "cell_type": "code",
   "execution_count": 154,
   "id": "80ef7838-15db-4c40-bd45-c78e4c4c1cac",
   "metadata": {},
   "outputs": [],
   "source": [
    "q\n",
    "me\n",
    "eps0 = 8.8541878128e-12\n",
    "omega = np.sqrt(q**2 * 2e5 /(me*eps0)) "
   ]
  },
  {
   "cell_type": "code",
   "execution_count": 149,
   "id": "4753226e-7d37-4c1b-8677-d1da493f2af1",
   "metadata": {},
   "outputs": [],
   "source": [
    "j = 1e-13 / 1.25663706212e-6"
   ]
  },
  {
   "cell_type": "code",
   "execution_count": 150,
   "id": "3d711e1b-1412-44cb-8c53-cfb196502f3b",
   "metadata": {},
   "outputs": [
    {
     "data": {
      "text/plain": [
       "2483417.558731575"
      ]
     },
     "execution_count": 150,
     "metadata": {},
     "output_type": "execute_result"
    }
   ],
   "source": [
    "j / (q*2e5)"
   ]
  },
  {
   "cell_type": "code",
   "execution_count": 151,
   "id": "70d55a68-1445-4535-84c7-8cc4008cdfd7",
   "metadata": {},
   "outputs": [
    {
     "data": {
      "text/plain": [
       "7.957747150262763e-08"
      ]
     },
     "execution_count": 151,
     "metadata": {},
     "output_type": "execute_result"
    }
   ],
   "source": [
    "dB = 40e-9\n",
    "dz = 400e3\n",
    "mu0 = 1.25663706212e-6\n",
    "ne = 2e5\n",
    "dB/dz/mu0"
   ]
  },
  {
   "cell_type": "code",
   "execution_count": 153,
   "id": "d97f8421-9886-4f3f-bea6-c658db5da1a6",
   "metadata": {},
   "outputs": [],
   "source": [
    "ve = dB/dz/mu0/ne/q"
   ]
  },
  {
   "cell_type": "code",
   "execution_count": 156,
   "id": "db6c0a16-9129-47a9-9f1e-704ca92bd338",
   "metadata": {},
   "outputs": [
    {
     "data": {
      "text/plain": [
       "618.4763368745789"
      ]
     },
     "execution_count": 156,
     "metadata": {},
     "output_type": "execute_result"
    }
   ],
   "source": [
    "2 *np.pi * ve / omega"
   ]
  },
  {
   "cell_type": "code",
   "execution_count": 160,
   "id": "cd6807e4-fa3e-4e66-8b14-8d7521746132",
   "metadata": {},
   "outputs": [
    {
     "data": {
      "text/plain": [
       "1372.4781130242998"
      ]
     },
     "execution_count": 160,
     "metadata": {},
     "output_type": "execute_result"
    }
   ],
   "source": [
    "0.0544 * omega"
   ]
  },
  {
   "cell_type": "code",
   "execution_count": 162,
   "id": "528d2bc8-ae52-4660-93b0-8a493aaa844a",
   "metadata": {},
   "outputs": [
    {
     "data": {
      "text/plain": [
       "1.380649e-23"
      ]
     },
     "execution_count": 162,
     "metadata": {},
     "output_type": "execute_result"
    }
   ],
   "source": [
    "omega\n",
    "kb"
   ]
  },
  {
   "cell_type": "code",
   "execution_count": 166,
   "id": "c98fb709-831e-4783-9f8b-26faf78c469f",
   "metadata": {},
   "outputs": [
    {
     "data": {
      "text/plain": [
       "17.53267175613549"
      ]
     },
     "execution_count": 166,
     "metadata": {},
     "output_type": "execute_result"
    }
   ],
   "source": [
    "me * ve**2 / (2 * q)"
   ]
  },
  {
   "cell_type": "code",
   "execution_count": 167,
   "id": "25c17fde-4235-430a-ba69-286de149160f",
   "metadata": {},
   "outputs": [
    {
     "data": {
      "text/plain": [
       "0.01023413421028367"
      ]
     },
     "execution_count": 167,
     "metadata": {},
     "output_type": "execute_result"
    }
   ],
   "source": [
    "60e3**2*me/2/q"
   ]
  },
  {
   "cell_type": "code",
   "execution_count": null,
   "id": "544d512d-a321-4584-9ebf-9da0f70e9726",
   "metadata": {},
   "outputs": [],
   "source": []
  }
 ],
 "metadata": {
  "kernelspec": {
   "display_name": "Python 3 (ipykernel)",
   "language": "python",
   "name": "python3"
  },
  "language_info": {
   "codemirror_mode": {
    "name": "ipython",
    "version": 3
   },
   "file_extension": ".py",
   "mimetype": "text/x-python",
   "name": "python",
   "nbconvert_exporter": "python",
   "pygments_lexer": "ipython3",
   "version": "3.10.2"
  }
 },
 "nbformat": 4,
 "nbformat_minor": 5
}
