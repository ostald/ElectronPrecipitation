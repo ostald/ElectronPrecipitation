{
 "cells": [
  {
   "cell_type": "code",
   "execution_count": 8,
   "id": "a8c1f4e1-e535-47d3-baee-f3fb271b6aeb",
   "metadata": {},
   "outputs": [
    {
     "name": "stdout",
     "output_type": "stream",
     "text": [
      "0.009333333333333334\n",
      "0.0085502015625\n",
      "0.009543548437499999\n"
     ]
    }
   ],
   "source": [
    "rm = 2*1737e3 #in m\n",
    "am = 384e6 #m\n",
    "em = 0.0549\n",
    "\n",
    "rs = 1.4e9 #m\n",
    "ds = 150e9 #m\n",
    "\n",
    "phi_s = rs/ds\n",
    "\n",
    "phi_p = rm/am*(1-em)\n",
    "phi_a = rm/am*(1+em)\n",
    "\n",
    "print(phi_s)\n",
    "\n",
    "print(phi_p)\n",
    "print(phi_a)"
   ]
  },
  {
   "cell_type": "code",
   "execution_count": 9,
   "id": "ad597e20-c1b4-4f38-9e91-6f1e092e41aa",
   "metadata": {},
   "outputs": [
    {
     "data": {
      "text/plain": [
       "362918400.0"
      ]
     },
     "execution_count": 9,
     "metadata": {},
     "output_type": "execute_result"
    }
   ],
   "source": [
    "am*(1-em)"
   ]
  },
  {
   "cell_type": "code",
   "execution_count": 10,
   "id": "e8bbc4dc-4f4c-477b-b400-46a06fa55b1f",
   "metadata": {},
   "outputs": [
    {
     "data": {
      "text/plain": [
       "405081600.0"
      ]
     },
     "execution_count": 10,
     "metadata": {},
     "output_type": "execute_result"
    }
   ],
   "source": [
    "am*(1+em)"
   ]
  },
  {
   "cell_type": "code",
   "execution_count": 14,
   "id": "5330facb-08b8-48b8-aa37-59445f46b731",
   "metadata": {},
   "outputs": [
    {
     "data": {
      "text/plain": [
       "33.498758303176146"
      ]
     },
     "execution_count": 14,
     "metadata": {},
     "output_type": "execute_result"
    }
   ],
   "source": [
    "tsid = ((30/60+55)/60+9)/24\n",
    "torb = 11.856 *356.24\n",
    "((tsid / (1- tsid/torb)*24-9)*60-55)*60"
   ]
  },
  {
   "cell_type": "code",
   "execution_count": 25,
   "id": "93c42586-fd3f-4246-917a-108e99bb528f",
   "metadata": {},
   "outputs": [],
   "source": [
    "tsid = 58.6\n",
    "torb = 0.240844 *365.24"
   ]
  },
  {
   "cell_type": "code",
   "execution_count": 26,
   "id": "a8824e3a-2084-4af0-9596-7db88b22197a",
   "metadata": {},
   "outputs": [
    {
     "data": {
      "text/plain": [
       "175.53714063340627"
      ]
     },
     "execution_count": 26,
     "metadata": {},
     "output_type": "execute_result"
    }
   ],
   "source": [
    "tsid / (1- tsid/torb)"
   ]
  },
  {
   "cell_type": "code",
   "execution_count": null,
   "id": "5931e97a-652f-463f-bf0b-a92e9488a0d8",
   "metadata": {},
   "outputs": [],
   "source": [
    "tsid "
   ]
  }
 ],
 "metadata": {
  "kernelspec": {
   "display_name": "Python 3 (ipykernel)",
   "language": "python",
   "name": "python3"
  },
  "language_info": {
   "codemirror_mode": {
    "name": "ipython",
    "version": 3
   },
   "file_extension": ".py",
   "mimetype": "text/x-python",
   "name": "python",
   "nbconvert_exporter": "python",
   "pygments_lexer": "ipython3",
   "version": "3.10.2"
  }
 },
 "nbformat": 4,
 "nbformat_minor": 5
}
