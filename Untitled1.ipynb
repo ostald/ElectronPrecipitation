{
 "cells": [
  {
   "cell_type": "code",
   "execution_count": 6,
   "id": "78c238c6-012f-402a-9958-869a34d1f85c",
   "metadata": {},
   "outputs": [
    {
     "data": {
      "text/plain": [
       "' 14.2551               1.09608               -14.4567        \\n 15.1998               -0.370432             -13.6117        \\n 15.8046               -0.839953             -12.548         \\n 14.8476               0.0365673             -11.7698        \\n 14.1881               0.458591              -10.558         \\n 15.2596               -0.167876             -9.46538        \\n 15.3819               -0.282125             -8.95727        \\n 14.3011               0.199721              -9.15867        \\n 13.7908               1.01398               -9.9043         \\n 14.0244               1.61502               -10.2892        \\n 13.6539               2.21847               -11.3017        \\n 13.1771               2.87794               -12.0119        \\n 12.4406               3.15386               -9.14661        \\n 12.5141               5.01485               -0.385129       \\n 10.5236               8.26421               11.1852         \\n 7.69922               10.309                19.327          \\n 6.09113               10.5537               23.1813         \\n 5.47267               10.1714               24.5121         \\n 6.32275               11.5335               23.897          \\n 6.06637               12.6633               22.5494         \\n 7.38873               12.2985               22.023          \\n 9.11995               11.9604               22.2733         \\n 10.137                11.8821               21.9718         \\n 11.4579               11.7501               21.0379         \\n 11.6022               11.7221               20.8331         \\n 10.8645               11.6971               21.4917         \\n 10.6594               11.2807               22.1022         \\n 10.9521               11.0648               22.132          \\n 10.6768               10.8407               22.4421         \\n 9.85816               10.7635               22.7828         \\n 9.72049               11.1464               22.5597         \\n 9.51987               11.0385               22.3962         \\n'"
      ]
     },
     "execution_count": 6,
     "metadata": {},
     "output_type": "execute_result"
    }
   ],
   "source": [
    "import numpy as np\n",
    "\n",
    "with open('/Users/ost051/Documents/PhD/Courses/Polar Magnetic Substorms/Lecture/05_bfield.txt', 'r') as f:\n",
    "    content = f.read()\n",
    "\n",
    "content"
   ]
  },
  {
   "cell_type": "code",
   "execution_count": 5,
   "id": "b8db2ac7-a5a6-4d5e-9aae-712455f5dede",
   "metadata": {},
   "outputs": [
    {
     "ename": "TypeError",
     "evalue": "'builtin_function_or_method' object is not iterable",
     "output_type": "error",
     "traceback": [
      "\u001b[0;31m---------------------------------------------------------------------------\u001b[0m",
      "\u001b[0;31mTypeError\u001b[0m                                 Traceback (most recent call last)",
      "Input \u001b[0;32mIn [5]\u001b[0m, in \u001b[0;36m<cell line: 1>\u001b[0;34m()\u001b[0m\n\u001b[0;32m----> 1\u001b[0m \u001b[38;5;28;01mfor\u001b[39;00m i \u001b[38;5;129;01min\u001b[39;00m content:\n\u001b[1;32m      2\u001b[0m     \u001b[38;5;28mprint\u001b[39m(i)\n",
      "\u001b[0;31mTypeError\u001b[0m: 'builtin_function_or_method' object is not iterable"
     ]
    }
   ],
   "source": [
    "for i in content:\n",
    "    print(i)"
   ]
  },
  {
   "cell_type": "code",
   "execution_count": 7,
   "id": "aea854a0-1114-4aa8-aae8-a36c0a2db48a",
   "metadata": {},
   "outputs": [
    {
     "ename": "NameError",
     "evalue": "name 'q' is not defined",
     "output_type": "error",
     "traceback": [
      "\u001b[0;31m---------------------------------------------------------------------------\u001b[0m",
      "\u001b[0;31mNameError\u001b[0m                                 Traceback (most recent call last)",
      "Input \u001b[0;32mIn [7]\u001b[0m, in \u001b[0;36m<cell line: 1>\u001b[0;34m()\u001b[0m\n\u001b[0;32m----> 1\u001b[0m \u001b[43mq\u001b[49m\n",
      "\u001b[0;31mNameError\u001b[0m: name 'q' is not defined"
     ]
    }
   ],
   "source": [
    "q"
   ]
  },
  {
   "cell_type": "code",
   "execution_count": null,
   "id": "d57fb982-afaa-4b60-b9e5-d0ca36e4b373",
   "metadata": {},
   "outputs": [],
   "source": []
  }
 ],
 "metadata": {
  "kernelspec": {
   "display_name": "Python 3 (ipykernel)",
   "language": "python",
   "name": "python3"
  },
  "language_info": {
   "codemirror_mode": {
    "name": "ipython",
    "version": 3
   },
   "file_extension": ".py",
   "mimetype": "text/x-python",
   "name": "python",
   "nbconvert_exporter": "python",
   "pygments_lexer": "ipython3",
   "version": "3.10.2"
  }
 },
 "nbformat": 4,
 "nbformat_minor": 5
}
